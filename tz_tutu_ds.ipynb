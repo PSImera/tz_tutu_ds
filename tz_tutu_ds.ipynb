{
 "cells": [
  {
   "cell_type": "markdown",
   "id": "03cae0dd",
   "metadata": {},
   "source": [
    "# Тестовое задание Data Science"
   ]
  },
  {
   "cell_type": "markdown",
   "id": "adc1670e",
   "metadata": {},
   "source": [
    "\n",
    "\n",
    "![Снимок экрана 2025-08-27 в 16.42.39.png](https://voltaic-soldier-ed2.notion.site/image/attachment%3Ad9f64690-7779-4b1b-832e-8ac182a448b6%3A%D0%A1%D0%BD%D0%B8%D0%BC%D0%BE%D0%BA_%D1%8D%D0%BA%D1%80%D0%B0%D0%BD%D0%B0_2025-08-27_%D0%B2_16.42.39.png?table=block&id=25ca79f6-0092-80f9-a864-c82dff963c87&spaceId=2f8a79f6-0092-8133-8dd4-0003a5a3688e&width=1420&userId=&cache=v2)\n",
    "\n",
    "## Анонимизированные и преобразованные данные по заказам интернет-магазина\n",
    "\n",
    "`df_train.csv` и `df_test.csv`.\n",
    "\n",
    "Задача состоит в предсказании расходов за отказ от покупки конкретного товара (колонка `item_losses`).\n",
    "\n",
    "Требуется продемонстрировать умение обрабатывать данные, создавать признаки для моделей, обучать и валидировать модели, писать качественный код.\n",
    "\n",
    "Для файла `df_test.csv` также требуется предсказать целевую переменную (предсказание сохранить в колонке `y_pred` в `csv` файле с сохранением порядка строк как в `df_test.csv`).\n",
    "\n",
    "Качество предсказаний будет проверяться на тестовых данных `df_test.csv` по метрике `RMSE`.\n",
    "\n",
    "**Описание данных:**\n",
    "\n",
    "`order_id` - id заказа\n",
    "\n",
    "`departure_country` - id страны отправления заказа\n",
    "\n",
    "`departure_city` - id города отправления заказа\n",
    "\n",
    "`departure_region` - id региона города отправления заказа\n",
    "\n",
    "`arrival_country` - id страны получения заказа\n",
    "\n",
    "`arrival_city` - id города получения заказа\n",
    "\n",
    "`arrival_region` - id региона города получения заказа\n",
    "\n",
    "`order_date` - дата заказа\n",
    "\n",
    "`stock_departure_date` - время отправки со склада\n",
    "\n",
    "`delivery_service_departure_date` - время отправки службой доставки\n",
    "\n",
    "`client_arrival_date` - время доставки заказа в пункт получения\n",
    "\n",
    "`item_type` - тип товара (для кого предназначен)\n",
    "\n",
    "`client_keywords` - запрос для перехода клиента\n",
    "\n",
    "`client_device_type` - устройство клиента\n",
    "\n",
    "`client_browser` - браузер клиента\n",
    "\n",
    "`item_package_type` - способ упаковки\n",
    "\n",
    "`client_is_app` - заказ из приложения\n",
    "\n",
    "`order_tracking_available` - отслеживание заказа\n",
    "\n",
    "`brand_name` - название бренда\n",
    "\n",
    "`item_id` - id товара\n",
    "\n",
    "`item_category` - категория товара\n",
    "\n",
    "`delivery_service_name` - название службы доставки\n",
    "\n",
    "`type_prepayment` - тип предоплаты\n",
    "\n",
    "`item_price` - цена товара\n",
    "\n",
    "`item_losses` - расходы за отказ от покупки (целевая переменная)"
   ]
  },
  {
   "cell_type": "markdown",
   "id": "08ab68b9",
   "metadata": {},
   "source": [
    "# Импорты"
   ]
  },
  {
   "cell_type": "code",
   "execution_count": null,
   "id": "1a0ac6f1",
   "metadata": {},
   "outputs": [],
   "source": [
    "# Установка всех нестандартных библиотек\n",
    "!pip install numpy pandas matplotlib seaborn scikit-learn xgboost catboost lightgbm category_encoders optuna plotly"
   ]
  },
  {
   "cell_type": "code",
   "execution_count": null,
   "id": "409425a1",
   "metadata": {},
   "outputs": [],
   "source": [
    "import pandas as pd\n",
    "import numpy as np\n",
    "import matplotlib.pyplot as plt\n",
    "import seaborn as sns\n",
    "\n",
    "from category_encoders import TargetEncoder\n",
    "from sklearn.pipeline import Pipeline\n",
    "from sklearn.base import BaseEstimator, TransformerMixin, RegressorMixin, clone\n",
    "from sklearn.feature_extraction.text import TfidfVectorizer\n",
    "from sklearn.decomposition import TruncatedSVD\n",
    "from sklearn.model_selection import KFold, RandomizedSearchCV, cross_val_score\n",
    "\n",
    "import optuna\n",
    "from optuna.integration import OptunaSearchCV\n",
    "import optuna.distributions as dist\n",
    "\n",
    "from sklearn.linear_model import LinearRegression\n",
    "from xgboost import XGBClassifier, XGBRegressor\n",
    "from catboost import CatBoostClassifier, CatBoostRegressor\n",
    "from lightgbm import LGBMClassifier, LGBMRegressor\n",
    "\n",
    "import plotly.graph_objects as go\n",
    "from plotly.subplots import make_subplots\n",
    "import plotly.io as pio\n",
    "\n",
    "import warnings\n",
    "warnings.filterwarnings('ignore')\n",
    "\n",
    "pd.set_option('display.max_columns', None)\n",
    "pd.set_option('display.float_format', lambda x: '%.4f' % x)\n",
    "\n",
    "plt.style.use('dark_background')\n",
    "\n",
    "SEED = 1337"
   ]
  },
  {
   "cell_type": "markdown",
   "id": "fdbe2be7",
   "metadata": {},
   "source": [
    "# Первичный осмотр данных"
   ]
  },
  {
   "cell_type": "code",
   "execution_count": 2,
   "id": "57b4e3bb",
   "metadata": {},
   "outputs": [
    {
     "name": "stdout",
     "output_type": "stream",
     "text": [
      "TRAIN DATA INFO:\n",
      "<class 'pandas.core.frame.DataFrame'>\n",
      "RangeIndex: 276205 entries, 0 to 276204\n",
      "Data columns (total 26 columns):\n",
      " #   Column                           Non-Null Count   Dtype  \n",
      "---  ------                           --------------   -----  \n",
      " 0   Unnamed: 0                       276205 non-null  int64  \n",
      " 1   order_id                         276205 non-null  object \n",
      " 2   departure_country                276205 non-null  int64  \n",
      " 3   departure_city                   269885 non-null  float64\n",
      " 4   departure_region                 276205 non-null  int64  \n",
      " 5   arrival_country                  276205 non-null  int64  \n",
      " 6   arrival_city                     267342 non-null  float64\n",
      " 7   arrival_region                   276205 non-null  int64  \n",
      " 8   order_date                       276205 non-null  object \n",
      " 9   stock_departure_date             276205 non-null  object \n",
      " 10  delivery_service_departure_date  276205 non-null  object \n",
      " 11  client_arrival_date              276205 non-null  object \n",
      " 12  item_type                        276205 non-null  int64  \n",
      " 13  client_keywords                  61213 non-null   object \n",
      " 14  client_device_type               276205 non-null  int64  \n",
      " 15  client_browser                   276205 non-null  int64  \n",
      " 16  item_package_type                276205 non-null  object \n",
      " 17  client_is_app                    276205 non-null  bool   \n",
      " 18  order_tracking_available         276205 non-null  int64  \n",
      " 19  brand_name                       276205 non-null  object \n",
      " 20  item_id                          276205 non-null  object \n",
      " 21  item_category                    276205 non-null  object \n",
      " 22  delivery_service_name            276205 non-null  object \n",
      " 23  type_prepayment                  276205 non-null  int64  \n",
      " 24  item_price                       276205 non-null  float64\n",
      " 25  item_losses                      276205 non-null  float64\n",
      "dtypes: bool(1), float64(4), int64(10), object(11)\n",
      "memory usage: 52.9+ MB\n"
     ]
    },
    {
     "data": {
      "text/html": [
       "<div>\n",
       "<style scoped>\n",
       "    .dataframe tbody tr th:only-of-type {\n",
       "        vertical-align: middle;\n",
       "    }\n",
       "\n",
       "    .dataframe tbody tr th {\n",
       "        vertical-align: top;\n",
       "    }\n",
       "\n",
       "    .dataframe thead th {\n",
       "        text-align: right;\n",
       "    }\n",
       "</style>\n",
       "<table border=\"1\" class=\"dataframe\">\n",
       "  <thead>\n",
       "    <tr style=\"text-align: right;\">\n",
       "      <th></th>\n",
       "      <th>Unnamed: 0</th>\n",
       "      <th>order_id</th>\n",
       "      <th>departure_country</th>\n",
       "      <th>departure_city</th>\n",
       "      <th>departure_region</th>\n",
       "      <th>arrival_country</th>\n",
       "      <th>arrival_city</th>\n",
       "    </tr>\n",
       "  </thead>\n",
       "  <tbody>\n",
       "    <tr>\n",
       "      <th>0</th>\n",
       "      <td>0</td>\n",
       "      <td>1c25f312-fefc-41ee-b328-8fe1fd188e75</td>\n",
       "      <td>12</td>\n",
       "      <td>565.0000</td>\n",
       "      <td>466</td>\n",
       "      <td>12</td>\n",
       "      <td>162.0000</td>\n",
       "    </tr>\n",
       "    <tr>\n",
       "      <th>1</th>\n",
       "      <td>1</td>\n",
       "      <td>c2a596a4-1a51-4269-b9f0-5c943c4f830d</td>\n",
       "      <td>12</td>\n",
       "      <td>361.0000</td>\n",
       "      <td>292</td>\n",
       "      <td>12</td>\n",
       "      <td>121.0000</td>\n",
       "    </tr>\n",
       "  </tbody>\n",
       "</table>\n",
       "</div>"
      ],
      "text/plain": [
       "   Unnamed: 0                              order_id  departure_country  \\\n",
       "0           0  1c25f312-fefc-41ee-b328-8fe1fd188e75                 12   \n",
       "1           1  c2a596a4-1a51-4269-b9f0-5c943c4f830d                 12   \n",
       "\n",
       "   departure_city  departure_region  arrival_country  arrival_city  \n",
       "0        565.0000               466               12      162.0000  \n",
       "1        361.0000               292               12      121.0000  "
      ]
     },
     "metadata": {},
     "output_type": "display_data"
    },
    {
     "data": {
      "text/html": [
       "<div>\n",
       "<style scoped>\n",
       "    .dataframe tbody tr th:only-of-type {\n",
       "        vertical-align: middle;\n",
       "    }\n",
       "\n",
       "    .dataframe tbody tr th {\n",
       "        vertical-align: top;\n",
       "    }\n",
       "\n",
       "    .dataframe thead th {\n",
       "        text-align: right;\n",
       "    }\n",
       "</style>\n",
       "<table border=\"1\" class=\"dataframe\">\n",
       "  <thead>\n",
       "    <tr style=\"text-align: right;\">\n",
       "      <th></th>\n",
       "      <th>arrival_region</th>\n",
       "      <th>order_date</th>\n",
       "      <th>stock_departure_date</th>\n",
       "      <th>delivery_service_departure_date</th>\n",
       "      <th>client_arrival_date</th>\n",
       "      <th>item_type</th>\n",
       "      <th>client_keywords</th>\n",
       "    </tr>\n",
       "  </thead>\n",
       "  <tbody>\n",
       "    <tr>\n",
       "      <th>0</th>\n",
       "      <td>888</td>\n",
       "      <td>2017-12-27 09:49:55</td>\n",
       "      <td>00-48-00 2018-01-02</td>\n",
       "      <td>12-04-00 2018-01-03</td>\n",
       "      <td>18-09-00 2018-01-03</td>\n",
       "      <td>0</td>\n",
       "      <td>[326, 51, 37]</td>\n",
       "    </tr>\n",
       "    <tr>\n",
       "      <th>1</th>\n",
       "      <td>351</td>\n",
       "      <td>2016-10-17 21:17:17</td>\n",
       "      <td>14-50-00 2016-11-02</td>\n",
       "      <td>21-33-00 2016-11-02</td>\n",
       "      <td>08-10-00 2016-11-03</td>\n",
       "      <td>0</td>\n",
       "      <td>[77]</td>\n",
       "    </tr>\n",
       "  </tbody>\n",
       "</table>\n",
       "</div>"
      ],
      "text/plain": [
       "   arrival_region           order_date stock_departure_date  \\\n",
       "0             888  2017-12-27 09:49:55  00-48-00 2018-01-02   \n",
       "1             351  2016-10-17 21:17:17  14-50-00 2016-11-02   \n",
       "\n",
       "  delivery_service_departure_date  client_arrival_date  item_type  \\\n",
       "0             12-04-00 2018-01-03  18-09-00 2018-01-03          0   \n",
       "1             21-33-00 2016-11-02  08-10-00 2016-11-03          0   \n",
       "\n",
       "  client_keywords  \n",
       "0   [326, 51, 37]  \n",
       "1            [77]  "
      ]
     },
     "metadata": {},
     "output_type": "display_data"
    },
    {
     "data": {
      "text/html": [
       "<div>\n",
       "<style scoped>\n",
       "    .dataframe tbody tr th:only-of-type {\n",
       "        vertical-align: middle;\n",
       "    }\n",
       "\n",
       "    .dataframe tbody tr th {\n",
       "        vertical-align: top;\n",
       "    }\n",
       "\n",
       "    .dataframe thead th {\n",
       "        text-align: right;\n",
       "    }\n",
       "</style>\n",
       "<table border=\"1\" class=\"dataframe\">\n",
       "  <thead>\n",
       "    <tr style=\"text-align: right;\">\n",
       "      <th></th>\n",
       "      <th>client_device_type</th>\n",
       "      <th>client_browser</th>\n",
       "      <th>item_package_type</th>\n",
       "      <th>client_is_app</th>\n",
       "      <th>order_tracking_available</th>\n",
       "      <th>brand_name</th>\n",
       "      <th>item_id</th>\n",
       "    </tr>\n",
       "  </thead>\n",
       "  <tbody>\n",
       "    <tr>\n",
       "      <th>0</th>\n",
       "      <td>1</td>\n",
       "      <td>0</td>\n",
       "      <td>c82a2ea6-cbf1-46af-98c5-acd43b174f5d</td>\n",
       "      <td>True</td>\n",
       "      <td>0</td>\n",
       "      <td>[]</td>\n",
       "      <td>b1905241-ab8b-40e6-ae0a-8f614656f304</td>\n",
       "    </tr>\n",
       "    <tr>\n",
       "      <th>1</th>\n",
       "      <td>2</td>\n",
       "      <td>1</td>\n",
       "      <td>c82a2ea6-cbf1-46af-98c5-acd43b174f5d</td>\n",
       "      <td>True</td>\n",
       "      <td>0</td>\n",
       "      <td>['9e20fbd2-b0aa-4b6a-ae04-0fb3724f5a5d', '73d1...</td>\n",
       "      <td>5121ddf1-2a2b-4cff-a1db-7b8550799cd6</td>\n",
       "    </tr>\n",
       "  </tbody>\n",
       "</table>\n",
       "</div>"
      ],
      "text/plain": [
       "   client_device_type  client_browser                     item_package_type  \\\n",
       "0                   1               0  c82a2ea6-cbf1-46af-98c5-acd43b174f5d   \n",
       "1                   2               1  c82a2ea6-cbf1-46af-98c5-acd43b174f5d   \n",
       "\n",
       "   client_is_app  order_tracking_available  \\\n",
       "0           True                         0   \n",
       "1           True                         0   \n",
       "\n",
       "                                          brand_name  \\\n",
       "0                                                 []   \n",
       "1  ['9e20fbd2-b0aa-4b6a-ae04-0fb3724f5a5d', '73d1...   \n",
       "\n",
       "                                item_id  \n",
       "0  b1905241-ab8b-40e6-ae0a-8f614656f304  \n",
       "1  5121ddf1-2a2b-4cff-a1db-7b8550799cd6  "
      ]
     },
     "metadata": {},
     "output_type": "display_data"
    },
    {
     "data": {
      "text/html": [
       "<div>\n",
       "<style scoped>\n",
       "    .dataframe tbody tr th:only-of-type {\n",
       "        vertical-align: middle;\n",
       "    }\n",
       "\n",
       "    .dataframe tbody tr th {\n",
       "        vertical-align: top;\n",
       "    }\n",
       "\n",
       "    .dataframe thead th {\n",
       "        text-align: right;\n",
       "    }\n",
       "</style>\n",
       "<table border=\"1\" class=\"dataframe\">\n",
       "  <thead>\n",
       "    <tr style=\"text-align: right;\">\n",
       "      <th></th>\n",
       "      <th>item_category</th>\n",
       "      <th>delivery_service_name</th>\n",
       "      <th>type_prepayment</th>\n",
       "      <th>item_price</th>\n",
       "      <th>item_losses</th>\n",
       "    </tr>\n",
       "  </thead>\n",
       "  <tbody>\n",
       "    <tr>\n",
       "      <th>0</th>\n",
       "      <td>25f9f297-40a8-45d9-bb67-4b0f6dad1315</td>\n",
       "      <td>409f1e13-81ae-4e36-9bd2-6a6c53d38601</td>\n",
       "      <td>1</td>\n",
       "      <td>443.2282</td>\n",
       "      <td>0.0000</td>\n",
       "    </tr>\n",
       "    <tr>\n",
       "      <th>1</th>\n",
       "      <td>25f9f297-40a8-45d9-bb67-4b0f6dad1315</td>\n",
       "      <td>5c8a6701-853f-4721-86f0-86e79f7220c4</td>\n",
       "      <td>2</td>\n",
       "      <td>589.4820</td>\n",
       "      <td>0.0000</td>\n",
       "    </tr>\n",
       "  </tbody>\n",
       "</table>\n",
       "</div>"
      ],
      "text/plain": [
       "                          item_category                 delivery_service_name  \\\n",
       "0  25f9f297-40a8-45d9-bb67-4b0f6dad1315  409f1e13-81ae-4e36-9bd2-6a6c53d38601   \n",
       "1  25f9f297-40a8-45d9-bb67-4b0f6dad1315  5c8a6701-853f-4721-86f0-86e79f7220c4   \n",
       "\n",
       "   type_prepayment  item_price  item_losses  \n",
       "0                1    443.2282       0.0000  \n",
       "1                2    589.4820       0.0000  "
      ]
     },
     "metadata": {},
     "output_type": "display_data"
    },
    {
     "name": "stdout",
     "output_type": "stream",
     "text": [
      "\n",
      "TEST DATA INFO:\n",
      "<class 'pandas.core.frame.DataFrame'>\n",
      "RangeIndex: 77837 entries, 0 to 77836\n",
      "Data columns (total 25 columns):\n",
      " #   Column                           Non-Null Count  Dtype  \n",
      "---  ------                           --------------  -----  \n",
      " 0   Unnamed: 0                       77837 non-null  int64  \n",
      " 1   order_id                         77837 non-null  object \n",
      " 2   departure_country                77837 non-null  int64  \n",
      " 3   departure_city                   76090 non-null  float64\n",
      " 4   departure_region                 77837 non-null  int64  \n",
      " 5   arrival_country                  77837 non-null  int64  \n",
      " 6   arrival_city                     75418 non-null  float64\n",
      " 7   arrival_region                   77837 non-null  int64  \n",
      " 8   order_date                       77837 non-null  object \n",
      " 9   stock_departure_date             77837 non-null  object \n",
      " 10  delivery_service_departure_date  77837 non-null  object \n",
      " 11  client_arrival_date              77837 non-null  object \n",
      " 12  item_type                        77837 non-null  int64  \n",
      " 13  client_keywords                  14719 non-null  object \n",
      " 14  client_device_type               77837 non-null  int64  \n",
      " 15  client_browser                   77837 non-null  int64  \n",
      " 16  item_package_type                77837 non-null  object \n",
      " 17  client_is_app                    77837 non-null  bool   \n",
      " 18  order_tracking_available         77837 non-null  int64  \n",
      " 19  brand_name                       77837 non-null  object \n",
      " 20  item_id                          77837 non-null  object \n",
      " 21  item_category                    77837 non-null  object \n",
      " 22  delivery_service_name            77837 non-null  object \n",
      " 23  type_prepayment                  77837 non-null  int64  \n",
      " 24  item_price                       77837 non-null  float64\n",
      "dtypes: bool(1), float64(3), int64(10), object(11)\n",
      "memory usage: 14.3+ MB\n"
     ]
    },
    {
     "data": {
      "text/html": [
       "<div>\n",
       "<style scoped>\n",
       "    .dataframe tbody tr th:only-of-type {\n",
       "        vertical-align: middle;\n",
       "    }\n",
       "\n",
       "    .dataframe tbody tr th {\n",
       "        vertical-align: top;\n",
       "    }\n",
       "\n",
       "    .dataframe thead th {\n",
       "        text-align: right;\n",
       "    }\n",
       "</style>\n",
       "<table border=\"1\" class=\"dataframe\">\n",
       "  <thead>\n",
       "    <tr style=\"text-align: right;\">\n",
       "      <th></th>\n",
       "      <th>Unnamed: 0</th>\n",
       "      <th>order_id</th>\n",
       "      <th>departure_country</th>\n",
       "      <th>departure_city</th>\n",
       "      <th>departure_region</th>\n",
       "      <th>arrival_country</th>\n",
       "      <th>arrival_city</th>\n",
       "    </tr>\n",
       "  </thead>\n",
       "  <tbody>\n",
       "    <tr>\n",
       "      <th>0</th>\n",
       "      <td>0</td>\n",
       "      <td>3c39f09f-1f30-4d48-afd8-7ac959d4f2f3</td>\n",
       "      <td>12</td>\n",
       "      <td>125.0000</td>\n",
       "      <td>824</td>\n",
       "      <td>12</td>\n",
       "      <td>121.0000</td>\n",
       "    </tr>\n",
       "    <tr>\n",
       "      <th>1</th>\n",
       "      <td>1</td>\n",
       "      <td>660eec62-8547-4e5c-9981-afd14f2466f4</td>\n",
       "      <td>12</td>\n",
       "      <td>642.0000</td>\n",
       "      <td>635</td>\n",
       "      <td>12</td>\n",
       "      <td>193.0000</td>\n",
       "    </tr>\n",
       "  </tbody>\n",
       "</table>\n",
       "</div>"
      ],
      "text/plain": [
       "   Unnamed: 0                              order_id  departure_country  \\\n",
       "0           0  3c39f09f-1f30-4d48-afd8-7ac959d4f2f3                 12   \n",
       "1           1  660eec62-8547-4e5c-9981-afd14f2466f4                 12   \n",
       "\n",
       "   departure_city  departure_region  arrival_country  arrival_city  \n",
       "0        125.0000               824               12      121.0000  \n",
       "1        642.0000               635               12      193.0000  "
      ]
     },
     "metadata": {},
     "output_type": "display_data"
    },
    {
     "data": {
      "text/html": [
       "<div>\n",
       "<style scoped>\n",
       "    .dataframe tbody tr th:only-of-type {\n",
       "        vertical-align: middle;\n",
       "    }\n",
       "\n",
       "    .dataframe tbody tr th {\n",
       "        vertical-align: top;\n",
       "    }\n",
       "\n",
       "    .dataframe thead th {\n",
       "        text-align: right;\n",
       "    }\n",
       "</style>\n",
       "<table border=\"1\" class=\"dataframe\">\n",
       "  <thead>\n",
       "    <tr style=\"text-align: right;\">\n",
       "      <th></th>\n",
       "      <th>arrival_region</th>\n",
       "      <th>order_date</th>\n",
       "      <th>stock_departure_date</th>\n",
       "      <th>delivery_service_departure_date</th>\n",
       "      <th>client_arrival_date</th>\n",
       "      <th>item_type</th>\n",
       "      <th>client_keywords</th>\n",
       "    </tr>\n",
       "  </thead>\n",
       "  <tbody>\n",
       "    <tr>\n",
       "      <th>0</th>\n",
       "      <td>1732</td>\n",
       "      <td>2018-05-15 14:41:20</td>\n",
       "      <td>19-35-00 2018-07-05</td>\n",
       "      <td>19-35-00 2018-07-05</td>\n",
       "      <td>23-33-00 2018-07-05</td>\n",
       "      <td>0</td>\n",
       "      <td>NaN</td>\n",
       "    </tr>\n",
       "    <tr>\n",
       "      <th>1</th>\n",
       "      <td>215</td>\n",
       "      <td>2018-05-08 14:22:07</td>\n",
       "      <td>03-32-00 2018-07-26</td>\n",
       "      <td>05-19-00 2018-07-28</td>\n",
       "      <td>03-01-00 2018-07-30</td>\n",
       "      <td>0</td>\n",
       "      <td>NaN</td>\n",
       "    </tr>\n",
       "  </tbody>\n",
       "</table>\n",
       "</div>"
      ],
      "text/plain": [
       "   arrival_region           order_date stock_departure_date  \\\n",
       "0            1732  2018-05-15 14:41:20  19-35-00 2018-07-05   \n",
       "1             215  2018-05-08 14:22:07  03-32-00 2018-07-26   \n",
       "\n",
       "  delivery_service_departure_date  client_arrival_date  item_type  \\\n",
       "0             19-35-00 2018-07-05  23-33-00 2018-07-05          0   \n",
       "1             05-19-00 2018-07-28  03-01-00 2018-07-30          0   \n",
       "\n",
       "  client_keywords  \n",
       "0             NaN  \n",
       "1             NaN  "
      ]
     },
     "metadata": {},
     "output_type": "display_data"
    },
    {
     "data": {
      "text/html": [
       "<div>\n",
       "<style scoped>\n",
       "    .dataframe tbody tr th:only-of-type {\n",
       "        vertical-align: middle;\n",
       "    }\n",
       "\n",
       "    .dataframe tbody tr th {\n",
       "        vertical-align: top;\n",
       "    }\n",
       "\n",
       "    .dataframe thead th {\n",
       "        text-align: right;\n",
       "    }\n",
       "</style>\n",
       "<table border=\"1\" class=\"dataframe\">\n",
       "  <thead>\n",
       "    <tr style=\"text-align: right;\">\n",
       "      <th></th>\n",
       "      <th>client_device_type</th>\n",
       "      <th>client_browser</th>\n",
       "      <th>item_package_type</th>\n",
       "      <th>client_is_app</th>\n",
       "      <th>order_tracking_available</th>\n",
       "      <th>brand_name</th>\n",
       "      <th>item_id</th>\n",
       "    </tr>\n",
       "  </thead>\n",
       "  <tbody>\n",
       "    <tr>\n",
       "      <th>0</th>\n",
       "      <td>2</td>\n",
       "      <td>1</td>\n",
       "      <td>c82a2ea6-cbf1-46af-98c5-acd43b174f5d</td>\n",
       "      <td>True</td>\n",
       "      <td>0</td>\n",
       "      <td>['f4e0584f-4dd0-494a-a2e1-8e1f0197df31']</td>\n",
       "      <td>340bd249-e659-4257-a2a3-c1eb8271183e</td>\n",
       "    </tr>\n",
       "    <tr>\n",
       "      <th>1</th>\n",
       "      <td>1</td>\n",
       "      <td>0</td>\n",
       "      <td>c82a2ea6-cbf1-46af-98c5-acd43b174f5d</td>\n",
       "      <td>True</td>\n",
       "      <td>0</td>\n",
       "      <td>[]</td>\n",
       "      <td>85272285-4549-45be-a4f9-9e74687a21f5</td>\n",
       "    </tr>\n",
       "  </tbody>\n",
       "</table>\n",
       "</div>"
      ],
      "text/plain": [
       "   client_device_type  client_browser                     item_package_type  \\\n",
       "0                   2               1  c82a2ea6-cbf1-46af-98c5-acd43b174f5d   \n",
       "1                   1               0  c82a2ea6-cbf1-46af-98c5-acd43b174f5d   \n",
       "\n",
       "   client_is_app  order_tracking_available  \\\n",
       "0           True                         0   \n",
       "1           True                         0   \n",
       "\n",
       "                                 brand_name  \\\n",
       "0  ['f4e0584f-4dd0-494a-a2e1-8e1f0197df31']   \n",
       "1                                        []   \n",
       "\n",
       "                                item_id  \n",
       "0  340bd249-e659-4257-a2a3-c1eb8271183e  \n",
       "1  85272285-4549-45be-a4f9-9e74687a21f5  "
      ]
     },
     "metadata": {},
     "output_type": "display_data"
    },
    {
     "data": {
      "text/html": [
       "<div>\n",
       "<style scoped>\n",
       "    .dataframe tbody tr th:only-of-type {\n",
       "        vertical-align: middle;\n",
       "    }\n",
       "\n",
       "    .dataframe tbody tr th {\n",
       "        vertical-align: top;\n",
       "    }\n",
       "\n",
       "    .dataframe thead th {\n",
       "        text-align: right;\n",
       "    }\n",
       "</style>\n",
       "<table border=\"1\" class=\"dataframe\">\n",
       "  <thead>\n",
       "    <tr style=\"text-align: right;\">\n",
       "      <th></th>\n",
       "      <th>item_category</th>\n",
       "      <th>delivery_service_name</th>\n",
       "      <th>type_prepayment</th>\n",
       "      <th>item_price</th>\n",
       "    </tr>\n",
       "  </thead>\n",
       "  <tbody>\n",
       "    <tr>\n",
       "      <th>0</th>\n",
       "      <td>5554bea4-f3cd-4432-bb13-73698f52de88</td>\n",
       "      <td>eec00286-b56b-44b0-8882-7b7022355a8f</td>\n",
       "      <td>0</td>\n",
       "      <td>630.3887</td>\n",
       "    </tr>\n",
       "    <tr>\n",
       "      <th>1</th>\n",
       "      <td>25f9f297-40a8-45d9-bb67-4b0f6dad1315</td>\n",
       "      <td>5c8a6701-853f-4721-86f0-86e79f7220c4</td>\n",
       "      <td>1</td>\n",
       "      <td>1436.8475</td>\n",
       "    </tr>\n",
       "  </tbody>\n",
       "</table>\n",
       "</div>"
      ],
      "text/plain": [
       "                          item_category                 delivery_service_name  \\\n",
       "0  5554bea4-f3cd-4432-bb13-73698f52de88  eec00286-b56b-44b0-8882-7b7022355a8f   \n",
       "1  25f9f297-40a8-45d9-bb67-4b0f6dad1315  5c8a6701-853f-4721-86f0-86e79f7220c4   \n",
       "\n",
       "   type_prepayment  item_price  \n",
       "0                0    630.3887  \n",
       "1                1   1436.8475  "
      ]
     },
     "metadata": {},
     "output_type": "display_data"
    }
   ],
   "source": [
    "df_train = pd.read_csv(\"datasets/df_train.csv\")\n",
    "df_test = pd.read_csv(\"datasets/df_test.csv\")\n",
    "\n",
    "# Общая информация\n",
    "\n",
    "def display_cols(df, n, k):\n",
    "    for i in range(0, len(df.columns), n):\n",
    "        display(df.iloc[:k, i:i+n])\n",
    "\n",
    "print(\"TRAIN DATA INFO:\")\n",
    "df_train.info()\n",
    "display_cols(df_train, 7, 2)\n",
    "\n",
    "print(\"\\nTEST DATA INFO:\")\n",
    "df_test.info()\n",
    "display_cols(df_test, 7, 2)"
   ]
  },
  {
   "cell_type": "code",
   "execution_count": 3,
   "id": "04a768dd",
   "metadata": {},
   "outputs": [],
   "source": [
    "# Удалим технический столбец\n",
    "df_train = df_train.drop(columns=[\"Unnamed: 0\"])\n",
    "df_test = df_test.drop(columns=[\"Unnamed: 0\"])"
   ]
  },
  {
   "cell_type": "code",
   "execution_count": 4,
   "id": "0619aa4b",
   "metadata": {},
   "outputs": [
    {
     "name": "stdout",
     "output_type": "stream",
     "text": [
      "\n",
      "--- Пропуски в train ---\n"
     ]
    },
    {
     "data": {
      "text/html": [
       "<div>\n",
       "<style scoped>\n",
       "    .dataframe tbody tr th:only-of-type {\n",
       "        vertical-align: middle;\n",
       "    }\n",
       "\n",
       "    .dataframe tbody tr th {\n",
       "        vertical-align: top;\n",
       "    }\n",
       "\n",
       "    .dataframe thead th {\n",
       "        text-align: right;\n",
       "    }\n",
       "</style>\n",
       "<table border=\"1\" class=\"dataframe\">\n",
       "  <thead>\n",
       "    <tr style=\"text-align: right;\">\n",
       "      <th></th>\n",
       "      <th>missing</th>\n",
       "      <th>%</th>\n",
       "    </tr>\n",
       "  </thead>\n",
       "  <tbody>\n",
       "    <tr>\n",
       "      <th>client_keywords</th>\n",
       "      <td>214992</td>\n",
       "      <td>77.8400</td>\n",
       "    </tr>\n",
       "    <tr>\n",
       "      <th>arrival_city</th>\n",
       "      <td>8863</td>\n",
       "      <td>3.2100</td>\n",
       "    </tr>\n",
       "    <tr>\n",
       "      <th>departure_city</th>\n",
       "      <td>6320</td>\n",
       "      <td>2.2900</td>\n",
       "    </tr>\n",
       "    <tr>\n",
       "      <th>departure_region</th>\n",
       "      <td>0</td>\n",
       "      <td>0.0000</td>\n",
       "    </tr>\n",
       "    <tr>\n",
       "      <th>order_id</th>\n",
       "      <td>0</td>\n",
       "      <td>0.0000</td>\n",
       "    </tr>\n",
       "  </tbody>\n",
       "</table>\n",
       "</div>"
      ],
      "text/plain": [
       "                  missing       %\n",
       "client_keywords    214992 77.8400\n",
       "arrival_city         8863  3.2100\n",
       "departure_city       6320  2.2900\n",
       "departure_region        0  0.0000\n",
       "order_id                0  0.0000"
      ]
     },
     "metadata": {},
     "output_type": "display_data"
    },
    {
     "name": "stdout",
     "output_type": "stream",
     "text": [
      "\n",
      "--- Пропуски в test ---\n"
     ]
    },
    {
     "data": {
      "text/html": [
       "<div>\n",
       "<style scoped>\n",
       "    .dataframe tbody tr th:only-of-type {\n",
       "        vertical-align: middle;\n",
       "    }\n",
       "\n",
       "    .dataframe tbody tr th {\n",
       "        vertical-align: top;\n",
       "    }\n",
       "\n",
       "    .dataframe thead th {\n",
       "        text-align: right;\n",
       "    }\n",
       "</style>\n",
       "<table border=\"1\" class=\"dataframe\">\n",
       "  <thead>\n",
       "    <tr style=\"text-align: right;\">\n",
       "      <th></th>\n",
       "      <th>missing</th>\n",
       "      <th>%</th>\n",
       "    </tr>\n",
       "  </thead>\n",
       "  <tbody>\n",
       "    <tr>\n",
       "      <th>client_keywords</th>\n",
       "      <td>63118</td>\n",
       "      <td>81.0900</td>\n",
       "    </tr>\n",
       "    <tr>\n",
       "      <th>arrival_city</th>\n",
       "      <td>2419</td>\n",
       "      <td>3.1100</td>\n",
       "    </tr>\n",
       "    <tr>\n",
       "      <th>departure_city</th>\n",
       "      <td>1747</td>\n",
       "      <td>2.2400</td>\n",
       "    </tr>\n",
       "    <tr>\n",
       "      <th>departure_country</th>\n",
       "      <td>0</td>\n",
       "      <td>0.0000</td>\n",
       "    </tr>\n",
       "    <tr>\n",
       "      <th>departure_region</th>\n",
       "      <td>0</td>\n",
       "      <td>0.0000</td>\n",
       "    </tr>\n",
       "  </tbody>\n",
       "</table>\n",
       "</div>"
      ],
      "text/plain": [
       "                   missing       %\n",
       "client_keywords      63118 81.0900\n",
       "arrival_city          2419  3.1100\n",
       "departure_city        1747  2.2400\n",
       "departure_country        0  0.0000\n",
       "departure_region         0  0.0000"
      ]
     },
     "metadata": {},
     "output_type": "display_data"
    },
    {
     "name": "stdout",
     "output_type": "stream",
     "text": [
      "\n",
      "--- Уникальные значения ---\n"
     ]
    },
    {
     "data": {
      "text/plain": [
       "item_price                         270834\n",
       "order_id                           193284\n",
       "order_date                         192577\n",
       "client_arrival_date                126786\n",
       "delivery_service_departure_date    118719\n",
       "stock_departure_date                99677\n",
       "item_losses                         17908\n",
       "client_keywords                      9012\n",
       "item_id                              1866\n",
       "arrival_region                       1395\n",
       "departure_region                     1220\n",
       "arrival_city                          671\n",
       "departure_city                        587\n",
       "client_device_type                    468\n",
       "brand_name                            113\n",
       "delivery_service_name                  25\n",
       "arrival_country                        13\n",
       "departure_country                      12\n",
       "client_browser                          8\n",
       "item_category                           6\n",
       "item_package_type                       5\n",
       "type_prepayment                         4\n",
       "item_type                               3\n",
       "client_is_app                           2\n",
       "order_tracking_available                2\n",
       "dtype: int64"
      ]
     },
     "metadata": {},
     "output_type": "display_data"
    },
    {
     "data": {
      "image/png": "[encoded data removed]",
      "text/plain": [
       "<Figure size 800x400 with 1 Axes>"
      ]
     },
     "metadata": {},
     "output_type": "display_data"
    },
    {
     "data": {
      "text/plain": [
       "count   276205.0000\n",
       "mean        23.5843\n",
       "std         47.7635\n",
       "min       -480.8484\n",
       "25%          0.0000\n",
       "50%          0.0000\n",
       "75%         34.2092\n",
       "max       1234.9547\n",
       "Name: item_losses, dtype: float64"
      ]
     },
     "metadata": {},
     "output_type": "display_data"
    }
   ],
   "source": [
    "print(\"\\n--- Пропуски в train ---\")\n",
    "display(\n",
    "    df_train.isna()\n",
    "    .sum()\n",
    "    .to_frame(\"missing\")\n",
    "    .assign(**{\"%\": lambda x: (100 * x[\"missing\"] / len(df_train)).round(2)})\n",
    "    .sort_values(\"missing\", ascending=False)\n",
    "    .head(5)\n",
    ")\n",
    "\n",
    "print(\"\\n--- Пропуски в test ---\")\n",
    "display(\n",
    "    df_test.isna()\n",
    "    .sum()\n",
    "    .to_frame(\"missing\")\n",
    "    .assign(**{\"%\": lambda x: (100 * x[\"missing\"] / len(df_test)).round(2)})\n",
    "    .sort_values(\"missing\", ascending=False)\n",
    "    .head(5)\n",
    ")\n",
    "\n",
    "print(\"\\n--- Уникальные значения ---\")\n",
    "unique_counts = df_train.nunique().sort_values(ascending=False)\n",
    "display(unique_counts)\n",
    "\n",
    "plt.figure(figsize=(8,4))\n",
    "sns.histplot(df_train[\"item_losses\"], bins=50, kde=True)\n",
    "plt.title(\"Распределение item_losses\")\n",
    "plt.show()\n",
    "display(df_train[\"item_losses\"].describe())"
   ]
  },
  {
   "cell_type": "code",
   "execution_count": 5,
   "id": "16b46834",
   "metadata": {},
   "outputs": [
    {
     "name": "stdout",
     "output_type": "stream",
     "text": [
      "Доля нулей: 72.5%\n"
     ]
    }
   ],
   "source": [
    "zero_ratio = len(df_train[df_train['item_losses'] == 0]) / len(df_train) * 100\n",
    "print(f\"Доля нулей: {zero_ratio:.1f}%\")"
   ]
  },
  {
   "cell_type": "code",
   "execution_count": 6,
   "id": "5e86c46e",
   "metadata": {},
   "outputs": [
    {
     "name": "stdout",
     "output_type": "stream",
     "text": [
      "item_losses          0      1\n",
      "client_keywords              \n",
      "0               0.2776 0.7224\n",
      "1               0.2653 0.7347\n",
      "коэффициент корреляции Пирсона между наличием ключей и нулевми расходами: 0.011429884879715276\n"
     ]
    }
   ],
   "source": [
    "has_keywords = df_train['client_keywords'].notna().astype(int)\n",
    "y_is_zero = (df_train['item_losses'] == 0).astype(int)\n",
    "\n",
    "ct = pd.crosstab(has_keywords, y_is_zero, normalize='index')\n",
    "print(ct)\n",
    "\n",
    "corr = np.corrcoef(has_keywords, y_is_zero)[0, 1]\n",
    "print(\"коэффициент корреляции Пирсона между наличием ключей и нулевми расходами:\", corr)\n"
   ]
  },
  {
   "cell_type": "markdown",
   "id": "e391ca86",
   "metadata": {},
   "source": [
    "У тех, у кого нет ключевых слов (0), вероятность нулевых расходов ≈ 27.8%.\n",
    "У тех, у кого есть ключевые слова (1), вероятность нулевых расходов ≈ 26.5%.\n",
    "→ Разница очень маленькая, всего около 1%.\n",
    "\n",
    "Корреляция Пирсона почти нулевая корреляция, линейной связи между наличием `client_keywords` и нулевыми расходами нет. \n",
    "\n",
    "Наличие `client_keywords` само по себе почти ничего не даёт для предсказания нулей. Но!\n",
    "\n",
    "Может быть полезно не само наличие, а состав списка ([326, 51, 37] и т.д.).\n",
    "\n",
    "Эти коды могут отражать категории запросов (например, \"доставка\", \"возврат\", \"скидка\"),  тогда отдельные токены могут иметь связь с расходами"
   ]
  },
  {
   "cell_type": "code",
   "execution_count": 7,
   "id": "4c5d4c11",
   "metadata": {},
   "outputs": [
    {
     "name": "stdout",
     "output_type": "stream",
     "text": [
      "Уникальных токенов: 2557\n",
      "['1', '10', '100', '1000', '1001']\n"
     ]
    }
   ],
   "source": [
    "all_tokens = set()\n",
    "for kw in df_train[\"client_keywords\"].dropna():\n",
    "    tokens = [t.strip() for t in kw.strip(\"[] \").split(',') if t.strip()]\n",
    "    all_tokens.update(tokens)\n",
    "\n",
    "print(f\"Уникальных токенов: {len(all_tokens)}\")\n",
    "print(sorted(list(all_tokens))[:5])"
   ]
  },
  {
   "cell_type": "markdown",
   "id": "dc8b859e",
   "metadata": {},
   "source": [
    "2557 уникальных значений, закодировать OneHot энкодером будет не рационально. возможно лучше просто сделать эмбеддинг"
   ]
  },
  {
   "cell_type": "code",
   "execution_count": 8,
   "id": "9094b4b1",
   "metadata": {},
   "outputs": [
    {
     "name": "stdout",
     "output_type": "stream",
     "text": [
      "Максимальная длинна списка ключевых слов: 18\n"
     ]
    }
   ],
   "source": [
    "max_tokens = df_train['client_keywords'].dropna().apply(lambda s: len(s.strip(\"[] \").split(\",\"))).max()\n",
    "print(f'Максимальная длинна списка ключевых слов: {max_tokens}')"
   ]
  },
  {
   "cell_type": "markdown",
   "id": "629e14db",
   "metadata": {},
   "source": [
    "### Пропуски\n",
    "\n",
    "`client_keywords` - 214k пропусков (~78% в train, ~81% в test). Использовать как фичу нецелесообразно, лучше выкинуть или оставить только как индикатор «есть ли keywords» или сколько их\n",
    "\n",
    "`arrival_city` и `departure_city` - пропусков меньше (2–3%). Можно кодировать NaN как отдельное значение\n",
    "\n",
    "### Количественные признаки без изменений:\n",
    "\n",
    "- `item_price`\n",
    "\n",
    "- `order_tracking_available` - бинарный признак, кодировка не требуется, уже числовой тип данных\n",
    "\n",
    "### обработка других признаков:\n",
    "\n",
    "- `order_id` 193284 уникальных значений на трейне из 276205 записей. значительная часть записей принадлежат к одному заказу. из этого можно выделить признак количества товаров в заказе\n",
    "\n",
    "- `client_keywords` - из этого сделаем признак количества ключевых слов в запросе из длинны списка в записи\n",
    "\n",
    "- `departure_country`, `departure_city`, `departure_region`, `arrival_country`, `arrival_city`, `arrival_region` - из этих индексов можно сделать признаки того, является ли это доставкой в другую страну/регион/город\n",
    "\n",
    "- `order_date`, `client_arrival_date`, `delivery_service_departure_date`, `stock_departure_date` - из этих признаков получить дельты времени между датой заказа и временем отправки со склада, временем отправки со склада и временем отправки службой доставки, временем отправки службой доставки и временем доставки заказа в пункт получения и общем временем от заказа до получения\n",
    "\n",
    "- `delivery_service_name` (25), `client_browser` (8), `item_category` (6), `item_package_type` (5), `type_prepayment` (4), `item_type` (3) - нормальная кардинальность можно категориального признака:  можно закодировать с помощью one-hot энкодера\n",
    "\n",
    "- `item_id` (1866), `client_device_type` (468), `brand_name` (113) - Высокая кардинальность категориального признака: нужно аккуратное кодирование\n",
    "\n",
    "- `client_is_app` - нужно перевести из булева в числовой тип данных\n",
    "\n",
    "\n",
    "## прочие замечания\n",
    "\n",
    "- Большинство заказов без убытков (медиана = 0)\n",
    "\n",
    "- У части заказов есть отрицательные значения убытков (min = -480), это выглядит подозрительно (ошибки в данных?). Нужно разобратся"
   ]
  },
  {
   "cell_type": "markdown",
   "id": "8d249398",
   "metadata": {},
   "source": [
    "# Избавление от пропусков и Аномалий"
   ]
  },
  {
   "cell_type": "code",
   "execution_count": 9,
   "id": "a07f3065",
   "metadata": {},
   "outputs": [
    {
     "data": {
      "text/html": [
       "<div>\n",
       "<style scoped>\n",
       "    .dataframe tbody tr th:only-of-type {\n",
       "        vertical-align: middle;\n",
       "    }\n",
       "\n",
       "    .dataframe tbody tr th {\n",
       "        vertical-align: top;\n",
       "    }\n",
       "\n",
       "    .dataframe thead th {\n",
       "        text-align: right;\n",
       "    }\n",
       "</style>\n",
       "<table border=\"1\" class=\"dataframe\">\n",
       "  <thead>\n",
       "    <tr style=\"text-align: right;\">\n",
       "      <th></th>\n",
       "      <th>order_id</th>\n",
       "      <th>departure_country</th>\n",
       "      <th>departure_city</th>\n",
       "      <th>departure_region</th>\n",
       "      <th>arrival_country</th>\n",
       "      <th>arrival_city</th>\n",
       "      <th>arrival_region</th>\n",
       "      <th>order_date</th>\n",
       "      <th>stock_departure_date</th>\n",
       "      <th>delivery_service_departure_date</th>\n",
       "      <th>client_arrival_date</th>\n",
       "      <th>item_type</th>\n",
       "      <th>client_keywords</th>\n",
       "      <th>client_device_type</th>\n",
       "      <th>client_browser</th>\n",
       "      <th>item_package_type</th>\n",
       "      <th>client_is_app</th>\n",
       "      <th>order_tracking_available</th>\n",
       "      <th>brand_name</th>\n",
       "      <th>item_id</th>\n",
       "      <th>item_category</th>\n",
       "      <th>delivery_service_name</th>\n",
       "      <th>type_prepayment</th>\n",
       "      <th>item_price</th>\n",
       "      <th>item_losses</th>\n",
       "    </tr>\n",
       "  </thead>\n",
       "  <tbody>\n",
       "    <tr>\n",
       "      <th>60664</th>\n",
       "      <td>c290ce6a-acac-40cb-aaea-77ef3be79a67</td>\n",
       "      <td>12</td>\n",
       "      <td>556.0000</td>\n",
       "      <td>1443</td>\n",
       "      <td>12</td>\n",
       "      <td>68.0000</td>\n",
       "      <td>1274</td>\n",
       "      <td>2017-06-01 18:26:28</td>\n",
       "      <td>21-10-00 2017-07-24</td>\n",
       "      <td>21-10-00 2017-07-24</td>\n",
       "      <td>23-06-00 2017-07-25</td>\n",
       "      <td>0</td>\n",
       "      <td>NaN</td>\n",
       "      <td>2</td>\n",
       "      <td>1</td>\n",
       "      <td>c82a2ea6-cbf1-46af-98c5-acd43b174f5d</td>\n",
       "      <td>True</td>\n",
       "      <td>0</td>\n",
       "      <td>[]</td>\n",
       "      <td>fe1c74ac-e22d-445f-a1cd-6ea30fc85957</td>\n",
       "      <td>25f9f297-40a8-45d9-bb67-4b0f6dad1315</td>\n",
       "      <td>5c8a6701-853f-4721-86f0-86e79f7220c4</td>\n",
       "      <td>2</td>\n",
       "      <td>963.3772</td>\n",
       "      <td>-310.1238</td>\n",
       "    </tr>\n",
       "    <tr>\n",
       "      <th>87169</th>\n",
       "      <td>be4127b1-38e3-401d-8548-79f6b34c2cb2</td>\n",
       "      <td>12</td>\n",
       "      <td>125.0000</td>\n",
       "      <td>824</td>\n",
       "      <td>12</td>\n",
       "      <td>276.0000</td>\n",
       "      <td>1253</td>\n",
       "      <td>2017-06-28 02:45:39</td>\n",
       "      <td>21-02-00 2017-08-25</td>\n",
       "      <td>21-02-00 2017-08-25</td>\n",
       "      <td>10-46-00 2017-08-27</td>\n",
       "      <td>0</td>\n",
       "      <td>NaN</td>\n",
       "      <td>1</td>\n",
       "      <td>0</td>\n",
       "      <td>c82a2ea6-cbf1-46af-98c5-acd43b174f5d</td>\n",
       "      <td>False</td>\n",
       "      <td>0</td>\n",
       "      <td>['fe714603-2276-40f8-b021-ca9d205c8e41', '1f56...</td>\n",
       "      <td>3da7a462-538e-42bf-b4b6-6709d6afce7f</td>\n",
       "      <td>25f9f297-40a8-45d9-bb67-4b0f6dad1315</td>\n",
       "      <td>5c8a6701-853f-4721-86f0-86e79f7220c4</td>\n",
       "      <td>2</td>\n",
       "      <td>2125.0411</td>\n",
       "      <td>-23.7847</td>\n",
       "    </tr>\n",
       "    <tr>\n",
       "      <th>127727</th>\n",
       "      <td>c290ce6a-acac-40cb-aaea-77ef3be79a67</td>\n",
       "      <td>12</td>\n",
       "      <td>556.0000</td>\n",
       "      <td>1443</td>\n",
       "      <td>12</td>\n",
       "      <td>68.0000</td>\n",
       "      <td>1274</td>\n",
       "      <td>2017-06-01 18:26:28</td>\n",
       "      <td>21-10-00 2017-07-24</td>\n",
       "      <td>21-10-00 2017-07-24</td>\n",
       "      <td>23-06-00 2017-07-25</td>\n",
       "      <td>0</td>\n",
       "      <td>NaN</td>\n",
       "      <td>2</td>\n",
       "      <td>1</td>\n",
       "      <td>4b30b1ff-54b0-4aac-ac8a-6df7bb59548e</td>\n",
       "      <td>True</td>\n",
       "      <td>0</td>\n",
       "      <td>[]</td>\n",
       "      <td>fe1c74ac-e22d-445f-a1cd-6ea30fc85957</td>\n",
       "      <td>25f9f297-40a8-45d9-bb67-4b0f6dad1315</td>\n",
       "      <td>5c8a6701-853f-4721-86f0-86e79f7220c4</td>\n",
       "      <td>2</td>\n",
       "      <td>698.2872</td>\n",
       "      <td>-480.8484</td>\n",
       "    </tr>\n",
       "    <tr>\n",
       "      <th>275205</th>\n",
       "      <td>be4127b1-38e3-401d-8548-79f6b34c2cb2</td>\n",
       "      <td>12</td>\n",
       "      <td>125.0000</td>\n",
       "      <td>824</td>\n",
       "      <td>12</td>\n",
       "      <td>276.0000</td>\n",
       "      <td>1253</td>\n",
       "      <td>2017-06-28 02:45:39</td>\n",
       "      <td>21-02-00 2017-08-25</td>\n",
       "      <td>21-02-00 2017-08-25</td>\n",
       "      <td>10-46-00 2017-08-27</td>\n",
       "      <td>0</td>\n",
       "      <td>NaN</td>\n",
       "      <td>1</td>\n",
       "      <td>0</td>\n",
       "      <td>c82a2ea6-cbf1-46af-98c5-acd43b174f5d</td>\n",
       "      <td>False</td>\n",
       "      <td>0</td>\n",
       "      <td>['fe714603-2276-40f8-b021-ca9d205c8e41', '1f56...</td>\n",
       "      <td>3da7a462-538e-42bf-b4b6-6709d6afce7f</td>\n",
       "      <td>25f9f297-40a8-45d9-bb67-4b0f6dad1315</td>\n",
       "      <td>5c8a6701-853f-4721-86f0-86e79f7220c4</td>\n",
       "      <td>2</td>\n",
       "      <td>2125.2750</td>\n",
       "      <td>-23.7847</td>\n",
       "    </tr>\n",
       "  </tbody>\n",
       "</table>\n",
       "</div>"
      ],
      "text/plain": [
       "                                    order_id  departure_country  \\\n",
       "60664   c290ce6a-acac-40cb-aaea-77ef3be79a67                 12   \n",
       "87169   be4127b1-38e3-401d-8548-79f6b34c2cb2                 12   \n",
       "127727  c290ce6a-acac-40cb-aaea-77ef3be79a67                 12   \n",
       "275205  be4127b1-38e3-401d-8548-79f6b34c2cb2                 12   \n",
       "\n",
       "        departure_city  departure_region  arrival_country  arrival_city  \\\n",
       "60664         556.0000              1443               12       68.0000   \n",
       "87169         125.0000               824               12      276.0000   \n",
       "127727        556.0000              1443               12       68.0000   \n",
       "275205        125.0000               824               12      276.0000   \n",
       "\n",
       "        arrival_region           order_date stock_departure_date  \\\n",
       "60664             1274  2017-06-01 18:26:28  21-10-00 2017-07-24   \n",
       "87169             1253  2017-06-28 02:45:39  21-02-00 2017-08-25   \n",
       "127727            1274  2017-06-01 18:26:28  21-10-00 2017-07-24   \n",
       "275205            1253  2017-06-28 02:45:39  21-02-00 2017-08-25   \n",
       "\n",
       "       delivery_service_departure_date  client_arrival_date  item_type  \\\n",
       "60664              21-10-00 2017-07-24  23-06-00 2017-07-25          0   \n",
       "87169              21-02-00 2017-08-25  10-46-00 2017-08-27          0   \n",
       "127727             21-10-00 2017-07-24  23-06-00 2017-07-25          0   \n",
       "275205             21-02-00 2017-08-25  10-46-00 2017-08-27          0   \n",
       "\n",
       "       client_keywords  client_device_type  client_browser  \\\n",
       "60664              NaN                   2               1   \n",
       "87169              NaN                   1               0   \n",
       "127727             NaN                   2               1   \n",
       "275205             NaN                   1               0   \n",
       "\n",
       "                           item_package_type  client_is_app  \\\n",
       "60664   c82a2ea6-cbf1-46af-98c5-acd43b174f5d           True   \n",
       "87169   c82a2ea6-cbf1-46af-98c5-acd43b174f5d          False   \n",
       "127727  4b30b1ff-54b0-4aac-ac8a-6df7bb59548e           True   \n",
       "275205  c82a2ea6-cbf1-46af-98c5-acd43b174f5d          False   \n",
       "\n",
       "        order_tracking_available  \\\n",
       "60664                          0   \n",
       "87169                          0   \n",
       "127727                         0   \n",
       "275205                         0   \n",
       "\n",
       "                                               brand_name  \\\n",
       "60664                                                  []   \n",
       "87169   ['fe714603-2276-40f8-b021-ca9d205c8e41', '1f56...   \n",
       "127727                                                 []   \n",
       "275205  ['fe714603-2276-40f8-b021-ca9d205c8e41', '1f56...   \n",
       "\n",
       "                                     item_id  \\\n",
       "60664   fe1c74ac-e22d-445f-a1cd-6ea30fc85957   \n",
       "87169   3da7a462-538e-42bf-b4b6-6709d6afce7f   \n",
       "127727  fe1c74ac-e22d-445f-a1cd-6ea30fc85957   \n",
       "275205  3da7a462-538e-42bf-b4b6-6709d6afce7f   \n",
       "\n",
       "                               item_category  \\\n",
       "60664   25f9f297-40a8-45d9-bb67-4b0f6dad1315   \n",
       "87169   25f9f297-40a8-45d9-bb67-4b0f6dad1315   \n",
       "127727  25f9f297-40a8-45d9-bb67-4b0f6dad1315   \n",
       "275205  25f9f297-40a8-45d9-bb67-4b0f6dad1315   \n",
       "\n",
       "                       delivery_service_name  type_prepayment  item_price  \\\n",
       "60664   5c8a6701-853f-4721-86f0-86e79f7220c4                2    963.3772   \n",
       "87169   5c8a6701-853f-4721-86f0-86e79f7220c4                2   2125.0411   \n",
       "127727  5c8a6701-853f-4721-86f0-86e79f7220c4                2    698.2872   \n",
       "275205  5c8a6701-853f-4721-86f0-86e79f7220c4                2   2125.2750   \n",
       "\n",
       "        item_losses  \n",
       "60664     -310.1238  \n",
       "87169      -23.7847  \n",
       "127727    -480.8484  \n",
       "275205     -23.7847  "
      ]
     },
     "execution_count": 9,
     "metadata": {},
     "output_type": "execute_result"
    }
   ],
   "source": [
    "df_train[(df_train['item_losses'] < 0)]"
   ]
  },
  {
   "cell_type": "code",
   "execution_count": 10,
   "id": "a4b59f90",
   "metadata": {},
   "outputs": [],
   "source": [
    "# удалим эти 4 аномальные строки\n",
    "df_train = df_train[~(df_train['item_losses'] < 0)]"
   ]
  },
  {
   "cell_type": "markdown",
   "id": "9d60a516",
   "metadata": {},
   "source": [
    "Обработку пропусков учтём в рамках пайплайна предобработки"
   ]
  },
  {
   "cell_type": "code",
   "execution_count": 25,
   "id": "a505d416",
   "metadata": {},
   "outputs": [],
   "source": [
    "# Классы для препроцессинга в рамках пайплайна\n",
    "\n",
    "class DateFeatureExtractor(BaseEstimator, TransformerMixin):\n",
    "    \"\"\"\n",
    "    Извлекает временные признаки и вычисляет дельты времени этапов доставки до клиента\n",
    "    Дли инициализации нужен список 4 колонок в порядке от заказа до получения\n",
    "    \"\"\"\n",
    "    \n",
    "    def __init__(self, col):\n",
    "        self.col = col\n",
    "    \n",
    "    def fit(self, X, y=None):\n",
    "        return self\n",
    "    \n",
    "    def transform(self, X):\n",
    "        X = X.copy()\n",
    "        \n",
    "        X[self.col[0]] = pd.to_datetime(X[self.col[0]], errors=\"coerce\")\n",
    "        for i in range(1,4):\n",
    "            X[self.col[i]] = pd.to_datetime(X[self.col[i]],\n",
    "            format=\"%H-%M-%S %Y-%m-%d\", errors=\"coerce\")\n",
    "        \n",
    "        # Создание временных дельт (в часах)\n",
    "        if all(c in X.columns for c in self.col):\n",
    "            for i in range(3):\n",
    "                X[f'delivery_{i+1}'] = (\n",
    "                    X[self.col[i+1]] - X[self.col[i]]\n",
    "                ).dt.total_seconds() / 3600\n",
    "\n",
    "            X['delivery_full'] = (\n",
    "                X[self.col[3]] - X[self.col[0]]\n",
    "            ).dt.total_seconds() / 3600\n",
    "        \n",
    "        if 'item_price' in X.columns and 'delivery_full' in X.columns:\n",
    "            X['price_per_hour'] = X['item_price'] / (X['delivery_full'] + 1)\n",
    "\n",
    "        if all(col in X.columns for col in ['delivery_1', 'delivery_2', 'delivery_3']):\n",
    "            X['delivery_speed'] = X['delivery_1'] / (X['delivery_2'] + X['delivery_3'] + 1) # соотношение \"подготовки\" к \"транспортировке\"\n",
    "            X['total_transport_time'] = X['delivery_2'] + X['delivery_3']  # только транспорт\n",
    "            X['prep_vs_transport'] = X['delivery_1'] / (X['total_transport_time'] + 1)\n",
    "\n",
    "                \n",
    "        # Извлечение признаков из даты заказа\n",
    "        if self.col[0] in X.columns:\n",
    "            X['order_hour'] = X[self.col[0]].dt.hour\n",
    "            X['order_day_of_week'] = X[self.col[0]].dt.dayofweek\n",
    "            X['order_month'] = X[self.col[0]].dt.month\n",
    "            X['order_day_of_month'] = X[self.col[0]].dt.day\n",
    "            X['is_weekend'] = (X[self.col[0]].dt.dayofweek >= 5).astype(int)\n",
    "        \n",
    "            # Час (24-часовой цикл)\n",
    "            X['order_hour_sin'] = np.sin(2 * np.pi * X['order_hour'] / 24)\n",
    "            X['order_hour_cos'] = np.cos(2 * np.pi * X['order_hour'] / 24)\n",
    "            \n",
    "            # День недели (7-дневный цикл)\n",
    "            X['order_day_of_week_sin'] = np.sin(2 * np.pi * X['order_day_of_week'] / 7)\n",
    "            X['order_day_of_week_cos'] = np.cos(2 * np.pi * X['order_day_of_week'] / 7)\n",
    "            \n",
    "            # Месяц (12-месячный цикл)\n",
    "            X['order_month_sin'] = np.sin(2 * np.pi * X['order_month'] / 12)\n",
    "            X['order_month_cos'] = np.cos(2 * np.pi * X['order_month'] / 12)\n",
    "            \n",
    "            # День месяца (31-дневный цикл, но это спорно)\n",
    "            X['order_day_of_month_sin'] = np.sin(2 * np.pi * X['order_day_of_month'] / 31)\n",
    "            X['order_day_of_month_cos'] = np.cos(2 * np.pi * X['order_day_of_month'] / 31)\n",
    "        \n",
    "        # Удаляем исходные колонки с датами (они больше не нужны)\n",
    "        X = X.drop(columns=self.col, errors='ignore')\n",
    "        \n",
    "        return X\n",
    "\n",
    "class GeographicFeatureExtractor(BaseEstimator, TransformerMixin):\n",
    "    \"\"\"Создает географические бинарные признаки: \n",
    "    - международная посылка;\n",
    "    - в другой регион; \n",
    "    - межгород\n",
    "    - данные о городе отсутствуют\n",
    "    \"\"\"\n",
    "\n",
    "    def __init__(self, col):\n",
    "        self.col = col\n",
    "    \n",
    "    def fit(self, X, y=None):\n",
    "        return self\n",
    "    \n",
    "    def transform(self, X):\n",
    "        X = X.copy()\n",
    "        \n",
    "        if all(c in X.columns for c in self.col):\n",
    "            X['is_international_delivery'] = (\n",
    "                (X[self.col[0]].notna()) & (X[self.col[1]].notna()) &\n",
    "                (X[self.col[0]].notna()) & (X[self.col[1]].notna())\n",
    "                ).astype(int)\n",
    "            X['is_interregional_delivery'] = (\n",
    "                (X[self.col[2]].notna()) & (X[self.col[3]].notna()) &\n",
    "                (X[self.col[2]].notna()) & (X[self.col[3]].notna())\n",
    "                ).astype(int)\n",
    "            X['is_intercity_delivery'] = (\n",
    "                (X[self.col[4]].notna()) & (X[self.col[5]].notna()) &\n",
    "                (X[self.col[4]].notna()) & (X[self.col[5]].notna())\n",
    "                ).astype(int)\n",
    "            X['missing_city_info'] = (X[self.col[4]].isna() | X[self.col[5]].isna()).astype(int)    \n",
    "            \n",
    "        # Дропаем колонки городов, они больше не нужны\n",
    "        X = X.drop(columns=self.col, errors='ignore')\n",
    "        \n",
    "        return X\n",
    "\n",
    "class OrderFeatureExtractor(BaseEstimator, TransformerMixin):\n",
    "    \"\"\"Извлекает признак количества позиций в заказе\"\"\"\n",
    "    \n",
    "    def __init__(self, col):\n",
    "        self.order_counts = {}\n",
    "        self.col = col\n",
    "    \n",
    "    def fit(self, X, y=None):\n",
    "        # Сохраняем маппинг количества товаров в заказе\n",
    "        if self.col in X.columns:\n",
    "            self.order_counts = X[self.col].value_counts().to_dict()\n",
    "        return self\n",
    "    \n",
    "    def transform(self, X):\n",
    "        X = X.copy()\n",
    "        \n",
    "        # Количество товаров в заказе\n",
    "        if self.col in X.columns:\n",
    "            X['items_per_order'] = X[self.col].map(self.order_counts).fillna(1)\n",
    "            \n",
    "        # Дропаем order_id, он больше не нужен\n",
    "        X = X.drop(columns=[self.col], errors='ignore')\n",
    "        \n",
    "        return X\n",
    "\n",
    "class KeywordsFeatureExtractor(BaseEstimator, TransformerMixin):\n",
    "    \"\"\"Извлекает признаки из client_keywords через TF-IDF + SVD\"\"\"\n",
    "\n",
    "    def __init__(self, col, n_components=36):\n",
    "        self.col = col\n",
    "        self.n_components = n_components\n",
    "        self.vectorizer = TfidfVectorizer(token_pattern=r\"\\d+\")\n",
    "        self.svd = None\n",
    "\n",
    "    def preprocess(self, keywords):\n",
    "        if pd.isna(keywords):\n",
    "            return \"\"\n",
    "        return keywords.strip(\"[] \").replace(\" \", \"\")\n",
    "\n",
    "    def fit(self, X, y=None):\n",
    "        texts = X[self.col].fillna(\"\").apply(self.preprocess)\n",
    "        X_tfidf = self.vectorizer.fit_transform(texts)\n",
    "        n_comp = min(self.n_components, X_tfidf.shape[1])\n",
    "        self.svd = TruncatedSVD(n_components=n_comp, random_state=SEED)\n",
    "        self.svd.fit(X_tfidf)\n",
    "        return self\n",
    "\n",
    "    def transform(self, X):\n",
    "        X_copy = X.copy()\n",
    "        texts = X_copy[self.col].fillna(\"\").apply(self.preprocess)\n",
    "        X_tfidf = self.vectorizer.transform(texts)\n",
    "        X_svd = self.svd.transform(X_tfidf)\n",
    "        n_svd_features = X_svd.shape[1]\n",
    "\n",
    "        for i in range(n_svd_features):\n",
    "            X_copy[f\"kw_emb_{i}\"] = X_svd[:, i]\n",
    "\n",
    "        X_copy = X_copy.drop(columns=[self.col])\n",
    "        return X_copy\n",
    "\n",
    "class BoolToNumTransformer(BaseEstimator, TransformerMixin):\n",
    "    \"\"\"преобразыет булевы значения False/True в числовые 0/1\"\"\"\n",
    "\n",
    "    def __init__(self, col):\n",
    "        self.col = col\n",
    "    \n",
    "    def fit(self, X, y=None):\n",
    "        return self\n",
    "    \n",
    "    def transform(self, X):\n",
    "        X = X.copy()\n",
    "        \n",
    "        for c in self.col:\n",
    "            if c in X.columns:\n",
    "                X[c] = X[c].astype(int)\n",
    "        \n",
    "        return X"
   ]
  },
  {
   "cell_type": "markdown",
   "id": "7ca2ec35",
   "metadata": {},
   "source": [
    "# Подготовка к обучению"
   ]
  },
  {
   "cell_type": "markdown",
   "id": "e0c1d751",
   "metadata": {},
   "source": [
    "Так как в датасете очень большой дисбаланс в сторону нулевых расходов (72.5%), то принято решение использовать Zero-Inflated подход, сначала предсказываем моделью классификации будут ли расходы вообще, а потом регрессией определяем количество расходов если они есть.\n"
   ]
  },
  {
   "cell_type": "code",
   "execution_count": null,
   "id": "aac15973",
   "metadata": {},
   "outputs": [],
   "source": [
    "# подготовка класса для Zero-Inflated модели\n",
    "\n",
    "class ZeroInflatedRegressor(BaseEstimator, RegressorMixin):\n",
    "    def __init__(self, classifier, regressor, threshold=0.5, use_log_transform=True):\n",
    "        self.classifier = classifier\n",
    "        self.regressor = regressor\n",
    "        self.threshold = threshold\n",
    "        self.use_log_transform = use_log_transform\n",
    "\n",
    "    def fit(self, X, y):\n",
    "        y_bin = (y > 0).astype(int)\n",
    "\n",
    "        self.classifier_ = clone(self.classifier)\n",
    "        self.classifier_.fit(X, y_bin)\n",
    "\n",
    "        mask = y > 0\n",
    "        if np.any(mask):\n",
    "            y_reg = y[mask]\n",
    "            if self.use_log_transform:\n",
    "                y_reg = np.log1p(y_reg)\n",
    "            \n",
    "            self.regressor_ = clone(self.regressor)\n",
    "            self.regressor_.fit(X[mask], y_reg)\n",
    "\n",
    "        return self\n",
    "\n",
    "    def predict(self, X):\n",
    "        prob_nonzero = self.classifier_.predict_proba(X)[:, 1]\n",
    "        is_nonzero = prob_nonzero >= self.threshold\n",
    "\n",
    "        y_pred = np.zeros(len(X))\n",
    "        if np.any(is_nonzero):\n",
    "            y_pred_reg = self.regressor_.predict(X[is_nonzero])\n",
    "            \n",
    "            if self.use_log_transform:\n",
    "                y_pred_reg = np.expm1(y_pred_reg)\n",
    "            \n",
    "            y_pred[is_nonzero] = np.clip(y_pred_reg, 0, None)\n",
    "        \n",
    "        return y_pred"
   ]
  },
  {
   "cell_type": "code",
   "execution_count": 13,
   "id": "98ffd8c4",
   "metadata": {},
   "outputs": [],
   "source": [
    "# Разделение фичей и таргета\n",
    "X_train = df_train.drop(['item_losses'], axis=1)\n",
    "y_train = df_train['item_losses']"
   ]
  },
  {
   "cell_type": "code",
   "execution_count": 26,
   "id": "245e4e51",
   "metadata": {},
   "outputs": [],
   "source": [
    "# Формируем препроцессор для подготовки фичей\n",
    "categorial_fetures = [\n",
    "    'item_id', 'client_device_type', 'brand_name',\n",
    "    'delivery_service_name', 'client_browser', 'item_category',\n",
    "    'item_package_type', 'type_prepayment', 'item_type'\n",
    "    ]\n",
    "\n",
    "preprocessor = Pipeline([\n",
    "    ('date_features', DateFeatureExtractor(['order_date', 'stock_departure_date', 'delivery_service_departure_date', 'client_arrival_date'])),\n",
    "    ('geographic_features', GeographicFeatureExtractor(['departure_country', 'arrival_country', 'departure_region', 'arrival_region', 'departure_city', 'arrival_city'])),\n",
    "    ('order_features', OrderFeatureExtractor('order_id')),\n",
    "    ('keywords_features', KeywordsFeatureExtractor('client_keywords')),\n",
    "    ('bool_to_num', BoolToNumTransformer(['client_is_app'])),\n",
    "    ('categorical_encoder', TargetEncoder(cols=categorial_fetures))\n",
    "])"
   ]
  },
  {
   "cell_type": "code",
   "execution_count": 27,
   "id": "9f2cbd86",
   "metadata": {},
   "outputs": [
    {
     "name": "stdout",
     "output_type": "stream",
     "text": [
      "<class 'pandas.core.frame.DataFrame'>\n",
      "Index: 276201 entries, 0 to 276204\n",
      "Data columns (total 74 columns):\n",
      " #   Column                     Non-Null Count   Dtype  \n",
      "---  ------                     --------------   -----  \n",
      " 0   item_type                  276201 non-null  float64\n",
      " 1   client_device_type         276201 non-null  float64\n",
      " 2   client_browser             276201 non-null  float64\n",
      " 3   item_package_type          276201 non-null  float64\n",
      " 4   client_is_app              276201 non-null  int64  \n",
      " 5   order_tracking_available   276201 non-null  int64  \n",
      " 6   brand_name                 276201 non-null  float64\n",
      " 7   item_id                    276201 non-null  float64\n",
      " 8   item_category              276201 non-null  float64\n",
      " 9   delivery_service_name      276201 non-null  float64\n",
      " 10  type_prepayment            276201 non-null  float64\n",
      " 11  item_price                 276201 non-null  float64\n",
      " 12  delivery_1                 276201 non-null  float64\n",
      " 13  delivery_2                 276201 non-null  float64\n",
      " 14  delivery_3                 276201 non-null  float64\n",
      " 15  delivery_full              276201 non-null  float64\n",
      " 16  price_per_hour             276201 non-null  float64\n",
      " 17  delivery_speed             276201 non-null  float64\n",
      " 18  total_transport_time       276201 non-null  float64\n",
      " 19  prep_vs_transport          276201 non-null  float64\n",
      " 20  order_hour                 276201 non-null  int32  \n",
      " 21  order_day_of_week          276201 non-null  int32  \n",
      " 22  order_month                276201 non-null  int32  \n",
      " 23  order_day_of_month         276201 non-null  int32  \n",
      " 24  is_weekend                 276201 non-null  int64  \n",
      " 25  order_hour_sin             276201 non-null  float64\n",
      " 26  order_hour_cos             276201 non-null  float64\n",
      " 27  order_day_of_week_sin      276201 non-null  float64\n",
      " 28  order_day_of_week_cos      276201 non-null  float64\n",
      " 29  order_month_sin            276201 non-null  float64\n",
      " 30  order_month_cos            276201 non-null  float64\n",
      " 31  order_day_of_month_sin     276201 non-null  float64\n",
      " 32  order_day_of_month_cos     276201 non-null  float64\n",
      " 33  is_international_delivery  276201 non-null  int64  \n",
      " 34  is_interregional_delivery  276201 non-null  int64  \n",
      " 35  is_intercity_delivery      276201 non-null  int64  \n",
      " 36  missing_city_info          276201 non-null  int64  \n",
      " 37  items_per_order            276201 non-null  int64  \n",
      " 38  kw_emb_0                   276201 non-null  float64\n",
      " 39  kw_emb_1                   276201 non-null  float64\n",
      " 40  kw_emb_2                   276201 non-null  float64\n",
      " 41  kw_emb_3                   276201 non-null  float64\n",
      " 42  kw_emb_4                   276201 non-null  float64\n",
      " 43  kw_emb_5                   276201 non-null  float64\n",
      " 44  kw_emb_6                   276201 non-null  float64\n",
      " 45  kw_emb_7                   276201 non-null  float64\n",
      " 46  kw_emb_8                   276201 non-null  float64\n",
      " 47  kw_emb_9                   276201 non-null  float64\n",
      " 48  kw_emb_10                  276201 non-null  float64\n",
      " 49  kw_emb_11                  276201 non-null  float64\n",
      " 50  kw_emb_12                  276201 non-null  float64\n",
      " 51  kw_emb_13                  276201 non-null  float64\n",
      " 52  kw_emb_14                  276201 non-null  float64\n",
      " 53  kw_emb_15                  276201 non-null  float64\n",
      " 54  kw_emb_16                  276201 non-null  float64\n",
      " 55  kw_emb_17                  276201 non-null  float64\n",
      " 56  kw_emb_18                  276201 non-null  float64\n",
      " 57  kw_emb_19                  276201 non-null  float64\n",
      " 58  kw_emb_20                  276201 non-null  float64\n",
      " 59  kw_emb_21                  276201 non-null  float64\n",
      " 60  kw_emb_22                  276201 non-null  float64\n",
      " 61  kw_emb_23                  276201 non-null  float64\n",
      " 62  kw_emb_24                  276201 non-null  float64\n",
      " 63  kw_emb_25                  276201 non-null  float64\n",
      " 64  kw_emb_26                  276201 non-null  float64\n",
      " 65  kw_emb_27                  276201 non-null  float64\n",
      " 66  kw_emb_28                  276201 non-null  float64\n",
      " 67  kw_emb_29                  276201 non-null  float64\n",
      " 68  kw_emb_30                  276201 non-null  float64\n",
      " 69  kw_emb_31                  276201 non-null  float64\n",
      " 70  kw_emb_32                  276201 non-null  float64\n",
      " 71  kw_emb_33                  276201 non-null  float64\n",
      " 72  kw_emb_34                  276201 non-null  float64\n",
      " 73  kw_emb_35                  276201 non-null  float64\n",
      "dtypes: float64(62), int32(4), int64(8)\n",
      "memory usage: 153.8 MB\n"
     ]
    },
    {
     "data": {
      "text/html": [
       "<div>\n",
       "<style scoped>\n",
       "    .dataframe tbody tr th:only-of-type {\n",
       "        vertical-align: middle;\n",
       "    }\n",
       "\n",
       "    .dataframe tbody tr th {\n",
       "        vertical-align: top;\n",
       "    }\n",
       "\n",
       "    .dataframe thead th {\n",
       "        text-align: right;\n",
       "    }\n",
       "</style>\n",
       "<table border=\"1\" class=\"dataframe\">\n",
       "  <thead>\n",
       "    <tr style=\"text-align: right;\">\n",
       "      <th></th>\n",
       "      <th>item_type</th>\n",
       "      <th>client_device_type</th>\n",
       "      <th>client_browser</th>\n",
       "      <th>item_package_type</th>\n",
       "      <th>client_is_app</th>\n",
       "      <th>order_tracking_available</th>\n",
       "    </tr>\n",
       "  </thead>\n",
       "  <tbody>\n",
       "    <tr>\n",
       "      <th>0</th>\n",
       "      <td>24.6586</td>\n",
       "      <td>22.4445</td>\n",
       "      <td>24.7658</td>\n",
       "      <td>24.5270</td>\n",
       "      <td>1</td>\n",
       "      <td>0</td>\n",
       "    </tr>\n",
       "    <tr>\n",
       "      <th>1</th>\n",
       "      <td>24.6586</td>\n",
       "      <td>22.8798</td>\n",
       "      <td>22.5509</td>\n",
       "      <td>24.5270</td>\n",
       "      <td>1</td>\n",
       "      <td>0</td>\n",
       "    </tr>\n",
       "  </tbody>\n",
       "</table>\n",
       "</div>"
      ],
      "text/plain": [
       "   item_type  client_device_type  client_browser  item_package_type  \\\n",
       "0    24.6586             22.4445         24.7658            24.5270   \n",
       "1    24.6586             22.8798         22.5509            24.5270   \n",
       "\n",
       "   client_is_app  order_tracking_available  \n",
       "0              1                         0  \n",
       "1              1                         0  "
      ]
     },
     "metadata": {},
     "output_type": "display_data"
    },
    {
     "data": {
      "text/html": [
       "<div>\n",
       "<style scoped>\n",
       "    .dataframe tbody tr th:only-of-type {\n",
       "        vertical-align: middle;\n",
       "    }\n",
       "\n",
       "    .dataframe tbody tr th {\n",
       "        vertical-align: top;\n",
       "    }\n",
       "\n",
       "    .dataframe thead th {\n",
       "        text-align: right;\n",
       "    }\n",
       "</style>\n",
       "<table border=\"1\" class=\"dataframe\">\n",
       "  <thead>\n",
       "    <tr style=\"text-align: right;\">\n",
       "      <th></th>\n",
       "      <th>brand_name</th>\n",
       "      <th>item_id</th>\n",
       "      <th>item_category</th>\n",
       "      <th>delivery_service_name</th>\n",
       "      <th>type_prepayment</th>\n",
       "      <th>item_price</th>\n",
       "    </tr>\n",
       "  </thead>\n",
       "  <tbody>\n",
       "    <tr>\n",
       "      <th>0</th>\n",
       "      <td>22.8566</td>\n",
       "      <td>14.9792</td>\n",
       "      <td>27.3573</td>\n",
       "      <td>21.7231</td>\n",
       "      <td>20.6442</td>\n",
       "      <td>443.2282</td>\n",
       "    </tr>\n",
       "    <tr>\n",
       "      <th>1</th>\n",
       "      <td>33.9371</td>\n",
       "      <td>32.9482</td>\n",
       "      <td>27.3573</td>\n",
       "      <td>22.8637</td>\n",
       "      <td>23.7205</td>\n",
       "      <td>589.4820</td>\n",
       "    </tr>\n",
       "  </tbody>\n",
       "</table>\n",
       "</div>"
      ],
      "text/plain": [
       "   brand_name  item_id  item_category  delivery_service_name  type_prepayment  \\\n",
       "0     22.8566  14.9792        27.3573                21.7231          20.6442   \n",
       "1     33.9371  32.9482        27.3573                22.8637          23.7205   \n",
       "\n",
       "   item_price  \n",
       "0    443.2282  \n",
       "1    589.4820  "
      ]
     },
     "metadata": {},
     "output_type": "display_data"
    },
    {
     "data": {
      "text/html": [
       "<div>\n",
       "<style scoped>\n",
       "    .dataframe tbody tr th:only-of-type {\n",
       "        vertical-align: middle;\n",
       "    }\n",
       "\n",
       "    .dataframe tbody tr th {\n",
       "        vertical-align: top;\n",
       "    }\n",
       "\n",
       "    .dataframe thead th {\n",
       "        text-align: right;\n",
       "    }\n",
       "</style>\n",
       "<table border=\"1\" class=\"dataframe\">\n",
       "  <thead>\n",
       "    <tr style=\"text-align: right;\">\n",
       "      <th></th>\n",
       "      <th>delivery_1</th>\n",
       "      <th>delivery_2</th>\n",
       "      <th>delivery_3</th>\n",
       "      <th>delivery_full</th>\n",
       "      <th>price_per_hour</th>\n",
       "      <th>delivery_speed</th>\n",
       "    </tr>\n",
       "  </thead>\n",
       "  <tbody>\n",
       "    <tr>\n",
       "      <th>0</th>\n",
       "      <td>134.9681</td>\n",
       "      <td>35.2667</td>\n",
       "      <td>6.0833</td>\n",
       "      <td>176.3181</td>\n",
       "      <td>2.4996</td>\n",
       "      <td>3.1870</td>\n",
       "    </tr>\n",
       "    <tr>\n",
       "      <th>1</th>\n",
       "      <td>377.5453</td>\n",
       "      <td>6.7167</td>\n",
       "      <td>10.6167</td>\n",
       "      <td>394.8786</td>\n",
       "      <td>1.4890</td>\n",
       "      <td>20.5934</td>\n",
       "    </tr>\n",
       "  </tbody>\n",
       "</table>\n",
       "</div>"
      ],
      "text/plain": [
       "   delivery_1  delivery_2  delivery_3  delivery_full  price_per_hour  \\\n",
       "0    134.9681     35.2667      6.0833       176.3181          2.4996   \n",
       "1    377.5453      6.7167     10.6167       394.8786          1.4890   \n",
       "\n",
       "   delivery_speed  \n",
       "0          3.1870  \n",
       "1         20.5934  "
      ]
     },
     "metadata": {},
     "output_type": "display_data"
    },
    {
     "data": {
      "text/html": [
       "<div>\n",
       "<style scoped>\n",
       "    .dataframe tbody tr th:only-of-type {\n",
       "        vertical-align: middle;\n",
       "    }\n",
       "\n",
       "    .dataframe tbody tr th {\n",
       "        vertical-align: top;\n",
       "    }\n",
       "\n",
       "    .dataframe thead th {\n",
       "        text-align: right;\n",
       "    }\n",
       "</style>\n",
       "<table border=\"1\" class=\"dataframe\">\n",
       "  <thead>\n",
       "    <tr style=\"text-align: right;\">\n",
       "      <th></th>\n",
       "      <th>total_transport_time</th>\n",
       "      <th>prep_vs_transport</th>\n",
       "      <th>order_hour</th>\n",
       "      <th>order_day_of_week</th>\n",
       "      <th>order_month</th>\n",
       "      <th>order_day_of_month</th>\n",
       "    </tr>\n",
       "  </thead>\n",
       "  <tbody>\n",
       "    <tr>\n",
       "      <th>0</th>\n",
       "      <td>41.3500</td>\n",
       "      <td>3.1870</td>\n",
       "      <td>9</td>\n",
       "      <td>2</td>\n",
       "      <td>12</td>\n",
       "      <td>27</td>\n",
       "    </tr>\n",
       "    <tr>\n",
       "      <th>1</th>\n",
       "      <td>17.3333</td>\n",
       "      <td>20.5934</td>\n",
       "      <td>21</td>\n",
       "      <td>0</td>\n",
       "      <td>10</td>\n",
       "      <td>17</td>\n",
       "    </tr>\n",
       "  </tbody>\n",
       "</table>\n",
       "</div>"
      ],
      "text/plain": [
       "   total_transport_time  prep_vs_transport  order_hour  order_day_of_week  \\\n",
       "0               41.3500             3.1870           9                  2   \n",
       "1               17.3333            20.5934          21                  0   \n",
       "\n",
       "   order_month  order_day_of_month  \n",
       "0           12                  27  \n",
       "1           10                  17  "
      ]
     },
     "metadata": {},
     "output_type": "display_data"
    },
    {
     "data": {
      "text/html": [
       "<div>\n",
       "<style scoped>\n",
       "    .dataframe tbody tr th:only-of-type {\n",
       "        vertical-align: middle;\n",
       "    }\n",
       "\n",
       "    .dataframe tbody tr th {\n",
       "        vertical-align: top;\n",
       "    }\n",
       "\n",
       "    .dataframe thead th {\n",
       "        text-align: right;\n",
       "    }\n",
       "</style>\n",
       "<table border=\"1\" class=\"dataframe\">\n",
       "  <thead>\n",
       "    <tr style=\"text-align: right;\">\n",
       "      <th></th>\n",
       "      <th>is_weekend</th>\n",
       "      <th>order_hour_sin</th>\n",
       "      <th>order_hour_cos</th>\n",
       "      <th>order_day_of_week_sin</th>\n",
       "      <th>order_day_of_week_cos</th>\n",
       "      <th>order_month_sin</th>\n",
       "    </tr>\n",
       "  </thead>\n",
       "  <tbody>\n",
       "    <tr>\n",
       "      <th>0</th>\n",
       "      <td>0</td>\n",
       "      <td>0.7071</td>\n",
       "      <td>-0.7071</td>\n",
       "      <td>0.9749</td>\n",
       "      <td>-0.2225</td>\n",
       "      <td>-0.0000</td>\n",
       "    </tr>\n",
       "    <tr>\n",
       "      <th>1</th>\n",
       "      <td>0</td>\n",
       "      <td>-0.7071</td>\n",
       "      <td>0.7071</td>\n",
       "      <td>0.0000</td>\n",
       "      <td>1.0000</td>\n",
       "      <td>-0.8660</td>\n",
       "    </tr>\n",
       "  </tbody>\n",
       "</table>\n",
       "</div>"
      ],
      "text/plain": [
       "   is_weekend  order_hour_sin  order_hour_cos  order_day_of_week_sin  \\\n",
       "0           0          0.7071         -0.7071                 0.9749   \n",
       "1           0         -0.7071          0.7071                 0.0000   \n",
       "\n",
       "   order_day_of_week_cos  order_month_sin  \n",
       "0                -0.2225          -0.0000  \n",
       "1                 1.0000          -0.8660  "
      ]
     },
     "metadata": {},
     "output_type": "display_data"
    },
    {
     "data": {
      "text/html": [
       "<div>\n",
       "<style scoped>\n",
       "    .dataframe tbody tr th:only-of-type {\n",
       "        vertical-align: middle;\n",
       "    }\n",
       "\n",
       "    .dataframe tbody tr th {\n",
       "        vertical-align: top;\n",
       "    }\n",
       "\n",
       "    .dataframe thead th {\n",
       "        text-align: right;\n",
       "    }\n",
       "</style>\n",
       "<table border=\"1\" class=\"dataframe\">\n",
       "  <thead>\n",
       "    <tr style=\"text-align: right;\">\n",
       "      <th></th>\n",
       "      <th>order_month_cos</th>\n",
       "      <th>order_day_of_month_sin</th>\n",
       "      <th>order_day_of_month_cos</th>\n",
       "      <th>is_international_delivery</th>\n",
       "      <th>is_interregional_delivery</th>\n",
       "      <th>is_intercity_delivery</th>\n",
       "    </tr>\n",
       "  </thead>\n",
       "  <tbody>\n",
       "    <tr>\n",
       "      <th>0</th>\n",
       "      <td>1.0000</td>\n",
       "      <td>-0.7248</td>\n",
       "      <td>0.6890</td>\n",
       "      <td>1</td>\n",
       "      <td>1</td>\n",
       "      <td>1</td>\n",
       "    </tr>\n",
       "    <tr>\n",
       "      <th>1</th>\n",
       "      <td>0.5000</td>\n",
       "      <td>-0.2994</td>\n",
       "      <td>-0.9541</td>\n",
       "      <td>1</td>\n",
       "      <td>1</td>\n",
       "      <td>1</td>\n",
       "    </tr>\n",
       "  </tbody>\n",
       "</table>\n",
       "</div>"
      ],
      "text/plain": [
       "   order_month_cos  order_day_of_month_sin  order_day_of_month_cos  \\\n",
       "0           1.0000                 -0.7248                  0.6890   \n",
       "1           0.5000                 -0.2994                 -0.9541   \n",
       "\n",
       "   is_international_delivery  is_interregional_delivery  is_intercity_delivery  \n",
       "0                          1                          1                      1  \n",
       "1                          1                          1                      1  "
      ]
     },
     "metadata": {},
     "output_type": "display_data"
    },
    {
     "data": {
      "text/html": [
       "<div>\n",
       "<style scoped>\n",
       "    .dataframe tbody tr th:only-of-type {\n",
       "        vertical-align: middle;\n",
       "    }\n",
       "\n",
       "    .dataframe tbody tr th {\n",
       "        vertical-align: top;\n",
       "    }\n",
       "\n",
       "    .dataframe thead th {\n",
       "        text-align: right;\n",
       "    }\n",
       "</style>\n",
       "<table border=\"1\" class=\"dataframe\">\n",
       "  <thead>\n",
       "    <tr style=\"text-align: right;\">\n",
       "      <th></th>\n",
       "      <th>missing_city_info</th>\n",
       "      <th>items_per_order</th>\n",
       "      <th>kw_emb_0</th>\n",
       "      <th>kw_emb_1</th>\n",
       "      <th>kw_emb_2</th>\n",
       "      <th>kw_emb_3</th>\n",
       "    </tr>\n",
       "  </thead>\n",
       "  <tbody>\n",
       "    <tr>\n",
       "      <th>0</th>\n",
       "      <td>0</td>\n",
       "      <td>6</td>\n",
       "      <td>0.0021</td>\n",
       "      <td>-0.0084</td>\n",
       "      <td>-0.0023</td>\n",
       "      <td>0.0036</td>\n",
       "    </tr>\n",
       "    <tr>\n",
       "      <th>1</th>\n",
       "      <td>0</td>\n",
       "      <td>2</td>\n",
       "      <td>-0.0000</td>\n",
       "      <td>-0.0000</td>\n",
       "      <td>0.0000</td>\n",
       "      <td>-0.0000</td>\n",
       "    </tr>\n",
       "  </tbody>\n",
       "</table>\n",
       "</div>"
      ],
      "text/plain": [
       "   missing_city_info  items_per_order  kw_emb_0  kw_emb_1  kw_emb_2  kw_emb_3\n",
       "0                  0                6    0.0021   -0.0084   -0.0023    0.0036\n",
       "1                  0                2   -0.0000   -0.0000    0.0000   -0.0000"
      ]
     },
     "metadata": {},
     "output_type": "display_data"
    },
    {
     "data": {
      "text/html": [
       "<div>\n",
       "<style scoped>\n",
       "    .dataframe tbody tr th:only-of-type {\n",
       "        vertical-align: middle;\n",
       "    }\n",
       "\n",
       "    .dataframe tbody tr th {\n",
       "        vertical-align: top;\n",
       "    }\n",
       "\n",
       "    .dataframe thead th {\n",
       "        text-align: right;\n",
       "    }\n",
       "</style>\n",
       "<table border=\"1\" class=\"dataframe\">\n",
       "  <thead>\n",
       "    <tr style=\"text-align: right;\">\n",
       "      <th></th>\n",
       "      <th>kw_emb_4</th>\n",
       "      <th>kw_emb_5</th>\n",
       "      <th>kw_emb_6</th>\n",
       "      <th>kw_emb_7</th>\n",
       "      <th>kw_emb_8</th>\n",
       "      <th>kw_emb_9</th>\n",
       "    </tr>\n",
       "  </thead>\n",
       "  <tbody>\n",
       "    <tr>\n",
       "      <th>0</th>\n",
       "      <td>-0.0038</td>\n",
       "      <td>-0.0075</td>\n",
       "      <td>0.0391</td>\n",
       "      <td>0.0092</td>\n",
       "      <td>-0.0193</td>\n",
       "      <td>-0.0117</td>\n",
       "    </tr>\n",
       "    <tr>\n",
       "      <th>1</th>\n",
       "      <td>0.0000</td>\n",
       "      <td>-0.0000</td>\n",
       "      <td>0.0000</td>\n",
       "      <td>0.0000</td>\n",
       "      <td>-0.0000</td>\n",
       "      <td>0.0000</td>\n",
       "    </tr>\n",
       "  </tbody>\n",
       "</table>\n",
       "</div>"
      ],
      "text/plain": [
       "   kw_emb_4  kw_emb_5  kw_emb_6  kw_emb_7  kw_emb_8  kw_emb_9\n",
       "0   -0.0038   -0.0075    0.0391    0.0092   -0.0193   -0.0117\n",
       "1    0.0000   -0.0000    0.0000    0.0000   -0.0000    0.0000"
      ]
     },
     "metadata": {},
     "output_type": "display_data"
    },
    {
     "data": {
      "text/html": [
       "<div>\n",
       "<style scoped>\n",
       "    .dataframe tbody tr th:only-of-type {\n",
       "        vertical-align: middle;\n",
       "    }\n",
       "\n",
       "    .dataframe tbody tr th {\n",
       "        vertical-align: top;\n",
       "    }\n",
       "\n",
       "    .dataframe thead th {\n",
       "        text-align: right;\n",
       "    }\n",
       "</style>\n",
       "<table border=\"1\" class=\"dataframe\">\n",
       "  <thead>\n",
       "    <tr style=\"text-align: right;\">\n",
       "      <th></th>\n",
       "      <th>kw_emb_10</th>\n",
       "      <th>kw_emb_11</th>\n",
       "      <th>kw_emb_12</th>\n",
       "      <th>kw_emb_13</th>\n",
       "      <th>kw_emb_14</th>\n",
       "      <th>kw_emb_15</th>\n",
       "    </tr>\n",
       "  </thead>\n",
       "  <tbody>\n",
       "    <tr>\n",
       "      <th>0</th>\n",
       "      <td>-0.0420</td>\n",
       "      <td>-0.0135</td>\n",
       "      <td>-0.0163</td>\n",
       "      <td>-0.0000</td>\n",
       "      <td>-0.0092</td>\n",
       "      <td>0.0056</td>\n",
       "    </tr>\n",
       "    <tr>\n",
       "      <th>1</th>\n",
       "      <td>0.0000</td>\n",
       "      <td>0.0000</td>\n",
       "      <td>-0.0000</td>\n",
       "      <td>1.0000</td>\n",
       "      <td>-0.0000</td>\n",
       "      <td>-0.0000</td>\n",
       "    </tr>\n",
       "  </tbody>\n",
       "</table>\n",
       "</div>"
      ],
      "text/plain": [
       "   kw_emb_10  kw_emb_11  kw_emb_12  kw_emb_13  kw_emb_14  kw_emb_15\n",
       "0    -0.0420    -0.0135    -0.0163    -0.0000    -0.0092     0.0056\n",
       "1     0.0000     0.0000    -0.0000     1.0000    -0.0000    -0.0000"
      ]
     },
     "metadata": {},
     "output_type": "display_data"
    },
    {
     "data": {
      "text/html": [
       "<div>\n",
       "<style scoped>\n",
       "    .dataframe tbody tr th:only-of-type {\n",
       "        vertical-align: middle;\n",
       "    }\n",
       "\n",
       "    .dataframe tbody tr th {\n",
       "        vertical-align: top;\n",
       "    }\n",
       "\n",
       "    .dataframe thead th {\n",
       "        text-align: right;\n",
       "    }\n",
       "</style>\n",
       "<table border=\"1\" class=\"dataframe\">\n",
       "  <thead>\n",
       "    <tr style=\"text-align: right;\">\n",
       "      <th></th>\n",
       "      <th>kw_emb_16</th>\n",
       "      <th>kw_emb_17</th>\n",
       "      <th>kw_emb_18</th>\n",
       "      <th>kw_emb_19</th>\n",
       "      <th>kw_emb_20</th>\n",
       "      <th>kw_emb_21</th>\n",
       "    </tr>\n",
       "  </thead>\n",
       "  <tbody>\n",
       "    <tr>\n",
       "      <th>0</th>\n",
       "      <td>0.0321</td>\n",
       "      <td>0.1259</td>\n",
       "      <td>0.0251</td>\n",
       "      <td>-0.0000</td>\n",
       "      <td>-0.0005</td>\n",
       "      <td>0.0417</td>\n",
       "    </tr>\n",
       "    <tr>\n",
       "      <th>1</th>\n",
       "      <td>0.0000</td>\n",
       "      <td>-0.0000</td>\n",
       "      <td>0.0000</td>\n",
       "      <td>0.0000</td>\n",
       "      <td>0.0000</td>\n",
       "      <td>0.0000</td>\n",
       "    </tr>\n",
       "  </tbody>\n",
       "</table>\n",
       "</div>"
      ],
      "text/plain": [
       "   kw_emb_16  kw_emb_17  kw_emb_18  kw_emb_19  kw_emb_20  kw_emb_21\n",
       "0     0.0321     0.1259     0.0251    -0.0000    -0.0005     0.0417\n",
       "1     0.0000    -0.0000     0.0000     0.0000     0.0000     0.0000"
      ]
     },
     "metadata": {},
     "output_type": "display_data"
    },
    {
     "data": {
      "text/html": [
       "<div>\n",
       "<style scoped>\n",
       "    .dataframe tbody tr th:only-of-type {\n",
       "        vertical-align: middle;\n",
       "    }\n",
       "\n",
       "    .dataframe tbody tr th {\n",
       "        vertical-align: top;\n",
       "    }\n",
       "\n",
       "    .dataframe thead th {\n",
       "        text-align: right;\n",
       "    }\n",
       "</style>\n",
       "<table border=\"1\" class=\"dataframe\">\n",
       "  <thead>\n",
       "    <tr style=\"text-align: right;\">\n",
       "      <th></th>\n",
       "      <th>kw_emb_22</th>\n",
       "      <th>kw_emb_23</th>\n",
       "      <th>kw_emb_24</th>\n",
       "      <th>kw_emb_25</th>\n",
       "      <th>kw_emb_26</th>\n",
       "      <th>kw_emb_27</th>\n",
       "    </tr>\n",
       "  </thead>\n",
       "  <tbody>\n",
       "    <tr>\n",
       "      <th>0</th>\n",
       "      <td>0.0658</td>\n",
       "      <td>-0.1515</td>\n",
       "      <td>0.1104</td>\n",
       "      <td>-0.0545</td>\n",
       "      <td>0.7067</td>\n",
       "      <td>0.0448</td>\n",
       "    </tr>\n",
       "    <tr>\n",
       "      <th>1</th>\n",
       "      <td>-0.0000</td>\n",
       "      <td>0.0000</td>\n",
       "      <td>0.0000</td>\n",
       "      <td>0.0000</td>\n",
       "      <td>0.0000</td>\n",
       "      <td>-0.0000</td>\n",
       "    </tr>\n",
       "  </tbody>\n",
       "</table>\n",
       "</div>"
      ],
      "text/plain": [
       "   kw_emb_22  kw_emb_23  kw_emb_24  kw_emb_25  kw_emb_26  kw_emb_27\n",
       "0     0.0658    -0.1515     0.1104    -0.0545     0.7067     0.0448\n",
       "1    -0.0000     0.0000     0.0000     0.0000     0.0000    -0.0000"
      ]
     },
     "metadata": {},
     "output_type": "display_data"
    },
    {
     "data": {
      "text/html": [
       "<div>\n",
       "<style scoped>\n",
       "    .dataframe tbody tr th:only-of-type {\n",
       "        vertical-align: middle;\n",
       "    }\n",
       "\n",
       "    .dataframe tbody tr th {\n",
       "        vertical-align: top;\n",
       "    }\n",
       "\n",
       "    .dataframe thead th {\n",
       "        text-align: right;\n",
       "    }\n",
       "</style>\n",
       "<table border=\"1\" class=\"dataframe\">\n",
       "  <thead>\n",
       "    <tr style=\"text-align: right;\">\n",
       "      <th></th>\n",
       "      <th>kw_emb_28</th>\n",
       "      <th>kw_emb_29</th>\n",
       "      <th>kw_emb_30</th>\n",
       "      <th>kw_emb_31</th>\n",
       "      <th>kw_emb_32</th>\n",
       "      <th>kw_emb_33</th>\n",
       "    </tr>\n",
       "  </thead>\n",
       "  <tbody>\n",
       "    <tr>\n",
       "      <th>0</th>\n",
       "      <td>0.0067</td>\n",
       "      <td>-0.0361</td>\n",
       "      <td>0.0860</td>\n",
       "      <td>-0.0006</td>\n",
       "      <td>0.0657</td>\n",
       "      <td>-0.0191</td>\n",
       "    </tr>\n",
       "    <tr>\n",
       "      <th>1</th>\n",
       "      <td>-0.0000</td>\n",
       "      <td>-0.0000</td>\n",
       "      <td>0.0000</td>\n",
       "      <td>-0.0000</td>\n",
       "      <td>0.0000</td>\n",
       "      <td>-0.0000</td>\n",
       "    </tr>\n",
       "  </tbody>\n",
       "</table>\n",
       "</div>"
      ],
      "text/plain": [
       "   kw_emb_28  kw_emb_29  kw_emb_30  kw_emb_31  kw_emb_32  kw_emb_33\n",
       "0     0.0067    -0.0361     0.0860    -0.0006     0.0657    -0.0191\n",
       "1    -0.0000    -0.0000     0.0000    -0.0000     0.0000    -0.0000"
      ]
     },
     "metadata": {},
     "output_type": "display_data"
    },
    {
     "data": {
      "text/html": [
       "<div>\n",
       "<style scoped>\n",
       "    .dataframe tbody tr th:only-of-type {\n",
       "        vertical-align: middle;\n",
       "    }\n",
       "\n",
       "    .dataframe tbody tr th {\n",
       "        vertical-align: top;\n",
       "    }\n",
       "\n",
       "    .dataframe thead th {\n",
       "        text-align: right;\n",
       "    }\n",
       "</style>\n",
       "<table border=\"1\" class=\"dataframe\">\n",
       "  <thead>\n",
       "    <tr style=\"text-align: right;\">\n",
       "      <th></th>\n",
       "      <th>kw_emb_34</th>\n",
       "      <th>kw_emb_35</th>\n",
       "    </tr>\n",
       "  </thead>\n",
       "  <tbody>\n",
       "    <tr>\n",
       "      <th>0</th>\n",
       "      <td>-0.0244</td>\n",
       "      <td>0.0457</td>\n",
       "    </tr>\n",
       "    <tr>\n",
       "      <th>1</th>\n",
       "      <td>0.0000</td>\n",
       "      <td>0.0000</td>\n",
       "    </tr>\n",
       "  </tbody>\n",
       "</table>\n",
       "</div>"
      ],
      "text/plain": [
       "   kw_emb_34  kw_emb_35\n",
       "0    -0.0244     0.0457\n",
       "1     0.0000     0.0000"
      ]
     },
     "metadata": {},
     "output_type": "display_data"
    }
   ],
   "source": [
    "# протестируем работу препроцессора\n",
    "test_pipeline = Pipeline([('preprocessor', preprocessor)])\n",
    "test_X = test_pipeline.fit_transform(X_train, y_train)\n",
    "\n",
    "test_X.info()\n",
    "display_cols(test_X, 6, 2)"
   ]
  },
  {
   "cell_type": "markdown",
   "id": "2472ba0f",
   "metadata": {},
   "source": [
    "Проблем в работе препроцессора не обнаружено, приступаем к обучению модели"
   ]
  },
  {
   "cell_type": "code",
   "execution_count": 16,
   "id": "f1352164",
   "metadata": {},
   "outputs": [],
   "source": [
    "# подсчет нулевых и ненулевых строк для балансировки классов\n",
    "y_bin = (y_train > 0).astype(int)\n",
    "n_zeros = (y_bin == 0).sum()\n",
    "n_nonzeros = (y_bin == 1).sum()"
   ]
  },
  {
   "cell_type": "code",
   "execution_count": 17,
   "id": "32d920c0",
   "metadata": {},
   "outputs": [],
   "source": [
    "# создаём объект для кросс валидации\n",
    "cv = KFold(n_splits=3, random_state=SEED, shuffle=True)"
   ]
  },
  {
   "cell_type": "code",
   "execution_count": null,
   "id": "bf2c89e4",
   "metadata": {},
   "outputs": [],
   "source": [
    "# Инструменты для оценки и сравнения качества найденных параметров\n",
    "results = pd.DataFrame(columns=['Model', 'RMSE'])\n",
    "best_params = {}\n",
    "\n",
    "def analyze_optuna_results(optuna_obj, full_model_name, n, results, best_params, show_plots=True, show_top_trials=5):\n",
    "    \"\"\"\n",
    "    Полный анализ результатов Optuna с графиками и сохранением в таблицы\n",
    "    \n",
    "    Parameters:\n",
    "    -----------\n",
    "    optuna_obj : OptunaSearchCV Объект с результатами оптимизации\n",
    "    full_model_name : str Название модели для отображения\n",
    "    n : int Индекс для сохранения в таблицу results\n",
    "    results : pd.DataFrame Таблица для сохранения результатов\n",
    "    best_params : dict Словарь для сохранения лучших параметров\n",
    "    show_plots : bool Показывать ли графики\n",
    "    show_top_trials : int Количество лучших trials для отображения\n",
    "    \"\"\"\n",
    "    \n",
    "    mean_test_rmse = optuna_obj.cv_results_['mean_test_score']\n",
    "    std_test_rmse = optuna_obj.cv_results_['std_test_score']\n",
    "    best_rmse = -mean_test_rmse[optuna_obj.best_index_]\n",
    "    best_std = std_test_rmse[optuna_obj.best_index_]\n",
    "    best_params_dict = optuna_obj.best_params_\n",
    "    study = optuna_obj.study_ if hasattr(optuna_obj, 'study_') else None\n",
    "\n",
    "\n",
    "    print(\"=\" * 80)\n",
    "    print(f\"🎯 {full_model_name}\")\n",
    "    print(\"=\" * 80)\n",
    "    print(f\"✅ Лучшие параметры: {best_params_dict}\")\n",
    "    print(\"-\" * 80)\n",
    "    print(f\"📊 Наилучший RMSE на кросс-валидации: {best_rmse:.4f}\")\n",
    "    \n",
    "    if best_std is not None:\n",
    "        print(f\"📈 Стандартное отклонение: ±{best_std:.4f}\")\n",
    "        print(f\"🎯 95% доверительный интервал: [{best_rmse - 1.96*best_std:.4f}, {best_rmse + 1.96*best_std:.4f}]\")\n",
    "    \n",
    "    if study is not None:\n",
    "        completed_trials = [t for t in study.trials if t.state == optuna.trial.TrialState.COMPLETE]\n",
    "        failed_trials = [t for t in study.trials if t.state == optuna.trial.TrialState.FAIL]\n",
    "        pruned_trials = [t for t in study.trials if t.state == optuna.trial.TrialState.PRUNED]\n",
    "        \n",
    "        print(f\"🔄 Общее количество trials: {len(study.trials)}\")\n",
    "        print(f\"✅ Успешных: {len(completed_trials)}\")\n",
    "        print(f\"❌ Неудачных: {len(failed_trials)}\")\n",
    "        print(f\"✂️  Обрезанных (pruned): {len(pruned_trials)}\")\n",
    "        \n",
    "        if len(completed_trials) > 0:\n",
    "            trial_values = [-t.value for t in completed_trials]\n",
    "            print(f\"📊 Среднее RMSE: {np.mean(trial_values):.4f}\")\n",
    "            print(f\"📊 Медианное RMSE: {np.median(trial_values):.4f}\")\n",
    "            print(f\"📊 Стандартное отклонение RMSE: {np.std(trial_values):.4f}\")\n",
    "        \n",
    "        if len(completed_trials) >= show_top_trials:\n",
    "            print(f\"\\n🏆 Топ-{show_top_trials} результатов:\")\n",
    "            top_trials = sorted(completed_trials, key=lambda t: t.value, reverse=True)[:show_top_trials]\n",
    "            for i, trial in enumerate(top_trials):\n",
    "                print(f\"   {i+1}. RMSE: {-trial.value:.4f} (trial #{trial.number})\")\n",
    "    \n",
    "    print(\"=\" * 80)\n",
    "    \n",
    "    if show_plots and study is not None:\n",
    "        try:\n",
    "            pio.templates.default = \"plotly_white\"\n",
    "            \n",
    "            completed_trials = [t for t in study.trials if t.state == optuna.trial.TrialState.COMPLETE]\n",
    "            \n",
    "            if len(completed_trials) > 0:\n",
    "                print(\"📈 Строим графики...\")\n",
    "                \n",
    "                trial_numbers = [t.number for t in completed_trials]\n",
    "                trial_values = [-t.value for t in completed_trials]\n",
    "                \n",
    "                best_so_far = []\n",
    "                current_best = float('inf')\n",
    "                for val in trial_values:\n",
    "                    if val < current_best:\n",
    "                        current_best = val\n",
    "                    best_so_far.append(current_best)\n",
    "                \n",
    "                fig = make_subplots(\n",
    "                    rows=2, cols=2,\n",
    "                    subplot_titles=(\n",
    "                        'История оптимизации', \n",
    "                        'Распределение RMSE',\n",
    "                        'Важность параметров',\n",
    "                        'Прогресс лучших результатов'\n",
    "                    ),\n",
    "                    specs=[[{\"secondary_y\": False}, {\"secondary_y\": False}],\n",
    "                           [{\"secondary_y\": False}, {\"secondary_y\": False}]]\n",
    "                )\n",
    "                \n",
    "                fig.add_trace(\n",
    "                    go.Scatter(\n",
    "                        x=trial_numbers, y=trial_values,\n",
    "                        mode='markers',\n",
    "                        name='Trial RMSE',\n",
    "                        opacity=0.6,\n",
    "                        marker=dict(\n",
    "                            color=trial_values,\n",
    "                            colorscale='RdYlBu_r',\n",
    "                            showscale=True,\n",
    "                            colorbar=dict(title=\"RMSE\", x=0.45)\n",
    "                        )\n",
    "                    ),\n",
    "                    row=1, col=1\n",
    "                )\n",
    "                \n",
    "                fig.add_trace(\n",
    "                    go.Scatter(\n",
    "                        x=trial_numbers, y=best_so_far,\n",
    "                        mode='lines',\n",
    "                        name='Лучший RMSE',\n",
    "                        line=dict(color='red', width=3)\n",
    "                    ),\n",
    "                    row=1, col=1\n",
    "                )\n",
    "                \n",
    "                fig.add_trace(\n",
    "                    go.Histogram(\n",
    "                        x=trial_values,\n",
    "                        nbinsx=20,\n",
    "                        name='Распределение RMSE',\n",
    "                        opacity=0.7,\n",
    "                        marker_color='lightblue'\n",
    "                    ),\n",
    "                    row=1, col=2\n",
    "                )\n",
    "                \n",
    "                try:\n",
    "                    param_importance = optuna.importance.get_param_importances(study)\n",
    "                    if param_importance:\n",
    "                        param_names = list(param_importance.keys())\n",
    "                        param_values = list(param_importance.values())\n",
    "                        \n",
    "                        short_names = [name.replace('model__', '').replace('regressor__', 'reg_').replace('classifier__', 'cls_') \n",
    "                                     for name in param_names]\n",
    "                        \n",
    "                        fig.add_trace(\n",
    "                            go.Bar(\n",
    "                                x=param_values,\n",
    "                                y=short_names,\n",
    "                                orientation='h',\n",
    "                                name='Важность',\n",
    "                                marker_color='lightgreen'\n",
    "                            ),\n",
    "                            row=2, col=1\n",
    "                        )\n",
    "                except:\n",
    "                    print(\"⚠️ Не удалось построить график важности параметров\")\n",
    "                \n",
    "                if len(trial_values) > 5:\n",
    "                    window_size = min(10, len(trial_values) // 5)\n",
    "                    rolling_mean = pd.Series(trial_values).rolling(window=window_size).mean()\n",
    "                    \n",
    "                    fig.add_trace(\n",
    "                        go.Scatter(\n",
    "                            x=trial_numbers,\n",
    "                            y=rolling_mean,\n",
    "                            mode='lines',\n",
    "                            name=f'Скользящее среднее ({window_size})',\n",
    "                            line=dict(color='orange', width=2)\n",
    "                        ),\n",
    "                        row=2, col=2\n",
    "                    )\n",
    "                \n",
    "                fig.update_layout(\n",
    "                    title=f\"Анализ оптимизации: {full_model_name}\",\n",
    "                    height=800,\n",
    "                    showlegend=True,\n",
    "                    title_font_size=16\n",
    "                )\n",
    "                \n",
    "                fig.update_xaxes(title_text=\"Номер Trial\", row=1, col=1)\n",
    "                fig.update_yaxes(title_text=\"RMSE\", row=1, col=1)\n",
    "                fig.update_xaxes(title_text=\"RMSE\", row=1, col=2)\n",
    "                fig.update_yaxes(title_text=\"Частота\", row=1, col=2)\n",
    "                fig.update_xaxes(title_text=\"Важность\", row=2, col=1)\n",
    "                fig.update_yaxes(title_text=\"Параметры\", row=2, col=1)\n",
    "                fig.update_xaxes(title_text=\"Номер Trial\", row=2, col=2)\n",
    "                fig.update_yaxes(title_text=\"RMSE (скользящее среднее)\", row=2, col=2)\n",
    "                fig.show()\n",
    "                \n",
    "\n",
    "                if len(param_importance) > 2:\n",
    "                    try:\n",
    "                        print(\"📊 График параллельных координат...\")\n",
    "                        parallel_fig = optuna.visualization.plot_parallel_coordinate(\n",
    "                            study, \n",
    "                            params=list(param_importance.keys())[:8]\n",
    "                        )\n",
    "                        parallel_fig.update_layout(title=f\"Параллельные координаты: {full_model_name}\")\n",
    "                        parallel_fig.show()\n",
    "                    except:\n",
    "                        print(\"⚠️ Не удалось построить график параллельных координат\")\n",
    "                \n",
    "        except ImportError:\n",
    "            print(\"⚠️ Для красивых графиков установите: pip install plotly\")\n",
    "            print(\"   Или используйте show_plots=False\")\n",
    "            \n",
    "            try:\n",
    "                completed_trials = [t for t in study.trials if t.state == optuna.trial.TrialState.COMPLETE]\n",
    "                trial_values = [-t.value for t in completed_trials]\n",
    "                \n",
    "                plt.figure(figsize=(12, 4))\n",
    "                \n",
    "                plt.subplot(1, 2, 1)\n",
    "                plt.plot(trial_values, 'b-o', alpha=0.6, markersize=3)\n",
    "                plt.title('История оптимизации')\n",
    "                plt.xlabel('Trial')\n",
    "                plt.ylabel('RMSE')\n",
    "                plt.grid(True, alpha=0.3)\n",
    "                \n",
    "                plt.subplot(1, 2, 2)\n",
    "                plt.hist(trial_values, bins=20, alpha=0.7, color='lightblue')\n",
    "                plt.title('Распределение RMSE')\n",
    "                plt.xlabel('RMSE')\n",
    "                plt.ylabel('Частота')\n",
    "                plt.grid(True, alpha=0.3)\n",
    "                \n",
    "                plt.tight_layout()\n",
    "                plt.show()\n",
    "                \n",
    "            except ImportError:\n",
    "                print(\"⚠️ Matplotlib также недоступен. Графики пропущены.\")\n",
    "    \n",
    "    print(\"💾 Сохраняем результаты...\")\n",
    "    results.loc[n] = [full_model_name, best_rmse]\n",
    "    best_params[full_model_name] = best_params_dict\n",
    "    print(f\"✅ Результаты сохранены: {full_model_name} -> RMSE: {best_rmse:.4f}\")\n",
    "    print(\"=\" * 80)\n",
    "    print()"
   ]
  },
  {
   "cell_type": "markdown",
   "id": "88838737",
   "metadata": {},
   "source": [
    "# Обучение моделей"
   ]
  },
  {
   "cell_type": "markdown",
   "id": "2c1c0c5f",
   "metadata": {},
   "source": [
    "## LinearRegression model"
   ]
  },
  {
   "cell_type": "code",
   "execution_count": 19,
   "id": "a83c9fb2",
   "metadata": {},
   "outputs": [
    {
     "data": {
      "text/html": [
       "<style>#sk-container-id-1 {\n",
       "  /* Definition of color scheme common for light and dark mode */\n",
       "  --sklearn-color-text: #000;\n",
       "  --sklearn-color-text-muted: #666;\n",
       "  --sklearn-color-line: gray;\n",
       "  /* Definition of color scheme for unfitted estimators */\n",
       "  --sklearn-color-unfitted-level-0: #fff5e6;\n",
       "  --sklearn-color-unfitted-level-1: #f6e4d2;\n",
       "  --sklearn-color-unfitted-level-2: #ffe0b3;\n",
       "  --sklearn-color-unfitted-level-3: chocolate;\n",
       "  /* Definition of color scheme for fitted estimators */\n",
       "  --sklearn-color-fitted-level-0: #f0f8ff;\n",
       "  --sklearn-color-fitted-level-1: #d4ebff;\n",
       "  --sklearn-color-fitted-level-2: #b3dbfd;\n",
       "  --sklearn-color-fitted-level-3: cornflowerblue;\n",
       "\n",
       "  /* Specific color for light theme */\n",
       "  --sklearn-color-text-on-default-background: var(--sg-text-color, var(--theme-code-foreground, var(--jp-content-font-color1, black)));\n",
       "  --sklearn-color-background: var(--sg-background-color, var(--theme-background, var(--jp-layout-color0, white)));\n",
       "  --sklearn-color-border-box: var(--sg-text-color, var(--theme-code-foreground, var(--jp-content-font-color1, black)));\n",
       "  --sklearn-color-icon: #696969;\n",
       "\n",
       "  @media (prefers-color-scheme: dark) {\n",
       "    /* Redefinition of color scheme for dark theme */\n",
       "    --sklearn-color-text-on-default-background: var(--sg-text-color, var(--theme-code-foreground, var(--jp-content-font-color1, white)));\n",
       "    --sklearn-color-background: var(--sg-background-color, var(--theme-background, var(--jp-layout-color0, #111)));\n",
       "    --sklearn-color-border-box: var(--sg-text-color, var(--theme-code-foreground, var(--jp-content-font-color1, white)));\n",
       "    --sklearn-color-icon: #878787;\n",
       "  }\n",
       "}\n",
       "\n",
       "#sk-container-id-1 {\n",
       "  color: var(--sklearn-color-text);\n",
       "}\n",
       "\n",
       "#sk-container-id-1 pre {\n",
       "  padding: 0;\n",
       "}\n",
       "\n",
       "#sk-container-id-1 input.sk-hidden--visually {\n",
       "  border: 0;\n",
       "  clip: rect(1px 1px 1px 1px);\n",
       "  clip: rect(1px, 1px, 1px, 1px);\n",
       "  height: 1px;\n",
       "  margin: -1px;\n",
       "  overflow: hidden;\n",
       "  padding: 0;\n",
       "  position: absolute;\n",
       "  width: 1px;\n",
       "}\n",
       "\n",
       "#sk-container-id-1 div.sk-dashed-wrapped {\n",
       "  border: 1px dashed var(--sklearn-color-line);\n",
       "  margin: 0 0.4em 0.5em 0.4em;\n",
       "  box-sizing: border-box;\n",
       "  padding-bottom: 0.4em;\n",
       "  background-color: var(--sklearn-color-background);\n",
       "}\n",
       "\n",
       "#sk-container-id-1 div.sk-container {\n",
       "  /* jupyter's `normalize.less` sets `[hidden] { display: none; }`\n",
       "     but bootstrap.min.css set `[hidden] { display: none !important; }`\n",
       "     so we also need the `!important` here to be able to override the\n",
       "     default hidden behavior on the sphinx rendered scikit-learn.org.\n",
       "     See: https://github.com/scikit-learn/scikit-learn/issues/21755 */\n",
       "  display: inline-block !important;\n",
       "  position: relative;\n",
       "}\n",
       "\n",
       "#sk-container-id-1 div.sk-text-repr-fallback {\n",
       "  display: none;\n",
       "}\n",
       "\n",
       "div.sk-parallel-item,\n",
       "div.sk-serial,\n",
       "div.sk-item {\n",
       "  /* draw centered vertical line to link estimators */\n",
       "  background-image: linear-gradient(var(--sklearn-color-text-on-default-background), var(--sklearn-color-text-on-default-background));\n",
       "  background-size: 2px 100%;\n",
       "  background-repeat: no-repeat;\n",
       "  background-position: center center;\n",
       "}\n",
       "\n",
       "/* Parallel-specific style estimator block */\n",
       "\n",
       "#sk-container-id-1 div.sk-parallel-item::after {\n",
       "  content: \"\";\n",
       "  width: 100%;\n",
       "  border-bottom: 2px solid var(--sklearn-color-text-on-default-background);\n",
       "  flex-grow: 1;\n",
       "}\n",
       "\n",
       "#sk-container-id-1 div.sk-parallel {\n",
       "  display: flex;\n",
       "  align-items: stretch;\n",
       "  justify-content: center;\n",
       "  background-color: var(--sklearn-color-background);\n",
       "  position: relative;\n",
       "}\n",
       "\n",
       "#sk-container-id-1 div.sk-parallel-item {\n",
       "  display: flex;\n",
       "  flex-direction: column;\n",
       "}\n",
       "\n",
       "#sk-container-id-1 div.sk-parallel-item:first-child::after {\n",
       "  align-self: flex-end;\n",
       "  width: 50%;\n",
       "}\n",
       "\n",
       "#sk-container-id-1 div.sk-parallel-item:last-child::after {\n",
       "  align-self: flex-start;\n",
       "  width: 50%;\n",
       "}\n",
       "\n",
       "#sk-container-id-1 div.sk-parallel-item:only-child::after {\n",
       "  width: 0;\n",
       "}\n",
       "\n",
       "/* Serial-specific style estimator block */\n",
       "\n",
       "#sk-container-id-1 div.sk-serial {\n",
       "  display: flex;\n",
       "  flex-direction: column;\n",
       "  align-items: center;\n",
       "  background-color: var(--sklearn-color-background);\n",
       "  padding-right: 1em;\n",
       "  padding-left: 1em;\n",
       "}\n",
       "\n",
       "\n",
       "/* Toggleable style: style used for estimator/Pipeline/ColumnTransformer box that is\n",
       "clickable and can be expanded/collapsed.\n",
       "- Pipeline and ColumnTransformer use this feature and define the default style\n",
       "- Estimators will overwrite some part of the style using the `sk-estimator` class\n",
       "*/\n",
       "\n",
       "/* Pipeline and ColumnTransformer style (default) */\n",
       "\n",
       "#sk-container-id-1 div.sk-toggleable {\n",
       "  /* Default theme specific background. It is overwritten whether we have a\n",
       "  specific estimator or a Pipeline/ColumnTransformer */\n",
       "  background-color: var(--sklearn-color-background);\n",
       "}\n",
       "\n",
       "/* Toggleable label */\n",
       "#sk-container-id-1 label.sk-toggleable__label {\n",
       "  cursor: pointer;\n",
       "  display: flex;\n",
       "  width: 100%;\n",
       "  margin-bottom: 0;\n",
       "  padding: 0.5em;\n",
       "  box-sizing: border-box;\n",
       "  text-align: center;\n",
       "  align-items: start;\n",
       "  justify-content: space-between;\n",
       "  gap: 0.5em;\n",
       "}\n",
       "\n",
       "#sk-container-id-1 label.sk-toggleable__label .caption {\n",
       "  font-size: 0.6rem;\n",
       "  font-weight: lighter;\n",
       "  color: var(--sklearn-color-text-muted);\n",
       "}\n",
       "\n",
       "#sk-container-id-1 label.sk-toggleable__label-arrow:before {\n",
       "  /* Arrow on the left of the label */\n",
       "  content: \"▸\";\n",
       "  float: left;\n",
       "  margin-right: 0.25em;\n",
       "  color: var(--sklearn-color-icon);\n",
       "}\n",
       "\n",
       "#sk-container-id-1 label.sk-toggleable__label-arrow:hover:before {\n",
       "  color: var(--sklearn-color-text);\n",
       "}\n",
       "\n",
       "/* Toggleable content - dropdown */\n",
       "\n",
       "#sk-container-id-1 div.sk-toggleable__content {\n",
       "  max-height: 0;\n",
       "  max-width: 0;\n",
       "  overflow: hidden;\n",
       "  text-align: left;\n",
       "  /* unfitted */\n",
       "  background-color: var(--sklearn-color-unfitted-level-0);\n",
       "}\n",
       "\n",
       "#sk-container-id-1 div.sk-toggleable__content.fitted {\n",
       "  /* fitted */\n",
       "  background-color: var(--sklearn-color-fitted-level-0);\n",
       "}\n",
       "\n",
       "#sk-container-id-1 div.sk-toggleable__content pre {\n",
       "  margin: 0.2em;\n",
       "  border-radius: 0.25em;\n",
       "  color: var(--sklearn-color-text);\n",
       "  /* unfitted */\n",
       "  background-color: var(--sklearn-color-unfitted-level-0);\n",
       "}\n",
       "\n",
       "#sk-container-id-1 div.sk-toggleable__content.fitted pre {\n",
       "  /* unfitted */\n",
       "  background-color: var(--sklearn-color-fitted-level-0);\n",
       "}\n",
       "\n",
       "#sk-container-id-1 input.sk-toggleable__control:checked~div.sk-toggleable__content {\n",
       "  /* Expand drop-down */\n",
       "  max-height: 200px;\n",
       "  max-width: 100%;\n",
       "  overflow: auto;\n",
       "}\n",
       "\n",
       "#sk-container-id-1 input.sk-toggleable__control:checked~label.sk-toggleable__label-arrow:before {\n",
       "  content: \"▾\";\n",
       "}\n",
       "\n",
       "/* Pipeline/ColumnTransformer-specific style */\n",
       "\n",
       "#sk-container-id-1 div.sk-label input.sk-toggleable__control:checked~label.sk-toggleable__label {\n",
       "  color: var(--sklearn-color-text);\n",
       "  background-color: var(--sklearn-color-unfitted-level-2);\n",
       "}\n",
       "\n",
       "#sk-container-id-1 div.sk-label.fitted input.sk-toggleable__control:checked~label.sk-toggleable__label {\n",
       "  background-color: var(--sklearn-color-fitted-level-2);\n",
       "}\n",
       "\n",
       "/* Estimator-specific style */\n",
       "\n",
       "/* Colorize estimator box */\n",
       "#sk-container-id-1 div.sk-estimator input.sk-toggleable__control:checked~label.sk-toggleable__label {\n",
       "  /* unfitted */\n",
       "  background-color: var(--sklearn-color-unfitted-level-2);\n",
       "}\n",
       "\n",
       "#sk-container-id-1 div.sk-estimator.fitted input.sk-toggleable__control:checked~label.sk-toggleable__label {\n",
       "  /* fitted */\n",
       "  background-color: var(--sklearn-color-fitted-level-2);\n",
       "}\n",
       "\n",
       "#sk-container-id-1 div.sk-label label.sk-toggleable__label,\n",
       "#sk-container-id-1 div.sk-label label {\n",
       "  /* The background is the default theme color */\n",
       "  color: var(--sklearn-color-text-on-default-background);\n",
       "}\n",
       "\n",
       "/* On hover, darken the color of the background */\n",
       "#sk-container-id-1 div.sk-label:hover label.sk-toggleable__label {\n",
       "  color: var(--sklearn-color-text);\n",
       "  background-color: var(--sklearn-color-unfitted-level-2);\n",
       "}\n",
       "\n",
       "/* Label box, darken color on hover, fitted */\n",
       "#sk-container-id-1 div.sk-label.fitted:hover label.sk-toggleable__label.fitted {\n",
       "  color: var(--sklearn-color-text);\n",
       "  background-color: var(--sklearn-color-fitted-level-2);\n",
       "}\n",
       "\n",
       "/* Estimator label */\n",
       "\n",
       "#sk-container-id-1 div.sk-label label {\n",
       "  font-family: monospace;\n",
       "  font-weight: bold;\n",
       "  display: inline-block;\n",
       "  line-height: 1.2em;\n",
       "}\n",
       "\n",
       "#sk-container-id-1 div.sk-label-container {\n",
       "  text-align: center;\n",
       "}\n",
       "\n",
       "/* Estimator-specific */\n",
       "#sk-container-id-1 div.sk-estimator {\n",
       "  font-family: monospace;\n",
       "  border: 1px dotted var(--sklearn-color-border-box);\n",
       "  border-radius: 0.25em;\n",
       "  box-sizing: border-box;\n",
       "  margin-bottom: 0.5em;\n",
       "  /* unfitted */\n",
       "  background-color: var(--sklearn-color-unfitted-level-0);\n",
       "}\n",
       "\n",
       "#sk-container-id-1 div.sk-estimator.fitted {\n",
       "  /* fitted */\n",
       "  background-color: var(--sklearn-color-fitted-level-0);\n",
       "}\n",
       "\n",
       "/* on hover */\n",
       "#sk-container-id-1 div.sk-estimator:hover {\n",
       "  /* unfitted */\n",
       "  background-color: var(--sklearn-color-unfitted-level-2);\n",
       "}\n",
       "\n",
       "#sk-container-id-1 div.sk-estimator.fitted:hover {\n",
       "  /* fitted */\n",
       "  background-color: var(--sklearn-color-fitted-level-2);\n",
       "}\n",
       "\n",
       "/* Specification for estimator info (e.g. \"i\" and \"?\") */\n",
       "\n",
       "/* Common style for \"i\" and \"?\" */\n",
       "\n",
       ".sk-estimator-doc-link,\n",
       "a:link.sk-estimator-doc-link,\n",
       "a:visited.sk-estimator-doc-link {\n",
       "  float: right;\n",
       "  font-size: smaller;\n",
       "  line-height: 1em;\n",
       "  font-family: monospace;\n",
       "  background-color: var(--sklearn-color-background);\n",
       "  border-radius: 1em;\n",
       "  height: 1em;\n",
       "  width: 1em;\n",
       "  text-decoration: none !important;\n",
       "  margin-left: 0.5em;\n",
       "  text-align: center;\n",
       "  /* unfitted */\n",
       "  border: var(--sklearn-color-unfitted-level-1) 1pt solid;\n",
       "  color: var(--sklearn-color-unfitted-level-1);\n",
       "}\n",
       "\n",
       ".sk-estimator-doc-link.fitted,\n",
       "a:link.sk-estimator-doc-link.fitted,\n",
       "a:visited.sk-estimator-doc-link.fitted {\n",
       "  /* fitted */\n",
       "  border: var(--sklearn-color-fitted-level-1) 1pt solid;\n",
       "  color: var(--sklearn-color-fitted-level-1);\n",
       "}\n",
       "\n",
       "/* On hover */\n",
       "div.sk-estimator:hover .sk-estimator-doc-link:hover,\n",
       ".sk-estimator-doc-link:hover,\n",
       "div.sk-label-container:hover .sk-estimator-doc-link:hover,\n",
       ".sk-estimator-doc-link:hover {\n",
       "  /* unfitted */\n",
       "  background-color: var(--sklearn-color-unfitted-level-3);\n",
       "  color: var(--sklearn-color-background);\n",
       "  text-decoration: none;\n",
       "}\n",
       "\n",
       "div.sk-estimator.fitted:hover .sk-estimator-doc-link.fitted:hover,\n",
       ".sk-estimator-doc-link.fitted:hover,\n",
       "div.sk-label-container:hover .sk-estimator-doc-link.fitted:hover,\n",
       ".sk-estimator-doc-link.fitted:hover {\n",
       "  /* fitted */\n",
       "  background-color: var(--sklearn-color-fitted-level-3);\n",
       "  color: var(--sklearn-color-background);\n",
       "  text-decoration: none;\n",
       "}\n",
       "\n",
       "/* Span, style for the box shown on hovering the info icon */\n",
       ".sk-estimator-doc-link span {\n",
       "  display: none;\n",
       "  z-index: 9999;\n",
       "  position: relative;\n",
       "  font-weight: normal;\n",
       "  right: .2ex;\n",
       "  padding: .5ex;\n",
       "  margin: .5ex;\n",
       "  width: min-content;\n",
       "  min-width: 20ex;\n",
       "  max-width: 50ex;\n",
       "  color: var(--sklearn-color-text);\n",
       "  box-shadow: 2pt 2pt 4pt #999;\n",
       "  /* unfitted */\n",
       "  background: var(--sklearn-color-unfitted-level-0);\n",
       "  border: .5pt solid var(--sklearn-color-unfitted-level-3);\n",
       "}\n",
       "\n",
       ".sk-estimator-doc-link.fitted span {\n",
       "  /* fitted */\n",
       "  background: var(--sklearn-color-fitted-level-0);\n",
       "  border: var(--sklearn-color-fitted-level-3);\n",
       "}\n",
       "\n",
       ".sk-estimator-doc-link:hover span {\n",
       "  display: block;\n",
       "}\n",
       "\n",
       "/* \"?\"-specific style due to the `<a>` HTML tag */\n",
       "\n",
       "#sk-container-id-1 a.estimator_doc_link {\n",
       "  float: right;\n",
       "  font-size: 1rem;\n",
       "  line-height: 1em;\n",
       "  font-family: monospace;\n",
       "  background-color: var(--sklearn-color-background);\n",
       "  border-radius: 1rem;\n",
       "  height: 1rem;\n",
       "  width: 1rem;\n",
       "  text-decoration: none;\n",
       "  /* unfitted */\n",
       "  color: var(--sklearn-color-unfitted-level-1);\n",
       "  border: var(--sklearn-color-unfitted-level-1) 1pt solid;\n",
       "}\n",
       "\n",
       "#sk-container-id-1 a.estimator_doc_link.fitted {\n",
       "  /* fitted */\n",
       "  border: var(--sklearn-color-fitted-level-1) 1pt solid;\n",
       "  color: var(--sklearn-color-fitted-level-1);\n",
       "}\n",
       "\n",
       "/* On hover */\n",
       "#sk-container-id-1 a.estimator_doc_link:hover {\n",
       "  /* unfitted */\n",
       "  background-color: var(--sklearn-color-unfitted-level-3);\n",
       "  color: var(--sklearn-color-background);\n",
       "  text-decoration: none;\n",
       "}\n",
       "\n",
       "#sk-container-id-1 a.estimator_doc_link.fitted:hover {\n",
       "  /* fitted */\n",
       "  background-color: var(--sklearn-color-fitted-level-3);\n",
       "}\n",
       "</style><div id=\"sk-container-id-1\" class=\"sk-top-container\"><div class=\"sk-text-repr-fallback\"><pre>Pipeline(steps=[(&#x27;preprocessor&#x27;,\n",
       "                 Pipeline(steps=[(&#x27;date_features&#x27;,\n",
       "                                  DateFeatureExtractor(col=[&#x27;order_date&#x27;,\n",
       "                                                            &#x27;stock_departure_date&#x27;,\n",
       "                                                            &#x27;delivery_service_departure_date&#x27;,\n",
       "                                                            &#x27;client_arrival_date&#x27;])),\n",
       "                                 (&#x27;geographic_features&#x27;,\n",
       "                                  GeographicFeatureExtractor(col=[&#x27;departure_country&#x27;,\n",
       "                                                                  &#x27;arrival_country&#x27;,\n",
       "                                                                  &#x27;departure_region&#x27;,\n",
       "                                                                  &#x27;arrival_region&#x27;,\n",
       "                                                                  &#x27;departure_city&#x27;,\n",
       "                                                                  &#x27;arrival_city&#x27;])),...\n",
       "                                 (&#x27;keywords_features&#x27;,\n",
       "                                  KeywordsFeatureExtractor(col=&#x27;client_keywords&#x27;)),\n",
       "                                 (&#x27;bool_to_num&#x27;,\n",
       "                                  BoolToNumTransformer(col=[&#x27;client_is_app&#x27;])),\n",
       "                                 (&#x27;categorical_encoder&#x27;,\n",
       "                                  TargetEncoder(cols=[&#x27;item_id&#x27;,\n",
       "                                                      &#x27;client_device_type&#x27;,\n",
       "                                                      &#x27;brand_name&#x27;,\n",
       "                                                      &#x27;delivery_service_name&#x27;,\n",
       "                                                      &#x27;client_browser&#x27;,\n",
       "                                                      &#x27;item_category&#x27;,\n",
       "                                                      &#x27;item_package_type&#x27;,\n",
       "                                                      &#x27;type_prepayment&#x27;,\n",
       "                                                      &#x27;item_type&#x27;]))])),\n",
       "                (&#x27;model&#x27;, LinearRegression())])</pre><b>In a Jupyter environment, please rerun this cell to show the HTML representation or trust the notebook. <br />On GitHub, the HTML representation is unable to render, please try loading this page with nbviewer.org.</b></div><div class=\"sk-container\" hidden><div class=\"sk-item sk-dashed-wrapped\"><div class=\"sk-label-container\"><div class=\"sk-label fitted sk-toggleable\"><input class=\"sk-toggleable__control sk-hidden--visually\" id=\"sk-estimator-id-1\" type=\"checkbox\" ><label for=\"sk-estimator-id-1\" class=\"sk-toggleable__label fitted sk-toggleable__label-arrow\"><div><div>Pipeline</div></div><div><a class=\"sk-estimator-doc-link fitted\" rel=\"noreferrer\" target=\"_blank\" href=\"https://scikit-learn.org/1.6/modules/generated/sklearn.pipeline.Pipeline.html\">?<span>Documentation for Pipeline</span></a><span class=\"sk-estimator-doc-link fitted\">i<span>Fitted</span></span></div></label><div class=\"sk-toggleable__content fitted\"><pre>Pipeline(steps=[(&#x27;preprocessor&#x27;,\n",
       "                 Pipeline(steps=[(&#x27;date_features&#x27;,\n",
       "                                  DateFeatureExtractor(col=[&#x27;order_date&#x27;,\n",
       "                                                            &#x27;stock_departure_date&#x27;,\n",
       "                                                            &#x27;delivery_service_departure_date&#x27;,\n",
       "                                                            &#x27;client_arrival_date&#x27;])),\n",
       "                                 (&#x27;geographic_features&#x27;,\n",
       "                                  GeographicFeatureExtractor(col=[&#x27;departure_country&#x27;,\n",
       "                                                                  &#x27;arrival_country&#x27;,\n",
       "                                                                  &#x27;departure_region&#x27;,\n",
       "                                                                  &#x27;arrival_region&#x27;,\n",
       "                                                                  &#x27;departure_city&#x27;,\n",
       "                                                                  &#x27;arrival_city&#x27;])),...\n",
       "                                 (&#x27;keywords_features&#x27;,\n",
       "                                  KeywordsFeatureExtractor(col=&#x27;client_keywords&#x27;)),\n",
       "                                 (&#x27;bool_to_num&#x27;,\n",
       "                                  BoolToNumTransformer(col=[&#x27;client_is_app&#x27;])),\n",
       "                                 (&#x27;categorical_encoder&#x27;,\n",
       "                                  TargetEncoder(cols=[&#x27;item_id&#x27;,\n",
       "                                                      &#x27;client_device_type&#x27;,\n",
       "                                                      &#x27;brand_name&#x27;,\n",
       "                                                      &#x27;delivery_service_name&#x27;,\n",
       "                                                      &#x27;client_browser&#x27;,\n",
       "                                                      &#x27;item_category&#x27;,\n",
       "                                                      &#x27;item_package_type&#x27;,\n",
       "                                                      &#x27;type_prepayment&#x27;,\n",
       "                                                      &#x27;item_type&#x27;]))])),\n",
       "                (&#x27;model&#x27;, LinearRegression())])</pre></div> </div></div><div class=\"sk-serial\"><div class=\"sk-item\"><div class=\"sk-label-container\"><div class=\"sk-label fitted sk-toggleable\"><input class=\"sk-toggleable__control sk-hidden--visually\" id=\"sk-estimator-id-2\" type=\"checkbox\" ><label for=\"sk-estimator-id-2\" class=\"sk-toggleable__label fitted sk-toggleable__label-arrow\"><div><div>preprocessor: Pipeline</div></div><div><a class=\"sk-estimator-doc-link fitted\" rel=\"noreferrer\" target=\"_blank\" href=\"https://scikit-learn.org/1.6/modules/generated/sklearn.pipeline.Pipeline.html\">?<span>Documentation for preprocessor: Pipeline</span></a></div></label><div class=\"sk-toggleable__content fitted\"><pre>Pipeline(steps=[(&#x27;date_features&#x27;,\n",
       "                 DateFeatureExtractor(col=[&#x27;order_date&#x27;, &#x27;stock_departure_date&#x27;,\n",
       "                                           &#x27;delivery_service_departure_date&#x27;,\n",
       "                                           &#x27;client_arrival_date&#x27;])),\n",
       "                (&#x27;geographic_features&#x27;,\n",
       "                 GeographicFeatureExtractor(col=[&#x27;departure_country&#x27;,\n",
       "                                                 &#x27;arrival_country&#x27;,\n",
       "                                                 &#x27;departure_region&#x27;,\n",
       "                                                 &#x27;arrival_region&#x27;,\n",
       "                                                 &#x27;departure_city&#x27;,\n",
       "                                                 &#x27;arrival_city&#x27;])),\n",
       "                (&#x27;order_features&#x27;, OrderFeatureExtractor(col=&#x27;order_id&#x27;)),\n",
       "                (&#x27;keywords_features&#x27;,\n",
       "                 KeywordsFeatureExtractor(col=&#x27;client_keywords&#x27;)),\n",
       "                (&#x27;bool_to_num&#x27;, BoolToNumTransformer(col=[&#x27;client_is_app&#x27;])),\n",
       "                (&#x27;categorical_encoder&#x27;,\n",
       "                 TargetEncoder(cols=[&#x27;item_id&#x27;, &#x27;client_device_type&#x27;,\n",
       "                                     &#x27;brand_name&#x27;, &#x27;delivery_service_name&#x27;,\n",
       "                                     &#x27;client_browser&#x27;, &#x27;item_category&#x27;,\n",
       "                                     &#x27;item_package_type&#x27;, &#x27;type_prepayment&#x27;,\n",
       "                                     &#x27;item_type&#x27;]))])</pre></div> </div></div><div class=\"sk-serial\"><div class=\"sk-item\"><div class=\"sk-estimator fitted sk-toggleable\"><input class=\"sk-toggleable__control sk-hidden--visually\" id=\"sk-estimator-id-3\" type=\"checkbox\" ><label for=\"sk-estimator-id-3\" class=\"sk-toggleable__label fitted sk-toggleable__label-arrow\"><div><div>DateFeatureExtractor</div></div></label><div class=\"sk-toggleable__content fitted\"><pre>DateFeatureExtractor(col=[&#x27;order_date&#x27;, &#x27;stock_departure_date&#x27;,\n",
       "                          &#x27;delivery_service_departure_date&#x27;,\n",
       "                          &#x27;client_arrival_date&#x27;])</pre></div> </div></div><div class=\"sk-item\"><div class=\"sk-estimator fitted sk-toggleable\"><input class=\"sk-toggleable__control sk-hidden--visually\" id=\"sk-estimator-id-4\" type=\"checkbox\" ><label for=\"sk-estimator-id-4\" class=\"sk-toggleable__label fitted sk-toggleable__label-arrow\"><div><div>GeographicFeatureExtractor</div></div></label><div class=\"sk-toggleable__content fitted\"><pre>GeographicFeatureExtractor(col=[&#x27;departure_country&#x27;, &#x27;arrival_country&#x27;,\n",
       "                                &#x27;departure_region&#x27;, &#x27;arrival_region&#x27;,\n",
       "                                &#x27;departure_city&#x27;, &#x27;arrival_city&#x27;])</pre></div> </div></div><div class=\"sk-item\"><div class=\"sk-estimator fitted sk-toggleable\"><input class=\"sk-toggleable__control sk-hidden--visually\" id=\"sk-estimator-id-5\" type=\"checkbox\" ><label for=\"sk-estimator-id-5\" class=\"sk-toggleable__label fitted sk-toggleable__label-arrow\"><div><div>OrderFeatureExtractor</div></div></label><div class=\"sk-toggleable__content fitted\"><pre>OrderFeatureExtractor(col=&#x27;order_id&#x27;)</pre></div> </div></div><div class=\"sk-item\"><div class=\"sk-estimator fitted sk-toggleable\"><input class=\"sk-toggleable__control sk-hidden--visually\" id=\"sk-estimator-id-6\" type=\"checkbox\" ><label for=\"sk-estimator-id-6\" class=\"sk-toggleable__label fitted sk-toggleable__label-arrow\"><div><div>KeywordsFeatureExtractor</div></div></label><div class=\"sk-toggleable__content fitted\"><pre>KeywordsFeatureExtractor(col=&#x27;client_keywords&#x27;)</pre></div> </div></div><div class=\"sk-item\"><div class=\"sk-estimator fitted sk-toggleable\"><input class=\"sk-toggleable__control sk-hidden--visually\" id=\"sk-estimator-id-7\" type=\"checkbox\" ><label for=\"sk-estimator-id-7\" class=\"sk-toggleable__label fitted sk-toggleable__label-arrow\"><div><div>BoolToNumTransformer</div></div></label><div class=\"sk-toggleable__content fitted\"><pre>BoolToNumTransformer(col=[&#x27;client_is_app&#x27;])</pre></div> </div></div><div class=\"sk-item\"><div class=\"sk-estimator fitted sk-toggleable\"><input class=\"sk-toggleable__control sk-hidden--visually\" id=\"sk-estimator-id-8\" type=\"checkbox\" ><label for=\"sk-estimator-id-8\" class=\"sk-toggleable__label fitted sk-toggleable__label-arrow\"><div><div>TargetEncoder</div></div></label><div class=\"sk-toggleable__content fitted\"><pre>TargetEncoder(cols=[&#x27;item_id&#x27;, &#x27;client_device_type&#x27;, &#x27;brand_name&#x27;,\n",
       "                    &#x27;delivery_service_name&#x27;, &#x27;client_browser&#x27;, &#x27;item_category&#x27;,\n",
       "                    &#x27;item_package_type&#x27;, &#x27;type_prepayment&#x27;, &#x27;item_type&#x27;])</pre></div> </div></div></div></div><div class=\"sk-item\"><div class=\"sk-estimator fitted sk-toggleable\"><input class=\"sk-toggleable__control sk-hidden--visually\" id=\"sk-estimator-id-9\" type=\"checkbox\" ><label for=\"sk-estimator-id-9\" class=\"sk-toggleable__label fitted sk-toggleable__label-arrow\"><div><div>LinearRegression</div></div><div><a class=\"sk-estimator-doc-link fitted\" rel=\"noreferrer\" target=\"_blank\" href=\"https://scikit-learn.org/1.6/modules/generated/sklearn.linear_model.LinearRegression.html\">?<span>Documentation for LinearRegression</span></a></div></label><div class=\"sk-toggleable__content fitted\"><pre>LinearRegression()</pre></div> </div></div></div></div></div></div>"
      ],
      "text/plain": [
       "Pipeline(steps=[('preprocessor',\n",
       "                 Pipeline(steps=[('date_features',\n",
       "                                  DateFeatureExtractor(col=['order_date',\n",
       "                                                            'stock_departure_date',\n",
       "                                                            'delivery_service_departure_date',\n",
       "                                                            'client_arrival_date'])),\n",
       "                                 ('geographic_features',\n",
       "                                  GeographicFeatureExtractor(col=['departure_country',\n",
       "                                                                  'arrival_country',\n",
       "                                                                  'departure_region',\n",
       "                                                                  'arrival_region',\n",
       "                                                                  'departure_city',\n",
       "                                                                  'arrival_city'])),...\n",
       "                                 ('keywords_features',\n",
       "                                  KeywordsFeatureExtractor(col='client_keywords')),\n",
       "                                 ('bool_to_num',\n",
       "                                  BoolToNumTransformer(col=['client_is_app'])),\n",
       "                                 ('categorical_encoder',\n",
       "                                  TargetEncoder(cols=['item_id',\n",
       "                                                      'client_device_type',\n",
       "                                                      'brand_name',\n",
       "                                                      'delivery_service_name',\n",
       "                                                      'client_browser',\n",
       "                                                      'item_category',\n",
       "                                                      'item_package_type',\n",
       "                                                      'type_prepayment',\n",
       "                                                      'item_type']))])),\n",
       "                ('model', LinearRegression())])"
      ]
     },
     "execution_count": 19,
     "metadata": {},
     "output_type": "execute_result"
    }
   ],
   "source": [
    "lin_model = LinearRegression()\n",
    "\n",
    "lin_pipeline = Pipeline([\n",
    "    ('preprocessor', preprocessor),\n",
    "    ('model', lin_model)\n",
    "])\n",
    "\n",
    "lin_pipeline.fit(X_train, y_train)"
   ]
  },
  {
   "cell_type": "code",
   "execution_count": 20,
   "id": "2da4d6b4",
   "metadata": {},
   "outputs": [
    {
     "name": "stdout",
     "output_type": "stream",
     "text": [
      "LinearRegression\n",
      "~~~~~~~~~~~~~~~~~~~~~~~~~~~~~~~~~~~~~~~~~~~~~~~~~~~~~~~~~~~~~~~~~~~~~~~~~~~~~~~\n",
      "Средний RMSE на кросс-валидации: 46.4277\n"
     ]
    }
   ],
   "source": [
    "lin_rmse = -cross_val_score(lin_pipeline, X_train, y_train,\n",
    "                            cv=cv, scoring='neg_root_mean_squared_error').mean()\n",
    "\n",
    "results.loc[0] = ['LinearRegression', lin_rmse]\n",
    "best_params['LinearRegression'] = {}\n",
    "print(\"LinearRegression\")\n",
    "print(\"~\" * 79)\n",
    "print(\"Средний RMSE на кросс-валидации:\", round(lin_rmse, 4))"
   ]
  },
  {
   "cell_type": "markdown",
   "id": "13783322",
   "metadata": {},
   "source": [
    "## XG Boost model"
   ]
  },
  {
   "cell_type": "code",
   "execution_count": null,
   "id": "1a5c762b",
   "metadata": {},
   "outputs": [],
   "source": [
    "xgb_optuna_params = {\n",
    "    'preprocessor__keywords_features__n_components': dist.IntDistribution(36, 72, step=18),\n",
    "    \n",
    "    'model__threshold': dist.FloatDistribution(0.4, 0.8, step=0.01),\n",
    "    \n",
    "    'model__classifier__n_estimators': dist.IntDistribution(800, 1200, step=100),\n",
    "    'model__classifier__max_depth': dist.IntDistribution(8, 16, step=1),\n",
    "    'model__classifier__learning_rate': dist.FloatDistribution(0.1, 0.2, step=0.01),\n",
    "    \n",
    "    'model__regressor__n_estimators': dist.IntDistribution(600, 1000, step=100),\n",
    "    'model__regressor__max_depth': dist.IntDistribution(6, 12, step=1),\n",
    "    'model__regressor__learning_rate': dist.FloatDistribution(0.1, 0.2, step=0.01),\n",
    "    'model__regressor__subsample': dist.FloatDistribution(0.8, 1.0, step=0.1),\n",
    "    'model__regressor__colsample_bytree': dist.FloatDistribution(0.6, 1.0, step=0.1),\n",
    "}\n",
    "\n",
    "xgb_cls_model = XGBClassifier(\n",
    "    random_state=SEED,\n",
    "    tree_method='gpu_hist',\n",
    "    predictor='gpu_predictor',\n",
    "    scale_pos_weight=(n_zeros / n_nonzeros),\n",
    "    n_jobs=1\n",
    ")\n",
    "\n",
    "xgb_reg_model = XGBRegressor(\n",
    "    random_state=SEED,\n",
    "    tree_method='gpu_hist',\n",
    "    predictor='gpu_predictor',\n",
    "    n_jobs=1\n",
    ")\n",
    "\n",
    "xgb_pipeline = Pipeline([\n",
    "    ('preprocessor', preprocessor),\n",
    "    ('model', ZeroInflatedRegressor(xgb_cls_model, xgb_reg_model))\n",
    "])\n",
    "\n",
    "xgb_optuna = OptunaSearchCV(\n",
    "    xgb_pipeline,\n",
    "    xgb_optuna_params,\n",
    "    cv=cv,\n",
    "    n_trials=200,\n",
    "    scoring='neg_root_mean_squared_error',\n",
    "    refit=True,\n",
    "    random_state=SEED,\n",
    "    n_jobs=1,\n",
    "    verbose=1,\n",
    "    timeout=3600,\n",
    "    callbacks=[\n",
    "        optuna.study.MaxTrialsCallback(200, states=(optuna.trial.TrialState.COMPLETE,)),\n",
    "    ]\n",
    ")\n",
    "\n",
    "xgb_optuna.fit(X_train, y_train)\n",
    "best_xgb_model = xgb_optuna.best_estimator_"
   ]
  },
  {
   "cell_type": "code",
   "execution_count": null,
   "id": "0baeba96",
   "metadata": {},
   "outputs": [
    {
     "name": "stdout",
     "output_type": "stream",
     "text": [
      "================================================================================\n",
      "🎯 XGBoost\n",
      "================================================================================\n",
      "✅ Лучшие параметры: {'preprocessor__keywords_features__n_components': 36, 'model__threshold': 0.71, 'model__classifier__n_estimators': 900, 'model__classifier__max_depth': 16, 'model__classifier__learning_rate': 0.13, 'model__regressor__n_estimators': 700, 'model__regressor__max_depth': 12, 'model__regressor__learning_rate': 0.16, 'model__regressor__subsample': 0.8, 'model__regressor__colsample_bytree': 1.0}\n",
      "--------------------------------------------------------------------------------\n",
      "📊 Наилучший RMSE на кросс-валидации: 40.7255\n",
      "📈 Стандартное отклонение: ±0.0701\n",
      "🎯 95% доверительный интервал: [40.5880, 40.8629]\n",
      "🔄 Общее количество trials: 19\n",
      "✅ Успешных: 19\n",
      "❌ Неудачных: 0\n",
      "✂️  Обрезанных (pruned): 0\n",
      "📊 Среднее RMSE: 41.4906\n",
      "📊 Медианное RMSE: 40.9624\n",
      "📊 Стандартное отклонение RMSE: 1.3563\n",
      "\n",
      "🏆 Топ-5 результатов:\n",
      "   1. RMSE: 40.7255 (trial #11)\n",
      "   2. RMSE: 40.7381 (trial #8)\n",
      "   3. RMSE: 40.7690 (trial #12)\n",
      "   4. RMSE: 40.7812 (trial #7)\n",
      "   5. RMSE: 40.8249 (trial #14)\n",
      "================================================================================\n",
      "📈 Строим графики...\n"
     ]
    },
    {
     "data": {
      "application/vnd.plotly.v1+json": {
       "config": {
        "plotlyServerURL": "https://plot.ly"
       },
       "data": [
        {
         "marker": {
          "color": [
           41.06709332841266,
           41.907782129838814,
           41.16032175718536,
           42.355658938867855,
           41.45554894048886,
           41.5078423872541,
           42.67212200458699,
           40.781175571210355,
           40.738073386788564,
           46.76436515773177,
           40.90508447659591,
           40.72547338934255,
           40.76897543021216,
           40.854554289709846,
           40.82486353137582,
           40.96236734994129,
           41.08634433077947,
           40.843276773232134,
           40.939972422133884
          ],
          "colorbar": {
           "title": {
            "text": "RMSE"
           },
           "x": 0.45
          },
          "colorscale": [
           [
            0,
            "rgb(49,54,149)"
           ],
           [
            0.1,
            "rgb(69,117,180)"
           ],
           [
            0.2,
            "rgb(116,173,209)"
           ],
           [
            0.3,
            "rgb(171,217,233)"
           ],
           [
            0.4,
            "rgb(224,243,248)"
           ],
           [
            0.5,
            "rgb(255,255,191)"
           ],
           [
            0.6,
            "rgb(254,224,144)"
           ],
           [
            0.7,
            "rgb(253,174,97)"
           ],
           [
            0.8,
            "rgb(244,109,67)"
           ],
           [
            0.9,
            "rgb(215,48,39)"
           ],
           [
            1,
            "rgb(165,0,38)"
           ]
          ],
          "showscale": true
         },
         "mode": "markers",
         "name": "Trial RMSE",
         "opacity": 0.6,
         "type": "scatter",
         "x": [
          0,
          1,
          2,
          3,
          4,
          5,
          6,
          7,
          8,
          9,
          10,
          11,
          12,
          13,
          14,
          15,
          16,
          17,
          18
         ],
         "xaxis": "x",
         "y": [
          41.06709332841266,
          41.907782129838814,
          41.16032175718536,
          42.355658938867855,
          41.45554894048886,
          41.5078423872541,
          42.67212200458699,
          40.781175571210355,
          40.738073386788564,
          46.76436515773177,
          40.90508447659591,
          40.72547338934255,
          40.76897543021216,
          40.854554289709846,
          40.82486353137582,
          40.96236734994129,
          41.08634433077947,
          40.843276773232134,
          40.939972422133884
         ],
         "yaxis": "y"
        },
        {
         "line": {
          "color": "red",
          "width": 3
         },
         "mode": "lines",
         "name": "Лучший RMSE",
         "type": "scatter",
         "x": [
          0,
          1,
          2,
          3,
          4,
          5,
          6,
          7,
          8,
          9,
          10,
          11,
          12,
          13,
          14,
          15,
          16,
          17,
          18
         ],
         "xaxis": "x",
         "y": [
          41.06709332841266,
          41.06709332841266,
          41.06709332841266,
          41.06709332841266,
          41.06709332841266,
          41.06709332841266,
          41.06709332841266,
          40.781175571210355,
          40.738073386788564,
          40.738073386788564,
          40.738073386788564,
          40.72547338934255,
          40.72547338934255,
          40.72547338934255,
          40.72547338934255,
          40.72547338934255,
          40.72547338934255,
          40.72547338934255,
          40.72547338934255
         ],
         "yaxis": "y"
        },
        {
         "marker": {
          "color": "lightblue"
         },
         "name": "Распределение RMSE",
         "nbinsx": 20,
         "opacity": 0.7,
         "type": "histogram",
         "x": [
          41.06709332841266,
          41.907782129838814,
          41.16032175718536,
          42.355658938867855,
          41.45554894048886,
          41.5078423872541,
          42.67212200458699,
          40.781175571210355,
          40.738073386788564,
          46.76436515773177,
          40.90508447659591,
          40.72547338934255,
          40.76897543021216,
          40.854554289709846,
          40.82486353137582,
          40.96236734994129,
          41.08634433077947,
          40.843276773232134,
          40.939972422133884
         ],
         "xaxis": "x2",
         "yaxis": "y2"
        },
        {
         "marker": {
          "color": "lightgreen"
         },
         "name": "Важность",
         "orientation": "h",
         "type": "bar",
         "x": [
          0.5802003673211986,
          0.15475974454206542,
          0.10217313833443208,
          0.03428425526213621,
          0.032012759580692385,
          0.026386504285622215,
          0.02354913663277908,
          0.021880136584203177,
          0.017241426798848214,
          0.007512530658022725
         ],
         "xaxis": "x3",
         "y": [
          "cls_max_depth",
          "threshold",
          "cls_n_estimators",
          "preprocessor__keywords_features__n_components",
          "reg_n_estimators",
          "reg_colsample_bytree",
          "cls_learning_rate",
          "reg_subsample",
          "reg_max_depth",
          "reg_learning_rate"
         ],
         "yaxis": "y3"
        },
        {
         "line": {
          "color": "orange",
          "width": 2
         },
         "mode": "lines",
         "name": "Скользящее среднее (3)",
         "type": "scatter",
         "x": [
          0,
          1,
          2,
          3,
          4,
          5,
          6,
          7,
          8,
          9,
          10,
          11,
          12,
          13,
          14,
          15,
          16,
          17,
          18
         ],
         "xaxis": "x4",
         "y": {
          "bdata": "AAAAAAAA+H8AAAAAAAD4f58ie2FvsERAlb4T9GnnREArV21cHtREQEUlijby4kRA6Gto1XLwREA1XcvgrNNEQFGeqfLUskRAjErhJ29hRUBIrUqSuGZFQPsuJfIuZkVAjMVmTWFmREAPFcJgOWREQAsDvft2aERAuW+9VrdwREAtwqsam3pEQIaw0zlke0RASO8RnW96REA=",
          "dtype": "f8"
         },
         "yaxis": "y4"
        }
       ],
       "layout": {
        "annotations": [
         {
          "font": {
           "size": 16
          },
          "showarrow": false,
          "text": "История оптимизации",
          "x": 0.225,
          "xanchor": "center",
          "xref": "paper",
          "y": 1,
          "yanchor": "bottom",
          "yref": "paper"
         },
         {
          "font": {
           "size": 16
          },
          "showarrow": false,
          "text": "Распределение RMSE",
          "x": 0.775,
          "xanchor": "center",
          "xref": "paper",
          "y": 1,
          "yanchor": "bottom",
          "yref": "paper"
         },
         {
          "font": {
           "size": 16
          },
          "showarrow": false,
          "text": "Важность параметров",
          "x": 0.225,
          "xanchor": "center",
          "xref": "paper",
          "y": 0.375,
          "yanchor": "bottom",
          "yref": "paper"
         },
         {
          "font": {
           "size": 16
          },
          "showarrow": false,
          "text": "Прогресс лучших результатов",
          "x": 0.775,
          "xanchor": "center",
          "xref": "paper",
          "y": 0.375,
          "yanchor": "bottom",
          "yref": "paper"
         }
        ],
        "height": 800,
        "showlegend": true,
        "template": {
         "data": {
          "bar": [
           {
            "error_x": {
             "color": "#2a3f5f"
            },
            "error_y": {
             "color": "#2a3f5f"
            },
            "marker": {
             "line": {
              "color": "white",
              "width": 0.5
             },
             "pattern": {
              "fillmode": "overlay",
              "size": 10,
              "solidity": 0.2
             }
            },
            "type": "bar"
           }
          ],
          "barpolar": [
           {
            "marker": {
             "line": {
              "color": "white",
              "width": 0.5
             },
             "pattern": {
              "fillmode": "overlay",
              "size": 10,
              "solidity": 0.2
             }
            },
            "type": "barpolar"
           }
          ],
          "carpet": [
           {
            "aaxis": {
             "endlinecolor": "#2a3f5f",
             "gridcolor": "#C8D4E3",
             "linecolor": "#C8D4E3",
             "minorgridcolor": "#C8D4E3",
             "startlinecolor": "#2a3f5f"
            },
            "baxis": {
             "endlinecolor": "#2a3f5f",
             "gridcolor": "#C8D4E3",
             "linecolor": "#C8D4E3",
             "minorgridcolor": "#C8D4E3",
             "startlinecolor": "#2a3f5f"
            },
            "type": "carpet"
           }
          ],
          "choropleth": [
           {
            "colorbar": {
             "outlinewidth": 0,
             "ticks": ""
            },
            "type": "choropleth"
           }
          ],
          "contour": [
           {
            "colorbar": {
             "outlinewidth": 0,
             "ticks": ""
            },
            "colorscale": [
             [
              0,
              "#0d0887"
             ],
             [
              0.1111111111111111,
              "#46039f"
             ],
             [
              0.2222222222222222,
              "#7201a8"
             ],
             [
              0.3333333333333333,
              "#9c179e"
             ],
             [
              0.4444444444444444,
              "#bd3786"
             ],
             [
              0.5555555555555556,
              "#d8576b"
             ],
             [
              0.6666666666666666,
              "#ed7953"
             ],
             [
              0.7777777777777778,
              "#fb9f3a"
             ],
             [
              0.8888888888888888,
              "#fdca26"
             ],
             [
              1,
              "#f0f921"
             ]
            ],
            "type": "contour"
           }
          ],
          "contourcarpet": [
           {
            "colorbar": {
             "outlinewidth": 0,
             "ticks": ""
            },
            "type": "contourcarpet"
           }
          ],
          "heatmap": [
           {
            "colorbar": {
             "outlinewidth": 0,
             "ticks": ""
            },
            "colorscale": [
             [
              0,
              "#0d0887"
             ],
             [
              0.1111111111111111,
              "#46039f"
             ],
             [
              0.2222222222222222,
              "#7201a8"
             ],
             [
              0.3333333333333333,
              "#9c179e"
             ],
             [
              0.4444444444444444,
              "#bd3786"
             ],
             [
              0.5555555555555556,
              "#d8576b"
             ],
             [
              0.6666666666666666,
              "#ed7953"
             ],
             [
              0.7777777777777778,
              "#fb9f3a"
             ],
             [
              0.8888888888888888,
              "#fdca26"
             ],
             [
              1,
              "#f0f921"
             ]
            ],
            "type": "heatmap"
           }
          ],
          "histogram": [
           {
            "marker": {
             "pattern": {
              "fillmode": "overlay",
              "size": 10,
              "solidity": 0.2
             }
            },
            "type": "histogram"
           }
          ],
          "histogram2d": [
           {
            "colorbar": {
             "outlinewidth": 0,
             "ticks": ""
            },
            "colorscale": [
             [
              0,
              "#0d0887"
             ],
             [
              0.1111111111111111,
              "#46039f"
             ],
             [
              0.2222222222222222,
              "#7201a8"
             ],
             [
              0.3333333333333333,
              "#9c179e"
             ],
             [
              0.4444444444444444,
              "#bd3786"
             ],
             [
              0.5555555555555556,
              "#d8576b"
             ],
             [
              0.6666666666666666,
              "#ed7953"
             ],
             [
              0.7777777777777778,
              "#fb9f3a"
             ],
             [
              0.8888888888888888,
              "#fdca26"
             ],
             [
              1,
              "#f0f921"
             ]
            ],
            "type": "histogram2d"
           }
          ],
          "histogram2dcontour": [
           {
            "colorbar": {
             "outlinewidth": 0,
             "ticks": ""
            },
            "colorscale": [
             [
              0,
              "#0d0887"
             ],
             [
              0.1111111111111111,
              "#46039f"
             ],
             [
              0.2222222222222222,
              "#7201a8"
             ],
             [
              0.3333333333333333,
              "#9c179e"
             ],
             [
              0.4444444444444444,
              "#bd3786"
             ],
             [
              0.5555555555555556,
              "#d8576b"
             ],
             [
              0.6666666666666666,
              "#ed7953"
             ],
             [
              0.7777777777777778,
              "#fb9f3a"
             ],
             [
              0.8888888888888888,
              "#fdca26"
             ],
             [
              1,
              "#f0f921"
             ]
            ],
            "type": "histogram2dcontour"
           }
          ],
          "mesh3d": [
           {
            "colorbar": {
             "outlinewidth": 0,
             "ticks": ""
            },
            "type": "mesh3d"
           }
          ],
          "parcoords": [
           {
            "line": {
             "colorbar": {
              "outlinewidth": 0,
              "ticks": ""
             }
            },
            "type": "parcoords"
           }
          ],
          "pie": [
           {
            "automargin": true,
            "type": "pie"
           }
          ],
          "scatter": [
           {
            "fillpattern": {
             "fillmode": "overlay",
             "size": 10,
             "solidity": 0.2
            },
            "type": "scatter"
           }
          ],
          "scatter3d": [
           {
            "line": {
             "colorbar": {
              "outlinewidth": 0,
              "ticks": ""
             }
            },
            "marker": {
             "colorbar": {
              "outlinewidth": 0,
              "ticks": ""
             }
            },
            "type": "scatter3d"
           }
          ],
          "scattercarpet": [
           {
            "marker": {
             "colorbar": {
              "outlinewidth": 0,
              "ticks": ""
             }
            },
            "type": "scattercarpet"
           }
          ],
          "scattergeo": [
           {
            "marker": {
             "colorbar": {
              "outlinewidth": 0,
              "ticks": ""
             }
            },
            "type": "scattergeo"
           }
          ],
          "scattergl": [
           {
            "marker": {
             "colorbar": {
              "outlinewidth": 0,
              "ticks": ""
             }
            },
            "type": "scattergl"
           }
          ],
          "scattermap": [
           {
            "marker": {
             "colorbar": {
              "outlinewidth": 0,
              "ticks": ""
             }
            },
            "type": "scattermap"
           }
          ],
          "scattermapbox": [
           {
            "marker": {
             "colorbar": {
              "outlinewidth": 0,
              "ticks": ""
             }
            },
            "type": "scattermapbox"
           }
          ],
          "scatterpolar": [
           {
            "marker": {
             "colorbar": {
              "outlinewidth": 0,
              "ticks": ""
             }
            },
            "type": "scatterpolar"
           }
          ],
          "scatterpolargl": [
           {
            "marker": {
             "colorbar": {
              "outlinewidth": 0,
              "ticks": ""
             }
            },
            "type": "scatterpolargl"
           }
          ],
          "scatterternary": [
           {
            "marker": {
             "colorbar": {
              "outlinewidth": 0,
              "ticks": ""
             }
            },
            "type": "scatterternary"
           }
          ],
          "surface": [
           {
            "colorbar": {
             "outlinewidth": 0,
             "ticks": ""
            },
            "colorscale": [
             [
              0,
              "#0d0887"
             ],
             [
              0.1111111111111111,
              "#46039f"
             ],
             [
              0.2222222222222222,
              "#7201a8"
             ],
             [
              0.3333333333333333,
              "#9c179e"
             ],
             [
              0.4444444444444444,
              "#bd3786"
             ],
             [
              0.5555555555555556,
              "#d8576b"
             ],
             [
              0.6666666666666666,
              "#ed7953"
             ],
             [
              0.7777777777777778,
              "#fb9f3a"
             ],
             [
              0.8888888888888888,
              "#fdca26"
             ],
             [
              1,
              "#f0f921"
             ]
            ],
            "type": "surface"
           }
          ],
          "table": [
           {
            "cells": {
             "fill": {
              "color": "#EBF0F8"
             },
             "line": {
              "color": "white"
             }
            },
            "header": {
             "fill": {
              "color": "#C8D4E3"
             },
             "line": {
              "color": "white"
             }
            },
            "type": "table"
           }
          ]
         },
         "layout": {
          "annotationdefaults": {
           "arrowcolor": "#2a3f5f",
           "arrowhead": 0,
           "arrowwidth": 1
          },
          "autotypenumbers": "strict",
          "coloraxis": {
           "colorbar": {
            "outlinewidth": 0,
            "ticks": ""
           }
          },
          "colorscale": {
           "diverging": [
            [
             0,
             "#8e0152"
            ],
            [
             0.1,
             "#c51b7d"
            ],
            [
             0.2,
             "#de77ae"
            ],
            [
             0.3,
             "#f1b6da"
            ],
            [
             0.4,
             "#fde0ef"
            ],
            [
             0.5,
             "#f7f7f7"
            ],
            [
             0.6,
             "#e6f5d0"
            ],
            [
             0.7,
             "#b8e186"
            ],
            [
             0.8,
             "#7fbc41"
            ],
            [
             0.9,
             "#4d9221"
            ],
            [
             1,
             "#276419"
            ]
           ],
           "sequential": [
            [
             0,
             "#0d0887"
            ],
            [
             0.1111111111111111,
             "#46039f"
            ],
            [
             0.2222222222222222,
             "#7201a8"
            ],
            [
             0.3333333333333333,
             "#9c179e"
            ],
            [
             0.4444444444444444,
             "#bd3786"
            ],
            [
             0.5555555555555556,
             "#d8576b"
            ],
            [
             0.6666666666666666,
             "#ed7953"
            ],
            [
             0.7777777777777778,
             "#fb9f3a"
            ],
            [
             0.8888888888888888,
             "#fdca26"
            ],
            [
             1,
             "#f0f921"
            ]
           ],
           "sequentialminus": [
            [
             0,
             "#0d0887"
            ],
            [
             0.1111111111111111,
             "#46039f"
            ],
            [
             0.2222222222222222,
             "#7201a8"
            ],
            [
             0.3333333333333333,
             "#9c179e"
            ],
            [
             0.4444444444444444,
             "#bd3786"
            ],
            [
             0.5555555555555556,
             "#d8576b"
            ],
            [
             0.6666666666666666,
             "#ed7953"
            ],
            [
             0.7777777777777778,
             "#fb9f3a"
            ],
            [
             0.8888888888888888,
             "#fdca26"
            ],
            [
             1,
             "#f0f921"
            ]
           ]
          },
          "colorway": [
           "#636efa",
           "#EF553B",
           "#00cc96",
           "#ab63fa",
           "#FFA15A",
           "#19d3f3",
           "#FF6692",
           "#B6E880",
           "#FF97FF",
           "#FECB52"
          ],
          "font": {
           "color": "#2a3f5f"
          },
          "geo": {
           "bgcolor": "white",
           "lakecolor": "white",
           "landcolor": "white",
           "showlakes": true,
           "showland": true,
           "subunitcolor": "#C8D4E3"
          },
          "hoverlabel": {
           "align": "left"
          },
          "hovermode": "closest",
          "mapbox": {
           "style": "light"
          },
          "paper_bgcolor": "white",
          "plot_bgcolor": "white",
          "polar": {
           "angularaxis": {
            "gridcolor": "#EBF0F8",
            "linecolor": "#EBF0F8",
            "ticks": ""
           },
           "bgcolor": "white",
           "radialaxis": {
            "gridcolor": "#EBF0F8",
            "linecolor": "#EBF0F8",
            "ticks": ""
           }
          },
          "scene": {
           "xaxis": {
            "backgroundcolor": "white",
            "gridcolor": "#DFE8F3",
            "gridwidth": 2,
            "linecolor": "#EBF0F8",
            "showbackground": true,
            "ticks": "",
            "zerolinecolor": "#EBF0F8"
           },
           "yaxis": {
            "backgroundcolor": "white",
            "gridcolor": "#DFE8F3",
            "gridwidth": 2,
            "linecolor": "#EBF0F8",
            "showbackground": true,
            "ticks": "",
            "zerolinecolor": "#EBF0F8"
           },
           "zaxis": {
            "backgroundcolor": "white",
            "gridcolor": "#DFE8F3",
            "gridwidth": 2,
            "linecolor": "#EBF0F8",
            "showbackground": true,
            "ticks": "",
            "zerolinecolor": "#EBF0F8"
           }
          },
          "shapedefaults": {
           "line": {
            "color": "#2a3f5f"
           }
          },
          "ternary": {
           "aaxis": {
            "gridcolor": "#DFE8F3",
            "linecolor": "#A2B1C6",
            "ticks": ""
           },
           "baxis": {
            "gridcolor": "#DFE8F3",
            "linecolor": "#A2B1C6",
            "ticks": ""
           },
           "bgcolor": "white",
           "caxis": {
            "gridcolor": "#DFE8F3",
            "linecolor": "#A2B1C6",
            "ticks": ""
           }
          },
          "title": {
           "x": 0.05
          },
          "xaxis": {
           "automargin": true,
           "gridcolor": "#EBF0F8",
           "linecolor": "#EBF0F8",
           "ticks": "",
           "title": {
            "standoff": 15
           },
           "zerolinecolor": "#EBF0F8",
           "zerolinewidth": 2
          },
          "yaxis": {
           "automargin": true,
           "gridcolor": "#EBF0F8",
           "linecolor": "#EBF0F8",
           "ticks": "",
           "title": {
            "standoff": 15
           },
           "zerolinecolor": "#EBF0F8",
           "zerolinewidth": 2
          }
         }
        },
        "title": {
         "font": {
          "size": 16
         },
         "text": "Анализ оптимизации: XGBoost"
        },
        "xaxis": {
         "anchor": "y",
         "domain": [
          0,
          0.45
         ],
         "title": {
          "text": "Номер Trial"
         }
        },
        "xaxis2": {
         "anchor": "y2",
         "domain": [
          0.55,
          1
         ],
         "title": {
          "text": "RMSE"
         }
        },
        "xaxis3": {
         "anchor": "y3",
         "domain": [
          0,
          0.45
         ],
         "title": {
          "text": "Важность"
         }
        },
        "xaxis4": {
         "anchor": "y4",
         "domain": [
          0.55,
          1
         ],
         "title": {
          "text": "Номер Trial"
         }
        },
        "yaxis": {
         "anchor": "x",
         "domain": [
          0.625,
          1
         ],
         "title": {
          "text": "RMSE"
         }
        },
        "yaxis2": {
         "anchor": "x2",
         "domain": [
          0.625,
          1
         ],
         "title": {
          "text": "Частота"
         }
        },
        "yaxis3": {
         "anchor": "x3",
         "domain": [
          0,
          0.375
         ],
         "title": {
          "text": "Параметры"
         }
        },
        "yaxis4": {
         "anchor": "x4",
         "domain": [
          0,
          0.375
         ],
         "title": {
          "text": "RMSE (скользящее среднее)"
         }
        }
       }
      }
     },
     "metadata": {},
     "output_type": "display_data"
    },
    {
     "name": "stdout",
     "output_type": "stream",
     "text": [
      "📊 График параллельных координат...\n"
     ]
    },
    {
     "data": {
      "application/vnd.plotly.v1+json": {
       "config": {
        "plotlyServerURL": "https://plot.ly"
       },
       "data": [
        {
         "dimensions": [
          {
           "label": "Objective Value",
           "range": [
            -46.76436515773177,
            -40.72547338934255
           ],
           "values": [
            -41.06709332841266,
            -41.907782129838814,
            -41.16032175718536,
            -42.355658938867855,
            -41.45554894048886,
            -41.5078423872541,
            -42.67212200458699,
            -40.781175571210355,
            -40.738073386788564,
            -46.76436515773177,
            -40.90508447659591,
            -40.72547338934255,
            -40.76897543021216,
            -40.854554289709846,
            -40.82486353137582,
            -40.96236734994129,
            -41.08634433077947,
            -40.843276773232134,
            -40.939972422133884
           ]
          },
          {
           "label": "model__classifier...",
           "range": [
            0.1,
            0.19
           ],
           "values": [
            0.19,
            0.16,
            0.19,
            0.15000000000000002,
            0.17,
            0.17,
            0.15000000000000002,
            0.15000000000000002,
            0.13,
            0.11,
            0.11,
            0.13,
            0.13,
            0.13,
            0.13,
            0.1,
            0.12000000000000001,
            0.14,
            0.1
           ]
          },
          {
           "label": "model__classifier...",
           "range": [
            8,
            16
           ],
           "values": [
            13,
            11,
            12,
            9,
            10,
            13,
            9,
            16,
            15,
            8,
            16,
            16,
            15,
            14,
            15,
            15,
            14,
            16,
            14
           ]
          },
          {
           "label": "model__classifier...",
           "range": [
            800,
            1200
           ],
           "values": [
            1100,
            1200,
            900,
            1000,
            900,
            1100,
            1200,
            1100,
            900,
            1200,
            800,
            900,
            800,
            900,
            1000,
            900,
            1000,
            800,
            900
           ]
          },
          {
           "label": "model__regressor_...",
           "range": [
            0.6,
            1
           ],
           "values": [
            0.6,
            1,
            0.8,
            0.6,
            0.8,
            0.9,
            0.6,
            1,
            0.9,
            0.7,
            0.9,
            1,
            0.9,
            1,
            0.9,
            1,
            0.9,
            0.8,
            0.7
           ]
          },
          {
           "label": "model__regressor_...",
           "range": [
            600,
            1000
           ],
           "values": [
            600,
            700,
            900,
            1000,
            700,
            900,
            900,
            700,
            700,
            900,
            600,
            700,
            800,
            800,
            700,
            600,
            800,
            700,
            600
           ]
          },
          {
           "label": "model__regressor_...",
           "range": [
            0.8,
            1
           ],
           "values": [
            0.8,
            1,
            1,
            0.9,
            0.9,
            1,
            0.9,
            0.9,
            0.8,
            0.9,
            0.8,
            0.8,
            0.8,
            0.8,
            0.8,
            0.8,
            0.8,
            0.8,
            0.8
           ]
          },
          {
           "label": "model__threshold",
           "range": [
            0.45,
            0.8
           ],
           "values": [
            0.66,
            0.46,
            0.79,
            0.5700000000000001,
            0.66,
            0.45,
            0.76,
            0.72,
            0.68,
            0.45,
            0.5700000000000001,
            0.71,
            0.68,
            0.62,
            0.73,
            0.53,
            0.8,
            0.72,
            0.62
           ]
          },
          {
           "label": "preprocessor__key...",
           "range": [
            36,
            72
           ],
           "values": [
            54,
            54,
            36,
            54,
            72,
            72,
            72,
            54,
            36,
            54,
            36,
            36,
            36,
            36,
            36,
            36,
            36,
            36,
            36
           ]
          }
         ],
         "labelangle": 30,
         "labelside": "bottom",
         "line": {
          "color": [
           -41.06709332841266,
           -41.907782129838814,
           -41.16032175718536,
           -42.355658938867855,
           -41.45554894048886,
           -41.5078423872541,
           -42.67212200458699,
           -40.781175571210355,
           -40.738073386788564,
           -46.76436515773177,
           -40.90508447659591,
           -40.72547338934255,
           -40.76897543021216,
           -40.854554289709846,
           -40.82486353137582,
           -40.96236734994129,
           -41.08634433077947,
           -40.843276773232134,
           -40.939972422133884
          ],
          "colorbar": {
           "title": {
            "text": "Objective Value"
           }
          },
          "colorscale": [
           [
            0,
            "rgb(247,251,255)"
           ],
           [
            0.125,
            "rgb(222,235,247)"
           ],
           [
            0.25,
            "rgb(198,219,239)"
           ],
           [
            0.375,
            "rgb(158,202,225)"
           ],
           [
            0.5,
            "rgb(107,174,214)"
           ],
           [
            0.625,
            "rgb(66,146,198)"
           ],
           [
            0.75,
            "rgb(33,113,181)"
           ],
           [
            0.875,
            "rgb(8,81,156)"
           ],
           [
            1,
            "rgb(8,48,107)"
           ]
          ],
          "reversescale": false,
          "showscale": true
         },
         "type": "parcoords"
        }
       ],
       "layout": {
        "template": {
         "data": {
          "bar": [
           {
            "error_x": {
             "color": "#2a3f5f"
            },
            "error_y": {
             "color": "#2a3f5f"
            },
            "marker": {
             "line": {
              "color": "white",
              "width": 0.5
             },
             "pattern": {
              "fillmode": "overlay",
              "size": 10,
              "solidity": 0.2
             }
            },
            "type": "bar"
           }
          ],
          "barpolar": [
           {
            "marker": {
             "line": {
              "color": "white",
              "width": 0.5
             },
             "pattern": {
              "fillmode": "overlay",
              "size": 10,
              "solidity": 0.2
             }
            },
            "type": "barpolar"
           }
          ],
          "carpet": [
           {
            "aaxis": {
             "endlinecolor": "#2a3f5f",
             "gridcolor": "#C8D4E3",
             "linecolor": "#C8D4E3",
             "minorgridcolor": "#C8D4E3",
             "startlinecolor": "#2a3f5f"
            },
            "baxis": {
             "endlinecolor": "#2a3f5f",
             "gridcolor": "#C8D4E3",
             "linecolor": "#C8D4E3",
             "minorgridcolor": "#C8D4E3",
             "startlinecolor": "#2a3f5f"
            },
            "type": "carpet"
           }
          ],
          "choropleth": [
           {
            "colorbar": {
             "outlinewidth": 0,
             "ticks": ""
            },
            "type": "choropleth"
           }
          ],
          "contour": [
           {
            "colorbar": {
             "outlinewidth": 0,
             "ticks": ""
            },
            "colorscale": [
             [
              0,
              "#0d0887"
             ],
             [
              0.1111111111111111,
              "#46039f"
             ],
             [
              0.2222222222222222,
              "#7201a8"
             ],
             [
              0.3333333333333333,
              "#9c179e"
             ],
             [
              0.4444444444444444,
              "#bd3786"
             ],
             [
              0.5555555555555556,
              "#d8576b"
             ],
             [
              0.6666666666666666,
              "#ed7953"
             ],
             [
              0.7777777777777778,
              "#fb9f3a"
             ],
             [
              0.8888888888888888,
              "#fdca26"
             ],
             [
              1,
              "#f0f921"
             ]
            ],
            "type": "contour"
           }
          ],
          "contourcarpet": [
           {
            "colorbar": {
             "outlinewidth": 0,
             "ticks": ""
            },
            "type": "contourcarpet"
           }
          ],
          "heatmap": [
           {
            "colorbar": {
             "outlinewidth": 0,
             "ticks": ""
            },
            "colorscale": [
             [
              0,
              "#0d0887"
             ],
             [
              0.1111111111111111,
              "#46039f"
             ],
             [
              0.2222222222222222,
              "#7201a8"
             ],
             [
              0.3333333333333333,
              "#9c179e"
             ],
             [
              0.4444444444444444,
              "#bd3786"
             ],
             [
              0.5555555555555556,
              "#d8576b"
             ],
             [
              0.6666666666666666,
              "#ed7953"
             ],
             [
              0.7777777777777778,
              "#fb9f3a"
             ],
             [
              0.8888888888888888,
              "#fdca26"
             ],
             [
              1,
              "#f0f921"
             ]
            ],
            "type": "heatmap"
           }
          ],
          "histogram": [
           {
            "marker": {
             "pattern": {
              "fillmode": "overlay",
              "size": 10,
              "solidity": 0.2
             }
            },
            "type": "histogram"
           }
          ],
          "histogram2d": [
           {
            "colorbar": {
             "outlinewidth": 0,
             "ticks": ""
            },
            "colorscale": [
             [
              0,
              "#0d0887"
             ],
             [
              0.1111111111111111,
              "#46039f"
             ],
             [
              0.2222222222222222,
              "#7201a8"
             ],
             [
              0.3333333333333333,
              "#9c179e"
             ],
             [
              0.4444444444444444,
              "#bd3786"
             ],
             [
              0.5555555555555556,
              "#d8576b"
             ],
             [
              0.6666666666666666,
              "#ed7953"
             ],
             [
              0.7777777777777778,
              "#fb9f3a"
             ],
             [
              0.8888888888888888,
              "#fdca26"
             ],
             [
              1,
              "#f0f921"
             ]
            ],
            "type": "histogram2d"
           }
          ],
          "histogram2dcontour": [
           {
            "colorbar": {
             "outlinewidth": 0,
             "ticks": ""
            },
            "colorscale": [
             [
              0,
              "#0d0887"
             ],
             [
              0.1111111111111111,
              "#46039f"
             ],
             [
              0.2222222222222222,
              "#7201a8"
             ],
             [
              0.3333333333333333,
              "#9c179e"
             ],
             [
              0.4444444444444444,
              "#bd3786"
             ],
             [
              0.5555555555555556,
              "#d8576b"
             ],
             [
              0.6666666666666666,
              "#ed7953"
             ],
             [
              0.7777777777777778,
              "#fb9f3a"
             ],
             [
              0.8888888888888888,
              "#fdca26"
             ],
             [
              1,
              "#f0f921"
             ]
            ],
            "type": "histogram2dcontour"
           }
          ],
          "mesh3d": [
           {
            "colorbar": {
             "outlinewidth": 0,
             "ticks": ""
            },
            "type": "mesh3d"
           }
          ],
          "parcoords": [
           {
            "line": {
             "colorbar": {
              "outlinewidth": 0,
              "ticks": ""
             }
            },
            "type": "parcoords"
           }
          ],
          "pie": [
           {
            "automargin": true,
            "type": "pie"
           }
          ],
          "scatter": [
           {
            "fillpattern": {
             "fillmode": "overlay",
             "size": 10,
             "solidity": 0.2
            },
            "type": "scatter"
           }
          ],
          "scatter3d": [
           {
            "line": {
             "colorbar": {
              "outlinewidth": 0,
              "ticks": ""
             }
            },
            "marker": {
             "colorbar": {
              "outlinewidth": 0,
              "ticks": ""
             }
            },
            "type": "scatter3d"
           }
          ],
          "scattercarpet": [
           {
            "marker": {
             "colorbar": {
              "outlinewidth": 0,
              "ticks": ""
             }
            },
            "type": "scattercarpet"
           }
          ],
          "scattergeo": [
           {
            "marker": {
             "colorbar": {
              "outlinewidth": 0,
              "ticks": ""
             }
            },
            "type": "scattergeo"
           }
          ],
          "scattergl": [
           {
            "marker": {
             "colorbar": {
              "outlinewidth": 0,
              "ticks": ""
             }
            },
            "type": "scattergl"
           }
          ],
          "scattermap": [
           {
            "marker": {
             "colorbar": {
              "outlinewidth": 0,
              "ticks": ""
             }
            },
            "type": "scattermap"
           }
          ],
          "scattermapbox": [
           {
            "marker": {
             "colorbar": {
              "outlinewidth": 0,
              "ticks": ""
             }
            },
            "type": "scattermapbox"
           }
          ],
          "scatterpolar": [
           {
            "marker": {
             "colorbar": {
              "outlinewidth": 0,
              "ticks": ""
             }
            },
            "type": "scatterpolar"
           }
          ],
          "scatterpolargl": [
           {
            "marker": {
             "colorbar": {
              "outlinewidth": 0,
              "ticks": ""
             }
            },
            "type": "scatterpolargl"
           }
          ],
          "scatterternary": [
           {
            "marker": {
             "colorbar": {
              "outlinewidth": 0,
              "ticks": ""
             }
            },
            "type": "scatterternary"
           }
          ],
          "surface": [
           {
            "colorbar": {
             "outlinewidth": 0,
             "ticks": ""
            },
            "colorscale": [
             [
              0,
              "#0d0887"
             ],
             [
              0.1111111111111111,
              "#46039f"
             ],
             [
              0.2222222222222222,
              "#7201a8"
             ],
             [
              0.3333333333333333,
              "#9c179e"
             ],
             [
              0.4444444444444444,
              "#bd3786"
             ],
             [
              0.5555555555555556,
              "#d8576b"
             ],
             [
              0.6666666666666666,
              "#ed7953"
             ],
             [
              0.7777777777777778,
              "#fb9f3a"
             ],
             [
              0.8888888888888888,
              "#fdca26"
             ],
             [
              1,
              "#f0f921"
             ]
            ],
            "type": "surface"
           }
          ],
          "table": [
           {
            "cells": {
             "fill": {
              "color": "#EBF0F8"
             },
             "line": {
              "color": "white"
             }
            },
            "header": {
             "fill": {
              "color": "#C8D4E3"
             },
             "line": {
              "color": "white"
             }
            },
            "type": "table"
           }
          ]
         },
         "layout": {
          "annotationdefaults": {
           "arrowcolor": "#2a3f5f",
           "arrowhead": 0,
           "arrowwidth": 1
          },
          "autotypenumbers": "strict",
          "coloraxis": {
           "colorbar": {
            "outlinewidth": 0,
            "ticks": ""
           }
          },
          "colorscale": {
           "diverging": [
            [
             0,
             "#8e0152"
            ],
            [
             0.1,
             "#c51b7d"
            ],
            [
             0.2,
             "#de77ae"
            ],
            [
             0.3,
             "#f1b6da"
            ],
            [
             0.4,
             "#fde0ef"
            ],
            [
             0.5,
             "#f7f7f7"
            ],
            [
             0.6,
             "#e6f5d0"
            ],
            [
             0.7,
             "#b8e186"
            ],
            [
             0.8,
             "#7fbc41"
            ],
            [
             0.9,
             "#4d9221"
            ],
            [
             1,
             "#276419"
            ]
           ],
           "sequential": [
            [
             0,
             "#0d0887"
            ],
            [
             0.1111111111111111,
             "#46039f"
            ],
            [
             0.2222222222222222,
             "#7201a8"
            ],
            [
             0.3333333333333333,
             "#9c179e"
            ],
            [
             0.4444444444444444,
             "#bd3786"
            ],
            [
             0.5555555555555556,
             "#d8576b"
            ],
            [
             0.6666666666666666,
             "#ed7953"
            ],
            [
             0.7777777777777778,
             "#fb9f3a"
            ],
            [
             0.8888888888888888,
             "#fdca26"
            ],
            [
             1,
             "#f0f921"
            ]
           ],
           "sequentialminus": [
            [
             0,
             "#0d0887"
            ],
            [
             0.1111111111111111,
             "#46039f"
            ],
            [
             0.2222222222222222,
             "#7201a8"
            ],
            [
             0.3333333333333333,
             "#9c179e"
            ],
            [
             0.4444444444444444,
             "#bd3786"
            ],
            [
             0.5555555555555556,
             "#d8576b"
            ],
            [
             0.6666666666666666,
             "#ed7953"
            ],
            [
             0.7777777777777778,
             "#fb9f3a"
            ],
            [
             0.8888888888888888,
             "#fdca26"
            ],
            [
             1,
             "#f0f921"
            ]
           ]
          },
          "colorway": [
           "#636efa",
           "#EF553B",
           "#00cc96",
           "#ab63fa",
           "#FFA15A",
           "#19d3f3",
           "#FF6692",
           "#B6E880",
           "#FF97FF",
           "#FECB52"
          ],
          "font": {
           "color": "#2a3f5f"
          },
          "geo": {
           "bgcolor": "white",
           "lakecolor": "white",
           "landcolor": "white",
           "showlakes": true,
           "showland": true,
           "subunitcolor": "#C8D4E3"
          },
          "hoverlabel": {
           "align": "left"
          },
          "hovermode": "closest",
          "mapbox": {
           "style": "light"
          },
          "paper_bgcolor": "white",
          "plot_bgcolor": "white",
          "polar": {
           "angularaxis": {
            "gridcolor": "#EBF0F8",
            "linecolor": "#EBF0F8",
            "ticks": ""
           },
           "bgcolor": "white",
           "radialaxis": {
            "gridcolor": "#EBF0F8",
            "linecolor": "#EBF0F8",
            "ticks": ""
           }
          },
          "scene": {
           "xaxis": {
            "backgroundcolor": "white",
            "gridcolor": "#DFE8F3",
            "gridwidth": 2,
            "linecolor": "#EBF0F8",
            "showbackground": true,
            "ticks": "",
            "zerolinecolor": "#EBF0F8"
           },
           "yaxis": {
            "backgroundcolor": "white",
            "gridcolor": "#DFE8F3",
            "gridwidth": 2,
            "linecolor": "#EBF0F8",
            "showbackground": true,
            "ticks": "",
            "zerolinecolor": "#EBF0F8"
           },
           "zaxis": {
            "backgroundcolor": "white",
            "gridcolor": "#DFE8F3",
            "gridwidth": 2,
            "linecolor": "#EBF0F8",
            "showbackground": true,
            "ticks": "",
            "zerolinecolor": "#EBF0F8"
           }
          },
          "shapedefaults": {
           "line": {
            "color": "#2a3f5f"
           }
          },
          "ternary": {
           "aaxis": {
            "gridcolor": "#DFE8F3",
            "linecolor": "#A2B1C6",
            "ticks": ""
           },
           "baxis": {
            "gridcolor": "#DFE8F3",
            "linecolor": "#A2B1C6",
            "ticks": ""
           },
           "bgcolor": "white",
           "caxis": {
            "gridcolor": "#DFE8F3",
            "linecolor": "#A2B1C6",
            "ticks": ""
           }
          },
          "title": {
           "x": 0.05
          },
          "xaxis": {
           "automargin": true,
           "gridcolor": "#EBF0F8",
           "linecolor": "#EBF0F8",
           "ticks": "",
           "title": {
            "standoff": 15
           },
           "zerolinecolor": "#EBF0F8",
           "zerolinewidth": 2
          },
          "yaxis": {
           "automargin": true,
           "gridcolor": "#EBF0F8",
           "linecolor": "#EBF0F8",
           "ticks": "",
           "title": {
            "standoff": 15
           },
           "zerolinecolor": "#EBF0F8",
           "zerolinewidth": 2
          }
         }
        },
        "title": {
         "text": "Параллельные координаты: XGBoost"
        }
       }
      }
     },
     "metadata": {},
     "output_type": "display_data"
    },
    {
     "name": "stdout",
     "output_type": "stream",
     "text": [
      "💾 Сохраняем результаты...\n",
      "✅ Результаты сохранены: XGBoost -> RMSE: 40.7255\n",
      "================================================================================\n",
      "\n"
     ]
    }
   ],
   "source": [
    "analyze_optuna_results(\n",
    "    xgb_optuna, \n",
    "    'XGBoost', \n",
    "    1, \n",
    "    results, \n",
    "    best_params,\n",
    "    show_plots=True,\n",
    "    show_top_trials=5\n",
    ")"
   ]
  },
  {
   "cell_type": "markdown",
   "id": "1f667cef",
   "metadata": {},
   "source": [
    "![xgb1](images/xgb1.png)\n",
    "![xgb2](images/xgb2.png)"
   ]
  },
  {
   "cell_type": "markdown",
   "id": "5c9ac45c",
   "metadata": {},
   "source": [
    "## Catboost model"
   ]
  },
  {
   "cell_type": "code",
   "execution_count": null,
   "id": "27c25b31",
   "metadata": {},
   "outputs": [],
   "source": [
    "cat_optuna_params = {\n",
    "    'preprocessor__keywords_features__n_components': dist.IntDistribution(36, 72, step=18),\n",
    "    \n",
    "    'model__threshold': dist.FloatDistribution(0.4, 0.8, step=0.01),\n",
    "    \n",
    "    'model__classifier__iterations': dist.IntDistribution(800, 1000, step=100),\n",
    "    'model__classifier__depth': dist.IntDistribution(4, 12, step=1),\n",
    "    'model__classifier__learning_rate': dist.FloatDistribution(0.01, 0.2, step=0.01),\n",
    "    'model__classifier__l2_leaf_reg': dist.FloatDistribution(0.5, 20, log=True),\n",
    "    \n",
    "    'model__regressor__iterations': dist.IntDistribution(600, 1000, step=100),\n",
    "    'model__regressor__depth': dist.IntDistribution(4, 12, step=1),\n",
    "    'model__regressor__learning_rate': dist.FloatDistribution(0.01, 0.2, step=0.01),\n",
    "    'model__regressor__l2_leaf_reg': dist.FloatDistribution(0.5, 20, log=True),\n",
    "}\n",
    "\n",
    "cat_cls_model = CatBoostClassifier(\n",
    "    random_seed=SEED,\n",
    "    task_type=\"GPU\",\n",
    "    verbose=False,\n",
    "    auto_class_weights='Balanced',\n",
    ")\n",
    "\n",
    "cat_reg_model = CatBoostRegressor(\n",
    "    random_seed=SEED,\n",
    "    task_type=\"GPU\",\n",
    "    verbose=False,\n",
    ")\n",
    "\n",
    "cat_pipeline = Pipeline([\n",
    "    ('preprocessor', preprocessor),\n",
    "    ('model', ZeroInflatedRegressor(cat_cls_model, cat_reg_model))\n",
    "])\n",
    "\n",
    "cat_optuna = OptunaSearchCV(\n",
    "    cat_pipeline,\n",
    "    cat_optuna_params,\n",
    "    cv=cv,\n",
    "    n_trials=200,\n",
    "    scoring='neg_root_mean_squared_error',\n",
    "    refit=True,\n",
    "    random_state=SEED,\n",
    "    n_jobs=1,\n",
    "    verbose=1,\n",
    "    timeout=3600,\n",
    "    callbacks=[\n",
    "        optuna.study.MaxTrialsCallback(200, states=(optuna.trial.TrialState.COMPLETE,)),\n",
    "    ]\n",
    ")\n",
    "\n",
    "cat_optuna.fit(X_train, y_train)\n",
    "best_cat_model = cat_optuna.best_estimator_"
   ]
  },
  {
   "cell_type": "code",
   "execution_count": 23,
   "id": "947b2e22",
   "metadata": {},
   "outputs": [
    {
     "name": "stdout",
     "output_type": "stream",
     "text": [
      "================================================================================\n",
      "🎯 CatBoost\n",
      "================================================================================\n",
      "✅ Лучшие параметры: {'preprocessor__keywords_features__n_components': 36, 'model__threshold': 0.55, 'model__classifier__iterations': 1000, 'model__classifier__depth': 12, 'model__classifier__learning_rate': 0.06999999999999999, 'model__classifier__l2_leaf_reg': 0.5224269764458747, 'model__regressor__iterations': 1000, 'model__regressor__depth': 9, 'model__regressor__learning_rate': 0.2, 'model__regressor__l2_leaf_reg': 17.321663749188435}\n",
      "--------------------------------------------------------------------------------\n",
      "📊 Наилучший RMSE на кросс-валидации: 41.6007\n",
      "📈 Стандартное отклонение: ±0.1325\n",
      "🎯 95% доверительный интервал: [41.3411, 41.8604]\n",
      "🔄 Общее количество trials: 21\n",
      "✅ Успешных: 21\n",
      "❌ Неудачных: 0\n",
      "✂️  Обрезанных (pruned): 0\n",
      "📊 Среднее RMSE: 47.3379\n",
      "📊 Медианное RMSE: 47.4076\n",
      "📊 Стандартное отклонение RMSE: 4.8447\n",
      "\n",
      "🏆 Топ-5 результатов:\n",
      "   1. RMSE: 41.6007 (trial #10)\n",
      "   2. RMSE: 41.6069 (trial #11)\n",
      "   3. RMSE: 42.1351 (trial #7)\n",
      "   4. RMSE: 42.5117 (trial #20)\n",
      "   5. RMSE: 43.0233 (trial #12)\n",
      "================================================================================\n",
      "📈 Строим графики...\n"
     ]
    },
    {
     "data": {
      "application/vnd.plotly.v1+json": {
       "config": {
        "plotlyServerURL": "https://plot.ly"
       },
       "data": [
        {
         "marker": {
          "color": [
           44.03868725808158,
           52.97265347732156,
           49.62996226427722,
           50.98917712645314,
           49.26560036376814,
           49.28895108745268,
           51.22588257723138,
           42.13512826842626,
           45.7537027596238,
           61.68421785093252,
           41.600717963290414,
           41.60691671695034,
           43.02334667885626,
           48.0126957518485,
           45.06198295261711,
           43.09146347996221,
           43.12780203457516,
           50.586350843857325,
           47.407619488058884,
           51.081431703694484,
           42.51168860963445
          ],
          "colorbar": {
           "title": {
            "text": "RMSE"
           },
           "x": 0.45
          },
          "colorscale": [
           [
            0,
            "rgb(49,54,149)"
           ],
           [
            0.1,
            "rgb(69,117,180)"
           ],
           [
            0.2,
            "rgb(116,173,209)"
           ],
           [
            0.3,
            "rgb(171,217,233)"
           ],
           [
            0.4,
            "rgb(224,243,248)"
           ],
           [
            0.5,
            "rgb(255,255,191)"
           ],
           [
            0.6,
            "rgb(254,224,144)"
           ],
           [
            0.7,
            "rgb(253,174,97)"
           ],
           [
            0.8,
            "rgb(244,109,67)"
           ],
           [
            0.9,
            "rgb(215,48,39)"
           ],
           [
            1,
            "rgb(165,0,38)"
           ]
          ],
          "showscale": true
         },
         "mode": "markers",
         "name": "Trial RMSE",
         "opacity": 0.6,
         "type": "scatter",
         "x": [
          0,
          1,
          2,
          3,
          4,
          5,
          6,
          7,
          8,
          9,
          10,
          11,
          12,
          13,
          14,
          15,
          16,
          17,
          18,
          19,
          20
         ],
         "xaxis": "x",
         "y": [
          44.03868725808158,
          52.97265347732156,
          49.62996226427722,
          50.98917712645314,
          49.26560036376814,
          49.28895108745268,
          51.22588257723138,
          42.13512826842626,
          45.7537027596238,
          61.68421785093252,
          41.600717963290414,
          41.60691671695034,
          43.02334667885626,
          48.0126957518485,
          45.06198295261711,
          43.09146347996221,
          43.12780203457516,
          50.586350843857325,
          47.407619488058884,
          51.081431703694484,
          42.51168860963445
         ],
         "yaxis": "y"
        },
        {
         "line": {
          "color": "red",
          "width": 3
         },
         "mode": "lines",
         "name": "Лучший RMSE",
         "type": "scatter",
         "x": [
          0,
          1,
          2,
          3,
          4,
          5,
          6,
          7,
          8,
          9,
          10,
          11,
          12,
          13,
          14,
          15,
          16,
          17,
          18,
          19,
          20
         ],
         "xaxis": "x",
         "y": [
          44.03868725808158,
          44.03868725808158,
          44.03868725808158,
          44.03868725808158,
          44.03868725808158,
          44.03868725808158,
          44.03868725808158,
          42.13512826842626,
          42.13512826842626,
          42.13512826842626,
          41.600717963290414,
          41.600717963290414,
          41.600717963290414,
          41.600717963290414,
          41.600717963290414,
          41.600717963290414,
          41.600717963290414,
          41.600717963290414,
          41.600717963290414,
          41.600717963290414,
          41.600717963290414
         ],
         "yaxis": "y"
        },
        {
         "marker": {
          "color": "lightblue"
         },
         "name": "Распределение RMSE",
         "nbinsx": 20,
         "opacity": 0.7,
         "type": "histogram",
         "x": [
          44.03868725808158,
          52.97265347732156,
          49.62996226427722,
          50.98917712645314,
          49.26560036376814,
          49.28895108745268,
          51.22588257723138,
          42.13512826842626,
          45.7537027596238,
          61.68421785093252,
          41.600717963290414,
          41.60691671695034,
          43.02334667885626,
          48.0126957518485,
          45.06198295261711,
          43.09146347996221,
          43.12780203457516,
          50.586350843857325,
          47.407619488058884,
          51.081431703694484,
          42.51168860963445
         ],
         "xaxis": "x2",
         "yaxis": "y2"
        },
        {
         "marker": {
          "color": "lightgreen"
         },
         "name": "Важность",
         "orientation": "h",
         "type": "bar",
         "x": [
          0.5950420605740584,
          0.09594217180216805,
          0.09402893777207634,
          0.08372800022170862,
          0.053172199435685845,
          0.033293301184315324,
          0.02125246262971364,
          0.011777379225109554,
          0.008178369507384896,
          0.003585117647779364
         ],
         "xaxis": "x3",
         "y": [
          "cls_depth",
          "reg_l2_leaf_reg",
          "cls_l2_leaf_reg",
          "reg_learning_rate",
          "reg_depth",
          "cls_learning_rate",
          "cls_iterations",
          "reg_iterations",
          "threshold",
          "preprocessor__keywords_features__n_components"
         ],
         "yaxis": "y3"
        },
        {
         "line": {
          "color": "orange",
          "width": 2
         },
         "mode": "lines",
         "name": "Скользящее среднее (4)",
         "type": "scatter",
         "x": [
          0,
          1,
          2,
          3,
          4,
          5,
          6,
          7,
          8,
          9,
          10,
          11,
          12,
          13,
          14,
          15,
          16,
          17,
          18,
          19,
          20
         ],
         "xaxis": "x4",
         "y": {
          "bdata": "AAAAAAAA+H8AAAAAAAD4fwAAAAAAAPh/r1Co5Cy0SEBTT+7Db1tJQHG5GOCO5UhAkZ6Sp6AYSUBlUU1JTP1HQPm6N9LqjEdA6IWz2JAZSUAiFnt/j+VHQHa3kWOo1EdA3IzaT0l9R0BuyfAzzMdFQMRHvOKONkZAXdjyShBmRkDq7rT9Z2lGQH5aoV/Du0ZATFv709IGR0CYe9KlgAZIQLIjUnLJ8kdA",
          "dtype": "f8"
         },
         "yaxis": "y4"
        }
       ],
       "layout": {
        "annotations": [
         {
          "font": {
           "size": 16
          },
          "showarrow": false,
          "text": "История оптимизации",
          "x": 0.225,
          "xanchor": "center",
          "xref": "paper",
          "y": 1,
          "yanchor": "bottom",
          "yref": "paper"
         },
         {
          "font": {
           "size": 16
          },
          "showarrow": false,
          "text": "Распределение RMSE",
          "x": 0.775,
          "xanchor": "center",
          "xref": "paper",
          "y": 1,
          "yanchor": "bottom",
          "yref": "paper"
         },
         {
          "font": {
           "size": 16
          },
          "showarrow": false,
          "text": "Важность параметров",
          "x": 0.225,
          "xanchor": "center",
          "xref": "paper",
          "y": 0.375,
          "yanchor": "bottom",
          "yref": "paper"
         },
         {
          "font": {
           "size": 16
          },
          "showarrow": false,
          "text": "Прогресс лучших результатов",
          "x": 0.775,
          "xanchor": "center",
          "xref": "paper",
          "y": 0.375,
          "yanchor": "bottom",
          "yref": "paper"
         }
        ],
        "height": 800,
        "showlegend": true,
        "template": {
         "data": {
          "bar": [
           {
            "error_x": {
             "color": "#2a3f5f"
            },
            "error_y": {
             "color": "#2a3f5f"
            },
            "marker": {
             "line": {
              "color": "white",
              "width": 0.5
             },
             "pattern": {
              "fillmode": "overlay",
              "size": 10,
              "solidity": 0.2
             }
            },
            "type": "bar"
           }
          ],
          "barpolar": [
           {
            "marker": {
             "line": {
              "color": "white",
              "width": 0.5
             },
             "pattern": {
              "fillmode": "overlay",
              "size": 10,
              "solidity": 0.2
             }
            },
            "type": "barpolar"
           }
          ],
          "carpet": [
           {
            "aaxis": {
             "endlinecolor": "#2a3f5f",
             "gridcolor": "#C8D4E3",
             "linecolor": "#C8D4E3",
             "minorgridcolor": "#C8D4E3",
             "startlinecolor": "#2a3f5f"
            },
            "baxis": {
             "endlinecolor": "#2a3f5f",
             "gridcolor": "#C8D4E3",
             "linecolor": "#C8D4E3",
             "minorgridcolor": "#C8D4E3",
             "startlinecolor": "#2a3f5f"
            },
            "type": "carpet"
           }
          ],
          "choropleth": [
           {
            "colorbar": {
             "outlinewidth": 0,
             "ticks": ""
            },
            "type": "choropleth"
           }
          ],
          "contour": [
           {
            "colorbar": {
             "outlinewidth": 0,
             "ticks": ""
            },
            "colorscale": [
             [
              0,
              "#0d0887"
             ],
             [
              0.1111111111111111,
              "#46039f"
             ],
             [
              0.2222222222222222,
              "#7201a8"
             ],
             [
              0.3333333333333333,
              "#9c179e"
             ],
             [
              0.4444444444444444,
              "#bd3786"
             ],
             [
              0.5555555555555556,
              "#d8576b"
             ],
             [
              0.6666666666666666,
              "#ed7953"
             ],
             [
              0.7777777777777778,
              "#fb9f3a"
             ],
             [
              0.8888888888888888,
              "#fdca26"
             ],
             [
              1,
              "#f0f921"
             ]
            ],
            "type": "contour"
           }
          ],
          "contourcarpet": [
           {
            "colorbar": {
             "outlinewidth": 0,
             "ticks": ""
            },
            "type": "contourcarpet"
           }
          ],
          "heatmap": [
           {
            "colorbar": {
             "outlinewidth": 0,
             "ticks": ""
            },
            "colorscale": [
             [
              0,
              "#0d0887"
             ],
             [
              0.1111111111111111,
              "#46039f"
             ],
             [
              0.2222222222222222,
              "#7201a8"
             ],
             [
              0.3333333333333333,
              "#9c179e"
             ],
             [
              0.4444444444444444,
              "#bd3786"
             ],
             [
              0.5555555555555556,
              "#d8576b"
             ],
             [
              0.6666666666666666,
              "#ed7953"
             ],
             [
              0.7777777777777778,
              "#fb9f3a"
             ],
             [
              0.8888888888888888,
              "#fdca26"
             ],
             [
              1,
              "#f0f921"
             ]
            ],
            "type": "heatmap"
           }
          ],
          "histogram": [
           {
            "marker": {
             "pattern": {
              "fillmode": "overlay",
              "size": 10,
              "solidity": 0.2
             }
            },
            "type": "histogram"
           }
          ],
          "histogram2d": [
           {
            "colorbar": {
             "outlinewidth": 0,
             "ticks": ""
            },
            "colorscale": [
             [
              0,
              "#0d0887"
             ],
             [
              0.1111111111111111,
              "#46039f"
             ],
             [
              0.2222222222222222,
              "#7201a8"
             ],
             [
              0.3333333333333333,
              "#9c179e"
             ],
             [
              0.4444444444444444,
              "#bd3786"
             ],
             [
              0.5555555555555556,
              "#d8576b"
             ],
             [
              0.6666666666666666,
              "#ed7953"
             ],
             [
              0.7777777777777778,
              "#fb9f3a"
             ],
             [
              0.8888888888888888,
              "#fdca26"
             ],
             [
              1,
              "#f0f921"
             ]
            ],
            "type": "histogram2d"
           }
          ],
          "histogram2dcontour": [
           {
            "colorbar": {
             "outlinewidth": 0,
             "ticks": ""
            },
            "colorscale": [
             [
              0,
              "#0d0887"
             ],
             [
              0.1111111111111111,
              "#46039f"
             ],
             [
              0.2222222222222222,
              "#7201a8"
             ],
             [
              0.3333333333333333,
              "#9c179e"
             ],
             [
              0.4444444444444444,
              "#bd3786"
             ],
             [
              0.5555555555555556,
              "#d8576b"
             ],
             [
              0.6666666666666666,
              "#ed7953"
             ],
             [
              0.7777777777777778,
              "#fb9f3a"
             ],
             [
              0.8888888888888888,
              "#fdca26"
             ],
             [
              1,
              "#f0f921"
             ]
            ],
            "type": "histogram2dcontour"
           }
          ],
          "mesh3d": [
           {
            "colorbar": {
             "outlinewidth": 0,
             "ticks": ""
            },
            "type": "mesh3d"
           }
          ],
          "parcoords": [
           {
            "line": {
             "colorbar": {
              "outlinewidth": 0,
              "ticks": ""
             }
            },
            "type": "parcoords"
           }
          ],
          "pie": [
           {
            "automargin": true,
            "type": "pie"
           }
          ],
          "scatter": [
           {
            "fillpattern": {
             "fillmode": "overlay",
             "size": 10,
             "solidity": 0.2
            },
            "type": "scatter"
           }
          ],
          "scatter3d": [
           {
            "line": {
             "colorbar": {
              "outlinewidth": 0,
              "ticks": ""
             }
            },
            "marker": {
             "colorbar": {
              "outlinewidth": 0,
              "ticks": ""
             }
            },
            "type": "scatter3d"
           }
          ],
          "scattercarpet": [
           {
            "marker": {
             "colorbar": {
              "outlinewidth": 0,
              "ticks": ""
             }
            },
            "type": "scattercarpet"
           }
          ],
          "scattergeo": [
           {
            "marker": {
             "colorbar": {
              "outlinewidth": 0,
              "ticks": ""
             }
            },
            "type": "scattergeo"
           }
          ],
          "scattergl": [
           {
            "marker": {
             "colorbar": {
              "outlinewidth": 0,
              "ticks": ""
             }
            },
            "type": "scattergl"
           }
          ],
          "scattermap": [
           {
            "marker": {
             "colorbar": {
              "outlinewidth": 0,
              "ticks": ""
             }
            },
            "type": "scattermap"
           }
          ],
          "scattermapbox": [
           {
            "marker": {
             "colorbar": {
              "outlinewidth": 0,
              "ticks": ""
             }
            },
            "type": "scattermapbox"
           }
          ],
          "scatterpolar": [
           {
            "marker": {
             "colorbar": {
              "outlinewidth": 0,
              "ticks": ""
             }
            },
            "type": "scatterpolar"
           }
          ],
          "scatterpolargl": [
           {
            "marker": {
             "colorbar": {
              "outlinewidth": 0,
              "ticks": ""
             }
            },
            "type": "scatterpolargl"
           }
          ],
          "scatterternary": [
           {
            "marker": {
             "colorbar": {
              "outlinewidth": 0,
              "ticks": ""
             }
            },
            "type": "scatterternary"
           }
          ],
          "surface": [
           {
            "colorbar": {
             "outlinewidth": 0,
             "ticks": ""
            },
            "colorscale": [
             [
              0,
              "#0d0887"
             ],
             [
              0.1111111111111111,
              "#46039f"
             ],
             [
              0.2222222222222222,
              "#7201a8"
             ],
             [
              0.3333333333333333,
              "#9c179e"
             ],
             [
              0.4444444444444444,
              "#bd3786"
             ],
             [
              0.5555555555555556,
              "#d8576b"
             ],
             [
              0.6666666666666666,
              "#ed7953"
             ],
             [
              0.7777777777777778,
              "#fb9f3a"
             ],
             [
              0.8888888888888888,
              "#fdca26"
             ],
             [
              1,
              "#f0f921"
             ]
            ],
            "type": "surface"
           }
          ],
          "table": [
           {
            "cells": {
             "fill": {
              "color": "#EBF0F8"
             },
             "line": {
              "color": "white"
             }
            },
            "header": {
             "fill": {
              "color": "#C8D4E3"
             },
             "line": {
              "color": "white"
             }
            },
            "type": "table"
           }
          ]
         },
         "layout": {
          "annotationdefaults": {
           "arrowcolor": "#2a3f5f",
           "arrowhead": 0,
           "arrowwidth": 1
          },
          "autotypenumbers": "strict",
          "coloraxis": {
           "colorbar": {
            "outlinewidth": 0,
            "ticks": ""
           }
          },
          "colorscale": {
           "diverging": [
            [
             0,
             "#8e0152"
            ],
            [
             0.1,
             "#c51b7d"
            ],
            [
             0.2,
             "#de77ae"
            ],
            [
             0.3,
             "#f1b6da"
            ],
            [
             0.4,
             "#fde0ef"
            ],
            [
             0.5,
             "#f7f7f7"
            ],
            [
             0.6,
             "#e6f5d0"
            ],
            [
             0.7,
             "#b8e186"
            ],
            [
             0.8,
             "#7fbc41"
            ],
            [
             0.9,
             "#4d9221"
            ],
            [
             1,
             "#276419"
            ]
           ],
           "sequential": [
            [
             0,
             "#0d0887"
            ],
            [
             0.1111111111111111,
             "#46039f"
            ],
            [
             0.2222222222222222,
             "#7201a8"
            ],
            [
             0.3333333333333333,
             "#9c179e"
            ],
            [
             0.4444444444444444,
             "#bd3786"
            ],
            [
             0.5555555555555556,
             "#d8576b"
            ],
            [
             0.6666666666666666,
             "#ed7953"
            ],
            [
             0.7777777777777778,
             "#fb9f3a"
            ],
            [
             0.8888888888888888,
             "#fdca26"
            ],
            [
             1,
             "#f0f921"
            ]
           ],
           "sequentialminus": [
            [
             0,
             "#0d0887"
            ],
            [
             0.1111111111111111,
             "#46039f"
            ],
            [
             0.2222222222222222,
             "#7201a8"
            ],
            [
             0.3333333333333333,
             "#9c179e"
            ],
            [
             0.4444444444444444,
             "#bd3786"
            ],
            [
             0.5555555555555556,
             "#d8576b"
            ],
            [
             0.6666666666666666,
             "#ed7953"
            ],
            [
             0.7777777777777778,
             "#fb9f3a"
            ],
            [
             0.8888888888888888,
             "#fdca26"
            ],
            [
             1,
             "#f0f921"
            ]
           ]
          },
          "colorway": [
           "#636efa",
           "#EF553B",
           "#00cc96",
           "#ab63fa",
           "#FFA15A",
           "#19d3f3",
           "#FF6692",
           "#B6E880",
           "#FF97FF",
           "#FECB52"
          ],
          "font": {
           "color": "#2a3f5f"
          },
          "geo": {
           "bgcolor": "white",
           "lakecolor": "white",
           "landcolor": "white",
           "showlakes": true,
           "showland": true,
           "subunitcolor": "#C8D4E3"
          },
          "hoverlabel": {
           "align": "left"
          },
          "hovermode": "closest",
          "mapbox": {
           "style": "light"
          },
          "paper_bgcolor": "white",
          "plot_bgcolor": "white",
          "polar": {
           "angularaxis": {
            "gridcolor": "#EBF0F8",
            "linecolor": "#EBF0F8",
            "ticks": ""
           },
           "bgcolor": "white",
           "radialaxis": {
            "gridcolor": "#EBF0F8",
            "linecolor": "#EBF0F8",
            "ticks": ""
           }
          },
          "scene": {
           "xaxis": {
            "backgroundcolor": "white",
            "gridcolor": "#DFE8F3",
            "gridwidth": 2,
            "linecolor": "#EBF0F8",
            "showbackground": true,
            "ticks": "",
            "zerolinecolor": "#EBF0F8"
           },
           "yaxis": {
            "backgroundcolor": "white",
            "gridcolor": "#DFE8F3",
            "gridwidth": 2,
            "linecolor": "#EBF0F8",
            "showbackground": true,
            "ticks": "",
            "zerolinecolor": "#EBF0F8"
           },
           "zaxis": {
            "backgroundcolor": "white",
            "gridcolor": "#DFE8F3",
            "gridwidth": 2,
            "linecolor": "#EBF0F8",
            "showbackground": true,
            "ticks": "",
            "zerolinecolor": "#EBF0F8"
           }
          },
          "shapedefaults": {
           "line": {
            "color": "#2a3f5f"
           }
          },
          "ternary": {
           "aaxis": {
            "gridcolor": "#DFE8F3",
            "linecolor": "#A2B1C6",
            "ticks": ""
           },
           "baxis": {
            "gridcolor": "#DFE8F3",
            "linecolor": "#A2B1C6",
            "ticks": ""
           },
           "bgcolor": "white",
           "caxis": {
            "gridcolor": "#DFE8F3",
            "linecolor": "#A2B1C6",
            "ticks": ""
           }
          },
          "title": {
           "x": 0.05
          },
          "xaxis": {
           "automargin": true,
           "gridcolor": "#EBF0F8",
           "linecolor": "#EBF0F8",
           "ticks": "",
           "title": {
            "standoff": 15
           },
           "zerolinecolor": "#EBF0F8",
           "zerolinewidth": 2
          },
          "yaxis": {
           "automargin": true,
           "gridcolor": "#EBF0F8",
           "linecolor": "#EBF0F8",
           "ticks": "",
           "title": {
            "standoff": 15
           },
           "zerolinecolor": "#EBF0F8",
           "zerolinewidth": 2
          }
         }
        },
        "title": {
         "font": {
          "size": 16
         },
         "text": "Анализ оптимизации: CatBoost"
        },
        "xaxis": {
         "anchor": "y",
         "domain": [
          0,
          0.45
         ],
         "title": {
          "text": "Номер Trial"
         }
        },
        "xaxis2": {
         "anchor": "y2",
         "domain": [
          0.55,
          1
         ],
         "title": {
          "text": "RMSE"
         }
        },
        "xaxis3": {
         "anchor": "y3",
         "domain": [
          0,
          0.45
         ],
         "title": {
          "text": "Важность"
         }
        },
        "xaxis4": {
         "anchor": "y4",
         "domain": [
          0.55,
          1
         ],
         "title": {
          "text": "Номер Trial"
         }
        },
        "yaxis": {
         "anchor": "x",
         "domain": [
          0.625,
          1
         ],
         "title": {
          "text": "RMSE"
         }
        },
        "yaxis2": {
         "anchor": "x2",
         "domain": [
          0.625,
          1
         ],
         "title": {
          "text": "Частота"
         }
        },
        "yaxis3": {
         "anchor": "x3",
         "domain": [
          0,
          0.375
         ],
         "title": {
          "text": "Параметры"
         }
        },
        "yaxis4": {
         "anchor": "x4",
         "domain": [
          0,
          0.375
         ],
         "title": {
          "text": "RMSE (скользящее среднее)"
         }
        }
       }
      }
     },
     "metadata": {},
     "output_type": "display_data"
    },
    {
     "name": "stdout",
     "output_type": "stream",
     "text": [
      "📊 График параллельных координат...\n"
     ]
    },
    {
     "data": {
      "application/vnd.plotly.v1+json": {
       "config": {
        "plotlyServerURL": "https://plot.ly"
       },
       "data": [
        {
         "dimensions": [
          {
           "label": "Objective Value",
           "range": [
            -61.68421785093252,
            -41.600717963290414
           ],
           "values": [
            -44.03868725808158,
            -52.97265347732156,
            -49.62996226427722,
            -50.98917712645314,
            -49.26560036376814,
            -49.28895108745268,
            -51.22588257723138,
            -42.13512826842626,
            -45.7537027596238,
            -61.68421785093252,
            -41.600717963290414,
            -41.60691671695034,
            -43.02334667885626,
            -48.0126957518485,
            -45.06198295261711,
            -43.09146347996221,
            -43.12780203457516,
            -50.586350843857325,
            -47.407619488058884,
            -51.081431703694484,
            -42.51168860963445
           ]
          },
          {
           "label": "model__classifier...",
           "range": [
            4,
            12
           ],
           "values": [
            9,
            7,
            8,
            5,
            6,
            9,
            5,
            12,
            11,
            4,
            12,
            12,
            11,
            12,
            10,
            11,
            12,
            10,
            10,
            9,
            12
           ]
          },
          {
           "label": "model__classifier...",
           "range": [
            800,
            1000
           ],
           "values": [
            1000,
            1000,
            800,
            900,
            900,
            900,
            1000,
            1000,
            800,
            1000,
            1000,
            1000,
            900,
            1000,
            900,
            1000,
            1000,
            900,
            800,
            1000,
            900
           ]
          },
          {
           "label": "model__classifier...",
           "range": [
            -0.2970954845803372,
            1.2781343489817134
           ],
           "ticktext": [
            "0.505",
            "1",
            "10",
            "19"
           ],
           "tickvals": [
            -0.2970954845803372,
            0,
            1,
            1.2781343489817134
           ],
           "values": [
            -0.2724835052517582,
            0.15988382486684694,
            0.8993920558697323,
            1.2781343489817134,
            0.32952512574071957,
            0.810218994472671,
            0.8154647760726855,
            0.07919801703947568,
            0.2213219501879445,
            0.9117867636999076,
            -0.2819744055861631,
            -0.24219816330241037,
            -0.2970954845803372,
            -0.050900720308955594,
            -0.09314495232080675,
            0.4492717495046073,
            -0.125445799802865,
            0.5948001862479793,
            0.03909566143733667,
            -0.19050396362632516,
            0.5782466640222848
           ]
          },
          {
           "label": "model__classifier...",
           "range": [
            0.01,
            0.19
           ],
           "values": [
            0.17,
            0.13,
            0.17,
            0.11,
            0.15000000000000002,
            0.13,
            0.11,
            0.09999999999999999,
            0.060000000000000005,
            0.03,
            0.06999999999999999,
            0.06999999999999999,
            0.060000000000000005,
            0.01,
            0.06999999999999999,
            0.08,
            0.04,
            0.09,
            0.04,
            0.01,
            0.19
           ]
          },
          {
           "label": "model__regressor_...",
           "range": [
            4,
            12
           ],
           "values": [
            11,
            8,
            4,
            5,
            11,
            11,
            7,
            6,
            8,
            6,
            9,
            9,
            9,
            9,
            10,
            12,
            9,
            7,
            10,
            10,
            7
           ]
          },
          {
           "label": "model__regressor_...",
           "range": [
            600,
            1000
           ],
           "values": [
            600,
            700,
            900,
            600,
            900,
            900,
            800,
            1000,
            1000,
            900,
            1000,
            1000,
            1000,
            800,
            1000,
            800,
            1000,
            900,
            700,
            1000,
            800
           ]
          },
          {
           "label": "model__regressor_...",
           "range": [
            -0.2677193907540503,
            1.2956710421278357
           ],
           "ticktext": [
            "0.54",
            "1",
            "10",
            "19.8"
           ],
           "tickvals": [
            -0.2677193907540503,
            0,
            1,
            1.2956710421278357
           ],
           "values": [
            -0.2677193907540503,
            1.1293901355297922,
            0.5454537302454213,
            -0.0207886435877254,
            0.5352855810398602,
            0.7489608170569713,
            -0.12250623871335,
            1.0345957551191853,
            0.6960477158679138,
            0.11273384334467156,
            1.238589603754643,
            1.2956710421278357,
            1.2324328587341533,
            0.9799757366735985,
            1.295183946688552,
            0.893794698483508,
            0.23301451909131013,
            0.3313659693017556,
            0.8676436952074297,
            1.1272072362442738,
            1.1833695113857017
           ]
          },
          {
           "label": "model__regressor_...",
           "range": [
            0.01,
            0.2
           ],
           "values": [
            0.05,
            0.14,
            0.17,
            0.09,
            0.09999999999999999,
            0.18000000000000002,
            0.11,
            0.13,
            0.04,
            0.06999999999999999,
            0.2,
            0.19,
            0.2,
            0.2,
            0.16,
            0.15000000000000002,
            0.01,
            0.18000000000000002,
            0.2,
            0.13,
            0.17
           ]
          }
         ],
         "labelangle": 30,
         "labelside": "bottom",
         "line": {
          "color": [
           -44.03868725808158,
           -52.97265347732156,
           -49.62996226427722,
           -50.98917712645314,
           -49.26560036376814,
           -49.28895108745268,
           -51.22588257723138,
           -42.13512826842626,
           -45.7537027596238,
           -61.68421785093252,
           -41.600717963290414,
           -41.60691671695034,
           -43.02334667885626,
           -48.0126957518485,
           -45.06198295261711,
           -43.09146347996221,
           -43.12780203457516,
           -50.586350843857325,
           -47.407619488058884,
           -51.081431703694484,
           -42.51168860963445
          ],
          "colorbar": {
           "title": {
            "text": "Objective Value"
           }
          },
          "colorscale": [
           [
            0,
            "rgb(247,251,255)"
           ],
           [
            0.125,
            "rgb(222,235,247)"
           ],
           [
            0.25,
            "rgb(198,219,239)"
           ],
           [
            0.375,
            "rgb(158,202,225)"
           ],
           [
            0.5,
            "rgb(107,174,214)"
           ],
           [
            0.625,
            "rgb(66,146,198)"
           ],
           [
            0.75,
            "rgb(33,113,181)"
           ],
           [
            0.875,
            "rgb(8,81,156)"
           ],
           [
            1,
            "rgb(8,48,107)"
           ]
          ],
          "reversescale": false,
          "showscale": true
         },
         "type": "parcoords"
        }
       ],
       "layout": {
        "template": {
         "data": {
          "bar": [
           {
            "error_x": {
             "color": "#2a3f5f"
            },
            "error_y": {
             "color": "#2a3f5f"
            },
            "marker": {
             "line": {
              "color": "white",
              "width": 0.5
             },
             "pattern": {
              "fillmode": "overlay",
              "size": 10,
              "solidity": 0.2
             }
            },
            "type": "bar"
           }
          ],
          "barpolar": [
           {
            "marker": {
             "line": {
              "color": "white",
              "width": 0.5
             },
             "pattern": {
              "fillmode": "overlay",
              "size": 10,
              "solidity": 0.2
             }
            },
            "type": "barpolar"
           }
          ],
          "carpet": [
           {
            "aaxis": {
             "endlinecolor": "#2a3f5f",
             "gridcolor": "#C8D4E3",
             "linecolor": "#C8D4E3",
             "minorgridcolor": "#C8D4E3",
             "startlinecolor": "#2a3f5f"
            },
            "baxis": {
             "endlinecolor": "#2a3f5f",
             "gridcolor": "#C8D4E3",
             "linecolor": "#C8D4E3",
             "minorgridcolor": "#C8D4E3",
             "startlinecolor": "#2a3f5f"
            },
            "type": "carpet"
           }
          ],
          "choropleth": [
           {
            "colorbar": {
             "outlinewidth": 0,
             "ticks": ""
            },
            "type": "choropleth"
           }
          ],
          "contour": [
           {
            "colorbar": {
             "outlinewidth": 0,
             "ticks": ""
            },
            "colorscale": [
             [
              0,
              "#0d0887"
             ],
             [
              0.1111111111111111,
              "#46039f"
             ],
             [
              0.2222222222222222,
              "#7201a8"
             ],
             [
              0.3333333333333333,
              "#9c179e"
             ],
             [
              0.4444444444444444,
              "#bd3786"
             ],
             [
              0.5555555555555556,
              "#d8576b"
             ],
             [
              0.6666666666666666,
              "#ed7953"
             ],
             [
              0.7777777777777778,
              "#fb9f3a"
             ],
             [
              0.8888888888888888,
              "#fdca26"
             ],
             [
              1,
              "#f0f921"
             ]
            ],
            "type": "contour"
           }
          ],
          "contourcarpet": [
           {
            "colorbar": {
             "outlinewidth": 0,
             "ticks": ""
            },
            "type": "contourcarpet"
           }
          ],
          "heatmap": [
           {
            "colorbar": {
             "outlinewidth": 0,
             "ticks": ""
            },
            "colorscale": [
             [
              0,
              "#0d0887"
             ],
             [
              0.1111111111111111,
              "#46039f"
             ],
             [
              0.2222222222222222,
              "#7201a8"
             ],
             [
              0.3333333333333333,
              "#9c179e"
             ],
             [
              0.4444444444444444,
              "#bd3786"
             ],
             [
              0.5555555555555556,
              "#d8576b"
             ],
             [
              0.6666666666666666,
              "#ed7953"
             ],
             [
              0.7777777777777778,
              "#fb9f3a"
             ],
             [
              0.8888888888888888,
              "#fdca26"
             ],
             [
              1,
              "#f0f921"
             ]
            ],
            "type": "heatmap"
           }
          ],
          "histogram": [
           {
            "marker": {
             "pattern": {
              "fillmode": "overlay",
              "size": 10,
              "solidity": 0.2
             }
            },
            "type": "histogram"
           }
          ],
          "histogram2d": [
           {
            "colorbar": {
             "outlinewidth": 0,
             "ticks": ""
            },
            "colorscale": [
             [
              0,
              "#0d0887"
             ],
             [
              0.1111111111111111,
              "#46039f"
             ],
             [
              0.2222222222222222,
              "#7201a8"
             ],
             [
              0.3333333333333333,
              "#9c179e"
             ],
             [
              0.4444444444444444,
              "#bd3786"
             ],
             [
              0.5555555555555556,
              "#d8576b"
             ],
             [
              0.6666666666666666,
              "#ed7953"
             ],
             [
              0.7777777777777778,
              "#fb9f3a"
             ],
             [
              0.8888888888888888,
              "#fdca26"
             ],
             [
              1,
              "#f0f921"
             ]
            ],
            "type": "histogram2d"
           }
          ],
          "histogram2dcontour": [
           {
            "colorbar": {
             "outlinewidth": 0,
             "ticks": ""
            },
            "colorscale": [
             [
              0,
              "#0d0887"
             ],
             [
              0.1111111111111111,
              "#46039f"
             ],
             [
              0.2222222222222222,
              "#7201a8"
             ],
             [
              0.3333333333333333,
              "#9c179e"
             ],
             [
              0.4444444444444444,
              "#bd3786"
             ],
             [
              0.5555555555555556,
              "#d8576b"
             ],
             [
              0.6666666666666666,
              "#ed7953"
             ],
             [
              0.7777777777777778,
              "#fb9f3a"
             ],
             [
              0.8888888888888888,
              "#fdca26"
             ],
             [
              1,
              "#f0f921"
             ]
            ],
            "type": "histogram2dcontour"
           }
          ],
          "mesh3d": [
           {
            "colorbar": {
             "outlinewidth": 0,
             "ticks": ""
            },
            "type": "mesh3d"
           }
          ],
          "parcoords": [
           {
            "line": {
             "colorbar": {
              "outlinewidth": 0,
              "ticks": ""
             }
            },
            "type": "parcoords"
           }
          ],
          "pie": [
           {
            "automargin": true,
            "type": "pie"
           }
          ],
          "scatter": [
           {
            "fillpattern": {
             "fillmode": "overlay",
             "size": 10,
             "solidity": 0.2
            },
            "type": "scatter"
           }
          ],
          "scatter3d": [
           {
            "line": {
             "colorbar": {
              "outlinewidth": 0,
              "ticks": ""
             }
            },
            "marker": {
             "colorbar": {
              "outlinewidth": 0,
              "ticks": ""
             }
            },
            "type": "scatter3d"
           }
          ],
          "scattercarpet": [
           {
            "marker": {
             "colorbar": {
              "outlinewidth": 0,
              "ticks": ""
             }
            },
            "type": "scattercarpet"
           }
          ],
          "scattergeo": [
           {
            "marker": {
             "colorbar": {
              "outlinewidth": 0,
              "ticks": ""
             }
            },
            "type": "scattergeo"
           }
          ],
          "scattergl": [
           {
            "marker": {
             "colorbar": {
              "outlinewidth": 0,
              "ticks": ""
             }
            },
            "type": "scattergl"
           }
          ],
          "scattermap": [
           {
            "marker": {
             "colorbar": {
              "outlinewidth": 0,
              "ticks": ""
             }
            },
            "type": "scattermap"
           }
          ],
          "scattermapbox": [
           {
            "marker": {
             "colorbar": {
              "outlinewidth": 0,
              "ticks": ""
             }
            },
            "type": "scattermapbox"
           }
          ],
          "scatterpolar": [
           {
            "marker": {
             "colorbar": {
              "outlinewidth": 0,
              "ticks": ""
             }
            },
            "type": "scatterpolar"
           }
          ],
          "scatterpolargl": [
           {
            "marker": {
             "colorbar": {
              "outlinewidth": 0,
              "ticks": ""
             }
            },
            "type": "scatterpolargl"
           }
          ],
          "scatterternary": [
           {
            "marker": {
             "colorbar": {
              "outlinewidth": 0,
              "ticks": ""
             }
            },
            "type": "scatterternary"
           }
          ],
          "surface": [
           {
            "colorbar": {
             "outlinewidth": 0,
             "ticks": ""
            },
            "colorscale": [
             [
              0,
              "#0d0887"
             ],
             [
              0.1111111111111111,
              "#46039f"
             ],
             [
              0.2222222222222222,
              "#7201a8"
             ],
             [
              0.3333333333333333,
              "#9c179e"
             ],
             [
              0.4444444444444444,
              "#bd3786"
             ],
             [
              0.5555555555555556,
              "#d8576b"
             ],
             [
              0.6666666666666666,
              "#ed7953"
             ],
             [
              0.7777777777777778,
              "#fb9f3a"
             ],
             [
              0.8888888888888888,
              "#fdca26"
             ],
             [
              1,
              "#f0f921"
             ]
            ],
            "type": "surface"
           }
          ],
          "table": [
           {
            "cells": {
             "fill": {
              "color": "#EBF0F8"
             },
             "line": {
              "color": "white"
             }
            },
            "header": {
             "fill": {
              "color": "#C8D4E3"
             },
             "line": {
              "color": "white"
             }
            },
            "type": "table"
           }
          ]
         },
         "layout": {
          "annotationdefaults": {
           "arrowcolor": "#2a3f5f",
           "arrowhead": 0,
           "arrowwidth": 1
          },
          "autotypenumbers": "strict",
          "coloraxis": {
           "colorbar": {
            "outlinewidth": 0,
            "ticks": ""
           }
          },
          "colorscale": {
           "diverging": [
            [
             0,
             "#8e0152"
            ],
            [
             0.1,
             "#c51b7d"
            ],
            [
             0.2,
             "#de77ae"
            ],
            [
             0.3,
             "#f1b6da"
            ],
            [
             0.4,
             "#fde0ef"
            ],
            [
             0.5,
             "#f7f7f7"
            ],
            [
             0.6,
             "#e6f5d0"
            ],
            [
             0.7,
             "#b8e186"
            ],
            [
             0.8,
             "#7fbc41"
            ],
            [
             0.9,
             "#4d9221"
            ],
            [
             1,
             "#276419"
            ]
           ],
           "sequential": [
            [
             0,
             "#0d0887"
            ],
            [
             0.1111111111111111,
             "#46039f"
            ],
            [
             0.2222222222222222,
             "#7201a8"
            ],
            [
             0.3333333333333333,
             "#9c179e"
            ],
            [
             0.4444444444444444,
             "#bd3786"
            ],
            [
             0.5555555555555556,
             "#d8576b"
            ],
            [
             0.6666666666666666,
             "#ed7953"
            ],
            [
             0.7777777777777778,
             "#fb9f3a"
            ],
            [
             0.8888888888888888,
             "#fdca26"
            ],
            [
             1,
             "#f0f921"
            ]
           ],
           "sequentialminus": [
            [
             0,
             "#0d0887"
            ],
            [
             0.1111111111111111,
             "#46039f"
            ],
            [
             0.2222222222222222,
             "#7201a8"
            ],
            [
             0.3333333333333333,
             "#9c179e"
            ],
            [
             0.4444444444444444,
             "#bd3786"
            ],
            [
             0.5555555555555556,
             "#d8576b"
            ],
            [
             0.6666666666666666,
             "#ed7953"
            ],
            [
             0.7777777777777778,
             "#fb9f3a"
            ],
            [
             0.8888888888888888,
             "#fdca26"
            ],
            [
             1,
             "#f0f921"
            ]
           ]
          },
          "colorway": [
           "#636efa",
           "#EF553B",
           "#00cc96",
           "#ab63fa",
           "#FFA15A",
           "#19d3f3",
           "#FF6692",
           "#B6E880",
           "#FF97FF",
           "#FECB52"
          ],
          "font": {
           "color": "#2a3f5f"
          },
          "geo": {
           "bgcolor": "white",
           "lakecolor": "white",
           "landcolor": "white",
           "showlakes": true,
           "showland": true,
           "subunitcolor": "#C8D4E3"
          },
          "hoverlabel": {
           "align": "left"
          },
          "hovermode": "closest",
          "mapbox": {
           "style": "light"
          },
          "paper_bgcolor": "white",
          "plot_bgcolor": "white",
          "polar": {
           "angularaxis": {
            "gridcolor": "#EBF0F8",
            "linecolor": "#EBF0F8",
            "ticks": ""
           },
           "bgcolor": "white",
           "radialaxis": {
            "gridcolor": "#EBF0F8",
            "linecolor": "#EBF0F8",
            "ticks": ""
           }
          },
          "scene": {
           "xaxis": {
            "backgroundcolor": "white",
            "gridcolor": "#DFE8F3",
            "gridwidth": 2,
            "linecolor": "#EBF0F8",
            "showbackground": true,
            "ticks": "",
            "zerolinecolor": "#EBF0F8"
           },
           "yaxis": {
            "backgroundcolor": "white",
            "gridcolor": "#DFE8F3",
            "gridwidth": 2,
            "linecolor": "#EBF0F8",
            "showbackground": true,
            "ticks": "",
            "zerolinecolor": "#EBF0F8"
           },
           "zaxis": {
            "backgroundcolor": "white",
            "gridcolor": "#DFE8F3",
            "gridwidth": 2,
            "linecolor": "#EBF0F8",
            "showbackground": true,
            "ticks": "",
            "zerolinecolor": "#EBF0F8"
           }
          },
          "shapedefaults": {
           "line": {
            "color": "#2a3f5f"
           }
          },
          "ternary": {
           "aaxis": {
            "gridcolor": "#DFE8F3",
            "linecolor": "#A2B1C6",
            "ticks": ""
           },
           "baxis": {
            "gridcolor": "#DFE8F3",
            "linecolor": "#A2B1C6",
            "ticks": ""
           },
           "bgcolor": "white",
           "caxis": {
            "gridcolor": "#DFE8F3",
            "linecolor": "#A2B1C6",
            "ticks": ""
           }
          },
          "title": {
           "x": 0.05
          },
          "xaxis": {
           "automargin": true,
           "gridcolor": "#EBF0F8",
           "linecolor": "#EBF0F8",
           "ticks": "",
           "title": {
            "standoff": 15
           },
           "zerolinecolor": "#EBF0F8",
           "zerolinewidth": 2
          },
          "yaxis": {
           "automargin": true,
           "gridcolor": "#EBF0F8",
           "linecolor": "#EBF0F8",
           "ticks": "",
           "title": {
            "standoff": 15
           },
           "zerolinecolor": "#EBF0F8",
           "zerolinewidth": 2
          }
         }
        },
        "title": {
         "text": "Параллельные координаты: CatBoost"
        }
       }
      }
     },
     "metadata": {},
     "output_type": "display_data"
    },
    {
     "name": "stdout",
     "output_type": "stream",
     "text": [
      "💾 Сохраняем результаты...\n",
      "✅ Результаты сохранены: CatBoost -> RMSE: 41.6007\n",
      "================================================================================\n",
      "\n"
     ]
    }
   ],
   "source": [
    "analyze_optuna_results(\n",
    "    cat_optuna, \n",
    "    'CatBoost', \n",
    "    2,\n",
    "    results, \n",
    "    best_params,\n",
    "    show_plots=True,\n",
    "    show_top_trials=5\n",
    ")"
   ]
  },
  {
   "cell_type": "markdown",
   "id": "43ec0e73",
   "metadata": {},
   "source": [
    "![catboost1](images/catboost1.png)\n",
    "![catboost2](images/catboost2.png)"
   ]
  },
  {
   "cell_type": "markdown",
   "id": "35e1eb6c",
   "metadata": {},
   "source": [
    "## LihgtGBM model"
   ]
  },
  {
   "cell_type": "code",
   "execution_count": null,
   "id": "22f1075e",
   "metadata": {},
   "outputs": [
    {
     "name": "stderr",
     "output_type": "stream",
     "text": [
      "[I 2025-09-26 00:05:10,747] A new study created in memory with name: no-name-b63ca95f-9d1a-4168-84a2-30272005f031\n",
      "[I 2025-09-26 00:09:16,062] Trial 0 finished with value: -43.48391369181602 and parameters: {'model__threshold': 0.5700000000000001, 'model__classifier__n_estimators': 1000, 'model__classifier__max_depth': 17, 'model__classifier__learning_rate': 0.13, 'model__classifier__num_leaves': 100, 'model__regressor__n_estimators': 600, 'model__regressor__max_depth': 6, 'model__regressor__learning_rate': 0.17, 'model__regressor__num_leaves': 40}. Best is trial 0 with value: -43.48391369181602.\n"
     ]
    }
   ],
   "source": [
    "lgbm_optuna_params = {\n",
    "    'model__threshold': dist.FloatDistribution(0.4, 0.8, step=0.01),\n",
    "\n",
    "    'model__classifier__n_estimators': dist.IntDistribution(600, 1200, step=100),\n",
    "    'model__classifier__max_depth': dist.IntDistribution(6, 20, step=1),\n",
    "    'model__classifier__learning_rate': dist.FloatDistribution(0.01, 0.2, step=0.01),\n",
    "    'model__classifier__num_leaves': dist.IntDistribution(20, 100, step=20),\n",
    "\n",
    "    'model__regressor__n_estimators': dist.IntDistribution(600, 1200, step=100),\n",
    "    'model__regressor__max_depth': dist.IntDistribution(6, 20, step=1),\n",
    "    'model__regressor__learning_rate': dist.FloatDistribution(0.01, 0.2, step=0.01),\n",
    "    'model__regressor__num_leaves': dist.IntDistribution(20, 100, step=20),\n",
    "}\n",
    "\n",
    "lgbm_cls_model = LGBMClassifier(\n",
    "    random_state=SEED,\n",
    "    device='gpu',\n",
    "    class_weight='balanced',\n",
    "    verbose=-1,\n",
    "    n_jobs=1\n",
    ")\n",
    "\n",
    "lgbm_reg_model = LGBMRegressor(\n",
    "    random_state=SEED,\n",
    "    device='gpu',\n",
    "    verbose=-1,\n",
    "    n_jobs=1\n",
    ")\n",
    "\n",
    "lgbm_pipeline = Pipeline([\n",
    "    ('preprocessor', preprocessor),\n",
    "    ('model', ZeroInflatedRegressor(lgbm_cls_model, lgbm_reg_model))\n",
    "])\n",
    "\n",
    "lgbm_optuna = OptunaSearchCV(\n",
    "    lgbm_pipeline,\n",
    "    lgbm_optuna_params,\n",
    "    cv=cv,\n",
    "    n_trials=200,\n",
    "    scoring='neg_root_mean_squared_error',\n",
    "    refit=True,\n",
    "    random_state=SEED,\n",
    "    n_jobs=1,\n",
    "    verbose=1,\n",
    "    timeout=3600,\n",
    "    callbacks=[\n",
    "        optuna.study.MaxTrialsCallback(200, states=(optuna.trial.TrialState.COMPLETE,)),\n",
    "    ]\n",
    ")\n",
    "\n",
    "lgbm_optuna.fit(X_train, y_train)\n",
    "best_lgbm_model = lgbm_optuna.best_estimator_"
   ]
  },
  {
   "cell_type": "code",
   "execution_count": null,
   "id": "6969e19e",
   "metadata": {},
   "outputs": [
    {
     "name": "stdout",
     "output_type": "stream",
     "text": [
      "================================================================================\n",
      "🎯 LightGBM\n",
      "================================================================================\n",
      "✅ Лучшие параметры: {'model__threshold': 0.62, 'model__classifier__n_estimators': 1000, 'model__classifier__max_depth': 15, 'model__classifier__learning_rate': 0.2, 'model__classifier__num_leaves': 100, 'model__regressor__n_estimators': 700, 'model__regressor__max_depth': 17, 'model__regressor__learning_rate': 0.2, 'model__regressor__num_leaves': 40}\n",
      "--------------------------------------------------------------------------------\n",
      "📊 Наилучший RMSE на кросс-валидации: 42.4322\n",
      "📈 Стандартное отклонение: ±0.0841\n",
      "🎯 95% доверительный интервал: [42.2673, 42.5971]\n",
      "🔄 Общее количество trials: 16\n",
      "✅ Успешных: 16\n",
      "❌ Неудачных: 0\n",
      "✂️  Обрезанных (pruned): 0\n",
      "📊 Среднее RMSE: 47.4736\n",
      "📊 Медианное RMSE: 46.0361\n",
      "📊 Стандартное отклонение RMSE: 4.7775\n",
      "\n",
      "🏆 Топ-5 результатов:\n",
      "   1. RMSE: 42.4322 (trial #12)\n",
      "   2. RMSE: 42.9028 (trial #6)\n",
      "   3. RMSE: 43.0809 (trial #14)\n",
      "   4. RMSE: 43.1664 (trial #11)\n",
      "   5. RMSE: 43.4702 (trial #0)\n",
      "================================================================================\n",
      "📈 Строим графики...\n"
     ]
    },
    {
     "data": {
      "application/vnd.plotly.v1+json": {
       "config": {
        "plotlyServerURL": "https://plot.ly"
       },
       "data": [
        {
         "marker": {
          "color": [
           43.47015542050544,
           53.18035986796954,
           45.82390590176695,
           51.61869634602247,
           60.507942644027004,
           45.907289985609,
           42.90278562796169,
           49.137087965286014,
           47.44558052251606,
           49.95535103658801,
           51.23536015871891,
           43.1664000650606,
           42.43218537512453,
           46.164914813171606,
           43.08092270976484,
           43.54924497417335
          ],
          "colorbar": {
           "title": {
            "text": "RMSE"
           },
           "x": 0.45
          },
          "colorscale": [
           [
            0,
            "rgb(49,54,149)"
           ],
           [
            0.1,
            "rgb(69,117,180)"
           ],
           [
            0.2,
            "rgb(116,173,209)"
           ],
           [
            0.3,
            "rgb(171,217,233)"
           ],
           [
            0.4,
            "rgb(224,243,248)"
           ],
           [
            0.5,
            "rgb(255,255,191)"
           ],
           [
            0.6,
            "rgb(254,224,144)"
           ],
           [
            0.7,
            "rgb(253,174,97)"
           ],
           [
            0.8,
            "rgb(244,109,67)"
           ],
           [
            0.9,
            "rgb(215,48,39)"
           ],
           [
            1,
            "rgb(165,0,38)"
           ]
          ],
          "showscale": true
         },
         "mode": "markers",
         "name": "Trial RMSE",
         "opacity": 0.6,
         "type": "scatter",
         "x": [
          0,
          1,
          2,
          3,
          4,
          5,
          6,
          7,
          8,
          9,
          10,
          11,
          12,
          13,
          14,
          15
         ],
         "xaxis": "x",
         "y": [
          43.47015542050544,
          53.18035986796954,
          45.82390590176695,
          51.61869634602247,
          60.507942644027004,
          45.907289985609,
          42.90278562796169,
          49.137087965286014,
          47.44558052251606,
          49.95535103658801,
          51.23536015871891,
          43.1664000650606,
          42.43218537512453,
          46.164914813171606,
          43.08092270976484,
          43.54924497417335
         ],
         "yaxis": "y"
        },
        {
         "line": {
          "color": "red",
          "width": 3
         },
         "mode": "lines",
         "name": "Лучший RMSE",
         "type": "scatter",
         "x": [
          0,
          1,
          2,
          3,
          4,
          5,
          6,
          7,
          8,
          9,
          10,
          11,
          12,
          13,
          14,
          15
         ],
         "xaxis": "x",
         "y": [
          43.47015542050544,
          43.47015542050544,
          43.47015542050544,
          43.47015542050544,
          43.47015542050544,
          43.47015542050544,
          42.90278562796169,
          42.90278562796169,
          42.90278562796169,
          42.90278562796169,
          42.90278562796169,
          42.90278562796169,
          42.43218537512453,
          42.43218537512453,
          42.43218537512453,
          42.43218537512453
         ],
         "yaxis": "y"
        },
        {
         "marker": {
          "color": "lightblue"
         },
         "name": "Распределение RMSE",
         "nbinsx": 20,
         "opacity": 0.7,
         "type": "histogram",
         "x": [
          43.47015542050544,
          53.18035986796954,
          45.82390590176695,
          51.61869634602247,
          60.507942644027004,
          45.907289985609,
          42.90278562796169,
          49.137087965286014,
          47.44558052251606,
          49.95535103658801,
          51.23536015871891,
          43.1664000650606,
          42.43218537512453,
          46.164914813171606,
          43.08092270976484,
          43.54924497417335
         ],
         "xaxis": "x2",
         "yaxis": "y2"
        },
        {
         "marker": {
          "color": "lightgreen"
         },
         "name": "Важность",
         "orientation": "h",
         "type": "bar",
         "x": [
          0.2870755285309686,
          0.1950232262289076,
          0.1885918999493131,
          0.1855408506074996,
          0.07476648429497833,
          0.028312535863190214,
          0.014126024161448859,
          0.01352983647166846,
          0.01303361389202499
         ],
         "xaxis": "x3",
         "y": [
          "threshold",
          "cls_n_estimators",
          "cls_learning_rate",
          "cls_num_leaves",
          "reg_learning_rate",
          "cls_max_depth",
          "reg_max_depth",
          "reg_n_estimators",
          "reg_num_leaves"
         ],
         "yaxis": "y3"
        },
        {
         "line": {
          "color": "orange",
          "width": 2
         },
         "mode": "lines",
         "name": "Скользящее среднее (3)",
         "type": "scatter",
         "x": [
          0,
          1,
          2,
          3,
          4,
          5,
          6,
          7,
          8,
          9,
          10,
          11,
          12,
          13,
          14,
          15
         ],
         "xaxis": "x4",
         "y": {
          "bdata": "AAAAAAAA+H8AAAAAAAD4fw/FdpzovkdAJ05UaJQaSUCJ9NMmOVNKQNUjoO3HVkpAn1HV8ObiSEB7hqjivv1GQFV8wh5hP0dAk0/28ElsSEBTy0Or0MVIQKRidZs8D0hARf2Skz/ORkDxG8fK6PVFQBPaxCZD8kVAkHPMa+whRkA=",
          "dtype": "f8"
         },
         "yaxis": "y4"
        }
       ],
       "layout": {
        "annotations": [
         {
          "font": {
           "size": 16
          },
          "showarrow": false,
          "text": "История оптимизации",
          "x": 0.225,
          "xanchor": "center",
          "xref": "paper",
          "y": 1,
          "yanchor": "bottom",
          "yref": "paper"
         },
         {
          "font": {
           "size": 16
          },
          "showarrow": false,
          "text": "Распределение RMSE",
          "x": 0.775,
          "xanchor": "center",
          "xref": "paper",
          "y": 1,
          "yanchor": "bottom",
          "yref": "paper"
         },
         {
          "font": {
           "size": 16
          },
          "showarrow": false,
          "text": "Важность параметров",
          "x": 0.225,
          "xanchor": "center",
          "xref": "paper",
          "y": 0.375,
          "yanchor": "bottom",
          "yref": "paper"
         },
         {
          "font": {
           "size": 16
          },
          "showarrow": false,
          "text": "Прогресс лучших результатов",
          "x": 0.775,
          "xanchor": "center",
          "xref": "paper",
          "y": 0.375,
          "yanchor": "bottom",
          "yref": "paper"
         }
        ],
        "height": 800,
        "showlegend": true,
        "template": {
         "data": {
          "bar": [
           {
            "error_x": {
             "color": "#2a3f5f"
            },
            "error_y": {
             "color": "#2a3f5f"
            },
            "marker": {
             "line": {
              "color": "white",
              "width": 0.5
             },
             "pattern": {
              "fillmode": "overlay",
              "size": 10,
              "solidity": 0.2
             }
            },
            "type": "bar"
           }
          ],
          "barpolar": [
           {
            "marker": {
             "line": {
              "color": "white",
              "width": 0.5
             },
             "pattern": {
              "fillmode": "overlay",
              "size": 10,
              "solidity": 0.2
             }
            },
            "type": "barpolar"
           }
          ],
          "carpet": [
           {
            "aaxis": {
             "endlinecolor": "#2a3f5f",
             "gridcolor": "#C8D4E3",
             "linecolor": "#C8D4E3",
             "minorgridcolor": "#C8D4E3",
             "startlinecolor": "#2a3f5f"
            },
            "baxis": {
             "endlinecolor": "#2a3f5f",
             "gridcolor": "#C8D4E3",
             "linecolor": "#C8D4E3",
             "minorgridcolor": "#C8D4E3",
             "startlinecolor": "#2a3f5f"
            },
            "type": "carpet"
           }
          ],
          "choropleth": [
           {
            "colorbar": {
             "outlinewidth": 0,
             "ticks": ""
            },
            "type": "choropleth"
           }
          ],
          "contour": [
           {
            "colorbar": {
             "outlinewidth": 0,
             "ticks": ""
            },
            "colorscale": [
             [
              0,
              "#0d0887"
             ],
             [
              0.1111111111111111,
              "#46039f"
             ],
             [
              0.2222222222222222,
              "#7201a8"
             ],
             [
              0.3333333333333333,
              "#9c179e"
             ],
             [
              0.4444444444444444,
              "#bd3786"
             ],
             [
              0.5555555555555556,
              "#d8576b"
             ],
             [
              0.6666666666666666,
              "#ed7953"
             ],
             [
              0.7777777777777778,
              "#fb9f3a"
             ],
             [
              0.8888888888888888,
              "#fdca26"
             ],
             [
              1,
              "#f0f921"
             ]
            ],
            "type": "contour"
           }
          ],
          "contourcarpet": [
           {
            "colorbar": {
             "outlinewidth": 0,
             "ticks": ""
            },
            "type": "contourcarpet"
           }
          ],
          "heatmap": [
           {
            "colorbar": {
             "outlinewidth": 0,
             "ticks": ""
            },
            "colorscale": [
             [
              0,
              "#0d0887"
             ],
             [
              0.1111111111111111,
              "#46039f"
             ],
             [
              0.2222222222222222,
              "#7201a8"
             ],
             [
              0.3333333333333333,
              "#9c179e"
             ],
             [
              0.4444444444444444,
              "#bd3786"
             ],
             [
              0.5555555555555556,
              "#d8576b"
             ],
             [
              0.6666666666666666,
              "#ed7953"
             ],
             [
              0.7777777777777778,
              "#fb9f3a"
             ],
             [
              0.8888888888888888,
              "#fdca26"
             ],
             [
              1,
              "#f0f921"
             ]
            ],
            "type": "heatmap"
           }
          ],
          "histogram": [
           {
            "marker": {
             "pattern": {
              "fillmode": "overlay",
              "size": 10,
              "solidity": 0.2
             }
            },
            "type": "histogram"
           }
          ],
          "histogram2d": [
           {
            "colorbar": {
             "outlinewidth": 0,
             "ticks": ""
            },
            "colorscale": [
             [
              0,
              "#0d0887"
             ],
             [
              0.1111111111111111,
              "#46039f"
             ],
             [
              0.2222222222222222,
              "#7201a8"
             ],
             [
              0.3333333333333333,
              "#9c179e"
             ],
             [
              0.4444444444444444,
              "#bd3786"
             ],
             [
              0.5555555555555556,
              "#d8576b"
             ],
             [
              0.6666666666666666,
              "#ed7953"
             ],
             [
              0.7777777777777778,
              "#fb9f3a"
             ],
             [
              0.8888888888888888,
              "#fdca26"
             ],
             [
              1,
              "#f0f921"
             ]
            ],
            "type": "histogram2d"
           }
          ],
          "histogram2dcontour": [
           {
            "colorbar": {
             "outlinewidth": 0,
             "ticks": ""
            },
            "colorscale": [
             [
              0,
              "#0d0887"
             ],
             [
              0.1111111111111111,
              "#46039f"
             ],
             [
              0.2222222222222222,
              "#7201a8"
             ],
             [
              0.3333333333333333,
              "#9c179e"
             ],
             [
              0.4444444444444444,
              "#bd3786"
             ],
             [
              0.5555555555555556,
              "#d8576b"
             ],
             [
              0.6666666666666666,
              "#ed7953"
             ],
             [
              0.7777777777777778,
              "#fb9f3a"
             ],
             [
              0.8888888888888888,
              "#fdca26"
             ],
             [
              1,
              "#f0f921"
             ]
            ],
            "type": "histogram2dcontour"
           }
          ],
          "mesh3d": [
           {
            "colorbar": {
             "outlinewidth": 0,
             "ticks": ""
            },
            "type": "mesh3d"
           }
          ],
          "parcoords": [
           {
            "line": {
             "colorbar": {
              "outlinewidth": 0,
              "ticks": ""
             }
            },
            "type": "parcoords"
           }
          ],
          "pie": [
           {
            "automargin": true,
            "type": "pie"
           }
          ],
          "scatter": [
           {
            "fillpattern": {
             "fillmode": "overlay",
             "size": 10,
             "solidity": 0.2
            },
            "type": "scatter"
           }
          ],
          "scatter3d": [
           {
            "line": {
             "colorbar": {
              "outlinewidth": 0,
              "ticks": ""
             }
            },
            "marker": {
             "colorbar": {
              "outlinewidth": 0,
              "ticks": ""
             }
            },
            "type": "scatter3d"
           }
          ],
          "scattercarpet": [
           {
            "marker": {
             "colorbar": {
              "outlinewidth": 0,
              "ticks": ""
             }
            },
            "type": "scattercarpet"
           }
          ],
          "scattergeo": [
           {
            "marker": {
             "colorbar": {
              "outlinewidth": 0,
              "ticks": ""
             }
            },
            "type": "scattergeo"
           }
          ],
          "scattergl": [
           {
            "marker": {
             "colorbar": {
              "outlinewidth": 0,
              "ticks": ""
             }
            },
            "type": "scattergl"
           }
          ],
          "scattermap": [
           {
            "marker": {
             "colorbar": {
              "outlinewidth": 0,
              "ticks": ""
             }
            },
            "type": "scattermap"
           }
          ],
          "scattermapbox": [
           {
            "marker": {
             "colorbar": {
              "outlinewidth": 0,
              "ticks": ""
             }
            },
            "type": "scattermapbox"
           }
          ],
          "scatterpolar": [
           {
            "marker": {
             "colorbar": {
              "outlinewidth": 0,
              "ticks": ""
             }
            },
            "type": "scatterpolar"
           }
          ],
          "scatterpolargl": [
           {
            "marker": {
             "colorbar": {
              "outlinewidth": 0,
              "ticks": ""
             }
            },
            "type": "scatterpolargl"
           }
          ],
          "scatterternary": [
           {
            "marker": {
             "colorbar": {
              "outlinewidth": 0,
              "ticks": ""
             }
            },
            "type": "scatterternary"
           }
          ],
          "surface": [
           {
            "colorbar": {
             "outlinewidth": 0,
             "ticks": ""
            },
            "colorscale": [
             [
              0,
              "#0d0887"
             ],
             [
              0.1111111111111111,
              "#46039f"
             ],
             [
              0.2222222222222222,
              "#7201a8"
             ],
             [
              0.3333333333333333,
              "#9c179e"
             ],
             [
              0.4444444444444444,
              "#bd3786"
             ],
             [
              0.5555555555555556,
              "#d8576b"
             ],
             [
              0.6666666666666666,
              "#ed7953"
             ],
             [
              0.7777777777777778,
              "#fb9f3a"
             ],
             [
              0.8888888888888888,
              "#fdca26"
             ],
             [
              1,
              "#f0f921"
             ]
            ],
            "type": "surface"
           }
          ],
          "table": [
           {
            "cells": {
             "fill": {
              "color": "#EBF0F8"
             },
             "line": {
              "color": "white"
             }
            },
            "header": {
             "fill": {
              "color": "#C8D4E3"
             },
             "line": {
              "color": "white"
             }
            },
            "type": "table"
           }
          ]
         },
         "layout": {
          "annotationdefaults": {
           "arrowcolor": "#2a3f5f",
           "arrowhead": 0,
           "arrowwidth": 1
          },
          "autotypenumbers": "strict",
          "coloraxis": {
           "colorbar": {
            "outlinewidth": 0,
            "ticks": ""
           }
          },
          "colorscale": {
           "diverging": [
            [
             0,
             "#8e0152"
            ],
            [
             0.1,
             "#c51b7d"
            ],
            [
             0.2,
             "#de77ae"
            ],
            [
             0.3,
             "#f1b6da"
            ],
            [
             0.4,
             "#fde0ef"
            ],
            [
             0.5,
             "#f7f7f7"
            ],
            [
             0.6,
             "#e6f5d0"
            ],
            [
             0.7,
             "#b8e186"
            ],
            [
             0.8,
             "#7fbc41"
            ],
            [
             0.9,
             "#4d9221"
            ],
            [
             1,
             "#276419"
            ]
           ],
           "sequential": [
            [
             0,
             "#0d0887"
            ],
            [
             0.1111111111111111,
             "#46039f"
            ],
            [
             0.2222222222222222,
             "#7201a8"
            ],
            [
             0.3333333333333333,
             "#9c179e"
            ],
            [
             0.4444444444444444,
             "#bd3786"
            ],
            [
             0.5555555555555556,
             "#d8576b"
            ],
            [
             0.6666666666666666,
             "#ed7953"
            ],
            [
             0.7777777777777778,
             "#fb9f3a"
            ],
            [
             0.8888888888888888,
             "#fdca26"
            ],
            [
             1,
             "#f0f921"
            ]
           ],
           "sequentialminus": [
            [
             0,
             "#0d0887"
            ],
            [
             0.1111111111111111,
             "#46039f"
            ],
            [
             0.2222222222222222,
             "#7201a8"
            ],
            [
             0.3333333333333333,
             "#9c179e"
            ],
            [
             0.4444444444444444,
             "#bd3786"
            ],
            [
             0.5555555555555556,
             "#d8576b"
            ],
            [
             0.6666666666666666,
             "#ed7953"
            ],
            [
             0.7777777777777778,
             "#fb9f3a"
            ],
            [
             0.8888888888888888,
             "#fdca26"
            ],
            [
             1,
             "#f0f921"
            ]
           ]
          },
          "colorway": [
           "#636efa",
           "#EF553B",
           "#00cc96",
           "#ab63fa",
           "#FFA15A",
           "#19d3f3",
           "#FF6692",
           "#B6E880",
           "#FF97FF",
           "#FECB52"
          ],
          "font": {
           "color": "#2a3f5f"
          },
          "geo": {
           "bgcolor": "white",
           "lakecolor": "white",
           "landcolor": "white",
           "showlakes": true,
           "showland": true,
           "subunitcolor": "#C8D4E3"
          },
          "hoverlabel": {
           "align": "left"
          },
          "hovermode": "closest",
          "mapbox": {
           "style": "light"
          },
          "paper_bgcolor": "white",
          "plot_bgcolor": "white",
          "polar": {
           "angularaxis": {
            "gridcolor": "#EBF0F8",
            "linecolor": "#EBF0F8",
            "ticks": ""
           },
           "bgcolor": "white",
           "radialaxis": {
            "gridcolor": "#EBF0F8",
            "linecolor": "#EBF0F8",
            "ticks": ""
           }
          },
          "scene": {
           "xaxis": {
            "backgroundcolor": "white",
            "gridcolor": "#DFE8F3",
            "gridwidth": 2,
            "linecolor": "#EBF0F8",
            "showbackground": true,
            "ticks": "",
            "zerolinecolor": "#EBF0F8"
           },
           "yaxis": {
            "backgroundcolor": "white",
            "gridcolor": "#DFE8F3",
            "gridwidth": 2,
            "linecolor": "#EBF0F8",
            "showbackground": true,
            "ticks": "",
            "zerolinecolor": "#EBF0F8"
           },
           "zaxis": {
            "backgroundcolor": "white",
            "gridcolor": "#DFE8F3",
            "gridwidth": 2,
            "linecolor": "#EBF0F8",
            "showbackground": true,
            "ticks": "",
            "zerolinecolor": "#EBF0F8"
           }
          },
          "shapedefaults": {
           "line": {
            "color": "#2a3f5f"
           }
          },
          "ternary": {
           "aaxis": {
            "gridcolor": "#DFE8F3",
            "linecolor": "#A2B1C6",
            "ticks": ""
           },
           "baxis": {
            "gridcolor": "#DFE8F3",
            "linecolor": "#A2B1C6",
            "ticks": ""
           },
           "bgcolor": "white",
           "caxis": {
            "gridcolor": "#DFE8F3",
            "linecolor": "#A2B1C6",
            "ticks": ""
           }
          },
          "title": {
           "x": 0.05
          },
          "xaxis": {
           "automargin": true,
           "gridcolor": "#EBF0F8",
           "linecolor": "#EBF0F8",
           "ticks": "",
           "title": {
            "standoff": 15
           },
           "zerolinecolor": "#EBF0F8",
           "zerolinewidth": 2
          },
          "yaxis": {
           "automargin": true,
           "gridcolor": "#EBF0F8",
           "linecolor": "#EBF0F8",
           "ticks": "",
           "title": {
            "standoff": 15
           },
           "zerolinecolor": "#EBF0F8",
           "zerolinewidth": 2
          }
         }
        },
        "title": {
         "font": {
          "size": 16
         },
         "text": "Анализ оптимизации: LightGBM"
        },
        "xaxis": {
         "anchor": "y",
         "domain": [
          0,
          0.45
         ],
         "title": {
          "text": "Номер Trial"
         }
        },
        "xaxis2": {
         "anchor": "y2",
         "domain": [
          0.55,
          1
         ],
         "title": {
          "text": "RMSE"
         }
        },
        "xaxis3": {
         "anchor": "y3",
         "domain": [
          0,
          0.45
         ],
         "title": {
          "text": "Важность"
         }
        },
        "xaxis4": {
         "anchor": "y4",
         "domain": [
          0.55,
          1
         ],
         "title": {
          "text": "Номер Trial"
         }
        },
        "yaxis": {
         "anchor": "x",
         "domain": [
          0.625,
          1
         ],
         "title": {
          "text": "RMSE"
         }
        },
        "yaxis2": {
         "anchor": "x2",
         "domain": [
          0.625,
          1
         ],
         "title": {
          "text": "Частота"
         }
        },
        "yaxis3": {
         "anchor": "x3",
         "domain": [
          0,
          0.375
         ],
         "title": {
          "text": "Параметры"
         }
        },
        "yaxis4": {
         "anchor": "x4",
         "domain": [
          0,
          0.375
         ],
         "title": {
          "text": "RMSE (скользящее среднее)"
         }
        }
       }
      }
     },
     "metadata": {},
     "output_type": "display_data"
    },
    {
     "name": "stdout",
     "output_type": "stream",
     "text": [
      "📊 График параллельных координат...\n"
     ]
    },
    {
     "data": {
      "application/vnd.plotly.v1+json": {
       "config": {
        "plotlyServerURL": "https://plot.ly"
       },
       "data": [
        {
         "dimensions": [
          {
           "label": "Objective Value",
           "range": [
            -60.507942644027004,
            -42.43218537512453
           ],
           "values": [
            -43.47015542050544,
            -53.18035986796954,
            -45.82390590176695,
            -51.61869634602247,
            -60.507942644027004,
            -45.907289985609,
            -42.90278562796169,
            -49.137087965286014,
            -47.44558052251606,
            -49.95535103658801,
            -51.23536015871891,
            -43.1664000650606,
            -42.43218537512453,
            -46.164914813171606,
            -43.08092270976484,
            -43.54924497417335
           ]
          },
          {
           "label": "model__classifier...",
           "range": [
            0.04,
            0.2
           ],
           "values": [
            0.13,
            0.17,
            0.2,
            0.09999999999999999,
            0.04,
            0.09999999999999999,
            0.18000000000000002,
            0.09999999999999999,
            0.05,
            0.060000000000000005,
            0.15000000000000002,
            0.15000000000000002,
            0.2,
            0.2,
            0.18000000000000002,
            0.17
           ]
          },
          {
           "label": "model__classifier...",
           "range": [
            8,
            20
           ],
           "values": [
            17,
            8,
            8,
            13,
            12,
            18,
            17,
            16,
            12,
            18,
            20,
            16,
            15,
            15,
            20,
            10
           ]
          },
          {
           "label": "model__classifier...",
           "range": [
            600,
            1200
           ],
           "values": [
            1000,
            900,
            1200,
            1100,
            700,
            1000,
            1000,
            900,
            1200,
            700,
            600,
            1000,
            1000,
            800,
            1100,
            1100
           ]
          },
          {
           "label": "model__classifier...",
           "range": [
            20,
            100
           ],
           "values": [
            100,
            60,
            40,
            60,
            80,
            60,
            100,
            60,
            100,
            40,
            20,
            100,
            100,
            80,
            80,
            100
           ]
          },
          {
           "label": "model__regressor_...",
           "range": [
            0.01,
            0.2
           ],
           "values": [
            0.17,
            0.060000000000000005,
            0.15000000000000002,
            0.11,
            0.05,
            0.13,
            0.18000000000000002,
            0.13,
            0.17,
            0.04,
            0.2,
            0.19,
            0.2,
            0.01,
            0.2,
            0.17
           ]
          },
          {
           "label": "model__regressor_...",
           "range": [
            6,
            20
           ],
           "values": [
            6,
            10,
            18,
            8,
            11,
            7,
            17,
            7,
            15,
            14,
            20,
            16,
            17,
            18,
            17,
            20
           ]
          },
          {
           "label": "model__regressor_...",
           "range": [
            600,
            1200
           ],
           "values": [
            600,
            1000,
            900,
            800,
            1000,
            1200,
            1000,
            900,
            800,
            1200,
            600,
            600,
            700,
            700,
            1100,
            800
           ]
          },
          {
           "label": "model__threshold",
           "range": [
            0.4,
            0.8
           ],
           "values": [
            0.5700000000000001,
            0.4,
            0.67,
            0.43000000000000005,
            0.4,
            0.56,
            0.66,
            0.48000000000000004,
            0.68,
            0.68,
            0.8,
            0.5900000000000001,
            0.62,
            0.75,
            0.64,
            0.52
           ]
          }
         ],
         "labelangle": 30,
         "labelside": "bottom",
         "line": {
          "color": [
           -43.47015542050544,
           -53.18035986796954,
           -45.82390590176695,
           -51.61869634602247,
           -60.507942644027004,
           -45.907289985609,
           -42.90278562796169,
           -49.137087965286014,
           -47.44558052251606,
           -49.95535103658801,
           -51.23536015871891,
           -43.1664000650606,
           -42.43218537512453,
           -46.164914813171606,
           -43.08092270976484,
           -43.54924497417335
          ],
          "colorbar": {
           "title": {
            "text": "Objective Value"
           }
          },
          "colorscale": [
           [
            0,
            "rgb(247,251,255)"
           ],
           [
            0.125,
            "rgb(222,235,247)"
           ],
           [
            0.25,
            "rgb(198,219,239)"
           ],
           [
            0.375,
            "rgb(158,202,225)"
           ],
           [
            0.5,
            "rgb(107,174,214)"
           ],
           [
            0.625,
            "rgb(66,146,198)"
           ],
           [
            0.75,
            "rgb(33,113,181)"
           ],
           [
            0.875,
            "rgb(8,81,156)"
           ],
           [
            1,
            "rgb(8,48,107)"
           ]
          ],
          "reversescale": false,
          "showscale": true
         },
         "type": "parcoords"
        }
       ],
       "layout": {
        "template": {
         "data": {
          "bar": [
           {
            "error_x": {
             "color": "#2a3f5f"
            },
            "error_y": {
             "color": "#2a3f5f"
            },
            "marker": {
             "line": {
              "color": "white",
              "width": 0.5
             },
             "pattern": {
              "fillmode": "overlay",
              "size": 10,
              "solidity": 0.2
             }
            },
            "type": "bar"
           }
          ],
          "barpolar": [
           {
            "marker": {
             "line": {
              "color": "white",
              "width": 0.5
             },
             "pattern": {
              "fillmode": "overlay",
              "size": 10,
              "solidity": 0.2
             }
            },
            "type": "barpolar"
           }
          ],
          "carpet": [
           {
            "aaxis": {
             "endlinecolor": "#2a3f5f",
             "gridcolor": "#C8D4E3",
             "linecolor": "#C8D4E3",
             "minorgridcolor": "#C8D4E3",
             "startlinecolor": "#2a3f5f"
            },
            "baxis": {
             "endlinecolor": "#2a3f5f",
             "gridcolor": "#C8D4E3",
             "linecolor": "#C8D4E3",
             "minorgridcolor": "#C8D4E3",
             "startlinecolor": "#2a3f5f"
            },
            "type": "carpet"
           }
          ],
          "choropleth": [
           {
            "colorbar": {
             "outlinewidth": 0,
             "ticks": ""
            },
            "type": "choropleth"
           }
          ],
          "contour": [
           {
            "colorbar": {
             "outlinewidth": 0,
             "ticks": ""
            },
            "colorscale": [
             [
              0,
              "#0d0887"
             ],
             [
              0.1111111111111111,
              "#46039f"
             ],
             [
              0.2222222222222222,
              "#7201a8"
             ],
             [
              0.3333333333333333,
              "#9c179e"
             ],
             [
              0.4444444444444444,
              "#bd3786"
             ],
             [
              0.5555555555555556,
              "#d8576b"
             ],
             [
              0.6666666666666666,
              "#ed7953"
             ],
             [
              0.7777777777777778,
              "#fb9f3a"
             ],
             [
              0.8888888888888888,
              "#fdca26"
             ],
             [
              1,
              "#f0f921"
             ]
            ],
            "type": "contour"
           }
          ],
          "contourcarpet": [
           {
            "colorbar": {
             "outlinewidth": 0,
             "ticks": ""
            },
            "type": "contourcarpet"
           }
          ],
          "heatmap": [
           {
            "colorbar": {
             "outlinewidth": 0,
             "ticks": ""
            },
            "colorscale": [
             [
              0,
              "#0d0887"
             ],
             [
              0.1111111111111111,
              "#46039f"
             ],
             [
              0.2222222222222222,
              "#7201a8"
             ],
             [
              0.3333333333333333,
              "#9c179e"
             ],
             [
              0.4444444444444444,
              "#bd3786"
             ],
             [
              0.5555555555555556,
              "#d8576b"
             ],
             [
              0.6666666666666666,
              "#ed7953"
             ],
             [
              0.7777777777777778,
              "#fb9f3a"
             ],
             [
              0.8888888888888888,
              "#fdca26"
             ],
             [
              1,
              "#f0f921"
             ]
            ],
            "type": "heatmap"
           }
          ],
          "histogram": [
           {
            "marker": {
             "pattern": {
              "fillmode": "overlay",
              "size": 10,
              "solidity": 0.2
             }
            },
            "type": "histogram"
           }
          ],
          "histogram2d": [
           {
            "colorbar": {
             "outlinewidth": 0,
             "ticks": ""
            },
            "colorscale": [
             [
              0,
              "#0d0887"
             ],
             [
              0.1111111111111111,
              "#46039f"
             ],
             [
              0.2222222222222222,
              "#7201a8"
             ],
             [
              0.3333333333333333,
              "#9c179e"
             ],
             [
              0.4444444444444444,
              "#bd3786"
             ],
             [
              0.5555555555555556,
              "#d8576b"
             ],
             [
              0.6666666666666666,
              "#ed7953"
             ],
             [
              0.7777777777777778,
              "#fb9f3a"
             ],
             [
              0.8888888888888888,
              "#fdca26"
             ],
             [
              1,
              "#f0f921"
             ]
            ],
            "type": "histogram2d"
           }
          ],
          "histogram2dcontour": [
           {
            "colorbar": {
             "outlinewidth": 0,
             "ticks": ""
            },
            "colorscale": [
             [
              0,
              "#0d0887"
             ],
             [
              0.1111111111111111,
              "#46039f"
             ],
             [
              0.2222222222222222,
              "#7201a8"
             ],
             [
              0.3333333333333333,
              "#9c179e"
             ],
             [
              0.4444444444444444,
              "#bd3786"
             ],
             [
              0.5555555555555556,
              "#d8576b"
             ],
             [
              0.6666666666666666,
              "#ed7953"
             ],
             [
              0.7777777777777778,
              "#fb9f3a"
             ],
             [
              0.8888888888888888,
              "#fdca26"
             ],
             [
              1,
              "#f0f921"
             ]
            ],
            "type": "histogram2dcontour"
           }
          ],
          "mesh3d": [
           {
            "colorbar": {
             "outlinewidth": 0,
             "ticks": ""
            },
            "type": "mesh3d"
           }
          ],
          "parcoords": [
           {
            "line": {
             "colorbar": {
              "outlinewidth": 0,
              "ticks": ""
             }
            },
            "type": "parcoords"
           }
          ],
          "pie": [
           {
            "automargin": true,
            "type": "pie"
           }
          ],
          "scatter": [
           {
            "fillpattern": {
             "fillmode": "overlay",
             "size": 10,
             "solidity": 0.2
            },
            "type": "scatter"
           }
          ],
          "scatter3d": [
           {
            "line": {
             "colorbar": {
              "outlinewidth": 0,
              "ticks": ""
             }
            },
            "marker": {
             "colorbar": {
              "outlinewidth": 0,
              "ticks": ""
             }
            },
            "type": "scatter3d"
           }
          ],
          "scattercarpet": [
           {
            "marker": {
             "colorbar": {
              "outlinewidth": 0,
              "ticks": ""
             }
            },
            "type": "scattercarpet"
           }
          ],
          "scattergeo": [
           {
            "marker": {
             "colorbar": {
              "outlinewidth": 0,
              "ticks": ""
             }
            },
            "type": "scattergeo"
           }
          ],
          "scattergl": [
           {
            "marker": {
             "colorbar": {
              "outlinewidth": 0,
              "ticks": ""
             }
            },
            "type": "scattergl"
           }
          ],
          "scattermap": [
           {
            "marker": {
             "colorbar": {
              "outlinewidth": 0,
              "ticks": ""
             }
            },
            "type": "scattermap"
           }
          ],
          "scattermapbox": [
           {
            "marker": {
             "colorbar": {
              "outlinewidth": 0,
              "ticks": ""
             }
            },
            "type": "scattermapbox"
           }
          ],
          "scatterpolar": [
           {
            "marker": {
             "colorbar": {
              "outlinewidth": 0,
              "ticks": ""
             }
            },
            "type": "scatterpolar"
           }
          ],
          "scatterpolargl": [
           {
            "marker": {
             "colorbar": {
              "outlinewidth": 0,
              "ticks": ""
             }
            },
            "type": "scatterpolargl"
           }
          ],
          "scatterternary": [
           {
            "marker": {
             "colorbar": {
              "outlinewidth": 0,
              "ticks": ""
             }
            },
            "type": "scatterternary"
           }
          ],
          "surface": [
           {
            "colorbar": {
             "outlinewidth": 0,
             "ticks": ""
            },
            "colorscale": [
             [
              0,
              "#0d0887"
             ],
             [
              0.1111111111111111,
              "#46039f"
             ],
             [
              0.2222222222222222,
              "#7201a8"
             ],
             [
              0.3333333333333333,
              "#9c179e"
             ],
             [
              0.4444444444444444,
              "#bd3786"
             ],
             [
              0.5555555555555556,
              "#d8576b"
             ],
             [
              0.6666666666666666,
              "#ed7953"
             ],
             [
              0.7777777777777778,
              "#fb9f3a"
             ],
             [
              0.8888888888888888,
              "#fdca26"
             ],
             [
              1,
              "#f0f921"
             ]
            ],
            "type": "surface"
           }
          ],
          "table": [
           {
            "cells": {
             "fill": {
              "color": "#EBF0F8"
             },
             "line": {
              "color": "white"
             }
            },
            "header": {
             "fill": {
              "color": "#C8D4E3"
             },
             "line": {
              "color": "white"
             }
            },
            "type": "table"
           }
          ]
         },
         "layout": {
          "annotationdefaults": {
           "arrowcolor": "#2a3f5f",
           "arrowhead": 0,
           "arrowwidth": 1
          },
          "autotypenumbers": "strict",
          "coloraxis": {
           "colorbar": {
            "outlinewidth": 0,
            "ticks": ""
           }
          },
          "colorscale": {
           "diverging": [
            [
             0,
             "#8e0152"
            ],
            [
             0.1,
             "#c51b7d"
            ],
            [
             0.2,
             "#de77ae"
            ],
            [
             0.3,
             "#f1b6da"
            ],
            [
             0.4,
             "#fde0ef"
            ],
            [
             0.5,
             "#f7f7f7"
            ],
            [
             0.6,
             "#e6f5d0"
            ],
            [
             0.7,
             "#b8e186"
            ],
            [
             0.8,
             "#7fbc41"
            ],
            [
             0.9,
             "#4d9221"
            ],
            [
             1,
             "#276419"
            ]
           ],
           "sequential": [
            [
             0,
             "#0d0887"
            ],
            [
             0.1111111111111111,
             "#46039f"
            ],
            [
             0.2222222222222222,
             "#7201a8"
            ],
            [
             0.3333333333333333,
             "#9c179e"
            ],
            [
             0.4444444444444444,
             "#bd3786"
            ],
            [
             0.5555555555555556,
             "#d8576b"
            ],
            [
             0.6666666666666666,
             "#ed7953"
            ],
            [
             0.7777777777777778,
             "#fb9f3a"
            ],
            [
             0.8888888888888888,
             "#fdca26"
            ],
            [
             1,
             "#f0f921"
            ]
           ],
           "sequentialminus": [
            [
             0,
             "#0d0887"
            ],
            [
             0.1111111111111111,
             "#46039f"
            ],
            [
             0.2222222222222222,
             "#7201a8"
            ],
            [
             0.3333333333333333,
             "#9c179e"
            ],
            [
             0.4444444444444444,
             "#bd3786"
            ],
            [
             0.5555555555555556,
             "#d8576b"
            ],
            [
             0.6666666666666666,
             "#ed7953"
            ],
            [
             0.7777777777777778,
             "#fb9f3a"
            ],
            [
             0.8888888888888888,
             "#fdca26"
            ],
            [
             1,
             "#f0f921"
            ]
           ]
          },
          "colorway": [
           "#636efa",
           "#EF553B",
           "#00cc96",
           "#ab63fa",
           "#FFA15A",
           "#19d3f3",
           "#FF6692",
           "#B6E880",
           "#FF97FF",
           "#FECB52"
          ],
          "font": {
           "color": "#2a3f5f"
          },
          "geo": {
           "bgcolor": "white",
           "lakecolor": "white",
           "landcolor": "white",
           "showlakes": true,
           "showland": true,
           "subunitcolor": "#C8D4E3"
          },
          "hoverlabel": {
           "align": "left"
          },
          "hovermode": "closest",
          "mapbox": {
           "style": "light"
          },
          "paper_bgcolor": "white",
          "plot_bgcolor": "white",
          "polar": {
           "angularaxis": {
            "gridcolor": "#EBF0F8",
            "linecolor": "#EBF0F8",
            "ticks": ""
           },
           "bgcolor": "white",
           "radialaxis": {
            "gridcolor": "#EBF0F8",
            "linecolor": "#EBF0F8",
            "ticks": ""
           }
          },
          "scene": {
           "xaxis": {
            "backgroundcolor": "white",
            "gridcolor": "#DFE8F3",
            "gridwidth": 2,
            "linecolor": "#EBF0F8",
            "showbackground": true,
            "ticks": "",
            "zerolinecolor": "#EBF0F8"
           },
           "yaxis": {
            "backgroundcolor": "white",
            "gridcolor": "#DFE8F3",
            "gridwidth": 2,
            "linecolor": "#EBF0F8",
            "showbackground": true,
            "ticks": "",
            "zerolinecolor": "#EBF0F8"
           },
           "zaxis": {
            "backgroundcolor": "white",
            "gridcolor": "#DFE8F3",
            "gridwidth": 2,
            "linecolor": "#EBF0F8",
            "showbackground": true,
            "ticks": "",
            "zerolinecolor": "#EBF0F8"
           }
          },
          "shapedefaults": {
           "line": {
            "color": "#2a3f5f"
           }
          },
          "ternary": {
           "aaxis": {
            "gridcolor": "#DFE8F3",
            "linecolor": "#A2B1C6",
            "ticks": ""
           },
           "baxis": {
            "gridcolor": "#DFE8F3",
            "linecolor": "#A2B1C6",
            "ticks": ""
           },
           "bgcolor": "white",
           "caxis": {
            "gridcolor": "#DFE8F3",
            "linecolor": "#A2B1C6",
            "ticks": ""
           }
          },
          "title": {
           "x": 0.05
          },
          "xaxis": {
           "automargin": true,
           "gridcolor": "#EBF0F8",
           "linecolor": "#EBF0F8",
           "ticks": "",
           "title": {
            "standoff": 15
           },
           "zerolinecolor": "#EBF0F8",
           "zerolinewidth": 2
          },
          "yaxis": {
           "automargin": true,
           "gridcolor": "#EBF0F8",
           "linecolor": "#EBF0F8",
           "ticks": "",
           "title": {
            "standoff": 15
           },
           "zerolinecolor": "#EBF0F8",
           "zerolinewidth": 2
          }
         }
        },
        "title": {
         "text": "Параллельные координаты: LightGBM"
        }
       }
      }
     },
     "metadata": {},
     "output_type": "display_data"
    },
    {
     "name": "stdout",
     "output_type": "stream",
     "text": [
      "💾 Сохраняем результаты...\n",
      "✅ Результаты сохранены: LightGBM -> RMSE: 42.4322\n",
      "================================================================================\n",
      "\n"
     ]
    }
   ],
   "source": [
    "analyze_optuna_results(\n",
    "    lgbm_optuna, \n",
    "    'LightGBM', \n",
    "    3,\n",
    "    results, \n",
    "    best_params,\n",
    "    show_plots=True,\n",
    "    show_top_trials=5\n",
    ")"
   ]
  },
  {
   "cell_type": "markdown",
   "id": "f59070e9",
   "metadata": {},
   "source": [
    "![lgbm1](images/lgbm1.png)\n",
    "![lgbm2](images/lgbm2.png)"
   ]
  },
  {
   "cell_type": "markdown",
   "id": "e3a96751",
   "metadata": {},
   "source": [
    "Все три ZeroInflated модели показывают что самые важные параметры, влияющие не результат, это параметры модели классификатора.\n",
    "\n",
    "Видимо классификатор является слабым звеном в этом пайплайне. В теории подход отсеить товары без трат на возврат хорош, но возможно на практике это либо не на много лучше чем линейная регрессия, либо нужно разделить подбор параметров для классификатора и лишь потом, найдя оптимальный по качество вариант классиыикатора искать решение для регрессии. На это можно потратить ещё времени, но на данный момент я попробую просто избавится от классификатора и взять только регрессор наилучшего из вариантов для сравнения."
   ]
  },
  {
   "cell_type": "markdown",
   "id": "22901f20",
   "metadata": {},
   "source": [
    "## XG Boost model (только регрессия)"
   ]
  },
  {
   "cell_type": "code",
   "execution_count": null,
   "id": "9a538b10",
   "metadata": {},
   "outputs": [],
   "source": [
    "xgb_reg_only_optuna_params = {\n",
    "    'model__n_estimators': dist.IntDistribution(1000, 1400),\n",
    "    'model__max_depth': dist.IntDistribution(10, 16),\n",
    "    'model__learning_rate': dist.FloatDistribution(0.05, 0.15),\n",
    "    'model__subsample': dist.FloatDistribution(0.8, 1.0),\n",
    "    'model__colsample_bytree': dist.FloatDistribution(0.5, 0.9),\n",
    "}\n",
    "\n",
    "xgb_reg_only_model = XGBRegressor(\n",
    "    random_state=SEED,\n",
    "    tree_method='gpu_hist',\n",
    "    predictor='gpu_predictor',\n",
    "    n_jobs=1\n",
    ")\n",
    "\n",
    "xgb_reg_only_pipeline = Pipeline([\n",
    "    ('preprocessor', preprocessor),\n",
    "    ('model', xgb_reg_only_model)\n",
    "])\n",
    "\n",
    "xgb_reg_only_optuna = OptunaSearchCV(\n",
    "    xgb_reg_only_pipeline,\n",
    "    xgb_reg_only_optuna_params,\n",
    "    cv=cv,\n",
    "    n_trials=200,\n",
    "    scoring='neg_root_mean_squared_error',\n",
    "    refit=True,\n",
    "    random_state=SEED,\n",
    "    n_jobs=1,\n",
    "    verbose=1,\n",
    "    timeout=1800,\n",
    "    callbacks=[\n",
    "        optuna.study.MaxTrialsCallback(200, states=(optuna.trial.TrialState.COMPLETE,)),\n",
    "    ]\n",
    ")\n",
    "\n",
    "xgb_reg_only_optuna.fit(X_train, y_train)\n",
    "best_xgb_reg_only_model = xgb_reg_only_optuna.best_estimator_"
   ]
  },
  {
   "cell_type": "code",
   "execution_count": 32,
   "id": "5d6dde87",
   "metadata": {},
   "outputs": [
    {
     "name": "stdout",
     "output_type": "stream",
     "text": [
      "================================================================================\n",
      "🎯 XGBoost (regression only)\n",
      "================================================================================\n",
      "✅ Лучшие параметры: {'model__n_estimators': 1100, 'model__max_depth': 12, 'model__learning_rate': 0.1, 'model__subsample': 1.0, 'model__colsample_bytree': 0.8}\n",
      "--------------------------------------------------------------------------------\n",
      "📊 Наилучший RMSE на кросс-валидации: 36.9732\n",
      "📈 Стандартное отклонение: ±0.1168\n",
      "🎯 95% доверительный интервал: [36.7444, 37.2020]\n",
      "🔄 Общее количество trials: 28\n",
      "✅ Успешных: 28\n",
      "❌ Неудачных: 0\n",
      "✂️  Обрезанных (pruned): 0\n",
      "📊 Среднее RMSE: 37.9010\n",
      "📊 Медианное RMSE: 37.3579\n",
      "📊 Стандартное отклонение RMSE: 1.2536\n",
      "\n",
      "🏆 Топ-5 результатов:\n",
      "   1. RMSE: 36.9732 (trial #22)\n",
      "   2. RMSE: 37.0254 (trial #10)\n",
      "   3. RMSE: 37.0254 (trial #11)\n",
      "   4. RMSE: 37.0254 (trial #12)\n",
      "   5. RMSE: 37.0254 (trial #21)\n",
      "================================================================================\n",
      "📈 Строим графики...\n"
     ]
    },
    {
     "data": {
      "application/vnd.plotly.v1+json": {
       "config": {
        "plotlyServerURL": "https://plot.ly"
       },
       "data": [
        {
         "marker": {
          "color": [
           37.95408097720807,
           41.77079801053876,
           39.69826863924602,
           40.41663595527812,
           37.372451606011104,
           37.21981590754154,
           38.172673823406086,
           40.95986659948092,
           37.5604143081733,
           38.03900390162281,
           37.02538404429932,
           37.02538404429932,
           37.02538404429932,
           37.09481868175337,
           37.411460035062646,
           38.25184461223217,
           37.12938311698496,
           37.098015241792204,
           38.65112538481643,
           37.19697195147914,
           37.66421171395299,
           37.02538404429932,
           36.97320465077856,
           37.34330597444039,
           37.14791174887655,
           37.44950854620948,
           37.2770746309129,
           37.27439205350339
          ],
          "colorbar": {
           "title": {
            "text": "RMSE"
           },
           "x": 0.45
          },
          "colorscale": [
           [
            0,
            "rgb(49,54,149)"
           ],
           [
            0.1,
            "rgb(69,117,180)"
           ],
           [
            0.2,
            "rgb(116,173,209)"
           ],
           [
            0.3,
            "rgb(171,217,233)"
           ],
           [
            0.4,
            "rgb(224,243,248)"
           ],
           [
            0.5,
            "rgb(255,255,191)"
           ],
           [
            0.6,
            "rgb(254,224,144)"
           ],
           [
            0.7,
            "rgb(253,174,97)"
           ],
           [
            0.8,
            "rgb(244,109,67)"
           ],
           [
            0.9,
            "rgb(215,48,39)"
           ],
           [
            1,
            "rgb(165,0,38)"
           ]
          ],
          "showscale": true
         },
         "mode": "markers",
         "name": "Trial RMSE",
         "opacity": 0.6,
         "type": "scatter",
         "x": [
          0,
          1,
          2,
          3,
          4,
          5,
          6,
          7,
          8,
          9,
          10,
          11,
          12,
          13,
          14,
          15,
          16,
          17,
          18,
          19,
          20,
          21,
          22,
          23,
          24,
          25,
          26,
          27
         ],
         "xaxis": "x",
         "y": [
          37.95408097720807,
          41.77079801053876,
          39.69826863924602,
          40.41663595527812,
          37.372451606011104,
          37.21981590754154,
          38.172673823406086,
          40.95986659948092,
          37.5604143081733,
          38.03900390162281,
          37.02538404429932,
          37.02538404429932,
          37.02538404429932,
          37.09481868175337,
          37.411460035062646,
          38.25184461223217,
          37.12938311698496,
          37.098015241792204,
          38.65112538481643,
          37.19697195147914,
          37.66421171395299,
          37.02538404429932,
          36.97320465077856,
          37.34330597444039,
          37.14791174887655,
          37.44950854620948,
          37.2770746309129,
          37.27439205350339
         ],
         "yaxis": "y"
        },
        {
         "line": {
          "color": "red",
          "width": 3
         },
         "mode": "lines",
         "name": "Лучший RMSE",
         "type": "scatter",
         "x": [
          0,
          1,
          2,
          3,
          4,
          5,
          6,
          7,
          8,
          9,
          10,
          11,
          12,
          13,
          14,
          15,
          16,
          17,
          18,
          19,
          20,
          21,
          22,
          23,
          24,
          25,
          26,
          27
         ],
         "xaxis": "x",
         "y": [
          37.95408097720807,
          37.95408097720807,
          37.95408097720807,
          37.95408097720807,
          37.372451606011104,
          37.21981590754154,
          37.21981590754154,
          37.21981590754154,
          37.21981590754154,
          37.21981590754154,
          37.02538404429932,
          37.02538404429932,
          37.02538404429932,
          37.02538404429932,
          37.02538404429932,
          37.02538404429932,
          37.02538404429932,
          37.02538404429932,
          37.02538404429932,
          37.02538404429932,
          37.02538404429932,
          37.02538404429932,
          36.97320465077856,
          36.97320465077856,
          36.97320465077856,
          36.97320465077856,
          36.97320465077856,
          36.97320465077856
         ],
         "yaxis": "y"
        },
        {
         "marker": {
          "color": "lightblue"
         },
         "name": "Распределение RMSE",
         "nbinsx": 20,
         "opacity": 0.7,
         "type": "histogram",
         "x": [
          37.95408097720807,
          41.77079801053876,
          39.69826863924602,
          40.41663595527812,
          37.372451606011104,
          37.21981590754154,
          38.172673823406086,
          40.95986659948092,
          37.5604143081733,
          38.03900390162281,
          37.02538404429932,
          37.02538404429932,
          37.02538404429932,
          37.09481868175337,
          37.411460035062646,
          38.25184461223217,
          37.12938311698496,
          37.098015241792204,
          38.65112538481643,
          37.19697195147914,
          37.66421171395299,
          37.02538404429932,
          36.97320465077856,
          37.34330597444039,
          37.14791174887655,
          37.44950854620948,
          37.2770746309129,
          37.27439205350339
         ],
         "xaxis": "x2",
         "yaxis": "y2"
        },
        {
         "marker": {
          "color": "lightgreen"
         },
         "name": "Важность",
         "orientation": "h",
         "type": "bar",
         "x": [
          0.8937877061741689,
          0.06631225474257009,
          0.02096183819348188,
          0.01689964505409773,
          0.0020385558356813154
         ],
         "xaxis": "x3",
         "y": [
          "max_depth",
          "n_estimators",
          "learning_rate",
          "colsample_bytree",
          "subsample"
         ],
         "yaxis": "y3"
        },
        {
         "line": {
          "color": "orange",
          "width": 2
         },
         "mode": "lines",
         "name": "Скользящее среднее (5)",
         "type": "scatter",
         "x": [
          0,
          1,
          2,
          3,
          4,
          5,
          6,
          7,
          8,
          9,
          10,
          11,
          12,
          13,
          14,
          15,
          16,
          17,
          18,
          19,
          20,
          21,
          22,
          23,
          24,
          25,
          26,
          27
         ],
         "xaxis": "x4",
         "y": {
          "bdata": "AAAAAAAA+H8AAAAAAAD4fwAAAAAAAPh/AAAAAAAA+H8jecIaorhDQFNkZAbWpUNA4lK5W7lJQ0COUN9dBWpDQNXeHtXmIENAavFNJvcxQ0DsjMTr/CxDQEaF7AqeD0NA4GaOBOWqQkDWibew+Z5CQJkr0QTpjkJAsBQ0wE6uQkBFrrFR+LBCQIp4n1DUskJA5rD+uavaQkD0QLQOLtVCQMg8TPIixkJANaPOYHnDQkBM+mFrR8BCQFZQgn7MnkJAE74l+YqdQkClXAHlC5hCQPwuvV99nkJAi6ZZPDOmQkA=",
          "dtype": "f8"
         },
         "yaxis": "y4"
        }
       ],
       "layout": {
        "annotations": [
         {
          "font": {
           "size": 16
          },
          "showarrow": false,
          "text": "История оптимизации",
          "x": 0.225,
          "xanchor": "center",
          "xref": "paper",
          "y": 1,
          "yanchor": "bottom",
          "yref": "paper"
         },
         {
          "font": {
           "size": 16
          },
          "showarrow": false,
          "text": "Распределение RMSE",
          "x": 0.775,
          "xanchor": "center",
          "xref": "paper",
          "y": 1,
          "yanchor": "bottom",
          "yref": "paper"
         },
         {
          "font": {
           "size": 16
          },
          "showarrow": false,
          "text": "Важность параметров",
          "x": 0.225,
          "xanchor": "center",
          "xref": "paper",
          "y": 0.375,
          "yanchor": "bottom",
          "yref": "paper"
         },
         {
          "font": {
           "size": 16
          },
          "showarrow": false,
          "text": "Прогресс лучших результатов",
          "x": 0.775,
          "xanchor": "center",
          "xref": "paper",
          "y": 0.375,
          "yanchor": "bottom",
          "yref": "paper"
         }
        ],
        "height": 800,
        "showlegend": true,
        "template": {
         "data": {
          "bar": [
           {
            "error_x": {
             "color": "#2a3f5f"
            },
            "error_y": {
             "color": "#2a3f5f"
            },
            "marker": {
             "line": {
              "color": "white",
              "width": 0.5
             },
             "pattern": {
              "fillmode": "overlay",
              "size": 10,
              "solidity": 0.2
             }
            },
            "type": "bar"
           }
          ],
          "barpolar": [
           {
            "marker": {
             "line": {
              "color": "white",
              "width": 0.5
             },
             "pattern": {
              "fillmode": "overlay",
              "size": 10,
              "solidity": 0.2
             }
            },
            "type": "barpolar"
           }
          ],
          "carpet": [
           {
            "aaxis": {
             "endlinecolor": "#2a3f5f",
             "gridcolor": "#C8D4E3",
             "linecolor": "#C8D4E3",
             "minorgridcolor": "#C8D4E3",
             "startlinecolor": "#2a3f5f"
            },
            "baxis": {
             "endlinecolor": "#2a3f5f",
             "gridcolor": "#C8D4E3",
             "linecolor": "#C8D4E3",
             "minorgridcolor": "#C8D4E3",
             "startlinecolor": "#2a3f5f"
            },
            "type": "carpet"
           }
          ],
          "choropleth": [
           {
            "colorbar": {
             "outlinewidth": 0,
             "ticks": ""
            },
            "type": "choropleth"
           }
          ],
          "contour": [
           {
            "colorbar": {
             "outlinewidth": 0,
             "ticks": ""
            },
            "colorscale": [
             [
              0,
              "#0d0887"
             ],
             [
              0.1111111111111111,
              "#46039f"
             ],
             [
              0.2222222222222222,
              "#7201a8"
             ],
             [
              0.3333333333333333,
              "#9c179e"
             ],
             [
              0.4444444444444444,
              "#bd3786"
             ],
             [
              0.5555555555555556,
              "#d8576b"
             ],
             [
              0.6666666666666666,
              "#ed7953"
             ],
             [
              0.7777777777777778,
              "#fb9f3a"
             ],
             [
              0.8888888888888888,
              "#fdca26"
             ],
             [
              1,
              "#f0f921"
             ]
            ],
            "type": "contour"
           }
          ],
          "contourcarpet": [
           {
            "colorbar": {
             "outlinewidth": 0,
             "ticks": ""
            },
            "type": "contourcarpet"
           }
          ],
          "heatmap": [
           {
            "colorbar": {
             "outlinewidth": 0,
             "ticks": ""
            },
            "colorscale": [
             [
              0,
              "#0d0887"
             ],
             [
              0.1111111111111111,
              "#46039f"
             ],
             [
              0.2222222222222222,
              "#7201a8"
             ],
             [
              0.3333333333333333,
              "#9c179e"
             ],
             [
              0.4444444444444444,
              "#bd3786"
             ],
             [
              0.5555555555555556,
              "#d8576b"
             ],
             [
              0.6666666666666666,
              "#ed7953"
             ],
             [
              0.7777777777777778,
              "#fb9f3a"
             ],
             [
              0.8888888888888888,
              "#fdca26"
             ],
             [
              1,
              "#f0f921"
             ]
            ],
            "type": "heatmap"
           }
          ],
          "histogram": [
           {
            "marker": {
             "pattern": {
              "fillmode": "overlay",
              "size": 10,
              "solidity": 0.2
             }
            },
            "type": "histogram"
           }
          ],
          "histogram2d": [
           {
            "colorbar": {
             "outlinewidth": 0,
             "ticks": ""
            },
            "colorscale": [
             [
              0,
              "#0d0887"
             ],
             [
              0.1111111111111111,
              "#46039f"
             ],
             [
              0.2222222222222222,
              "#7201a8"
             ],
             [
              0.3333333333333333,
              "#9c179e"
             ],
             [
              0.4444444444444444,
              "#bd3786"
             ],
             [
              0.5555555555555556,
              "#d8576b"
             ],
             [
              0.6666666666666666,
              "#ed7953"
             ],
             [
              0.7777777777777778,
              "#fb9f3a"
             ],
             [
              0.8888888888888888,
              "#fdca26"
             ],
             [
              1,
              "#f0f921"
             ]
            ],
            "type": "histogram2d"
           }
          ],
          "histogram2dcontour": [
           {
            "colorbar": {
             "outlinewidth": 0,
             "ticks": ""
            },
            "colorscale": [
             [
              0,
              "#0d0887"
             ],
             [
              0.1111111111111111,
              "#46039f"
             ],
             [
              0.2222222222222222,
              "#7201a8"
             ],
             [
              0.3333333333333333,
              "#9c179e"
             ],
             [
              0.4444444444444444,
              "#bd3786"
             ],
             [
              0.5555555555555556,
              "#d8576b"
             ],
             [
              0.6666666666666666,
              "#ed7953"
             ],
             [
              0.7777777777777778,
              "#fb9f3a"
             ],
             [
              0.8888888888888888,
              "#fdca26"
             ],
             [
              1,
              "#f0f921"
             ]
            ],
            "type": "histogram2dcontour"
           }
          ],
          "mesh3d": [
           {
            "colorbar": {
             "outlinewidth": 0,
             "ticks": ""
            },
            "type": "mesh3d"
           }
          ],
          "parcoords": [
           {
            "line": {
             "colorbar": {
              "outlinewidth": 0,
              "ticks": ""
             }
            },
            "type": "parcoords"
           }
          ],
          "pie": [
           {
            "automargin": true,
            "type": "pie"
           }
          ],
          "scatter": [
           {
            "fillpattern": {
             "fillmode": "overlay",
             "size": 10,
             "solidity": 0.2
            },
            "type": "scatter"
           }
          ],
          "scatter3d": [
           {
            "line": {
             "colorbar": {
              "outlinewidth": 0,
              "ticks": ""
             }
            },
            "marker": {
             "colorbar": {
              "outlinewidth": 0,
              "ticks": ""
             }
            },
            "type": "scatter3d"
           }
          ],
          "scattercarpet": [
           {
            "marker": {
             "colorbar": {
              "outlinewidth": 0,
              "ticks": ""
             }
            },
            "type": "scattercarpet"
           }
          ],
          "scattergeo": [
           {
            "marker": {
             "colorbar": {
              "outlinewidth": 0,
              "ticks": ""
             }
            },
            "type": "scattergeo"
           }
          ],
          "scattergl": [
           {
            "marker": {
             "colorbar": {
              "outlinewidth": 0,
              "ticks": ""
             }
            },
            "type": "scattergl"
           }
          ],
          "scattermap": [
           {
            "marker": {
             "colorbar": {
              "outlinewidth": 0,
              "ticks": ""
             }
            },
            "type": "scattermap"
           }
          ],
          "scattermapbox": [
           {
            "marker": {
             "colorbar": {
              "outlinewidth": 0,
              "ticks": ""
             }
            },
            "type": "scattermapbox"
           }
          ],
          "scatterpolar": [
           {
            "marker": {
             "colorbar": {
              "outlinewidth": 0,
              "ticks": ""
             }
            },
            "type": "scatterpolar"
           }
          ],
          "scatterpolargl": [
           {
            "marker": {
             "colorbar": {
              "outlinewidth": 0,
              "ticks": ""
             }
            },
            "type": "scatterpolargl"
           }
          ],
          "scatterternary": [
           {
            "marker": {
             "colorbar": {
              "outlinewidth": 0,
              "ticks": ""
             }
            },
            "type": "scatterternary"
           }
          ],
          "surface": [
           {
            "colorbar": {
             "outlinewidth": 0,
             "ticks": ""
            },
            "colorscale": [
             [
              0,
              "#0d0887"
             ],
             [
              0.1111111111111111,
              "#46039f"
             ],
             [
              0.2222222222222222,
              "#7201a8"
             ],
             [
              0.3333333333333333,
              "#9c179e"
             ],
             [
              0.4444444444444444,
              "#bd3786"
             ],
             [
              0.5555555555555556,
              "#d8576b"
             ],
             [
              0.6666666666666666,
              "#ed7953"
             ],
             [
              0.7777777777777778,
              "#fb9f3a"
             ],
             [
              0.8888888888888888,
              "#fdca26"
             ],
             [
              1,
              "#f0f921"
             ]
            ],
            "type": "surface"
           }
          ],
          "table": [
           {
            "cells": {
             "fill": {
              "color": "#EBF0F8"
             },
             "line": {
              "color": "white"
             }
            },
            "header": {
             "fill": {
              "color": "#C8D4E3"
             },
             "line": {
              "color": "white"
             }
            },
            "type": "table"
           }
          ]
         },
         "layout": {
          "annotationdefaults": {
           "arrowcolor": "#2a3f5f",
           "arrowhead": 0,
           "arrowwidth": 1
          },
          "autotypenumbers": "strict",
          "coloraxis": {
           "colorbar": {
            "outlinewidth": 0,
            "ticks": ""
           }
          },
          "colorscale": {
           "diverging": [
            [
             0,
             "#8e0152"
            ],
            [
             0.1,
             "#c51b7d"
            ],
            [
             0.2,
             "#de77ae"
            ],
            [
             0.3,
             "#f1b6da"
            ],
            [
             0.4,
             "#fde0ef"
            ],
            [
             0.5,
             "#f7f7f7"
            ],
            [
             0.6,
             "#e6f5d0"
            ],
            [
             0.7,
             "#b8e186"
            ],
            [
             0.8,
             "#7fbc41"
            ],
            [
             0.9,
             "#4d9221"
            ],
            [
             1,
             "#276419"
            ]
           ],
           "sequential": [
            [
             0,
             "#0d0887"
            ],
            [
             0.1111111111111111,
             "#46039f"
            ],
            [
             0.2222222222222222,
             "#7201a8"
            ],
            [
             0.3333333333333333,
             "#9c179e"
            ],
            [
             0.4444444444444444,
             "#bd3786"
            ],
            [
             0.5555555555555556,
             "#d8576b"
            ],
            [
             0.6666666666666666,
             "#ed7953"
            ],
            [
             0.7777777777777778,
             "#fb9f3a"
            ],
            [
             0.8888888888888888,
             "#fdca26"
            ],
            [
             1,
             "#f0f921"
            ]
           ],
           "sequentialminus": [
            [
             0,
             "#0d0887"
            ],
            [
             0.1111111111111111,
             "#46039f"
            ],
            [
             0.2222222222222222,
             "#7201a8"
            ],
            [
             0.3333333333333333,
             "#9c179e"
            ],
            [
             0.4444444444444444,
             "#bd3786"
            ],
            [
             0.5555555555555556,
             "#d8576b"
            ],
            [
             0.6666666666666666,
             "#ed7953"
            ],
            [
             0.7777777777777778,
             "#fb9f3a"
            ],
            [
             0.8888888888888888,
             "#fdca26"
            ],
            [
             1,
             "#f0f921"
            ]
           ]
          },
          "colorway": [
           "#636efa",
           "#EF553B",
           "#00cc96",
           "#ab63fa",
           "#FFA15A",
           "#19d3f3",
           "#FF6692",
           "#B6E880",
           "#FF97FF",
           "#FECB52"
          ],
          "font": {
           "color": "#2a3f5f"
          },
          "geo": {
           "bgcolor": "white",
           "lakecolor": "white",
           "landcolor": "white",
           "showlakes": true,
           "showland": true,
           "subunitcolor": "#C8D4E3"
          },
          "hoverlabel": {
           "align": "left"
          },
          "hovermode": "closest",
          "mapbox": {
           "style": "light"
          },
          "paper_bgcolor": "white",
          "plot_bgcolor": "white",
          "polar": {
           "angularaxis": {
            "gridcolor": "#EBF0F8",
            "linecolor": "#EBF0F8",
            "ticks": ""
           },
           "bgcolor": "white",
           "radialaxis": {
            "gridcolor": "#EBF0F8",
            "linecolor": "#EBF0F8",
            "ticks": ""
           }
          },
          "scene": {
           "xaxis": {
            "backgroundcolor": "white",
            "gridcolor": "#DFE8F3",
            "gridwidth": 2,
            "linecolor": "#EBF0F8",
            "showbackground": true,
            "ticks": "",
            "zerolinecolor": "#EBF0F8"
           },
           "yaxis": {
            "backgroundcolor": "white",
            "gridcolor": "#DFE8F3",
            "gridwidth": 2,
            "linecolor": "#EBF0F8",
            "showbackground": true,
            "ticks": "",
            "zerolinecolor": "#EBF0F8"
           },
           "zaxis": {
            "backgroundcolor": "white",
            "gridcolor": "#DFE8F3",
            "gridwidth": 2,
            "linecolor": "#EBF0F8",
            "showbackground": true,
            "ticks": "",
            "zerolinecolor": "#EBF0F8"
           }
          },
          "shapedefaults": {
           "line": {
            "color": "#2a3f5f"
           }
          },
          "ternary": {
           "aaxis": {
            "gridcolor": "#DFE8F3",
            "linecolor": "#A2B1C6",
            "ticks": ""
           },
           "baxis": {
            "gridcolor": "#DFE8F3",
            "linecolor": "#A2B1C6",
            "ticks": ""
           },
           "bgcolor": "white",
           "caxis": {
            "gridcolor": "#DFE8F3",
            "linecolor": "#A2B1C6",
            "ticks": ""
           }
          },
          "title": {
           "x": 0.05
          },
          "xaxis": {
           "automargin": true,
           "gridcolor": "#EBF0F8",
           "linecolor": "#EBF0F8",
           "ticks": "",
           "title": {
            "standoff": 15
           },
           "zerolinecolor": "#EBF0F8",
           "zerolinewidth": 2
          },
          "yaxis": {
           "automargin": true,
           "gridcolor": "#EBF0F8",
           "linecolor": "#EBF0F8",
           "ticks": "",
           "title": {
            "standoff": 15
           },
           "zerolinecolor": "#EBF0F8",
           "zerolinewidth": 2
          }
         }
        },
        "title": {
         "font": {
          "size": 16
         },
         "text": "Анализ оптимизации: XGBoost (regression only)"
        },
        "xaxis": {
         "anchor": "y",
         "domain": [
          0,
          0.45
         ],
         "title": {
          "text": "Номер Trial"
         }
        },
        "xaxis2": {
         "anchor": "y2",
         "domain": [
          0.55,
          1
         ],
         "title": {
          "text": "RMSE"
         }
        },
        "xaxis3": {
         "anchor": "y3",
         "domain": [
          0,
          0.45
         ],
         "title": {
          "text": "Важность"
         }
        },
        "xaxis4": {
         "anchor": "y4",
         "domain": [
          0.55,
          1
         ],
         "title": {
          "text": "Номер Trial"
         }
        },
        "yaxis": {
         "anchor": "x",
         "domain": [
          0.625,
          1
         ],
         "title": {
          "text": "RMSE"
         }
        },
        "yaxis2": {
         "anchor": "x2",
         "domain": [
          0.625,
          1
         ],
         "title": {
          "text": "Частота"
         }
        },
        "yaxis3": {
         "anchor": "x3",
         "domain": [
          0,
          0.375
         ],
         "title": {
          "text": "Параметры"
         }
        },
        "yaxis4": {
         "anchor": "x4",
         "domain": [
          0,
          0.375
         ],
         "title": {
          "text": "RMSE (скользящее среднее)"
         }
        }
       }
      }
     },
     "metadata": {},
     "output_type": "display_data"
    },
    {
     "name": "stdout",
     "output_type": "stream",
     "text": [
      "📊 График параллельных координат...\n"
     ]
    },
    {
     "data": {
      "application/vnd.plotly.v1+json": {
       "config": {
        "plotlyServerURL": "https://plot.ly"
       },
       "data": [
        {
         "dimensions": [
          {
           "label": "Objective Value",
           "range": [
            -41.77079801053876,
            -36.97320465077856
           ],
           "values": [
            -37.95408097720807,
            -41.77079801053876,
            -39.69826863924602,
            -40.41663595527812,
            -37.372451606011104,
            -37.21981590754154,
            -38.172673823406086,
            -40.95986659948092,
            -37.5604143081733,
            -38.03900390162281,
            -37.02538404429932,
            -37.02538404429932,
            -37.02538404429932,
            -37.09481868175337,
            -37.411460035062646,
            -38.25184461223217,
            -37.12938311698496,
            -37.098015241792204,
            -38.65112538481643,
            -37.19697195147914,
            -37.66421171395299,
            -37.02538404429932,
            -36.97320465077856,
            -37.34330597444039,
            -37.14791174887655,
            -37.44950854620948,
            -37.2770746309129,
            -37.27439205350339
           ]
          },
          {
           "label": "model__colsample_...",
           "range": [
            0.6,
            1
           ],
           "values": [
            1,
            0.6,
            0.9,
            1,
            1,
            0.8,
            0.8,
            0.6,
            0.9,
            0.8,
            0.7,
            0.7,
            0.7,
            0.7,
            0.7,
            0.7,
            0.6,
            0.7,
            0.9,
            0.6,
            0.7,
            0.7,
            0.8,
            0.8,
            0.8,
            0.8,
            0.9,
            0.7
           ]
          },
          {
           "label": "model__learning_r...",
           "range": [
            0.1,
            0.19
           ],
           "values": [
            0.18,
            0.19,
            0.18,
            0.15000000000000002,
            0.13,
            0.1,
            0.14,
            0.12000000000000001,
            0.13,
            0.19,
            0.1,
            0.1,
            0.1,
            0.11,
            0.16,
            0.11,
            0.1,
            0.12000000000000001,
            0.16,
            0.12000000000000001,
            0.11,
            0.1,
            0.1,
            0.11,
            0.13,
            0.1,
            0.12000000000000001,
            0.14
           ]
          },
          {
           "label": "model__max_depth",
           "range": [
            6,
            12
           ],
           "values": [
            10,
            6,
            7,
            7,
            12,
            11,
            9,
            6,
            10,
            10,
            12,
            12,
            12,
            12,
            11,
            9,
            11,
            12,
            8,
            11,
            9,
            12,
            12,
            11,
            12,
            10,
            11,
            12
           ]
          },
          {
           "label": "model__n_estimators",
           "range": [
            600,
            1200
           ],
           "values": [
            900,
            600,
            900,
            800,
            700,
            1100,
            900,
            1200,
            1100,
            800,
            1100,
            1100,
            1100,
            1200,
            1000,
            1000,
            1200,
            1000,
            1100,
            1000,
            1200,
            1100,
            1100,
            1000,
            1100,
            1200,
            1000,
            1100
           ]
          },
          {
           "label": "model__subsample",
           "range": [
            0.8,
            1
           ],
           "values": [
            0.9,
            0.8,
            0.9,
            1,
            0.9,
            1,
            0.8,
            0.9,
            0.8,
            0.9,
            1,
            1,
            1,
            1,
            1,
            1,
            1,
            1,
            1,
            0.9,
            0.9,
            1,
            1,
            1,
            1,
            1,
            1,
            0.9
           ]
          }
         ],
         "labelangle": 30,
         "labelside": "bottom",
         "line": {
          "color": [
           -37.95408097720807,
           -41.77079801053876,
           -39.69826863924602,
           -40.41663595527812,
           -37.372451606011104,
           -37.21981590754154,
           -38.172673823406086,
           -40.95986659948092,
           -37.5604143081733,
           -38.03900390162281,
           -37.02538404429932,
           -37.02538404429932,
           -37.02538404429932,
           -37.09481868175337,
           -37.411460035062646,
           -38.25184461223217,
           -37.12938311698496,
           -37.098015241792204,
           -38.65112538481643,
           -37.19697195147914,
           -37.66421171395299,
           -37.02538404429932,
           -36.97320465077856,
           -37.34330597444039,
           -37.14791174887655,
           -37.44950854620948,
           -37.2770746309129,
           -37.27439205350339
          ],
          "colorbar": {
           "title": {
            "text": "Objective Value"
           }
          },
          "colorscale": [
           [
            0,
            "rgb(247,251,255)"
           ],
           [
            0.125,
            "rgb(222,235,247)"
           ],
           [
            0.25,
            "rgb(198,219,239)"
           ],
           [
            0.375,
            "rgb(158,202,225)"
           ],
           [
            0.5,
            "rgb(107,174,214)"
           ],
           [
            0.625,
            "rgb(66,146,198)"
           ],
           [
            0.75,
            "rgb(33,113,181)"
           ],
           [
            0.875,
            "rgb(8,81,156)"
           ],
           [
            1,
            "rgb(8,48,107)"
           ]
          ],
          "reversescale": false,
          "showscale": true
         },
         "type": "parcoords"
        }
       ],
       "layout": {
        "template": {
         "data": {
          "bar": [
           {
            "error_x": {
             "color": "#2a3f5f"
            },
            "error_y": {
             "color": "#2a3f5f"
            },
            "marker": {
             "line": {
              "color": "white",
              "width": 0.5
             },
             "pattern": {
              "fillmode": "overlay",
              "size": 10,
              "solidity": 0.2
             }
            },
            "type": "bar"
           }
          ],
          "barpolar": [
           {
            "marker": {
             "line": {
              "color": "white",
              "width": 0.5
             },
             "pattern": {
              "fillmode": "overlay",
              "size": 10,
              "solidity": 0.2
             }
            },
            "type": "barpolar"
           }
          ],
          "carpet": [
           {
            "aaxis": {
             "endlinecolor": "#2a3f5f",
             "gridcolor": "#C8D4E3",
             "linecolor": "#C8D4E3",
             "minorgridcolor": "#C8D4E3",
             "startlinecolor": "#2a3f5f"
            },
            "baxis": {
             "endlinecolor": "#2a3f5f",
             "gridcolor": "#C8D4E3",
             "linecolor": "#C8D4E3",
             "minorgridcolor": "#C8D4E3",
             "startlinecolor": "#2a3f5f"
            },
            "type": "carpet"
           }
          ],
          "choropleth": [
           {
            "colorbar": {
             "outlinewidth": 0,
             "ticks": ""
            },
            "type": "choropleth"
           }
          ],
          "contour": [
           {
            "colorbar": {
             "outlinewidth": 0,
             "ticks": ""
            },
            "colorscale": [
             [
              0,
              "#0d0887"
             ],
             [
              0.1111111111111111,
              "#46039f"
             ],
             [
              0.2222222222222222,
              "#7201a8"
             ],
             [
              0.3333333333333333,
              "#9c179e"
             ],
             [
              0.4444444444444444,
              "#bd3786"
             ],
             [
              0.5555555555555556,
              "#d8576b"
             ],
             [
              0.6666666666666666,
              "#ed7953"
             ],
             [
              0.7777777777777778,
              "#fb9f3a"
             ],
             [
              0.8888888888888888,
              "#fdca26"
             ],
             [
              1,
              "#f0f921"
             ]
            ],
            "type": "contour"
           }
          ],
          "contourcarpet": [
           {
            "colorbar": {
             "outlinewidth": 0,
             "ticks": ""
            },
            "type": "contourcarpet"
           }
          ],
          "heatmap": [
           {
            "colorbar": {
             "outlinewidth": 0,
             "ticks": ""
            },
            "colorscale": [
             [
              0,
              "#0d0887"
             ],
             [
              0.1111111111111111,
              "#46039f"
             ],
             [
              0.2222222222222222,
              "#7201a8"
             ],
             [
              0.3333333333333333,
              "#9c179e"
             ],
             [
              0.4444444444444444,
              "#bd3786"
             ],
             [
              0.5555555555555556,
              "#d8576b"
             ],
             [
              0.6666666666666666,
              "#ed7953"
             ],
             [
              0.7777777777777778,
              "#fb9f3a"
             ],
             [
              0.8888888888888888,
              "#fdca26"
             ],
             [
              1,
              "#f0f921"
             ]
            ],
            "type": "heatmap"
           }
          ],
          "histogram": [
           {
            "marker": {
             "pattern": {
              "fillmode": "overlay",
              "size": 10,
              "solidity": 0.2
             }
            },
            "type": "histogram"
           }
          ],
          "histogram2d": [
           {
            "colorbar": {
             "outlinewidth": 0,
             "ticks": ""
            },
            "colorscale": [
             [
              0,
              "#0d0887"
             ],
             [
              0.1111111111111111,
              "#46039f"
             ],
             [
              0.2222222222222222,
              "#7201a8"
             ],
             [
              0.3333333333333333,
              "#9c179e"
             ],
             [
              0.4444444444444444,
              "#bd3786"
             ],
             [
              0.5555555555555556,
              "#d8576b"
             ],
             [
              0.6666666666666666,
              "#ed7953"
             ],
             [
              0.7777777777777778,
              "#fb9f3a"
             ],
             [
              0.8888888888888888,
              "#fdca26"
             ],
             [
              1,
              "#f0f921"
             ]
            ],
            "type": "histogram2d"
           }
          ],
          "histogram2dcontour": [
           {
            "colorbar": {
             "outlinewidth": 0,
             "ticks": ""
            },
            "colorscale": [
             [
              0,
              "#0d0887"
             ],
             [
              0.1111111111111111,
              "#46039f"
             ],
             [
              0.2222222222222222,
              "#7201a8"
             ],
             [
              0.3333333333333333,
              "#9c179e"
             ],
             [
              0.4444444444444444,
              "#bd3786"
             ],
             [
              0.5555555555555556,
              "#d8576b"
             ],
             [
              0.6666666666666666,
              "#ed7953"
             ],
             [
              0.7777777777777778,
              "#fb9f3a"
             ],
             [
              0.8888888888888888,
              "#fdca26"
             ],
             [
              1,
              "#f0f921"
             ]
            ],
            "type": "histogram2dcontour"
           }
          ],
          "mesh3d": [
           {
            "colorbar": {
             "outlinewidth": 0,
             "ticks": ""
            },
            "type": "mesh3d"
           }
          ],
          "parcoords": [
           {
            "line": {
             "colorbar": {
              "outlinewidth": 0,
              "ticks": ""
             }
            },
            "type": "parcoords"
           }
          ],
          "pie": [
           {
            "automargin": true,
            "type": "pie"
           }
          ],
          "scatter": [
           {
            "fillpattern": {
             "fillmode": "overlay",
             "size": 10,
             "solidity": 0.2
            },
            "type": "scatter"
           }
          ],
          "scatter3d": [
           {
            "line": {
             "colorbar": {
              "outlinewidth": 0,
              "ticks": ""
             }
            },
            "marker": {
             "colorbar": {
              "outlinewidth": 0,
              "ticks": ""
             }
            },
            "type": "scatter3d"
           }
          ],
          "scattercarpet": [
           {
            "marker": {
             "colorbar": {
              "outlinewidth": 0,
              "ticks": ""
             }
            },
            "type": "scattercarpet"
           }
          ],
          "scattergeo": [
           {
            "marker": {
             "colorbar": {
              "outlinewidth": 0,
              "ticks": ""
             }
            },
            "type": "scattergeo"
           }
          ],
          "scattergl": [
           {
            "marker": {
             "colorbar": {
              "outlinewidth": 0,
              "ticks": ""
             }
            },
            "type": "scattergl"
           }
          ],
          "scattermap": [
           {
            "marker": {
             "colorbar": {
              "outlinewidth": 0,
              "ticks": ""
             }
            },
            "type": "scattermap"
           }
          ],
          "scattermapbox": [
           {
            "marker": {
             "colorbar": {
              "outlinewidth": 0,
              "ticks": ""
             }
            },
            "type": "scattermapbox"
           }
          ],
          "scatterpolar": [
           {
            "marker": {
             "colorbar": {
              "outlinewidth": 0,
              "ticks": ""
             }
            },
            "type": "scatterpolar"
           }
          ],
          "scatterpolargl": [
           {
            "marker": {
             "colorbar": {
              "outlinewidth": 0,
              "ticks": ""
             }
            },
            "type": "scatterpolargl"
           }
          ],
          "scatterternary": [
           {
            "marker": {
             "colorbar": {
              "outlinewidth": 0,
              "ticks": ""
             }
            },
            "type": "scatterternary"
           }
          ],
          "surface": [
           {
            "colorbar": {
             "outlinewidth": 0,
             "ticks": ""
            },
            "colorscale": [
             [
              0,
              "#0d0887"
             ],
             [
              0.1111111111111111,
              "#46039f"
             ],
             [
              0.2222222222222222,
              "#7201a8"
             ],
             [
              0.3333333333333333,
              "#9c179e"
             ],
             [
              0.4444444444444444,
              "#bd3786"
             ],
             [
              0.5555555555555556,
              "#d8576b"
             ],
             [
              0.6666666666666666,
              "#ed7953"
             ],
             [
              0.7777777777777778,
              "#fb9f3a"
             ],
             [
              0.8888888888888888,
              "#fdca26"
             ],
             [
              1,
              "#f0f921"
             ]
            ],
            "type": "surface"
           }
          ],
          "table": [
           {
            "cells": {
             "fill": {
              "color": "#EBF0F8"
             },
             "line": {
              "color": "white"
             }
            },
            "header": {
             "fill": {
              "color": "#C8D4E3"
             },
             "line": {
              "color": "white"
             }
            },
            "type": "table"
           }
          ]
         },
         "layout": {
          "annotationdefaults": {
           "arrowcolor": "#2a3f5f",
           "arrowhead": 0,
           "arrowwidth": 1
          },
          "autotypenumbers": "strict",
          "coloraxis": {
           "colorbar": {
            "outlinewidth": 0,
            "ticks": ""
           }
          },
          "colorscale": {
           "diverging": [
            [
             0,
             "#8e0152"
            ],
            [
             0.1,
             "#c51b7d"
            ],
            [
             0.2,
             "#de77ae"
            ],
            [
             0.3,
             "#f1b6da"
            ],
            [
             0.4,
             "#fde0ef"
            ],
            [
             0.5,
             "#f7f7f7"
            ],
            [
             0.6,
             "#e6f5d0"
            ],
            [
             0.7,
             "#b8e186"
            ],
            [
             0.8,
             "#7fbc41"
            ],
            [
             0.9,
             "#4d9221"
            ],
            [
             1,
             "#276419"
            ]
           ],
           "sequential": [
            [
             0,
             "#0d0887"
            ],
            [
             0.1111111111111111,
             "#46039f"
            ],
            [
             0.2222222222222222,
             "#7201a8"
            ],
            [
             0.3333333333333333,
             "#9c179e"
            ],
            [
             0.4444444444444444,
             "#bd3786"
            ],
            [
             0.5555555555555556,
             "#d8576b"
            ],
            [
             0.6666666666666666,
             "#ed7953"
            ],
            [
             0.7777777777777778,
             "#fb9f3a"
            ],
            [
             0.8888888888888888,
             "#fdca26"
            ],
            [
             1,
             "#f0f921"
            ]
           ],
           "sequentialminus": [
            [
             0,
             "#0d0887"
            ],
            [
             0.1111111111111111,
             "#46039f"
            ],
            [
             0.2222222222222222,
             "#7201a8"
            ],
            [
             0.3333333333333333,
             "#9c179e"
            ],
            [
             0.4444444444444444,
             "#bd3786"
            ],
            [
             0.5555555555555556,
             "#d8576b"
            ],
            [
             0.6666666666666666,
             "#ed7953"
            ],
            [
             0.7777777777777778,
             "#fb9f3a"
            ],
            [
             0.8888888888888888,
             "#fdca26"
            ],
            [
             1,
             "#f0f921"
            ]
           ]
          },
          "colorway": [
           "#636efa",
           "#EF553B",
           "#00cc96",
           "#ab63fa",
           "#FFA15A",
           "#19d3f3",
           "#FF6692",
           "#B6E880",
           "#FF97FF",
           "#FECB52"
          ],
          "font": {
           "color": "#2a3f5f"
          },
          "geo": {
           "bgcolor": "white",
           "lakecolor": "white",
           "landcolor": "white",
           "showlakes": true,
           "showland": true,
           "subunitcolor": "#C8D4E3"
          },
          "hoverlabel": {
           "align": "left"
          },
          "hovermode": "closest",
          "mapbox": {
           "style": "light"
          },
          "paper_bgcolor": "white",
          "plot_bgcolor": "white",
          "polar": {
           "angularaxis": {
            "gridcolor": "#EBF0F8",
            "linecolor": "#EBF0F8",
            "ticks": ""
           },
           "bgcolor": "white",
           "radialaxis": {
            "gridcolor": "#EBF0F8",
            "linecolor": "#EBF0F8",
            "ticks": ""
           }
          },
          "scene": {
           "xaxis": {
            "backgroundcolor": "white",
            "gridcolor": "#DFE8F3",
            "gridwidth": 2,
            "linecolor": "#EBF0F8",
            "showbackground": true,
            "ticks": "",
            "zerolinecolor": "#EBF0F8"
           },
           "yaxis": {
            "backgroundcolor": "white",
            "gridcolor": "#DFE8F3",
            "gridwidth": 2,
            "linecolor": "#EBF0F8",
            "showbackground": true,
            "ticks": "",
            "zerolinecolor": "#EBF0F8"
           },
           "zaxis": {
            "backgroundcolor": "white",
            "gridcolor": "#DFE8F3",
            "gridwidth": 2,
            "linecolor": "#EBF0F8",
            "showbackground": true,
            "ticks": "",
            "zerolinecolor": "#EBF0F8"
           }
          },
          "shapedefaults": {
           "line": {
            "color": "#2a3f5f"
           }
          },
          "ternary": {
           "aaxis": {
            "gridcolor": "#DFE8F3",
            "linecolor": "#A2B1C6",
            "ticks": ""
           },
           "baxis": {
            "gridcolor": "#DFE8F3",
            "linecolor": "#A2B1C6",
            "ticks": ""
           },
           "bgcolor": "white",
           "caxis": {
            "gridcolor": "#DFE8F3",
            "linecolor": "#A2B1C6",
            "ticks": ""
           }
          },
          "title": {
           "x": 0.05
          },
          "xaxis": {
           "automargin": true,
           "gridcolor": "#EBF0F8",
           "linecolor": "#EBF0F8",
           "ticks": "",
           "title": {
            "standoff": 15
           },
           "zerolinecolor": "#EBF0F8",
           "zerolinewidth": 2
          },
          "yaxis": {
           "automargin": true,
           "gridcolor": "#EBF0F8",
           "linecolor": "#EBF0F8",
           "ticks": "",
           "title": {
            "standoff": 15
           },
           "zerolinecolor": "#EBF0F8",
           "zerolinewidth": 2
          }
         }
        },
        "title": {
         "text": "Параллельные координаты: XGBoost (regression only)"
        }
       }
      }
     },
     "metadata": {},
     "output_type": "display_data"
    },
    {
     "name": "stdout",
     "output_type": "stream",
     "text": [
      "💾 Сохраняем результаты...\n",
      "✅ Результаты сохранены: XGBoost (regression only) -> RMSE: 36.9732\n",
      "================================================================================\n",
      "\n"
     ]
    }
   ],
   "source": [
    "analyze_optuna_results(\n",
    "    xgb_reg_only_optuna, \n",
    "    'XGBoost (regression only)', \n",
    "    4,\n",
    "    results, \n",
    "    best_params,\n",
    "    show_plots=True,\n",
    "    show_top_trials=5\n",
    ")"
   ]
  },
  {
   "cell_type": "markdown",
   "id": "6d2cad3d",
   "metadata": {},
   "source": [
    "![xgbro1](images/xgbro1.png)\n",
    "![xgbro2](images/xgbro2.png)"
   ]
  },
  {
   "cell_type": "code",
   "execution_count": null,
   "id": "0ba3ae25",
   "metadata": {},
   "outputs": [
    {
     "name": "stdout",
     "output_type": "stream",
     "text": [
      "============================================================\n",
      "🏆 ИТОГОВОЕ СРАВНЕНИЕ МОДЕЛЕЙ\n",
      "============================================================\n",
      "                       Model    RMSE\n",
      "4  XGBoost (regression only) 36.9732\n",
      "1                    XGBoost 40.7255\n",
      "2                   CatBoost 41.6007\n",
      "3                   LightGBM 42.4322\n",
      "0           LinearRegression 46.4277\n",
      "\n",
      "📊 Лучшие параметры по моделям:\n",
      "\n",
      "LinearRegression:\n",
      "\n",
      "XGBoost:\n",
      "  preprocessor__keywords_features__n_components: 36\n",
      "  model__threshold: 0.71\n",
      "  model__classifier__n_estimators: 900\n",
      "  model__classifier__max_depth: 16\n",
      "  model__classifier__learning_rate: 0.13\n",
      "  model__regressor__n_estimators: 700\n",
      "  model__regressor__max_depth: 12\n",
      "  model__regressor__learning_rate: 0.16\n",
      "  model__regressor__subsample: 0.8\n",
      "  model__regressor__colsample_bytree: 1.0\n",
      "\n",
      "CatBoost:\n",
      "  preprocessor__keywords_features__n_components: 36\n",
      "  model__threshold: 0.55\n",
      "  model__classifier__iterations: 1000\n",
      "  model__classifier__depth: 12\n",
      "  model__classifier__learning_rate: 0.06999999999999999\n",
      "  model__classifier__l2_leaf_reg: 0.5224269764458747\n",
      "  model__regressor__iterations: 1000\n",
      "  model__regressor__depth: 9\n",
      "  model__regressor__learning_rate: 0.2\n",
      "  model__regressor__l2_leaf_reg: 17.321663749188435\n",
      "\n",
      "LightGBM:\n",
      "  model__threshold: 0.62\n",
      "  model__classifier__n_estimators: 1000\n",
      "  model__classifier__max_depth: 15\n",
      "  model__classifier__learning_rate: 0.2\n",
      "  model__classifier__num_leaves: 100\n",
      "  model__regressor__n_estimators: 700\n",
      "  model__regressor__max_depth: 17\n",
      "  model__regressor__learning_rate: 0.2\n",
      "  model__regressor__num_leaves: 40\n",
      "\n",
      "XGBoost (regression only):\n",
      "  model__n_estimators: 1100\n",
      "  model__max_depth: 12\n",
      "  model__learning_rate: 0.1\n",
      "  model__subsample: 1.0\n",
      "  model__colsample_bytree: 0.8\n",
      "\n",
      "🎯 ПОБЕДИТЕЛЬ: XGBoost (regression only) с RMSE: 36.9732\n",
      "============================================================\n"
     ]
    }
   ],
   "source": [
    "print(\"=\"*60)\n",
    "print(\"🏆 ИТОГОВОЕ СРАВНЕНИЕ МОДЕЛЕЙ\")\n",
    "print(\"=\"*60)\n",
    "print(results.sort_values('RMSE'))\n",
    "print()\n",
    "\n",
    "print(\"📊 Лучшие параметры по моделям:\")\n",
    "for model_name, params in best_params.items():\n",
    "    print(f\"\\n{model_name}:\")\n",
    "    for param, value in params.items():\n",
    "        print(f\"  {param}: {value}\")\n",
    "\n",
    "best_model_name = results.loc[results['RMSE'].idxmin(), 'Model']\n",
    "best_rmse = results['RMSE'].min()\n",
    "\n",
    "print(f\"\\n🎯 ПОБЕДИТЕЛЬ: {best_model_name} с RMSE: {best_rmse:.4f}\")\n",
    "print(\"=\"*60)"
   ]
  },
  {
   "cell_type": "markdown",
   "id": "1c0c7dc2",
   "metadata": {},
   "source": [
    "# Сохранение предсказаний на тестовых данных"
   ]
  },
  {
   "cell_type": "code",
   "execution_count": null,
   "id": "b24abe43",
   "metadata": {},
   "outputs": [
    {
     "name": "stdout",
     "output_type": "stream",
     "text": [
      "Файл сохранён в test_with_predictions.csv\n"
     ]
    }
   ],
   "source": [
    "y_pred = best_xgb_reg_only_model.predict(df_test)\n",
    "\n",
    "df_test_copy = df_test.copy()\n",
    "df_test_copy['y_pred'] = y_pred\n",
    "\n",
    "df_test_copy.to_csv(\"test_with_predictions.csv\", index=False)\n",
    "print(\"Файл сохранён в test_with_predictions.csv\")"
   ]
  },
  {
   "cell_type": "code",
   "execution_count": null,
   "id": "78b6b48a",
   "metadata": {},
   "outputs": [],
   "source": []
  }
 ],
 "metadata": {
  "kernelspec": {
   "display_name": "Python 3",
   "language": "python",
   "name": "python3"
  },
  "language_info": {
   "codemirror_mode": {
    "name": "ipython",
    "version": 3
   },
   "file_extension": ".py",
   "mimetype": "text/x-python",
   "name": "python",
   "nbconvert_exporter": "python",
   "pygments_lexer": "ipython3",
   "version": "3.10.6"
  }
 },
 "nbformat": 4,
 "nbformat_minor": 5
}
