{
 "cells": [
  {
   "cell_type": "markdown",
   "id": "03cae0dd",
   "metadata": {},
   "source": [
    "# Тестовое задание Data Science\n",
    "### Анонимизированные и преобразованные данные по заказам интернет-магазина"
   ]
  },
  {
   "cell_type": "markdown",
   "id": "60cd95d9",
   "metadata": {},
   "source": [
    "## Описание проекта"
   ]
  },
  {
   "cell_type": "markdown",
   "id": "adc1670e",
   "metadata": {},
   "source": [
    "![Снимок экрана 2025-08-27 в 16.42.39.png](https://voltaic-soldier-ed2.notion.site/image/attachment%3Ad9f64690-7779-4b1b-832e-8ac182a448b6%3A%D0%A1%D0%BD%D0%B8%D0%BC%D0%BE%D0%BA_%D1%8D%D0%BA%D1%80%D0%B0%D0%BD%D0%B0_2025-08-27_%D0%B2_16.42.39.png?table=block&id=25ca79f6-0092-80f9-a864-c82dff963c87&spaceId=2f8a79f6-0092-8133-8dd4-0003a5a3688e&width=1420&userId=&cache=v2)\n",
    "\n",
    "`df_train.csv` и `df_test.csv`.\n",
    "\n",
    "Задача состоит в предсказании расходов за отказ от покупки конкретного товара (колонка `item_losses`).\n",
    "\n",
    "Требуется продемонстрировать умение обрабатывать данные, создавать признаки для моделей, обучать и валидировать модели, писать качественный код.\n",
    "\n",
    "Для файла `df_test.csv` также требуется предсказать целевую переменную (предсказание сохранить в колонке `y_pred` в `csv` файле с сохранением порядка строк как в `df_test.csv`).\n",
    "\n",
    "Качество предсказаний будет проверяться на тестовых данных `df_test.csv` по метрике `RMSE`.\n",
    "\n",
    "**Описание данных:**\n",
    "\n",
    "`order_id` - id заказа\n",
    "\n",
    "`departure_country` - id страны отправления заказа\n",
    "\n",
    "`departure_city` - id города отправления заказа\n",
    "\n",
    "`departure_region` - id региона города отправления заказа\n",
    "\n",
    "`arrival_country` - id страны получения заказа\n",
    "\n",
    "`arrival_city` - id города получения заказа\n",
    "\n",
    "`arrival_region` - id региона города получения заказа\n",
    "\n",
    "`order_date` - дата заказа\n",
    "\n",
    "`stock_departure_date` - время отправки со склада\n",
    "\n",
    "`delivery_service_departure_date` - время отправки службой доставки\n",
    "\n",
    "`client_arrival_date` - время доставки заказа в пункт получения\n",
    "\n",
    "`item_type` - тип товара (для кого предназначен)\n",
    "\n",
    "`client_keywords` - запрос для перехода клиента\n",
    "\n",
    "`client_device_type` - устройство клиента\n",
    "\n",
    "`client_browser` - браузер клиента\n",
    "\n",
    "`item_package_type` - способ упаковки\n",
    "\n",
    "`client_is_app` - заказ из приложения\n",
    "\n",
    "`order_tracking_available` - отслеживание заказа\n",
    "\n",
    "`brand_name` - название бренда\n",
    "\n",
    "`item_id` - id товара\n",
    "\n",
    "`item_category` - категория товара\n",
    "\n",
    "`delivery_service_name` - название службы доставки\n",
    "\n",
    "`type_prepayment` - тип предоплаты\n",
    "\n",
    "`item_price` - цена товара\n",
    "\n",
    "`item_losses` - расходы за отказ от покупки (целевая переменная)"
   ]
  },
  {
   "cell_type": "markdown",
   "id": "08ab68b9",
   "metadata": {},
   "source": [
    "## Импорты"
   ]
  },
  {
   "cell_type": "code",
   "execution_count": 1,
   "id": "1a0ac6f1",
   "metadata": {},
   "outputs": [
    {
     "name": "stdout",
     "output_type": "stream",
     "text": [
      "Defaulting to user installation because normal site-packages is not writeable\n",
      "Requirement already satisfied: numpy in c:\\users\\psimera\\appdata\\roaming\\python\\python310\\site-packages (2.2.6)\n",
      "Requirement already satisfied: pandas in c:\\users\\psimera\\appdata\\roaming\\python\\python310\\site-packages (2.2.3)\n",
      "Requirement already satisfied: matplotlib in c:\\users\\psimera\\appdata\\roaming\\python\\python310\\site-packages (3.10.3)\n",
      "Requirement already satisfied: seaborn in c:\\users\\psimera\\appdata\\roaming\\python\\python310\\site-packages (0.13.2)\n",
      "Requirement already satisfied: scikit-learn in c:\\users\\psimera\\appdata\\roaming\\python\\python310\\site-packages (1.6.1)\n",
      "Requirement already satisfied: xgboost in c:\\users\\psimera\\appdata\\roaming\\python\\python310\\site-packages (3.0.5)\n",
      "Requirement already satisfied: catboost in c:\\users\\psimera\\appdata\\roaming\\python\\python310\\site-packages (1.2.8)\n",
      "Requirement already satisfied: lightgbm in c:\\users\\psimera\\appdata\\roaming\\python\\python310\\site-packages (4.6.0)\n",
      "Requirement already satisfied: category_encoders in c:\\users\\psimera\\appdata\\roaming\\python\\python310\\site-packages (2.8.1)\n",
      "Requirement already satisfied: optuna in c:\\users\\psimera\\appdata\\roaming\\python\\python310\\site-packages (4.5.0)\n",
      "Requirement already satisfied: plotly in c:\\users\\psimera\\appdata\\roaming\\python\\python310\\site-packages (6.1.0)\n",
      "Requirement already satisfied: python-dateutil>=2.8.2 in c:\\users\\psimera\\appdata\\roaming\\python\\python310\\site-packages (from pandas) (2.9.0.post0)\n",
      "Requirement already satisfied: pytz>=2020.1 in c:\\users\\psimera\\appdata\\roaming\\python\\python310\\site-packages (from pandas) (2025.2)\n",
      "Requirement already satisfied: tzdata>=2022.7 in c:\\users\\psimera\\appdata\\roaming\\python\\python310\\site-packages (from pandas) (2025.2)\n",
      "Requirement already satisfied: contourpy>=1.0.1 in c:\\users\\psimera\\appdata\\roaming\\python\\python310\\site-packages (from matplotlib) (1.3.2)\n",
      "Requirement already satisfied: cycler>=0.10 in c:\\users\\psimera\\appdata\\roaming\\python\\python310\\site-packages (from matplotlib) (0.12.1)\n",
      "Requirement already satisfied: fonttools>=4.22.0 in c:\\users\\psimera\\appdata\\roaming\\python\\python310\\site-packages (from matplotlib) (4.58.0)\n",
      "Requirement already satisfied: kiwisolver>=1.3.1 in c:\\users\\psimera\\appdata\\roaming\\python\\python310\\site-packages (from matplotlib) (1.4.8)\n",
      "Requirement already satisfied: packaging>=20.0 in c:\\users\\psimera\\appdata\\roaming\\python\\python310\\site-packages (from matplotlib) (25.0)\n",
      "Requirement already satisfied: pillow>=8 in c:\\users\\psimera\\appdata\\roaming\\python\\python310\\site-packages (from matplotlib) (11.2.1)\n",
      "Requirement already satisfied: pyparsing>=2.3.1 in c:\\users\\psimera\\appdata\\roaming\\python\\python310\\site-packages (from matplotlib) (3.2.3)\n",
      "Requirement already satisfied: scipy>=1.6.0 in c:\\users\\psimera\\appdata\\roaming\\python\\python310\\site-packages (from scikit-learn) (1.15.3)\n",
      "Requirement already satisfied: joblib>=1.2.0 in c:\\users\\psimera\\appdata\\roaming\\python\\python310\\site-packages (from scikit-learn) (1.5.0)\n",
      "Requirement already satisfied: threadpoolctl>=3.1.0 in c:\\users\\psimera\\appdata\\roaming\\python\\python310\\site-packages (from scikit-learn) (3.6.0)\n",
      "Requirement already satisfied: graphviz in c:\\users\\psimera\\appdata\\roaming\\python\\python310\\site-packages (from catboost) (0.21)\n",
      "Requirement already satisfied: six in c:\\users\\psimera\\appdata\\roaming\\python\\python310\\site-packages (from catboost) (1.17.0)\n",
      "Requirement already satisfied: patsy>=0.5.1 in c:\\users\\psimera\\appdata\\roaming\\python\\python310\\site-packages (from category_encoders) (1.0.1)\n",
      "Requirement already satisfied: statsmodels>=0.9.0 in c:\\users\\psimera\\appdata\\roaming\\python\\python310\\site-packages (from category_encoders) (0.14.5)\n",
      "Requirement already satisfied: alembic>=1.5.0 in c:\\users\\psimera\\appdata\\roaming\\python\\python310\\site-packages (from optuna) (1.16.5)\n",
      "Requirement already satisfied: colorlog in c:\\users\\psimera\\appdata\\roaming\\python\\python310\\site-packages (from optuna) (6.9.0)\n",
      "Requirement already satisfied: sqlalchemy>=1.4.2 in c:\\users\\psimera\\appdata\\roaming\\python\\python310\\site-packages (from optuna) (2.0.43)\n",
      "Requirement already satisfied: tqdm in c:\\users\\psimera\\appdata\\roaming\\python\\python310\\site-packages (from optuna) (4.67.1)\n",
      "Requirement already satisfied: PyYAML in c:\\users\\psimera\\appdata\\roaming\\python\\python310\\site-packages (from optuna) (6.0.2)\n",
      "Requirement already satisfied: narwhals>=1.15.1 in c:\\users\\psimera\\appdata\\roaming\\python\\python310\\site-packages (from plotly) (1.39.1)\n",
      "Requirement already satisfied: Mako in c:\\users\\psimera\\appdata\\roaming\\python\\python310\\site-packages (from alembic>=1.5.0->optuna) (1.3.10)\n",
      "Requirement already satisfied: typing-extensions>=4.12 in c:\\users\\psimera\\appdata\\roaming\\python\\python310\\site-packages (from alembic>=1.5.0->optuna) (4.13.2)\n",
      "Requirement already satisfied: tomli in c:\\users\\psimera\\appdata\\roaming\\python\\python310\\site-packages (from alembic>=1.5.0->optuna) (2.2.1)\n",
      "Requirement already satisfied: greenlet>=1 in c:\\users\\psimera\\appdata\\roaming\\python\\python310\\site-packages (from sqlalchemy>=1.4.2->optuna) (3.2.4)\n",
      "Requirement already satisfied: colorama in c:\\users\\psimera\\appdata\\roaming\\python\\python310\\site-packages (from colorlog->optuna) (0.4.6)\n",
      "Requirement already satisfied: MarkupSafe>=0.9.2 in c:\\users\\psimera\\appdata\\roaming\\python\\python310\\site-packages (from Mako->alembic>=1.5.0->optuna) (3.0.2)\n"
     ]
    }
   ],
   "source": [
    "# Установка всех нестандартных библиотек\n",
    "!pip install numpy pandas matplotlib seaborn scikit-learn xgboost catboost lightgbm category_encoders optuna plotly"
   ]
  },
  {
   "cell_type": "code",
   "execution_count": null,
   "id": "409425a1",
   "metadata": {},
   "outputs": [],
   "source": [
    "import pandas as pd\n",
    "import numpy as np\n",
    "import matplotlib.pyplot as plt\n",
    "import seaborn as sns\n",
    "\n",
    "from category_encoders import TargetEncoder\n",
    "from sklearn.pipeline import Pipeline\n",
    "from sklearn.base import BaseEstimator, TransformerMixin, RegressorMixin, clone\n",
    "from sklearn.feature_extraction.text import TfidfVectorizer\n",
    "from sklearn.decomposition import TruncatedSVD\n",
    "from sklearn.model_selection import KFold, cross_val_score, cross_val_predict\n",
    "from sklearn.metrics import f1_score\n",
    "\n",
    "import optuna\n",
    "from optuna.integration import OptunaSearchCV\n",
    "import optuna.distributions as dist\n",
    "\n",
    "from sklearn.linear_model import LinearRegression\n",
    "from xgboost import XGBClassifier, XGBRegressor\n",
    "from catboost import CatBoostRegressor\n",
    "from lightgbm import LGBMRegressor\n",
    "\n",
    "import plotly.graph_objects as go\n",
    "from plotly.subplots import make_subplots\n",
    "\n",
    "import warnings\n",
    "warnings.filterwarnings('ignore')\n",
    "\n",
    "pd.set_option('display.max_columns', None)\n",
    "pd.set_option('display.float_format', lambda x: '%.4f' % x)\n",
    "\n",
    "plt.style.use('dark_background')\n",
    "\n",
    "SEED = 1337"
   ]
  },
  {
   "cell_type": "markdown",
   "id": "fdbe2be7",
   "metadata": {},
   "source": [
    "## Анализ данных"
   ]
  },
  {
   "cell_type": "markdown",
   "id": "e3c4dbad",
   "metadata": {},
   "source": [
    "### Первичный осмотр"
   ]
  },
  {
   "cell_type": "code",
   "execution_count": 3,
   "id": "57b4e3bb",
   "metadata": {},
   "outputs": [
    {
     "name": "stdout",
     "output_type": "stream",
     "text": [
      "TRAIN DATA INFO:\n",
      "<class 'pandas.core.frame.DataFrame'>\n",
      "RangeIndex: 276205 entries, 0 to 276204\n",
      "Data columns (total 26 columns):\n",
      " #   Column                           Non-Null Count   Dtype  \n",
      "---  ------                           --------------   -----  \n",
      " 0   Unnamed: 0                       276205 non-null  int64  \n",
      " 1   order_id                         276205 non-null  object \n",
      " 2   departure_country                276205 non-null  int64  \n",
      " 3   departure_city                   269885 non-null  float64\n",
      " 4   departure_region                 276205 non-null  int64  \n",
      " 5   arrival_country                  276205 non-null  int64  \n",
      " 6   arrival_city                     267342 non-null  float64\n",
      " 7   arrival_region                   276205 non-null  int64  \n",
      " 8   order_date                       276205 non-null  object \n",
      " 9   stock_departure_date             276205 non-null  object \n",
      " 10  delivery_service_departure_date  276205 non-null  object \n",
      " 11  client_arrival_date              276205 non-null  object \n",
      " 12  item_type                        276205 non-null  int64  \n",
      " 13  client_keywords                  61213 non-null   object \n",
      " 14  client_device_type               276205 non-null  int64  \n",
      " 15  client_browser                   276205 non-null  int64  \n",
      " 16  item_package_type                276205 non-null  object \n",
      " 17  client_is_app                    276205 non-null  bool   \n",
      " 18  order_tracking_available         276205 non-null  int64  \n",
      " 19  brand_name                       276205 non-null  object \n",
      " 20  item_id                          276205 non-null  object \n",
      " 21  item_category                    276205 non-null  object \n",
      " 22  delivery_service_name            276205 non-null  object \n",
      " 23  type_prepayment                  276205 non-null  int64  \n",
      " 24  item_price                       276205 non-null  float64\n",
      " 25  item_losses                      276205 non-null  float64\n",
      "dtypes: bool(1), float64(4), int64(10), object(11)\n",
      "memory usage: 52.9+ MB\n"
     ]
    },
    {
     "data": {
      "text/html": [
       "<div>\n",
       "<style scoped>\n",
       "    .dataframe tbody tr th:only-of-type {\n",
       "        vertical-align: middle;\n",
       "    }\n",
       "\n",
       "    .dataframe tbody tr th {\n",
       "        vertical-align: top;\n",
       "    }\n",
       "\n",
       "    .dataframe thead th {\n",
       "        text-align: right;\n",
       "    }\n",
       "</style>\n",
       "<table border=\"1\" class=\"dataframe\">\n",
       "  <thead>\n",
       "    <tr style=\"text-align: right;\">\n",
       "      <th></th>\n",
       "      <th>Unnamed: 0</th>\n",
       "      <th>order_id</th>\n",
       "      <th>departure_country</th>\n",
       "      <th>departure_city</th>\n",
       "      <th>departure_region</th>\n",
       "      <th>arrival_country</th>\n",
       "      <th>arrival_city</th>\n",
       "    </tr>\n",
       "  </thead>\n",
       "  <tbody>\n",
       "    <tr>\n",
       "      <th>0</th>\n",
       "      <td>0</td>\n",
       "      <td>1c25f312-fefc-41ee-b328-8fe1fd188e75</td>\n",
       "      <td>12</td>\n",
       "      <td>565.0000</td>\n",
       "      <td>466</td>\n",
       "      <td>12</td>\n",
       "      <td>162.0000</td>\n",
       "    </tr>\n",
       "    <tr>\n",
       "      <th>1</th>\n",
       "      <td>1</td>\n",
       "      <td>c2a596a4-1a51-4269-b9f0-5c943c4f830d</td>\n",
       "      <td>12</td>\n",
       "      <td>361.0000</td>\n",
       "      <td>292</td>\n",
       "      <td>12</td>\n",
       "      <td>121.0000</td>\n",
       "    </tr>\n",
       "  </tbody>\n",
       "</table>\n",
       "</div>"
      ],
      "text/plain": [
       "   Unnamed: 0                              order_id  departure_country  \\\n",
       "0           0  1c25f312-fefc-41ee-b328-8fe1fd188e75                 12   \n",
       "1           1  c2a596a4-1a51-4269-b9f0-5c943c4f830d                 12   \n",
       "\n",
       "   departure_city  departure_region  arrival_country  arrival_city  \n",
       "0        565.0000               466               12      162.0000  \n",
       "1        361.0000               292               12      121.0000  "
      ]
     },
     "metadata": {},
     "output_type": "display_data"
    },
    {
     "data": {
      "text/html": [
       "<div>\n",
       "<style scoped>\n",
       "    .dataframe tbody tr th:only-of-type {\n",
       "        vertical-align: middle;\n",
       "    }\n",
       "\n",
       "    .dataframe tbody tr th {\n",
       "        vertical-align: top;\n",
       "    }\n",
       "\n",
       "    .dataframe thead th {\n",
       "        text-align: right;\n",
       "    }\n",
       "</style>\n",
       "<table border=\"1\" class=\"dataframe\">\n",
       "  <thead>\n",
       "    <tr style=\"text-align: right;\">\n",
       "      <th></th>\n",
       "      <th>arrival_region</th>\n",
       "      <th>order_date</th>\n",
       "      <th>stock_departure_date</th>\n",
       "      <th>delivery_service_departure_date</th>\n",
       "      <th>client_arrival_date</th>\n",
       "      <th>item_type</th>\n",
       "      <th>client_keywords</th>\n",
       "    </tr>\n",
       "  </thead>\n",
       "  <tbody>\n",
       "    <tr>\n",
       "      <th>0</th>\n",
       "      <td>888</td>\n",
       "      <td>2017-12-27 09:49:55</td>\n",
       "      <td>00-48-00 2018-01-02</td>\n",
       "      <td>12-04-00 2018-01-03</td>\n",
       "      <td>18-09-00 2018-01-03</td>\n",
       "      <td>0</td>\n",
       "      <td>[326, 51, 37]</td>\n",
       "    </tr>\n",
       "    <tr>\n",
       "      <th>1</th>\n",
       "      <td>351</td>\n",
       "      <td>2016-10-17 21:17:17</td>\n",
       "      <td>14-50-00 2016-11-02</td>\n",
       "      <td>21-33-00 2016-11-02</td>\n",
       "      <td>08-10-00 2016-11-03</td>\n",
       "      <td>0</td>\n",
       "      <td>[77]</td>\n",
       "    </tr>\n",
       "  </tbody>\n",
       "</table>\n",
       "</div>"
      ],
      "text/plain": [
       "   arrival_region           order_date stock_departure_date  \\\n",
       "0             888  2017-12-27 09:49:55  00-48-00 2018-01-02   \n",
       "1             351  2016-10-17 21:17:17  14-50-00 2016-11-02   \n",
       "\n",
       "  delivery_service_departure_date  client_arrival_date  item_type  \\\n",
       "0             12-04-00 2018-01-03  18-09-00 2018-01-03          0   \n",
       "1             21-33-00 2016-11-02  08-10-00 2016-11-03          0   \n",
       "\n",
       "  client_keywords  \n",
       "0   [326, 51, 37]  \n",
       "1            [77]  "
      ]
     },
     "metadata": {},
     "output_type": "display_data"
    },
    {
     "data": {
      "text/html": [
       "<div>\n",
       "<style scoped>\n",
       "    .dataframe tbody tr th:only-of-type {\n",
       "        vertical-align: middle;\n",
       "    }\n",
       "\n",
       "    .dataframe tbody tr th {\n",
       "        vertical-align: top;\n",
       "    }\n",
       "\n",
       "    .dataframe thead th {\n",
       "        text-align: right;\n",
       "    }\n",
       "</style>\n",
       "<table border=\"1\" class=\"dataframe\">\n",
       "  <thead>\n",
       "    <tr style=\"text-align: right;\">\n",
       "      <th></th>\n",
       "      <th>client_device_type</th>\n",
       "      <th>client_browser</th>\n",
       "      <th>item_package_type</th>\n",
       "      <th>client_is_app</th>\n",
       "      <th>order_tracking_available</th>\n",
       "      <th>brand_name</th>\n",
       "      <th>item_id</th>\n",
       "    </tr>\n",
       "  </thead>\n",
       "  <tbody>\n",
       "    <tr>\n",
       "      <th>0</th>\n",
       "      <td>1</td>\n",
       "      <td>0</td>\n",
       "      <td>c82a2ea6-cbf1-46af-98c5-acd43b174f5d</td>\n",
       "      <td>True</td>\n",
       "      <td>0</td>\n",
       "      <td>[]</td>\n",
       "      <td>b1905241-ab8b-40e6-ae0a-8f614656f304</td>\n",
       "    </tr>\n",
       "    <tr>\n",
       "      <th>1</th>\n",
       "      <td>2</td>\n",
       "      <td>1</td>\n",
       "      <td>c82a2ea6-cbf1-46af-98c5-acd43b174f5d</td>\n",
       "      <td>True</td>\n",
       "      <td>0</td>\n",
       "      <td>['9e20fbd2-b0aa-4b6a-ae04-0fb3724f5a5d', '73d1...</td>\n",
       "      <td>5121ddf1-2a2b-4cff-a1db-7b8550799cd6</td>\n",
       "    </tr>\n",
       "  </tbody>\n",
       "</table>\n",
       "</div>"
      ],
      "text/plain": [
       "   client_device_type  client_browser                     item_package_type  \\\n",
       "0                   1               0  c82a2ea6-cbf1-46af-98c5-acd43b174f5d   \n",
       "1                   2               1  c82a2ea6-cbf1-46af-98c5-acd43b174f5d   \n",
       "\n",
       "   client_is_app  order_tracking_available  \\\n",
       "0           True                         0   \n",
       "1           True                         0   \n",
       "\n",
       "                                          brand_name  \\\n",
       "0                                                 []   \n",
       "1  ['9e20fbd2-b0aa-4b6a-ae04-0fb3724f5a5d', '73d1...   \n",
       "\n",
       "                                item_id  \n",
       "0  b1905241-ab8b-40e6-ae0a-8f614656f304  \n",
       "1  5121ddf1-2a2b-4cff-a1db-7b8550799cd6  "
      ]
     },
     "metadata": {},
     "output_type": "display_data"
    },
    {
     "data": {
      "text/html": [
       "<div>\n",
       "<style scoped>\n",
       "    .dataframe tbody tr th:only-of-type {\n",
       "        vertical-align: middle;\n",
       "    }\n",
       "\n",
       "    .dataframe tbody tr th {\n",
       "        vertical-align: top;\n",
       "    }\n",
       "\n",
       "    .dataframe thead th {\n",
       "        text-align: right;\n",
       "    }\n",
       "</style>\n",
       "<table border=\"1\" class=\"dataframe\">\n",
       "  <thead>\n",
       "    <tr style=\"text-align: right;\">\n",
       "      <th></th>\n",
       "      <th>item_category</th>\n",
       "      <th>delivery_service_name</th>\n",
       "      <th>type_prepayment</th>\n",
       "      <th>item_price</th>\n",
       "      <th>item_losses</th>\n",
       "    </tr>\n",
       "  </thead>\n",
       "  <tbody>\n",
       "    <tr>\n",
       "      <th>0</th>\n",
       "      <td>25f9f297-40a8-45d9-bb67-4b0f6dad1315</td>\n",
       "      <td>409f1e13-81ae-4e36-9bd2-6a6c53d38601</td>\n",
       "      <td>1</td>\n",
       "      <td>443.2282</td>\n",
       "      <td>0.0000</td>\n",
       "    </tr>\n",
       "    <tr>\n",
       "      <th>1</th>\n",
       "      <td>25f9f297-40a8-45d9-bb67-4b0f6dad1315</td>\n",
       "      <td>5c8a6701-853f-4721-86f0-86e79f7220c4</td>\n",
       "      <td>2</td>\n",
       "      <td>589.4820</td>\n",
       "      <td>0.0000</td>\n",
       "    </tr>\n",
       "  </tbody>\n",
       "</table>\n",
       "</div>"
      ],
      "text/plain": [
       "                          item_category                 delivery_service_name  \\\n",
       "0  25f9f297-40a8-45d9-bb67-4b0f6dad1315  409f1e13-81ae-4e36-9bd2-6a6c53d38601   \n",
       "1  25f9f297-40a8-45d9-bb67-4b0f6dad1315  5c8a6701-853f-4721-86f0-86e79f7220c4   \n",
       "\n",
       "   type_prepayment  item_price  item_losses  \n",
       "0                1    443.2282       0.0000  \n",
       "1                2    589.4820       0.0000  "
      ]
     },
     "metadata": {},
     "output_type": "display_data"
    },
    {
     "name": "stdout",
     "output_type": "stream",
     "text": [
      "\n",
      "TEST DATA INFO:\n",
      "<class 'pandas.core.frame.DataFrame'>\n",
      "RangeIndex: 77837 entries, 0 to 77836\n",
      "Data columns (total 25 columns):\n",
      " #   Column                           Non-Null Count  Dtype  \n",
      "---  ------                           --------------  -----  \n",
      " 0   Unnamed: 0                       77837 non-null  int64  \n",
      " 1   order_id                         77837 non-null  object \n",
      " 2   departure_country                77837 non-null  int64  \n",
      " 3   departure_city                   76090 non-null  float64\n",
      " 4   departure_region                 77837 non-null  int64  \n",
      " 5   arrival_country                  77837 non-null  int64  \n",
      " 6   arrival_city                     75418 non-null  float64\n",
      " 7   arrival_region                   77837 non-null  int64  \n",
      " 8   order_date                       77837 non-null  object \n",
      " 9   stock_departure_date             77837 non-null  object \n",
      " 10  delivery_service_departure_date  77837 non-null  object \n",
      " 11  client_arrival_date              77837 non-null  object \n",
      " 12  item_type                        77837 non-null  int64  \n",
      " 13  client_keywords                  14719 non-null  object \n",
      " 14  client_device_type               77837 non-null  int64  \n",
      " 15  client_browser                   77837 non-null  int64  \n",
      " 16  item_package_type                77837 non-null  object \n",
      " 17  client_is_app                    77837 non-null  bool   \n",
      " 18  order_tracking_available         77837 non-null  int64  \n",
      " 19  brand_name                       77837 non-null  object \n",
      " 20  item_id                          77837 non-null  object \n",
      " 21  item_category                    77837 non-null  object \n",
      " 22  delivery_service_name            77837 non-null  object \n",
      " 23  type_prepayment                  77837 non-null  int64  \n",
      " 24  item_price                       77837 non-null  float64\n",
      "dtypes: bool(1), float64(3), int64(10), object(11)\n",
      "memory usage: 14.3+ MB\n"
     ]
    },
    {
     "data": {
      "text/html": [
       "<div>\n",
       "<style scoped>\n",
       "    .dataframe tbody tr th:only-of-type {\n",
       "        vertical-align: middle;\n",
       "    }\n",
       "\n",
       "    .dataframe tbody tr th {\n",
       "        vertical-align: top;\n",
       "    }\n",
       "\n",
       "    .dataframe thead th {\n",
       "        text-align: right;\n",
       "    }\n",
       "</style>\n",
       "<table border=\"1\" class=\"dataframe\">\n",
       "  <thead>\n",
       "    <tr style=\"text-align: right;\">\n",
       "      <th></th>\n",
       "      <th>Unnamed: 0</th>\n",
       "      <th>order_id</th>\n",
       "      <th>departure_country</th>\n",
       "      <th>departure_city</th>\n",
       "      <th>departure_region</th>\n",
       "      <th>arrival_country</th>\n",
       "      <th>arrival_city</th>\n",
       "    </tr>\n",
       "  </thead>\n",
       "  <tbody>\n",
       "    <tr>\n",
       "      <th>0</th>\n",
       "      <td>0</td>\n",
       "      <td>3c39f09f-1f30-4d48-afd8-7ac959d4f2f3</td>\n",
       "      <td>12</td>\n",
       "      <td>125.0000</td>\n",
       "      <td>824</td>\n",
       "      <td>12</td>\n",
       "      <td>121.0000</td>\n",
       "    </tr>\n",
       "    <tr>\n",
       "      <th>1</th>\n",
       "      <td>1</td>\n",
       "      <td>660eec62-8547-4e5c-9981-afd14f2466f4</td>\n",
       "      <td>12</td>\n",
       "      <td>642.0000</td>\n",
       "      <td>635</td>\n",
       "      <td>12</td>\n",
       "      <td>193.0000</td>\n",
       "    </tr>\n",
       "  </tbody>\n",
       "</table>\n",
       "</div>"
      ],
      "text/plain": [
       "   Unnamed: 0                              order_id  departure_country  \\\n",
       "0           0  3c39f09f-1f30-4d48-afd8-7ac959d4f2f3                 12   \n",
       "1           1  660eec62-8547-4e5c-9981-afd14f2466f4                 12   \n",
       "\n",
       "   departure_city  departure_region  arrival_country  arrival_city  \n",
       "0        125.0000               824               12      121.0000  \n",
       "1        642.0000               635               12      193.0000  "
      ]
     },
     "metadata": {},
     "output_type": "display_data"
    },
    {
     "data": {
      "text/html": [
       "<div>\n",
       "<style scoped>\n",
       "    .dataframe tbody tr th:only-of-type {\n",
       "        vertical-align: middle;\n",
       "    }\n",
       "\n",
       "    .dataframe tbody tr th {\n",
       "        vertical-align: top;\n",
       "    }\n",
       "\n",
       "    .dataframe thead th {\n",
       "        text-align: right;\n",
       "    }\n",
       "</style>\n",
       "<table border=\"1\" class=\"dataframe\">\n",
       "  <thead>\n",
       "    <tr style=\"text-align: right;\">\n",
       "      <th></th>\n",
       "      <th>arrival_region</th>\n",
       "      <th>order_date</th>\n",
       "      <th>stock_departure_date</th>\n",
       "      <th>delivery_service_departure_date</th>\n",
       "      <th>client_arrival_date</th>\n",
       "      <th>item_type</th>\n",
       "      <th>client_keywords</th>\n",
       "    </tr>\n",
       "  </thead>\n",
       "  <tbody>\n",
       "    <tr>\n",
       "      <th>0</th>\n",
       "      <td>1732</td>\n",
       "      <td>2018-05-15 14:41:20</td>\n",
       "      <td>19-35-00 2018-07-05</td>\n",
       "      <td>19-35-00 2018-07-05</td>\n",
       "      <td>23-33-00 2018-07-05</td>\n",
       "      <td>0</td>\n",
       "      <td>NaN</td>\n",
       "    </tr>\n",
       "    <tr>\n",
       "      <th>1</th>\n",
       "      <td>215</td>\n",
       "      <td>2018-05-08 14:22:07</td>\n",
       "      <td>03-32-00 2018-07-26</td>\n",
       "      <td>05-19-00 2018-07-28</td>\n",
       "      <td>03-01-00 2018-07-30</td>\n",
       "      <td>0</td>\n",
       "      <td>NaN</td>\n",
       "    </tr>\n",
       "  </tbody>\n",
       "</table>\n",
       "</div>"
      ],
      "text/plain": [
       "   arrival_region           order_date stock_departure_date  \\\n",
       "0            1732  2018-05-15 14:41:20  19-35-00 2018-07-05   \n",
       "1             215  2018-05-08 14:22:07  03-32-00 2018-07-26   \n",
       "\n",
       "  delivery_service_departure_date  client_arrival_date  item_type  \\\n",
       "0             19-35-00 2018-07-05  23-33-00 2018-07-05          0   \n",
       "1             05-19-00 2018-07-28  03-01-00 2018-07-30          0   \n",
       "\n",
       "  client_keywords  \n",
       "0             NaN  \n",
       "1             NaN  "
      ]
     },
     "metadata": {},
     "output_type": "display_data"
    },
    {
     "data": {
      "text/html": [
       "<div>\n",
       "<style scoped>\n",
       "    .dataframe tbody tr th:only-of-type {\n",
       "        vertical-align: middle;\n",
       "    }\n",
       "\n",
       "    .dataframe tbody tr th {\n",
       "        vertical-align: top;\n",
       "    }\n",
       "\n",
       "    .dataframe thead th {\n",
       "        text-align: right;\n",
       "    }\n",
       "</style>\n",
       "<table border=\"1\" class=\"dataframe\">\n",
       "  <thead>\n",
       "    <tr style=\"text-align: right;\">\n",
       "      <th></th>\n",
       "      <th>client_device_type</th>\n",
       "      <th>client_browser</th>\n",
       "      <th>item_package_type</th>\n",
       "      <th>client_is_app</th>\n",
       "      <th>order_tracking_available</th>\n",
       "      <th>brand_name</th>\n",
       "      <th>item_id</th>\n",
       "    </tr>\n",
       "  </thead>\n",
       "  <tbody>\n",
       "    <tr>\n",
       "      <th>0</th>\n",
       "      <td>2</td>\n",
       "      <td>1</td>\n",
       "      <td>c82a2ea6-cbf1-46af-98c5-acd43b174f5d</td>\n",
       "      <td>True</td>\n",
       "      <td>0</td>\n",
       "      <td>['f4e0584f-4dd0-494a-a2e1-8e1f0197df31']</td>\n",
       "      <td>340bd249-e659-4257-a2a3-c1eb8271183e</td>\n",
       "    </tr>\n",
       "    <tr>\n",
       "      <th>1</th>\n",
       "      <td>1</td>\n",
       "      <td>0</td>\n",
       "      <td>c82a2ea6-cbf1-46af-98c5-acd43b174f5d</td>\n",
       "      <td>True</td>\n",
       "      <td>0</td>\n",
       "      <td>[]</td>\n",
       "      <td>85272285-4549-45be-a4f9-9e74687a21f5</td>\n",
       "    </tr>\n",
       "  </tbody>\n",
       "</table>\n",
       "</div>"
      ],
      "text/plain": [
       "   client_device_type  client_browser                     item_package_type  \\\n",
       "0                   2               1  c82a2ea6-cbf1-46af-98c5-acd43b174f5d   \n",
       "1                   1               0  c82a2ea6-cbf1-46af-98c5-acd43b174f5d   \n",
       "\n",
       "   client_is_app  order_tracking_available  \\\n",
       "0           True                         0   \n",
       "1           True                         0   \n",
       "\n",
       "                                 brand_name  \\\n",
       "0  ['f4e0584f-4dd0-494a-a2e1-8e1f0197df31']   \n",
       "1                                        []   \n",
       "\n",
       "                                item_id  \n",
       "0  340bd249-e659-4257-a2a3-c1eb8271183e  \n",
       "1  85272285-4549-45be-a4f9-9e74687a21f5  "
      ]
     },
     "metadata": {},
     "output_type": "display_data"
    },
    {
     "data": {
      "text/html": [
       "<div>\n",
       "<style scoped>\n",
       "    .dataframe tbody tr th:only-of-type {\n",
       "        vertical-align: middle;\n",
       "    }\n",
       "\n",
       "    .dataframe tbody tr th {\n",
       "        vertical-align: top;\n",
       "    }\n",
       "\n",
       "    .dataframe thead th {\n",
       "        text-align: right;\n",
       "    }\n",
       "</style>\n",
       "<table border=\"1\" class=\"dataframe\">\n",
       "  <thead>\n",
       "    <tr style=\"text-align: right;\">\n",
       "      <th></th>\n",
       "      <th>item_category</th>\n",
       "      <th>delivery_service_name</th>\n",
       "      <th>type_prepayment</th>\n",
       "      <th>item_price</th>\n",
       "    </tr>\n",
       "  </thead>\n",
       "  <tbody>\n",
       "    <tr>\n",
       "      <th>0</th>\n",
       "      <td>5554bea4-f3cd-4432-bb13-73698f52de88</td>\n",
       "      <td>eec00286-b56b-44b0-8882-7b7022355a8f</td>\n",
       "      <td>0</td>\n",
       "      <td>630.3887</td>\n",
       "    </tr>\n",
       "    <tr>\n",
       "      <th>1</th>\n",
       "      <td>25f9f297-40a8-45d9-bb67-4b0f6dad1315</td>\n",
       "      <td>5c8a6701-853f-4721-86f0-86e79f7220c4</td>\n",
       "      <td>1</td>\n",
       "      <td>1436.8475</td>\n",
       "    </tr>\n",
       "  </tbody>\n",
       "</table>\n",
       "</div>"
      ],
      "text/plain": [
       "                          item_category                 delivery_service_name  \\\n",
       "0  5554bea4-f3cd-4432-bb13-73698f52de88  eec00286-b56b-44b0-8882-7b7022355a8f   \n",
       "1  25f9f297-40a8-45d9-bb67-4b0f6dad1315  5c8a6701-853f-4721-86f0-86e79f7220c4   \n",
       "\n",
       "   type_prepayment  item_price  \n",
       "0                0    630.3887  \n",
       "1                1   1436.8475  "
      ]
     },
     "metadata": {},
     "output_type": "display_data"
    }
   ],
   "source": [
    "df_train = pd.read_csv('datasets/df_train.csv')\n",
    "df_test = pd.read_csv('datasets/df_test.csv')\n",
    "\n",
    "# Общая информация\n",
    "\n",
    "def display_cols(df, n, k):\n",
    "    for i in range(0, len(df.columns), n):\n",
    "        display(df.iloc[:k, i:i+n])\n",
    "\n",
    "print('TRAIN DATA INFO:')\n",
    "df_train.info()\n",
    "display_cols(df_train, 7, 2)\n",
    "\n",
    "print('\\nTEST DATA INFO:')\n",
    "df_test.info()\n",
    "display_cols(df_test, 7, 2)"
   ]
  },
  {
   "cell_type": "code",
   "execution_count": 4,
   "id": "0619aa4b",
   "metadata": {},
   "outputs": [
    {
     "name": "stdout",
     "output_type": "stream",
     "text": [
      "\n",
      "--- Пропуски в train ---\n"
     ]
    },
    {
     "data": {
      "text/html": [
       "<div>\n",
       "<style scoped>\n",
       "    .dataframe tbody tr th:only-of-type {\n",
       "        vertical-align: middle;\n",
       "    }\n",
       "\n",
       "    .dataframe tbody tr th {\n",
       "        vertical-align: top;\n",
       "    }\n",
       "\n",
       "    .dataframe thead th {\n",
       "        text-align: right;\n",
       "    }\n",
       "</style>\n",
       "<table border=\"1\" class=\"dataframe\">\n",
       "  <thead>\n",
       "    <tr style=\"text-align: right;\">\n",
       "      <th></th>\n",
       "      <th>missing</th>\n",
       "      <th>%</th>\n",
       "    </tr>\n",
       "  </thead>\n",
       "  <tbody>\n",
       "    <tr>\n",
       "      <th>client_keywords</th>\n",
       "      <td>214992</td>\n",
       "      <td>77.8400</td>\n",
       "    </tr>\n",
       "    <tr>\n",
       "      <th>arrival_city</th>\n",
       "      <td>8863</td>\n",
       "      <td>3.2100</td>\n",
       "    </tr>\n",
       "    <tr>\n",
       "      <th>departure_city</th>\n",
       "      <td>6320</td>\n",
       "      <td>2.2900</td>\n",
       "    </tr>\n",
       "    <tr>\n",
       "      <th>order_id</th>\n",
       "      <td>0</td>\n",
       "      <td>0.0000</td>\n",
       "    </tr>\n",
       "    <tr>\n",
       "      <th>departure_region</th>\n",
       "      <td>0</td>\n",
       "      <td>0.0000</td>\n",
       "    </tr>\n",
       "  </tbody>\n",
       "</table>\n",
       "</div>"
      ],
      "text/plain": [
       "                  missing       %\n",
       "client_keywords    214992 77.8400\n",
       "arrival_city         8863  3.2100\n",
       "departure_city       6320  2.2900\n",
       "order_id                0  0.0000\n",
       "departure_region        0  0.0000"
      ]
     },
     "metadata": {},
     "output_type": "display_data"
    },
    {
     "name": "stdout",
     "output_type": "stream",
     "text": [
      "\n",
      "--- Пропуски в test ---\n"
     ]
    },
    {
     "data": {
      "text/html": [
       "<div>\n",
       "<style scoped>\n",
       "    .dataframe tbody tr th:only-of-type {\n",
       "        vertical-align: middle;\n",
       "    }\n",
       "\n",
       "    .dataframe tbody tr th {\n",
       "        vertical-align: top;\n",
       "    }\n",
       "\n",
       "    .dataframe thead th {\n",
       "        text-align: right;\n",
       "    }\n",
       "</style>\n",
       "<table border=\"1\" class=\"dataframe\">\n",
       "  <thead>\n",
       "    <tr style=\"text-align: right;\">\n",
       "      <th></th>\n",
       "      <th>missing</th>\n",
       "      <th>%</th>\n",
       "    </tr>\n",
       "  </thead>\n",
       "  <tbody>\n",
       "    <tr>\n",
       "      <th>client_keywords</th>\n",
       "      <td>63118</td>\n",
       "      <td>81.0900</td>\n",
       "    </tr>\n",
       "    <tr>\n",
       "      <th>arrival_city</th>\n",
       "      <td>2419</td>\n",
       "      <td>3.1100</td>\n",
       "    </tr>\n",
       "    <tr>\n",
       "      <th>departure_city</th>\n",
       "      <td>1747</td>\n",
       "      <td>2.2400</td>\n",
       "    </tr>\n",
       "    <tr>\n",
       "      <th>departure_country</th>\n",
       "      <td>0</td>\n",
       "      <td>0.0000</td>\n",
       "    </tr>\n",
       "    <tr>\n",
       "      <th>Unnamed: 0</th>\n",
       "      <td>0</td>\n",
       "      <td>0.0000</td>\n",
       "    </tr>\n",
       "  </tbody>\n",
       "</table>\n",
       "</div>"
      ],
      "text/plain": [
       "                   missing       %\n",
       "client_keywords      63118 81.0900\n",
       "arrival_city          2419  3.1100\n",
       "departure_city        1747  2.2400\n",
       "departure_country        0  0.0000\n",
       "Unnamed: 0               0  0.0000"
      ]
     },
     "metadata": {},
     "output_type": "display_data"
    },
    {
     "name": "stdout",
     "output_type": "stream",
     "text": [
      "\n",
      "--- Уникальные значения ---\n"
     ]
    },
    {
     "data": {
      "text/plain": [
       "Unnamed: 0                         276205\n",
       "item_price                         270834\n",
       "order_id                           193284\n",
       "order_date                         192577\n",
       "client_arrival_date                126786\n",
       "delivery_service_departure_date    118719\n",
       "stock_departure_date                99677\n",
       "item_losses                         17908\n",
       "client_keywords                      9012\n",
       "item_id                              1866\n",
       "arrival_region                       1395\n",
       "departure_region                     1220\n",
       "arrival_city                          671\n",
       "departure_city                        587\n",
       "client_device_type                    468\n",
       "brand_name                            113\n",
       "delivery_service_name                  25\n",
       "arrival_country                        13\n",
       "departure_country                      12\n",
       "client_browser                          8\n",
       "item_category                           6\n",
       "item_package_type                       5\n",
       "type_prepayment                         4\n",
       "item_type                               3\n",
       "client_is_app                           2\n",
       "order_tracking_available                2\n",
       "dtype: int64"
      ]
     },
     "metadata": {},
     "output_type": "display_data"
    }
   ],
   "source": [
    "print('\\n--- Пропуски в train ---')\n",
    "display(\n",
    "    df_train.isna()\n",
    "    .sum()\n",
    "    .to_frame('missing')\n",
    "    .assign(**{'%': lambda x: (100 * x['missing'] / len(df_train)).round(2)})\n",
    "    .sort_values('missing', ascending=False)\n",
    "    .head(5)\n",
    ")\n",
    "\n",
    "print('\\n--- Пропуски в test ---')\n",
    "display(\n",
    "    df_test.isna()\n",
    "    .sum()\n",
    "    .to_frame('missing')\n",
    "    .assign(**{'%': lambda x: (100 * x['missing'] / len(df_test)).round(2)})\n",
    "    .sort_values('missing', ascending=False)\n",
    "    .head(5)\n",
    ")\n",
    "\n",
    "print('\\n--- Уникальные значения ---')\n",
    "unique_counts = df_train.nunique().sort_values(ascending=False)\n",
    "display(unique_counts)"
   ]
  },
  {
   "cell_type": "markdown",
   "id": "58dc287e",
   "metadata": {},
   "source": [
    "### Анализ 'item_losses'"
   ]
  },
  {
   "cell_type": "code",
   "execution_count": 5,
   "id": "8b5585f0",
   "metadata": {},
   "outputs": [
    {
     "data": {
      "image/png": "[encoded data removed]",
      "text/plain": [
       "<Figure size 800x400 with 1 Axes>"
      ]
     },
     "metadata": {},
     "output_type": "display_data"
    },
    {
     "data": {
      "text/plain": [
       "count   276205.0000\n",
       "mean        23.5843\n",
       "std         47.7635\n",
       "min       -480.8484\n",
       "25%          0.0000\n",
       "50%          0.0000\n",
       "75%         34.2092\n",
       "max       1234.9547\n",
       "Name: item_losses, dtype: float64"
      ]
     },
     "metadata": {},
     "output_type": "display_data"
    }
   ],
   "source": [
    "plt.figure(figsize=(8,4))\n",
    "sns.histplot(df_train['item_losses'], bins=50, kde=True)\n",
    "plt.title('Распределение item_losses')\n",
    "plt.show()\n",
    "display(df_train['item_losses'].describe())"
   ]
  },
  {
   "cell_type": "code",
   "execution_count": 6,
   "id": "bf55e297",
   "metadata": {},
   "outputs": [
    {
     "name": "stdout",
     "output_type": "stream",
     "text": [
      "Строк с отрицательными затратами на возврат = 4\n"
     ]
    }
   ],
   "source": [
    "neg_loses_count = len(df_train[(df_train['item_losses'] < 0)])\n",
    "print(f'Строк с отрицательными затратами на возврат = {neg_loses_count}')"
   ]
  },
  {
   "cell_type": "code",
   "execution_count": 7,
   "id": "16b46834",
   "metadata": {},
   "outputs": [
    {
     "name": "stdout",
     "output_type": "stream",
     "text": [
      "Доля нулей: 72.5%\n"
     ]
    }
   ],
   "source": [
    "zero_ratio = len(df_train[df_train['item_losses'] == 0]) / len(df_train) * 100\n",
    "print(f'Доля нулей: {zero_ratio:.1f}%')"
   ]
  },
  {
   "cell_type": "code",
   "execution_count": 8,
   "id": "c348a710",
   "metadata": {},
   "outputs": [],
   "source": [
    "# подсчет нулевых и ненулевых строк для балансировки классов в дальнейшем\n",
    "y_bin = (df_train['item_losses'] > 0).astype(int)\n",
    "n_zeros = (y_bin == 0).sum()\n",
    "n_nonzeros = (y_bin == 1).sum()"
   ]
  },
  {
   "cell_type": "markdown",
   "id": "c62acfc0",
   "metadata": {},
   "source": [
    "### Анализ 'client_keywords'"
   ]
  },
  {
   "cell_type": "code",
   "execution_count": 9,
   "id": "5e86c46e",
   "metadata": {},
   "outputs": [
    {
     "name": "stdout",
     "output_type": "stream",
     "text": [
      "item_losses          0      1\n",
      "client_keywords              \n",
      "0               0.2776 0.7224\n",
      "1               0.2653 0.7347\n",
      "коэффициент корреляции Пирсона между наличием ключей и нулевми расходами: 0.011429884879715276\n"
     ]
    }
   ],
   "source": [
    "has_keywords = df_train['client_keywords'].notna().astype(int)\n",
    "y_is_zero = (df_train['item_losses'] == 0).astype(int)\n",
    "\n",
    "ct = pd.crosstab(has_keywords, y_is_zero, normalize='index')\n",
    "print(ct)\n",
    "\n",
    "corr = np.corrcoef(has_keywords, y_is_zero)[0, 1]\n",
    "print('коэффициент корреляции Пирсона между наличием ключей и нулевми расходами:', corr)\n"
   ]
  },
  {
   "cell_type": "markdown",
   "id": "e391ca86",
   "metadata": {},
   "source": [
    "Разница в вероятности нулевых расходов на возврат, между теми у кого есть ключевые слова и теми у кого нет - очень маленькая, корреляция Пирсона всего около 1%.\n",
    "\n",
    "Наличие `client_keywords` само по себе почти ничего не даёт для предсказания нулей.\n",
    "\n",
    "Может быть полезно не само наличие, а состав списка ([326, 51, 37] и т.д.).\n",
    "\n",
    "Эти коды могут отражать категории запросов (например, 'доставка', 'возврат', 'скидка'),  тогда отдельные токены могут иметь связь с расходами"
   ]
  },
  {
   "cell_type": "code",
   "execution_count": 10,
   "id": "4c5d4c11",
   "metadata": {},
   "outputs": [
    {
     "name": "stdout",
     "output_type": "stream",
     "text": [
      "Уникальных токенов: 2557\n",
      "['1', '10', '100', '1000', '1001']\n"
     ]
    }
   ],
   "source": [
    "all_tokens = set()\n",
    "for kw in df_train['client_keywords'].dropna():\n",
    "    tokens = [t.strip() for t in kw.strip('[] ').split(',') if t.strip()]\n",
    "    all_tokens.update(tokens)\n",
    "\n",
    "print(f'Уникальных токенов: {len(all_tokens)}')\n",
    "print(sorted(list(all_tokens))[:5])"
   ]
  },
  {
   "cell_type": "markdown",
   "id": "dc8b859e",
   "metadata": {},
   "source": [
    "2557 уникальных значений, закодировать OneHot энкодером будет не рационально. возможно лучше просто сделать эмбеддинг"
   ]
  },
  {
   "cell_type": "code",
   "execution_count": 11,
   "id": "9094b4b1",
   "metadata": {},
   "outputs": [
    {
     "name": "stdout",
     "output_type": "stream",
     "text": [
      "Максимальная длинна списка \"ключевых слов\": 18\n"
     ]
    }
   ],
   "source": [
    "max_tokens = df_train['client_keywords'].dropna().apply(lambda s: len(s.strip('[] ').split(','))).max()\n",
    "print(f'Максимальная длинна списка \"ключевых слов\": {max_tokens}')"
   ]
  },
  {
   "cell_type": "markdown",
   "id": "a4560f2f",
   "metadata": {},
   "source": [
    "### Анализ 'item_price'"
   ]
  },
  {
   "cell_type": "code",
   "execution_count": 12,
   "id": "4d0cd852",
   "metadata": {},
   "outputs": [
    {
     "data": {
      "text/plain": [
       "count   276205.0000\n",
       "mean       635.5851\n",
       "std        565.0058\n",
       "min          0.0000\n",
       "25%        261.4262\n",
       "50%        489.3992\n",
       "75%        827.8641\n",
       "max      13787.2410\n",
       "Name: item_price, dtype: float64"
      ]
     },
     "execution_count": 12,
     "metadata": {},
     "output_type": "execute_result"
    }
   ],
   "source": [
    "df_train['item_price'].describe()"
   ]
  },
  {
   "cell_type": "code",
   "execution_count": 13,
   "id": "98c0b799",
   "metadata": {},
   "outputs": [
    {
     "data": {
      "image/png": "[encoded data removed]",
      "text/plain": [
       "<Figure size 800x500 with 1 Axes>"
      ]
     },
     "metadata": {},
     "output_type": "display_data"
    }
   ],
   "source": [
    "plt.figure(figsize=(8,5))\n",
    "sns.histplot(df_train['item_price'], bins=100, kde=True)\n",
    "plt.xlim(0, df_train['item_price'].quantile(0.99))\n",
    "plt.show()"
   ]
  },
  {
   "cell_type": "code",
   "execution_count": 14,
   "id": "62c923e6",
   "metadata": {},
   "outputs": [
    {
     "data": {
      "image/png": "[encoded data removed]",
      "text/plain": [
       "<Figure size 800x200 with 1 Axes>"
      ]
     },
     "metadata": {},
     "output_type": "display_data"
    }
   ],
   "source": [
    "plt.figure(figsize=(8,2))\n",
    "sns.boxplot(x=df_train['item_price'])\n",
    "plt.show()"
   ]
  },
  {
   "cell_type": "code",
   "execution_count": 15,
   "id": "d81a09ab",
   "metadata": {},
   "outputs": [
    {
     "data": {
      "image/png": "[encoded data removed]",
      "text/plain": [
       "<Figure size 640x480 with 1 Axes>"
      ]
     },
     "metadata": {},
     "output_type": "display_data"
    }
   ],
   "source": [
    "item_price_log = np.log1p(df_train['item_price'])\n",
    "\n",
    "sns.histplot(item_price_log , bins=100, kde=True)\n",
    "plt.show()"
   ]
  },
  {
   "cell_type": "code",
   "execution_count": 16,
   "id": "6e25ad5a",
   "metadata": {},
   "outputs": [
    {
     "name": "stdout",
     "output_type": "stream",
     "text": [
      "Нулевых цен: 5345 (1.94%)\n"
     ]
    },
    {
     "data": {
      "text/plain": [
       "item_category\n",
       "ea77a36e-4b0c-4e8d-bf09-4c8398609ae1    2319\n",
       "25f9f297-40a8-45d9-bb67-4b0f6dad1315    2038\n",
       "5554bea4-f3cd-4432-bb13-73698f52de88     597\n",
       "60959c0c-9c1a-434b-8442-3b8c2fc73655     341\n",
       "243f0bd2-7e7b-4b32-96f9-5bd080948936      44\n",
       "38541b4d-f0d3-4471-abbc-574f4f1779c8       6\n",
       "Name: count, dtype: int64"
      ]
     },
     "execution_count": 16,
     "metadata": {},
     "output_type": "execute_result"
    }
   ],
   "source": [
    "zero_prices = df_train[df_train['item_price'] == 0]\n",
    "print(f'Нулевых цен: {len(zero_prices)} ({len(zero_prices)/len(df_train):.2%})')\n",
    "zero_prices['item_category'].value_counts().head(10)"
   ]
  },
  {
   "cell_type": "code",
   "execution_count": 17,
   "id": "83c36ade",
   "metadata": {},
   "outputs": [
    {
     "name": "stdout",
     "output_type": "stream",
     "text": [
      "нулевая цена в заказах с одним товаром: 787\n"
     ]
    }
   ],
   "source": [
    "order_sizes = df_train.groupby('order_id')['item_price'].transform('count')\n",
    "is_zero_single = (df_train['item_price'] == 0) & (order_sizes == 1)\n",
    "print('нулевая цена в заказах с одним товаром:', is_zero_single.sum())"
   ]
  },
  {
   "cell_type": "markdown",
   "id": "ce4c222b",
   "metadata": {},
   "source": [
    "- Распределение цен сильно правостороннее, длинный хвост до 13k+\n",
    "\n",
    "- Boxplot показывает кучу выбросов (дорогие вещи сильно выделяются)\n",
    "\n",
    "- Логарифмирование сильно исправkztn ситуацию: распределение становится ближе к нормальному, хвост сжимается\n",
    "\n",
    "- Достаточно большое количество нулевых цен не похоже на ошибки и шум, гипотеза что это подарочные акции в придачу к другому товару тоже не подтверждается, есть и заказы с всего одним товаром и нулевой ценой"
   ]
  },
  {
   "cell_type": "code",
   "execution_count": 18,
   "id": "62bfd529",
   "metadata": {},
   "outputs": [],
   "source": [
    "mean_prices = df_train.groupby('item_category')['item_price'].transform('mean')\n",
    "df_train['price_dev_from_cat'] = df_train['item_price'] - mean_prices\n"
   ]
  },
  {
   "cell_type": "markdown",
   "id": "7236d831",
   "metadata": {},
   "source": [
    "### Выводы по анализу данных"
   ]
  },
  {
   "cell_type": "markdown",
   "id": "629e14db",
   "metadata": {},
   "source": [
    "#### Пропуски\n",
    "\n",
    "`client_keywords` - 214k пропусков (~78% в train, ~81% в test). Использовать как фичу нецелесообразно, лучше выкинуть или оставить только как индикатор \"есть ли keywords\" или сколько их\n",
    "\n",
    "`arrival_city` и `departure_city` - пропусков меньше (2–3%). Можно кодировать NaN как отдельное значение\n",
    "\n",
    "#### Количественные признаки без изменений:\n",
    "\n",
    "- `item_price`\n",
    "\n",
    "- `order_tracking_available` - бинарный признак, кодировка не требуется, уже числовой тип данных\n",
    "\n",
    "#### Обработка других признаков:\n",
    "\n",
    "- `order_id` 193284 уникальных значений на трейне из 276205 записей. значительная часть записей принадлежат к одному заказу. из этого можно выделить признак количества товаров в заказе\n",
    "\n",
    "- `client_keywords` - из этого сделаем признак количества ключевых слов в запросе из длинны списка в записи\n",
    "\n",
    "- `departure_country`, `departure_city`, `departure_region`, `arrival_country`, `arrival_city`, `arrival_region` - из этих индексов можно сделать признаки того, является ли это доставкой в другую страну/регион/город\n",
    "\n",
    "- `order_date`, `client_arrival_date`, `delivery_service_departure_date`, `stock_departure_date` - из этих признаков получить дельты времени между датой заказа и временем отправки со склада, временем отправки со склада и временем отправки службой доставки, временем отправки службой доставки и временем доставки заказа в пункт получения и общем временем от заказа до получения\n",
    "\n",
    "- `delivery_service_name` (25), `client_browser` (8), `item_category` (6), `item_package_type` (5), `type_prepayment` (4), `item_type` (3) - нормальная кардинальность можно категориального признака:  можно закодировать с помощью one-hot энкодера\n",
    "\n",
    "- `item_id` (1866), `client_device_type` (468), `brand_name` (113) - Высокая кардинальность категориального признака: нужно аккуратное кодирование\n",
    "\n",
    "- `client_is_app` - нужно перевести из булева в числовой тип данных\n",
    "\n",
    "\n",
    "#### Прочие замечания\n",
    "\n",
    "- Большинство заказов без убытков (медиана = 0)\n",
    "\n",
    "- У части заказов есть отрицательные значения убытков (min = -480), это выглядит подозрительно (ошибки в данных?). Нужно разобратся"
   ]
  },
  {
   "cell_type": "markdown",
   "id": "8d249398",
   "metadata": {},
   "source": [
    "## Формирование признаков и работа с пропусками и аномалиями"
   ]
  },
  {
   "cell_type": "code",
   "execution_count": 19,
   "id": "de13d03a",
   "metadata": {},
   "outputs": [],
   "source": [
    "# удалим 4 отрицательные строки затрат\n",
    "df_train = df_train[~(df_train['item_losses'] < 0)]"
   ]
  },
  {
   "cell_type": "code",
   "execution_count": 20,
   "id": "98ffd8c4",
   "metadata": {},
   "outputs": [],
   "source": [
    "# Разделение фичей и таргета\n",
    "X_train = df_train.drop(['item_losses'], axis=1)\n",
    "y_train = df_train['item_losses']\n",
    "y_train_bin = (y_train != 0).astype(int) # Нужно для обучения классификатора при использовании ZeroInflated подхода "
   ]
  },
  {
   "cell_type": "markdown",
   "id": "9d60a516",
   "metadata": {},
   "source": [
    "Обработку пропусков учтём в рамках пайплайна предобработки"
   ]
  },
  {
   "cell_type": "code",
   "execution_count": 21,
   "id": "a505d416",
   "metadata": {},
   "outputs": [],
   "source": [
    "# Классы для препроцессинга в рамках пайплайна\n",
    "\n",
    "class PriceFeatureExtractor(BaseEstimator, TransformerMixin):\n",
    "    '''\n",
    "    Формирует признаки из цены товара:\n",
    "       - логарифмированная цена\n",
    "       - отклонение от средней по категории *\n",
    "            * в случае новых категорий на тесте/валидации/инференсе, заполняем средней по датасету ценой\n",
    "    '''\n",
    "    \n",
    "    def __init__(self, price_col, groupby_col):\n",
    "        self.price_col = price_col\n",
    "        self.groupby_col = groupby_col\n",
    "        self.cat_avg_prices_ = {}\n",
    "        self.global_avg_price_ = None\n",
    "\n",
    "    def fit(self, X, y=None):\n",
    "        if self.price_col in X.columns and self.groupby_col in X.columns:\n",
    "            self.cat_avg_prices_ = (X.groupby(self.groupby_col)[self.price_col].mean().to_dict())\n",
    "            self.global_avg_price_ = X[self.price_col].mean()\n",
    "        return self\n",
    "\n",
    "    def transform(self, X):\n",
    "        X = X.copy()\n",
    "        \n",
    "        if self.price_col in X.columns:\n",
    "            X[f'{self.price_col}_log'] = np.log1p(X[self.price_col])\n",
    "        \n",
    "        if self.price_col in X.columns and self.groupby_col in X.columns:\n",
    "            avg_map = X[self.groupby_col].map(self.cat_avg_prices_)\n",
    "            avg_map = avg_map.fillna(self.global_avg_price_)\n",
    "            X['price_dev_from_cat'] = X[self.price_col] - avg_map\n",
    "        \n",
    "        return X\n",
    "\n",
    "class DateFeatureExtractor(BaseEstimator, TransformerMixin):\n",
    "    '''\n",
    "    Извлекает временные признаки и вычисляет дельты времени этапов доставки до клиента\n",
    "    Дли инициализации нужен список 4 колонок в порядке от заказа до получения\n",
    "    '''\n",
    "    \n",
    "    def __init__(self, col):\n",
    "        self.col = col\n",
    "    \n",
    "    def fit(self, X, y=None):\n",
    "        return self\n",
    "    \n",
    "    def transform(self, X):\n",
    "        X = X.copy()\n",
    "        \n",
    "        X[self.col[0]] = pd.to_datetime(X[self.col[0]], errors='coerce')\n",
    "        for i in range(1,4):\n",
    "            X[self.col[i]] = pd.to_datetime(X[self.col[i]],\n",
    "            format='%H-%M-%S %Y-%m-%d', errors='coerce')\n",
    "        \n",
    "        # Создание временных дельт (в часах)\n",
    "        if all(c in X.columns for c in self.col):\n",
    "            for i in range(3):\n",
    "                X[f'delivery_{i+1}'] = (\n",
    "                    X[self.col[i+1]] - X[self.col[i]]\n",
    "                ).dt.total_seconds() / 3600\n",
    "\n",
    "            X['delivery_full'] = (\n",
    "                X[self.col[3]] - X[self.col[0]]\n",
    "            ).dt.total_seconds() / 3600\n",
    "        \n",
    "        if 'item_price' in X.columns and 'delivery_full' in X.columns:\n",
    "            X['price_per_hour'] = X['item_price'] / (X['delivery_full'] + 1)\n",
    "\n",
    "        if all(col in X.columns for col in ['delivery_1', 'delivery_2', 'delivery_3']):\n",
    "            X['delivery_speed'] = X['delivery_1'] / (X['delivery_2'] + X['delivery_3'] + 1) # соотношение \"подготовки\" к \"транспортировке\"\n",
    "            X['total_transport_time'] = X['delivery_2'] + X['delivery_3']  # только транспорт\n",
    "            X['prep_vs_transport'] = X['delivery_1'] / (X['total_transport_time'] + 1)\n",
    "\n",
    "                \n",
    "        # Извлечение признаков из даты заказа\n",
    "        if self.col[0] in X.columns:\n",
    "            X['order_hour'] = X[self.col[0]].dt.hour\n",
    "            X['order_day_of_week'] = X[self.col[0]].dt.dayofweek\n",
    "            X['order_month'] = X[self.col[0]].dt.month\n",
    "            X['order_day_of_month'] = X[self.col[0]].dt.day\n",
    "            X['is_weekend'] = (X[self.col[0]].dt.dayofweek >= 5).astype(int)\n",
    "        \n",
    "            # Час (суточный цикл)\n",
    "            X['order_hour_sin'] = np.sin(2 * np.pi * X['order_hour'] / 24)\n",
    "            X['order_hour_cos'] = np.cos(2 * np.pi * X['order_hour'] / 24)\n",
    "            \n",
    "            # День недели (недельный цикл)\n",
    "            X['order_day_of_week_sin'] = np.sin(2 * np.pi * X['order_day_of_week'] / 7)\n",
    "            X['order_day_of_week_cos'] = np.cos(2 * np.pi * X['order_day_of_week'] / 7)\n",
    "\n",
    "            # День месяца (месячный цикл)\n",
    "            X['order_day_of_month_sin'] = np.sin(2 * np.pi * X['order_day_of_month'] / 31)\n",
    "            X['order_day_of_month_cos'] = np.cos(2 * np.pi * X['order_day_of_month'] / 31)\n",
    "            \n",
    "            # Месяц (годовой цикл)\n",
    "            X['order_month_sin'] = np.sin(2 * np.pi * X['order_month'] / 12)\n",
    "            X['order_month_cos'] = np.cos(2 * np.pi * X['order_month'] / 12)\n",
    "        \n",
    "        # Удаляем исходные колонки с датами (они больше не нужны)\n",
    "        X = X.drop(columns=self.col, errors='ignore')\n",
    "        \n",
    "        return X\n",
    "\n",
    "class GeographicFeatureExtractor(BaseEstimator, TransformerMixin):\n",
    "    '''\n",
    "    Создает географические бинарные признаки: \n",
    "        - международная посылка\n",
    "        - в другой регион \n",
    "        - межгород\n",
    "        - данные о городе отсутствуют\n",
    "    '''\n",
    "\n",
    "    def __init__(self, col):\n",
    "        self.col = col\n",
    "    \n",
    "    def fit(self, X, y=None):\n",
    "        return self\n",
    "    \n",
    "    def transform(self, X):\n",
    "        X = X.copy()\n",
    "        \n",
    "        if all(c in X.columns for c in self.col):\n",
    "            X['is_international_delivery'] = (\n",
    "                (X[self.col[0]].notna()) & (X[self.col[1]].notna()) &\n",
    "                (X[self.col[0]].notna()) & (X[self.col[1]].notna())\n",
    "                ).astype(int)\n",
    "            X['is_interregional_delivery'] = (\n",
    "                (X[self.col[2]].notna()) & (X[self.col[3]].notna()) &\n",
    "                (X[self.col[2]].notna()) & (X[self.col[3]].notna())\n",
    "                ).astype(int)\n",
    "            X['is_intercity_delivery'] = (\n",
    "                (X[self.col[4]].notna()) & (X[self.col[5]].notna()) &\n",
    "                (X[self.col[4]].notna()) & (X[self.col[5]].notna())\n",
    "                ).astype(int)\n",
    "            X['missing_city_info'] = (X[self.col[4]].isna() | X[self.col[5]].isna()).astype(int)    \n",
    "            \n",
    "        # Дропаем колонки городов, они больше не нужны\n",
    "        X = X.drop(columns=self.col, errors='ignore')\n",
    "        \n",
    "        return X\n",
    "\n",
    "class OrderFeatureExtractor(BaseEstimator, TransformerMixin):\n",
    "    '''\n",
    "    Извлекает признак количества позиций в заказе\n",
    "    '''\n",
    "    \n",
    "    def __init__(self, col):\n",
    "        self.order_counts = {}\n",
    "        self.col = col\n",
    "    \n",
    "    def fit(self, X, y=None):\n",
    "        if self.col in X.columns:\n",
    "            self.order_counts = X[self.col].value_counts().to_dict()\n",
    "        return self\n",
    "    \n",
    "    def transform(self, X):\n",
    "        X = X.copy()\n",
    "        if self.col in X.columns:\n",
    "            X['items_per_order'] = X[self.col].map(self.order_counts).fillna(1)\n",
    "            \n",
    "        X = X.drop(columns=[self.col], errors='ignore')\n",
    "        return X\n",
    "\n",
    "class KeywordsFeatureExtractor(BaseEstimator, TransformerMixin):\n",
    "    '''\n",
    "    Извлекает признаки из client_keywords через TF-IDF + SVD\n",
    "    '''\n",
    "\n",
    "    def __init__(self, col, n_components=36):\n",
    "        self.col = col\n",
    "        self.n_components = n_components\n",
    "        self.vectorizer = TfidfVectorizer(token_pattern=r'\\d+')\n",
    "        self.svd = None\n",
    "\n",
    "    def preprocess(self, keywords):\n",
    "        if pd.isna(keywords):\n",
    "            return ''\n",
    "        return keywords.strip('[] ').replace(' ', '')\n",
    "\n",
    "    def fit(self, X, y=None):\n",
    "        texts = X[self.col].fillna('').apply(self.preprocess)\n",
    "        X_tfidf = self.vectorizer.fit_transform(texts)\n",
    "        n_comp = min(self.n_components, X_tfidf.shape[1])\n",
    "        self.svd = TruncatedSVD(n_components=n_comp, random_state=SEED)\n",
    "        self.svd.fit(X_tfidf)\n",
    "        return self\n",
    "\n",
    "    def transform(self, X):\n",
    "        X_copy = X.copy()\n",
    "        texts = X_copy[self.col].fillna('').apply(self.preprocess)\n",
    "        X_tfidf = self.vectorizer.transform(texts)\n",
    "        X_svd = self.svd.transform(X_tfidf)\n",
    "        n_svd_features = X_svd.shape[1]\n",
    "\n",
    "        for i in range(n_svd_features):\n",
    "            X_copy[f'kw_emb_{i}'] = X_svd[:, i]\n",
    "\n",
    "        X_copy = X_copy.drop(columns=[self.col])\n",
    "        return X_copy\n",
    "\n",
    "class BoolToNumTransformer(BaseEstimator, TransformerMixin):\n",
    "    '''\n",
    "    преобразыет булевы значения False/True в числовые 0/1\n",
    "    '''\n",
    "\n",
    "    def __init__(self, col):\n",
    "        self.col = col\n",
    "    \n",
    "    def fit(self, X, y=None):\n",
    "        return self\n",
    "    \n",
    "    def transform(self, X):\n",
    "        X = X.copy()\n",
    "        \n",
    "        for c in self.col:\n",
    "            if c in X.columns:\n",
    "                X[c] = X[c].astype(int)\n",
    "        \n",
    "        return X\n",
    "\n",
    "class ColsDroper(BaseEstimator, TransformerMixin):\n",
    "    '''\n",
    "    Удаляет столбцы по списку\n",
    "    '''\n",
    "\n",
    "    def __init__(self, cols):\n",
    "        self.cols = cols\n",
    "    \n",
    "    def fit(self, X, y=None):\n",
    "        return self\n",
    "    \n",
    "    def transform(self, X):\n",
    "        X = X.copy()\n",
    "        X = X.drop(columns=self.cols, errors=\"ignore\")\n",
    "        return X"
   ]
  },
  {
   "cell_type": "code",
   "execution_count": 22,
   "id": "245e4e51",
   "metadata": {},
   "outputs": [],
   "source": [
    "# Формируем препроцессор для подготовки фичей\n",
    "categorial_fetures = [\n",
    "    'item_id', 'client_device_type', 'brand_name',\n",
    "    'delivery_service_name', 'client_browser', 'item_category',\n",
    "    'item_package_type', 'type_prepayment', 'item_type'\n",
    "    ]\n",
    "\n",
    "preprocessor = Pipeline([\n",
    "    ('price_features', PriceFeatureExtractor(price_col='item_price', groupby_col='item_category')),\n",
    "    ('date_features', DateFeatureExtractor(['order_date', 'stock_departure_date', 'delivery_service_departure_date', 'client_arrival_date'])),\n",
    "    ('geographic_features', GeographicFeatureExtractor(['departure_country', 'arrival_country', 'departure_region', 'arrival_region', 'departure_city', 'arrival_city'])),\n",
    "    ('order_features', OrderFeatureExtractor('order_id')),\n",
    "    ('keywords_features', KeywordsFeatureExtractor('client_keywords')),\n",
    "    ('bool_to_num', BoolToNumTransformer(['client_is_app'])),\n",
    "    ('categorical_encoder', TargetEncoder(cols=categorial_fetures)),\n",
    "    ('cols_droper', ColsDroper(['Unnamed: 0'])),\n",
    "])\n",
    "preprocessor_catboost = Pipeline([\n",
    "    ('price_features', PriceFeatureExtractor(price_col='item_price', groupby_col='item_category')),\n",
    "    ('date_features', DateFeatureExtractor(['order_date', 'stock_departure_date', 'delivery_service_departure_date', 'client_arrival_date'])),\n",
    "    ('geographic_features', GeographicFeatureExtractor(['departure_country', 'arrival_country', 'departure_region', 'arrival_region', 'departure_city', 'arrival_city'])),\n",
    "    ('order_features', OrderFeatureExtractor('order_id')),\n",
    "    ('keywords_features', KeywordsFeatureExtractor('client_keywords')),\n",
    "    ('bool_to_num', BoolToNumTransformer(['client_is_app'])),\n",
    "    ('cols_droper', ColsDroper(['Unnamed: 0'])),\n",
    "])"
   ]
  },
  {
   "cell_type": "code",
   "execution_count": 182,
   "id": "9f2cbd86",
   "metadata": {},
   "outputs": [
    {
     "name": "stdout",
     "output_type": "stream",
     "text": [
      "<class 'pandas.core.frame.DataFrame'>\n",
      "Index: 276201 entries, 0 to 276204\n",
      "Data columns (total 76 columns):\n",
      " #   Column                     Non-Null Count   Dtype  \n",
      "---  ------                     --------------   -----  \n",
      " 0   item_type                  276201 non-null  float64\n",
      " 1   client_device_type         276201 non-null  float64\n",
      " 2   client_browser             276201 non-null  float64\n",
      " 3   item_package_type          276201 non-null  float64\n",
      " 4   client_is_app              276201 non-null  int64  \n",
      " 5   order_tracking_available   276201 non-null  int64  \n",
      " 6   brand_name                 276201 non-null  float64\n",
      " 7   item_id                    276201 non-null  float64\n",
      " 8   item_category              276201 non-null  float64\n",
      " 9   delivery_service_name      276201 non-null  float64\n",
      " 10  type_prepayment            276201 non-null  float64\n",
      " 11  item_price                 276201 non-null  float64\n",
      " 12  price_dev_from_cat         276201 non-null  float64\n",
      " 13  item_price_log             276201 non-null  float64\n",
      " 14  delivery_1                 276201 non-null  float64\n",
      " 15  delivery_2                 276201 non-null  float64\n",
      " 16  delivery_3                 276201 non-null  float64\n",
      " 17  delivery_full              276201 non-null  float64\n",
      " 18  price_per_hour             276201 non-null  float64\n",
      " 19  delivery_speed             276201 non-null  float64\n",
      " 20  total_transport_time       276201 non-null  float64\n",
      " 21  prep_vs_transport          276201 non-null  float64\n",
      " 22  order_hour                 276201 non-null  int32  \n",
      " 23  order_day_of_week          276201 non-null  int32  \n",
      " 24  order_month                276201 non-null  int32  \n",
      " 25  order_day_of_month         276201 non-null  int32  \n",
      " 26  is_weekend                 276201 non-null  int64  \n",
      " 27  order_hour_sin             276201 non-null  float64\n",
      " 28  order_hour_cos             276201 non-null  float64\n",
      " 29  order_day_of_week_sin      276201 non-null  float64\n",
      " 30  order_day_of_week_cos      276201 non-null  float64\n",
      " 31  order_day_of_month_sin     276201 non-null  float64\n",
      " 32  order_day_of_month_cos     276201 non-null  float64\n",
      " 33  order_month_sin            276201 non-null  float64\n",
      " 34  order_month_cos            276201 non-null  float64\n",
      " 35  is_international_delivery  276201 non-null  int64  \n",
      " 36  is_interregional_delivery  276201 non-null  int64  \n",
      " 37  is_intercity_delivery      276201 non-null  int64  \n",
      " 38  missing_city_info          276201 non-null  int64  \n",
      " 39  items_per_order            276201 non-null  int64  \n",
      " 40  kw_emb_0                   276201 non-null  float64\n",
      " 41  kw_emb_1                   276201 non-null  float64\n",
      " 42  kw_emb_2                   276201 non-null  float64\n",
      " 43  kw_emb_3                   276201 non-null  float64\n",
      " 44  kw_emb_4                   276201 non-null  float64\n",
      " 45  kw_emb_5                   276201 non-null  float64\n",
      " 46  kw_emb_6                   276201 non-null  float64\n",
      " 47  kw_emb_7                   276201 non-null  float64\n",
      " 48  kw_emb_8                   276201 non-null  float64\n",
      " 49  kw_emb_9                   276201 non-null  float64\n",
      " 50  kw_emb_10                  276201 non-null  float64\n",
      " 51  kw_emb_11                  276201 non-null  float64\n",
      " 52  kw_emb_12                  276201 non-null  float64\n",
      " 53  kw_emb_13                  276201 non-null  float64\n",
      " 54  kw_emb_14                  276201 non-null  float64\n",
      " 55  kw_emb_15                  276201 non-null  float64\n",
      " 56  kw_emb_16                  276201 non-null  float64\n",
      " 57  kw_emb_17                  276201 non-null  float64\n",
      " 58  kw_emb_18                  276201 non-null  float64\n",
      " 59  kw_emb_19                  276201 non-null  float64\n",
      " 60  kw_emb_20                  276201 non-null  float64\n",
      " 61  kw_emb_21                  276201 non-null  float64\n",
      " 62  kw_emb_22                  276201 non-null  float64\n",
      " 63  kw_emb_23                  276201 non-null  float64\n",
      " 64  kw_emb_24                  276201 non-null  float64\n",
      " 65  kw_emb_25                  276201 non-null  float64\n",
      " 66  kw_emb_26                  276201 non-null  float64\n",
      " 67  kw_emb_27                  276201 non-null  float64\n",
      " 68  kw_emb_28                  276201 non-null  float64\n",
      " 69  kw_emb_29                  276201 non-null  float64\n",
      " 70  kw_emb_30                  276201 non-null  float64\n",
      " 71  kw_emb_31                  276201 non-null  float64\n",
      " 72  kw_emb_32                  276201 non-null  float64\n",
      " 73  kw_emb_33                  276201 non-null  float64\n",
      " 74  kw_emb_34                  276201 non-null  float64\n",
      " 75  kw_emb_35                  276201 non-null  float64\n",
      "dtypes: float64(64), int32(4), int64(8)\n",
      "memory usage: 158.0 MB\n"
     ]
    },
    {
     "data": {
      "text/html": [
       "<div>\n",
       "<style scoped>\n",
       "    .dataframe tbody tr th:only-of-type {\n",
       "        vertical-align: middle;\n",
       "    }\n",
       "\n",
       "    .dataframe tbody tr th {\n",
       "        vertical-align: top;\n",
       "    }\n",
       "\n",
       "    .dataframe thead th {\n",
       "        text-align: right;\n",
       "    }\n",
       "</style>\n",
       "<table border=\"1\" class=\"dataframe\">\n",
       "  <thead>\n",
       "    <tr style=\"text-align: right;\">\n",
       "      <th></th>\n",
       "      <th>item_type</th>\n",
       "      <th>client_device_type</th>\n",
       "      <th>client_browser</th>\n",
       "      <th>item_package_type</th>\n",
       "      <th>client_is_app</th>\n",
       "      <th>order_tracking_available</th>\n",
       "    </tr>\n",
       "  </thead>\n",
       "  <tbody>\n",
       "    <tr>\n",
       "      <th>0</th>\n",
       "      <td>24.6586</td>\n",
       "      <td>22.4445</td>\n",
       "      <td>24.7658</td>\n",
       "      <td>24.5270</td>\n",
       "      <td>1</td>\n",
       "      <td>0</td>\n",
       "    </tr>\n",
       "    <tr>\n",
       "      <th>1</th>\n",
       "      <td>24.6586</td>\n",
       "      <td>22.8798</td>\n",
       "      <td>22.5509</td>\n",
       "      <td>24.5270</td>\n",
       "      <td>1</td>\n",
       "      <td>0</td>\n",
       "    </tr>\n",
       "    <tr>\n",
       "      <th>2</th>\n",
       "      <td>24.6586</td>\n",
       "      <td>26.6221</td>\n",
       "      <td>24.7658</td>\n",
       "      <td>24.5270</td>\n",
       "      <td>1</td>\n",
       "      <td>0</td>\n",
       "    </tr>\n",
       "    <tr>\n",
       "      <th>3</th>\n",
       "      <td>24.6586</td>\n",
       "      <td>26.7011</td>\n",
       "      <td>24.7658</td>\n",
       "      <td>24.5270</td>\n",
       "      <td>1</td>\n",
       "      <td>0</td>\n",
       "    </tr>\n",
       "    <tr>\n",
       "      <th>4</th>\n",
       "      <td>24.6586</td>\n",
       "      <td>26.6221</td>\n",
       "      <td>24.7658</td>\n",
       "      <td>24.5270</td>\n",
       "      <td>1</td>\n",
       "      <td>0</td>\n",
       "    </tr>\n",
       "  </tbody>\n",
       "</table>\n",
       "</div>"
      ],
      "text/plain": [
       "   item_type  client_device_type  client_browser  item_package_type  \\\n",
       "0    24.6586             22.4445         24.7658            24.5270   \n",
       "1    24.6586             22.8798         22.5509            24.5270   \n",
       "2    24.6586             26.6221         24.7658            24.5270   \n",
       "3    24.6586             26.7011         24.7658            24.5270   \n",
       "4    24.6586             26.6221         24.7658            24.5270   \n",
       "\n",
       "   client_is_app  order_tracking_available  \n",
       "0              1                         0  \n",
       "1              1                         0  \n",
       "2              1                         0  \n",
       "3              1                         0  \n",
       "4              1                         0  "
      ]
     },
     "metadata": {},
     "output_type": "display_data"
    },
    {
     "data": {
      "text/html": [
       "<div>\n",
       "<style scoped>\n",
       "    .dataframe tbody tr th:only-of-type {\n",
       "        vertical-align: middle;\n",
       "    }\n",
       "\n",
       "    .dataframe tbody tr th {\n",
       "        vertical-align: top;\n",
       "    }\n",
       "\n",
       "    .dataframe thead th {\n",
       "        text-align: right;\n",
       "    }\n",
       "</style>\n",
       "<table border=\"1\" class=\"dataframe\">\n",
       "  <thead>\n",
       "    <tr style=\"text-align: right;\">\n",
       "      <th></th>\n",
       "      <th>brand_name</th>\n",
       "      <th>item_id</th>\n",
       "      <th>item_category</th>\n",
       "      <th>delivery_service_name</th>\n",
       "      <th>type_prepayment</th>\n",
       "      <th>item_price</th>\n",
       "    </tr>\n",
       "  </thead>\n",
       "  <tbody>\n",
       "    <tr>\n",
       "      <th>0</th>\n",
       "      <td>22.8566</td>\n",
       "      <td>14.9792</td>\n",
       "      <td>27.3573</td>\n",
       "      <td>21.7231</td>\n",
       "      <td>20.6442</td>\n",
       "      <td>443.2282</td>\n",
       "    </tr>\n",
       "    <tr>\n",
       "      <th>1</th>\n",
       "      <td>33.9371</td>\n",
       "      <td>32.9482</td>\n",
       "      <td>27.3573</td>\n",
       "      <td>22.8637</td>\n",
       "      <td>23.7205</td>\n",
       "      <td>589.4820</td>\n",
       "    </tr>\n",
       "    <tr>\n",
       "      <th>2</th>\n",
       "      <td>18.6607</td>\n",
       "      <td>19.7459</td>\n",
       "      <td>18.9924</td>\n",
       "      <td>22.8637</td>\n",
       "      <td>23.7205</td>\n",
       "      <td>110.9470</td>\n",
       "    </tr>\n",
       "    <tr>\n",
       "      <th>3</th>\n",
       "      <td>22.8566</td>\n",
       "      <td>18.9547</td>\n",
       "      <td>27.3573</td>\n",
       "      <td>22.8637</td>\n",
       "      <td>23.7205</td>\n",
       "      <td>793.9028</td>\n",
       "    </tr>\n",
       "    <tr>\n",
       "      <th>4</th>\n",
       "      <td>25.0757</td>\n",
       "      <td>22.6490</td>\n",
       "      <td>21.2650</td>\n",
       "      <td>22.8637</td>\n",
       "      <td>23.7205</td>\n",
       "      <td>1174.8069</td>\n",
       "    </tr>\n",
       "  </tbody>\n",
       "</table>\n",
       "</div>"
      ],
      "text/plain": [
       "   brand_name  item_id  item_category  delivery_service_name  type_prepayment  \\\n",
       "0     22.8566  14.9792        27.3573                21.7231          20.6442   \n",
       "1     33.9371  32.9482        27.3573                22.8637          23.7205   \n",
       "2     18.6607  19.7459        18.9924                22.8637          23.7205   \n",
       "3     22.8566  18.9547        27.3573                22.8637          23.7205   \n",
       "4     25.0757  22.6490        21.2650                22.8637          23.7205   \n",
       "\n",
       "   item_price  \n",
       "0    443.2282  \n",
       "1    589.4820  \n",
       "2    110.9470  \n",
       "3    793.9028  \n",
       "4   1174.8069  "
      ]
     },
     "metadata": {},
     "output_type": "display_data"
    },
    {
     "data": {
      "text/html": [
       "<div>\n",
       "<style scoped>\n",
       "    .dataframe tbody tr th:only-of-type {\n",
       "        vertical-align: middle;\n",
       "    }\n",
       "\n",
       "    .dataframe tbody tr th {\n",
       "        vertical-align: top;\n",
       "    }\n",
       "\n",
       "    .dataframe thead th {\n",
       "        text-align: right;\n",
       "    }\n",
       "</style>\n",
       "<table border=\"1\" class=\"dataframe\">\n",
       "  <thead>\n",
       "    <tr style=\"text-align: right;\">\n",
       "      <th></th>\n",
       "      <th>price_dev_from_cat</th>\n",
       "      <th>item_price_log</th>\n",
       "      <th>delivery_1</th>\n",
       "      <th>delivery_2</th>\n",
       "      <th>delivery_3</th>\n",
       "      <th>delivery_full</th>\n",
       "    </tr>\n",
       "  </thead>\n",
       "  <tbody>\n",
       "    <tr>\n",
       "      <th>0</th>\n",
       "      <td>-382.2675</td>\n",
       "      <td>6.0963</td>\n",
       "      <td>134.9681</td>\n",
       "      <td>35.2667</td>\n",
       "      <td>6.0833</td>\n",
       "      <td>176.3181</td>\n",
       "    </tr>\n",
       "    <tr>\n",
       "      <th>1</th>\n",
       "      <td>-236.0138</td>\n",
       "      <td>6.3809</td>\n",
       "      <td>377.5453</td>\n",
       "      <td>6.7167</td>\n",
       "      <td>10.6167</td>\n",
       "      <td>394.8786</td>\n",
       "    </tr>\n",
       "    <tr>\n",
       "      <th>2</th>\n",
       "      <td>-351.4752</td>\n",
       "      <td>4.7180</td>\n",
       "      <td>242.8547</td>\n",
       "      <td>0.0000</td>\n",
       "      <td>3.3667</td>\n",
       "      <td>246.2214</td>\n",
       "    </tr>\n",
       "    <tr>\n",
       "      <th>3</th>\n",
       "      <td>-31.5929</td>\n",
       "      <td>6.6782</td>\n",
       "      <td>192.6681</td>\n",
       "      <td>0.0000</td>\n",
       "      <td>14.2333</td>\n",
       "      <td>206.9014</td>\n",
       "    </tr>\n",
       "    <tr>\n",
       "      <th>4</th>\n",
       "      <td>707.3985</td>\n",
       "      <td>7.0697</td>\n",
       "      <td>579.3247</td>\n",
       "      <td>6.0667</td>\n",
       "      <td>29.5167</td>\n",
       "      <td>614.9081</td>\n",
       "    </tr>\n",
       "  </tbody>\n",
       "</table>\n",
       "</div>"
      ],
      "text/plain": [
       "   price_dev_from_cat  item_price_log  delivery_1  delivery_2  delivery_3  \\\n",
       "0           -382.2675          6.0963    134.9681     35.2667      6.0833   \n",
       "1           -236.0138          6.3809    377.5453      6.7167     10.6167   \n",
       "2           -351.4752          4.7180    242.8547      0.0000      3.3667   \n",
       "3            -31.5929          6.6782    192.6681      0.0000     14.2333   \n",
       "4            707.3985          7.0697    579.3247      6.0667     29.5167   \n",
       "\n",
       "   delivery_full  \n",
       "0       176.3181  \n",
       "1       394.8786  \n",
       "2       246.2214  \n",
       "3       206.9014  \n",
       "4       614.9081  "
      ]
     },
     "metadata": {},
     "output_type": "display_data"
    },
    {
     "data": {
      "text/html": [
       "<div>\n",
       "<style scoped>\n",
       "    .dataframe tbody tr th:only-of-type {\n",
       "        vertical-align: middle;\n",
       "    }\n",
       "\n",
       "    .dataframe tbody tr th {\n",
       "        vertical-align: top;\n",
       "    }\n",
       "\n",
       "    .dataframe thead th {\n",
       "        text-align: right;\n",
       "    }\n",
       "</style>\n",
       "<table border=\"1\" class=\"dataframe\">\n",
       "  <thead>\n",
       "    <tr style=\"text-align: right;\">\n",
       "      <th></th>\n",
       "      <th>price_per_hour</th>\n",
       "      <th>delivery_speed</th>\n",
       "      <th>total_transport_time</th>\n",
       "      <th>prep_vs_transport</th>\n",
       "      <th>order_hour</th>\n",
       "      <th>order_day_of_week</th>\n",
       "    </tr>\n",
       "  </thead>\n",
       "  <tbody>\n",
       "    <tr>\n",
       "      <th>0</th>\n",
       "      <td>2.4996</td>\n",
       "      <td>3.1870</td>\n",
       "      <td>41.3500</td>\n",
       "      <td>3.1870</td>\n",
       "      <td>9</td>\n",
       "      <td>2</td>\n",
       "    </tr>\n",
       "    <tr>\n",
       "      <th>1</th>\n",
       "      <td>1.4890</td>\n",
       "      <td>20.5934</td>\n",
       "      <td>17.3333</td>\n",
       "      <td>20.5934</td>\n",
       "      <td>21</td>\n",
       "      <td>0</td>\n",
       "    </tr>\n",
       "    <tr>\n",
       "      <th>2</th>\n",
       "      <td>0.4488</td>\n",
       "      <td>55.6156</td>\n",
       "      <td>3.3667</td>\n",
       "      <td>55.6156</td>\n",
       "      <td>18</td>\n",
       "      <td>2</td>\n",
       "    </tr>\n",
       "    <tr>\n",
       "      <th>3</th>\n",
       "      <td>3.8187</td>\n",
       "      <td>12.6478</td>\n",
       "      <td>14.2333</td>\n",
       "      <td>12.6478</td>\n",
       "      <td>20</td>\n",
       "      <td>5</td>\n",
       "    </tr>\n",
       "    <tr>\n",
       "      <th>4</th>\n",
       "      <td>1.9074</td>\n",
       "      <td>15.8358</td>\n",
       "      <td>35.5833</td>\n",
       "      <td>15.8358</td>\n",
       "      <td>18</td>\n",
       "      <td>2</td>\n",
       "    </tr>\n",
       "  </tbody>\n",
       "</table>\n",
       "</div>"
      ],
      "text/plain": [
       "   price_per_hour  delivery_speed  total_transport_time  prep_vs_transport  \\\n",
       "0          2.4996          3.1870               41.3500             3.1870   \n",
       "1          1.4890         20.5934               17.3333            20.5934   \n",
       "2          0.4488         55.6156                3.3667            55.6156   \n",
       "3          3.8187         12.6478               14.2333            12.6478   \n",
       "4          1.9074         15.8358               35.5833            15.8358   \n",
       "\n",
       "   order_hour  order_day_of_week  \n",
       "0           9                  2  \n",
       "1          21                  0  \n",
       "2          18                  2  \n",
       "3          20                  5  \n",
       "4          18                  2  "
      ]
     },
     "metadata": {},
     "output_type": "display_data"
    },
    {
     "data": {
      "text/html": [
       "<div>\n",
       "<style scoped>\n",
       "    .dataframe tbody tr th:only-of-type {\n",
       "        vertical-align: middle;\n",
       "    }\n",
       "\n",
       "    .dataframe tbody tr th {\n",
       "        vertical-align: top;\n",
       "    }\n",
       "\n",
       "    .dataframe thead th {\n",
       "        text-align: right;\n",
       "    }\n",
       "</style>\n",
       "<table border=\"1\" class=\"dataframe\">\n",
       "  <thead>\n",
       "    <tr style=\"text-align: right;\">\n",
       "      <th></th>\n",
       "      <th>order_month</th>\n",
       "      <th>order_day_of_month</th>\n",
       "      <th>is_weekend</th>\n",
       "      <th>order_hour_sin</th>\n",
       "      <th>order_hour_cos</th>\n",
       "      <th>order_day_of_week_sin</th>\n",
       "    </tr>\n",
       "  </thead>\n",
       "  <tbody>\n",
       "    <tr>\n",
       "      <th>0</th>\n",
       "      <td>12</td>\n",
       "      <td>27</td>\n",
       "      <td>0</td>\n",
       "      <td>0.7071</td>\n",
       "      <td>-0.7071</td>\n",
       "      <td>0.9749</td>\n",
       "    </tr>\n",
       "    <tr>\n",
       "      <th>1</th>\n",
       "      <td>10</td>\n",
       "      <td>17</td>\n",
       "      <td>0</td>\n",
       "      <td>-0.7071</td>\n",
       "      <td>0.7071</td>\n",
       "      <td>0.0000</td>\n",
       "    </tr>\n",
       "    <tr>\n",
       "      <th>2</th>\n",
       "      <td>4</td>\n",
       "      <td>26</td>\n",
       "      <td>0</td>\n",
       "      <td>-1.0000</td>\n",
       "      <td>-0.0000</td>\n",
       "      <td>0.9749</td>\n",
       "    </tr>\n",
       "    <tr>\n",
       "      <th>3</th>\n",
       "      <td>7</td>\n",
       "      <td>1</td>\n",
       "      <td>1</td>\n",
       "      <td>-0.8660</td>\n",
       "      <td>0.5000</td>\n",
       "      <td>-0.9749</td>\n",
       "    </tr>\n",
       "    <tr>\n",
       "      <th>4</th>\n",
       "      <td>5</td>\n",
       "      <td>31</td>\n",
       "      <td>0</td>\n",
       "      <td>-1.0000</td>\n",
       "      <td>-0.0000</td>\n",
       "      <td>0.9749</td>\n",
       "    </tr>\n",
       "  </tbody>\n",
       "</table>\n",
       "</div>"
      ],
      "text/plain": [
       "   order_month  order_day_of_month  is_weekend  order_hour_sin  \\\n",
       "0           12                  27           0          0.7071   \n",
       "1           10                  17           0         -0.7071   \n",
       "2            4                  26           0         -1.0000   \n",
       "3            7                   1           1         -0.8660   \n",
       "4            5                  31           0         -1.0000   \n",
       "\n",
       "   order_hour_cos  order_day_of_week_sin  \n",
       "0         -0.7071                 0.9749  \n",
       "1          0.7071                 0.0000  \n",
       "2         -0.0000                 0.9749  \n",
       "3          0.5000                -0.9749  \n",
       "4         -0.0000                 0.9749  "
      ]
     },
     "metadata": {},
     "output_type": "display_data"
    },
    {
     "data": {
      "text/html": [
       "<div>\n",
       "<style scoped>\n",
       "    .dataframe tbody tr th:only-of-type {\n",
       "        vertical-align: middle;\n",
       "    }\n",
       "\n",
       "    .dataframe tbody tr th {\n",
       "        vertical-align: top;\n",
       "    }\n",
       "\n",
       "    .dataframe thead th {\n",
       "        text-align: right;\n",
       "    }\n",
       "</style>\n",
       "<table border=\"1\" class=\"dataframe\">\n",
       "  <thead>\n",
       "    <tr style=\"text-align: right;\">\n",
       "      <th></th>\n",
       "      <th>order_day_of_week_cos</th>\n",
       "      <th>order_day_of_month_sin</th>\n",
       "      <th>order_day_of_month_cos</th>\n",
       "      <th>order_month_sin</th>\n",
       "      <th>order_month_cos</th>\n",
       "      <th>is_international_delivery</th>\n",
       "    </tr>\n",
       "  </thead>\n",
       "  <tbody>\n",
       "    <tr>\n",
       "      <th>0</th>\n",
       "      <td>-0.2225</td>\n",
       "      <td>-0.7248</td>\n",
       "      <td>0.6890</td>\n",
       "      <td>-0.0000</td>\n",
       "      <td>1.0000</td>\n",
       "      <td>1</td>\n",
       "    </tr>\n",
       "    <tr>\n",
       "      <th>1</th>\n",
       "      <td>1.0000</td>\n",
       "      <td>-0.2994</td>\n",
       "      <td>-0.9541</td>\n",
       "      <td>-0.8660</td>\n",
       "      <td>0.5000</td>\n",
       "      <td>1</td>\n",
       "    </tr>\n",
       "    <tr>\n",
       "      <th>2</th>\n",
       "      <td>-0.2225</td>\n",
       "      <td>-0.8486</td>\n",
       "      <td>0.5290</td>\n",
       "      <td>0.8660</td>\n",
       "      <td>-0.5000</td>\n",
       "      <td>1</td>\n",
       "    </tr>\n",
       "    <tr>\n",
       "      <th>3</th>\n",
       "      <td>-0.2225</td>\n",
       "      <td>0.2013</td>\n",
       "      <td>0.9795</td>\n",
       "      <td>-0.5000</td>\n",
       "      <td>-0.8660</td>\n",
       "      <td>1</td>\n",
       "    </tr>\n",
       "    <tr>\n",
       "      <th>4</th>\n",
       "      <td>-0.2225</td>\n",
       "      <td>-0.0000</td>\n",
       "      <td>1.0000</td>\n",
       "      <td>0.5000</td>\n",
       "      <td>-0.8660</td>\n",
       "      <td>1</td>\n",
       "    </tr>\n",
       "  </tbody>\n",
       "</table>\n",
       "</div>"
      ],
      "text/plain": [
       "   order_day_of_week_cos  order_day_of_month_sin  order_day_of_month_cos  \\\n",
       "0                -0.2225                 -0.7248                  0.6890   \n",
       "1                 1.0000                 -0.2994                 -0.9541   \n",
       "2                -0.2225                 -0.8486                  0.5290   \n",
       "3                -0.2225                  0.2013                  0.9795   \n",
       "4                -0.2225                 -0.0000                  1.0000   \n",
       "\n",
       "   order_month_sin  order_month_cos  is_international_delivery  \n",
       "0          -0.0000           1.0000                          1  \n",
       "1          -0.8660           0.5000                          1  \n",
       "2           0.8660          -0.5000                          1  \n",
       "3          -0.5000          -0.8660                          1  \n",
       "4           0.5000          -0.8660                          1  "
      ]
     },
     "metadata": {},
     "output_type": "display_data"
    },
    {
     "data": {
      "text/html": [
       "<div>\n",
       "<style scoped>\n",
       "    .dataframe tbody tr th:only-of-type {\n",
       "        vertical-align: middle;\n",
       "    }\n",
       "\n",
       "    .dataframe tbody tr th {\n",
       "        vertical-align: top;\n",
       "    }\n",
       "\n",
       "    .dataframe thead th {\n",
       "        text-align: right;\n",
       "    }\n",
       "</style>\n",
       "<table border=\"1\" class=\"dataframe\">\n",
       "  <thead>\n",
       "    <tr style=\"text-align: right;\">\n",
       "      <th></th>\n",
       "      <th>is_interregional_delivery</th>\n",
       "      <th>is_intercity_delivery</th>\n",
       "      <th>missing_city_info</th>\n",
       "      <th>items_per_order</th>\n",
       "      <th>kw_emb_0</th>\n",
       "      <th>kw_emb_1</th>\n",
       "    </tr>\n",
       "  </thead>\n",
       "  <tbody>\n",
       "    <tr>\n",
       "      <th>0</th>\n",
       "      <td>1</td>\n",
       "      <td>1</td>\n",
       "      <td>0</td>\n",
       "      <td>6</td>\n",
       "      <td>0.0021</td>\n",
       "      <td>-0.0084</td>\n",
       "    </tr>\n",
       "    <tr>\n",
       "      <th>1</th>\n",
       "      <td>1</td>\n",
       "      <td>1</td>\n",
       "      <td>0</td>\n",
       "      <td>2</td>\n",
       "      <td>-0.0000</td>\n",
       "      <td>-0.0000</td>\n",
       "    </tr>\n",
       "    <tr>\n",
       "      <th>2</th>\n",
       "      <td>1</td>\n",
       "      <td>1</td>\n",
       "      <td>0</td>\n",
       "      <td>1</td>\n",
       "      <td>0.0000</td>\n",
       "      <td>0.0000</td>\n",
       "    </tr>\n",
       "    <tr>\n",
       "      <th>3</th>\n",
       "      <td>1</td>\n",
       "      <td>1</td>\n",
       "      <td>0</td>\n",
       "      <td>1</td>\n",
       "      <td>0.0000</td>\n",
       "      <td>0.0000</td>\n",
       "    </tr>\n",
       "    <tr>\n",
       "      <th>4</th>\n",
       "      <td>1</td>\n",
       "      <td>1</td>\n",
       "      <td>0</td>\n",
       "      <td>1</td>\n",
       "      <td>0.0000</td>\n",
       "      <td>0.0000</td>\n",
       "    </tr>\n",
       "  </tbody>\n",
       "</table>\n",
       "</div>"
      ],
      "text/plain": [
       "   is_interregional_delivery  is_intercity_delivery  missing_city_info  \\\n",
       "0                          1                      1                  0   \n",
       "1                          1                      1                  0   \n",
       "2                          1                      1                  0   \n",
       "3                          1                      1                  0   \n",
       "4                          1                      1                  0   \n",
       "\n",
       "   items_per_order  kw_emb_0  kw_emb_1  \n",
       "0                6    0.0021   -0.0084  \n",
       "1                2   -0.0000   -0.0000  \n",
       "2                1    0.0000    0.0000  \n",
       "3                1    0.0000    0.0000  \n",
       "4                1    0.0000    0.0000  "
      ]
     },
     "metadata": {},
     "output_type": "display_data"
    },
    {
     "data": {
      "text/html": [
       "<div>\n",
       "<style scoped>\n",
       "    .dataframe tbody tr th:only-of-type {\n",
       "        vertical-align: middle;\n",
       "    }\n",
       "\n",
       "    .dataframe tbody tr th {\n",
       "        vertical-align: top;\n",
       "    }\n",
       "\n",
       "    .dataframe thead th {\n",
       "        text-align: right;\n",
       "    }\n",
       "</style>\n",
       "<table border=\"1\" class=\"dataframe\">\n",
       "  <thead>\n",
       "    <tr style=\"text-align: right;\">\n",
       "      <th></th>\n",
       "      <th>kw_emb_2</th>\n",
       "      <th>kw_emb_3</th>\n",
       "      <th>kw_emb_4</th>\n",
       "      <th>kw_emb_5</th>\n",
       "      <th>kw_emb_6</th>\n",
       "      <th>kw_emb_7</th>\n",
       "    </tr>\n",
       "  </thead>\n",
       "  <tbody>\n",
       "    <tr>\n",
       "      <th>0</th>\n",
       "      <td>-0.0023</td>\n",
       "      <td>0.0036</td>\n",
       "      <td>-0.0038</td>\n",
       "      <td>-0.0075</td>\n",
       "      <td>0.0391</td>\n",
       "      <td>0.0092</td>\n",
       "    </tr>\n",
       "    <tr>\n",
       "      <th>1</th>\n",
       "      <td>0.0000</td>\n",
       "      <td>-0.0000</td>\n",
       "      <td>0.0000</td>\n",
       "      <td>-0.0000</td>\n",
       "      <td>0.0000</td>\n",
       "      <td>0.0000</td>\n",
       "    </tr>\n",
       "    <tr>\n",
       "      <th>2</th>\n",
       "      <td>0.0000</td>\n",
       "      <td>0.0000</td>\n",
       "      <td>0.0000</td>\n",
       "      <td>0.0000</td>\n",
       "      <td>0.0000</td>\n",
       "      <td>0.0000</td>\n",
       "    </tr>\n",
       "    <tr>\n",
       "      <th>3</th>\n",
       "      <td>0.0000</td>\n",
       "      <td>0.0000</td>\n",
       "      <td>0.0000</td>\n",
       "      <td>0.0000</td>\n",
       "      <td>0.0000</td>\n",
       "      <td>0.0000</td>\n",
       "    </tr>\n",
       "    <tr>\n",
       "      <th>4</th>\n",
       "      <td>0.0000</td>\n",
       "      <td>0.0000</td>\n",
       "      <td>0.0000</td>\n",
       "      <td>0.0000</td>\n",
       "      <td>0.0000</td>\n",
       "      <td>0.0000</td>\n",
       "    </tr>\n",
       "  </tbody>\n",
       "</table>\n",
       "</div>"
      ],
      "text/plain": [
       "   kw_emb_2  kw_emb_3  kw_emb_4  kw_emb_5  kw_emb_6  kw_emb_7\n",
       "0   -0.0023    0.0036   -0.0038   -0.0075    0.0391    0.0092\n",
       "1    0.0000   -0.0000    0.0000   -0.0000    0.0000    0.0000\n",
       "2    0.0000    0.0000    0.0000    0.0000    0.0000    0.0000\n",
       "3    0.0000    0.0000    0.0000    0.0000    0.0000    0.0000\n",
       "4    0.0000    0.0000    0.0000    0.0000    0.0000    0.0000"
      ]
     },
     "metadata": {},
     "output_type": "display_data"
    },
    {
     "data": {
      "text/html": [
       "<div>\n",
       "<style scoped>\n",
       "    .dataframe tbody tr th:only-of-type {\n",
       "        vertical-align: middle;\n",
       "    }\n",
       "\n",
       "    .dataframe tbody tr th {\n",
       "        vertical-align: top;\n",
       "    }\n",
       "\n",
       "    .dataframe thead th {\n",
       "        text-align: right;\n",
       "    }\n",
       "</style>\n",
       "<table border=\"1\" class=\"dataframe\">\n",
       "  <thead>\n",
       "    <tr style=\"text-align: right;\">\n",
       "      <th></th>\n",
       "      <th>kw_emb_8</th>\n",
       "      <th>kw_emb_9</th>\n",
       "      <th>kw_emb_10</th>\n",
       "      <th>kw_emb_11</th>\n",
       "      <th>kw_emb_12</th>\n",
       "      <th>kw_emb_13</th>\n",
       "    </tr>\n",
       "  </thead>\n",
       "  <tbody>\n",
       "    <tr>\n",
       "      <th>0</th>\n",
       "      <td>-0.0193</td>\n",
       "      <td>-0.0117</td>\n",
       "      <td>-0.0420</td>\n",
       "      <td>-0.0135</td>\n",
       "      <td>-0.0163</td>\n",
       "      <td>-0.0000</td>\n",
       "    </tr>\n",
       "    <tr>\n",
       "      <th>1</th>\n",
       "      <td>-0.0000</td>\n",
       "      <td>0.0000</td>\n",
       "      <td>0.0000</td>\n",
       "      <td>0.0000</td>\n",
       "      <td>-0.0000</td>\n",
       "      <td>1.0000</td>\n",
       "    </tr>\n",
       "    <tr>\n",
       "      <th>2</th>\n",
       "      <td>0.0000</td>\n",
       "      <td>0.0000</td>\n",
       "      <td>0.0000</td>\n",
       "      <td>0.0000</td>\n",
       "      <td>0.0000</td>\n",
       "      <td>0.0000</td>\n",
       "    </tr>\n",
       "    <tr>\n",
       "      <th>3</th>\n",
       "      <td>0.0000</td>\n",
       "      <td>0.0000</td>\n",
       "      <td>0.0000</td>\n",
       "      <td>0.0000</td>\n",
       "      <td>0.0000</td>\n",
       "      <td>0.0000</td>\n",
       "    </tr>\n",
       "    <tr>\n",
       "      <th>4</th>\n",
       "      <td>0.0000</td>\n",
       "      <td>0.0000</td>\n",
       "      <td>0.0000</td>\n",
       "      <td>0.0000</td>\n",
       "      <td>0.0000</td>\n",
       "      <td>0.0000</td>\n",
       "    </tr>\n",
       "  </tbody>\n",
       "</table>\n",
       "</div>"
      ],
      "text/plain": [
       "   kw_emb_8  kw_emb_9  kw_emb_10  kw_emb_11  kw_emb_12  kw_emb_13\n",
       "0   -0.0193   -0.0117    -0.0420    -0.0135    -0.0163    -0.0000\n",
       "1   -0.0000    0.0000     0.0000     0.0000    -0.0000     1.0000\n",
       "2    0.0000    0.0000     0.0000     0.0000     0.0000     0.0000\n",
       "3    0.0000    0.0000     0.0000     0.0000     0.0000     0.0000\n",
       "4    0.0000    0.0000     0.0000     0.0000     0.0000     0.0000"
      ]
     },
     "metadata": {},
     "output_type": "display_data"
    },
    {
     "data": {
      "text/html": [
       "<div>\n",
       "<style scoped>\n",
       "    .dataframe tbody tr th:only-of-type {\n",
       "        vertical-align: middle;\n",
       "    }\n",
       "\n",
       "    .dataframe tbody tr th {\n",
       "        vertical-align: top;\n",
       "    }\n",
       "\n",
       "    .dataframe thead th {\n",
       "        text-align: right;\n",
       "    }\n",
       "</style>\n",
       "<table border=\"1\" class=\"dataframe\">\n",
       "  <thead>\n",
       "    <tr style=\"text-align: right;\">\n",
       "      <th></th>\n",
       "      <th>kw_emb_14</th>\n",
       "      <th>kw_emb_15</th>\n",
       "      <th>kw_emb_16</th>\n",
       "      <th>kw_emb_17</th>\n",
       "      <th>kw_emb_18</th>\n",
       "      <th>kw_emb_19</th>\n",
       "    </tr>\n",
       "  </thead>\n",
       "  <tbody>\n",
       "    <tr>\n",
       "      <th>0</th>\n",
       "      <td>-0.0092</td>\n",
       "      <td>0.0056</td>\n",
       "      <td>0.0321</td>\n",
       "      <td>0.1259</td>\n",
       "      <td>0.0251</td>\n",
       "      <td>-0.0000</td>\n",
       "    </tr>\n",
       "    <tr>\n",
       "      <th>1</th>\n",
       "      <td>-0.0000</td>\n",
       "      <td>-0.0000</td>\n",
       "      <td>0.0000</td>\n",
       "      <td>-0.0000</td>\n",
       "      <td>0.0000</td>\n",
       "      <td>0.0000</td>\n",
       "    </tr>\n",
       "    <tr>\n",
       "      <th>2</th>\n",
       "      <td>0.0000</td>\n",
       "      <td>0.0000</td>\n",
       "      <td>0.0000</td>\n",
       "      <td>0.0000</td>\n",
       "      <td>0.0000</td>\n",
       "      <td>0.0000</td>\n",
       "    </tr>\n",
       "    <tr>\n",
       "      <th>3</th>\n",
       "      <td>0.0000</td>\n",
       "      <td>0.0000</td>\n",
       "      <td>0.0000</td>\n",
       "      <td>0.0000</td>\n",
       "      <td>0.0000</td>\n",
       "      <td>0.0000</td>\n",
       "    </tr>\n",
       "    <tr>\n",
       "      <th>4</th>\n",
       "      <td>0.0000</td>\n",
       "      <td>0.0000</td>\n",
       "      <td>0.0000</td>\n",
       "      <td>0.0000</td>\n",
       "      <td>0.0000</td>\n",
       "      <td>0.0000</td>\n",
       "    </tr>\n",
       "  </tbody>\n",
       "</table>\n",
       "</div>"
      ],
      "text/plain": [
       "   kw_emb_14  kw_emb_15  kw_emb_16  kw_emb_17  kw_emb_18  kw_emb_19\n",
       "0    -0.0092     0.0056     0.0321     0.1259     0.0251    -0.0000\n",
       "1    -0.0000    -0.0000     0.0000    -0.0000     0.0000     0.0000\n",
       "2     0.0000     0.0000     0.0000     0.0000     0.0000     0.0000\n",
       "3     0.0000     0.0000     0.0000     0.0000     0.0000     0.0000\n",
       "4     0.0000     0.0000     0.0000     0.0000     0.0000     0.0000"
      ]
     },
     "metadata": {},
     "output_type": "display_data"
    },
    {
     "data": {
      "text/html": [
       "<div>\n",
       "<style scoped>\n",
       "    .dataframe tbody tr th:only-of-type {\n",
       "        vertical-align: middle;\n",
       "    }\n",
       "\n",
       "    .dataframe tbody tr th {\n",
       "        vertical-align: top;\n",
       "    }\n",
       "\n",
       "    .dataframe thead th {\n",
       "        text-align: right;\n",
       "    }\n",
       "</style>\n",
       "<table border=\"1\" class=\"dataframe\">\n",
       "  <thead>\n",
       "    <tr style=\"text-align: right;\">\n",
       "      <th></th>\n",
       "      <th>kw_emb_20</th>\n",
       "      <th>kw_emb_21</th>\n",
       "      <th>kw_emb_22</th>\n",
       "      <th>kw_emb_23</th>\n",
       "      <th>kw_emb_24</th>\n",
       "      <th>kw_emb_25</th>\n",
       "    </tr>\n",
       "  </thead>\n",
       "  <tbody>\n",
       "    <tr>\n",
       "      <th>0</th>\n",
       "      <td>-0.0005</td>\n",
       "      <td>0.0417</td>\n",
       "      <td>0.0658</td>\n",
       "      <td>-0.1515</td>\n",
       "      <td>0.1104</td>\n",
       "      <td>-0.0545</td>\n",
       "    </tr>\n",
       "    <tr>\n",
       "      <th>1</th>\n",
       "      <td>0.0000</td>\n",
       "      <td>0.0000</td>\n",
       "      <td>-0.0000</td>\n",
       "      <td>0.0000</td>\n",
       "      <td>0.0000</td>\n",
       "      <td>0.0000</td>\n",
       "    </tr>\n",
       "    <tr>\n",
       "      <th>2</th>\n",
       "      <td>0.0000</td>\n",
       "      <td>0.0000</td>\n",
       "      <td>0.0000</td>\n",
       "      <td>0.0000</td>\n",
       "      <td>0.0000</td>\n",
       "      <td>0.0000</td>\n",
       "    </tr>\n",
       "    <tr>\n",
       "      <th>3</th>\n",
       "      <td>0.0000</td>\n",
       "      <td>0.0000</td>\n",
       "      <td>0.0000</td>\n",
       "      <td>0.0000</td>\n",
       "      <td>0.0000</td>\n",
       "      <td>0.0000</td>\n",
       "    </tr>\n",
       "    <tr>\n",
       "      <th>4</th>\n",
       "      <td>0.0000</td>\n",
       "      <td>0.0000</td>\n",
       "      <td>0.0000</td>\n",
       "      <td>0.0000</td>\n",
       "      <td>0.0000</td>\n",
       "      <td>0.0000</td>\n",
       "    </tr>\n",
       "  </tbody>\n",
       "</table>\n",
       "</div>"
      ],
      "text/plain": [
       "   kw_emb_20  kw_emb_21  kw_emb_22  kw_emb_23  kw_emb_24  kw_emb_25\n",
       "0    -0.0005     0.0417     0.0658    -0.1515     0.1104    -0.0545\n",
       "1     0.0000     0.0000    -0.0000     0.0000     0.0000     0.0000\n",
       "2     0.0000     0.0000     0.0000     0.0000     0.0000     0.0000\n",
       "3     0.0000     0.0000     0.0000     0.0000     0.0000     0.0000\n",
       "4     0.0000     0.0000     0.0000     0.0000     0.0000     0.0000"
      ]
     },
     "metadata": {},
     "output_type": "display_data"
    },
    {
     "data": {
      "text/html": [
       "<div>\n",
       "<style scoped>\n",
       "    .dataframe tbody tr th:only-of-type {\n",
       "        vertical-align: middle;\n",
       "    }\n",
       "\n",
       "    .dataframe tbody tr th {\n",
       "        vertical-align: top;\n",
       "    }\n",
       "\n",
       "    .dataframe thead th {\n",
       "        text-align: right;\n",
       "    }\n",
       "</style>\n",
       "<table border=\"1\" class=\"dataframe\">\n",
       "  <thead>\n",
       "    <tr style=\"text-align: right;\">\n",
       "      <th></th>\n",
       "      <th>kw_emb_26</th>\n",
       "      <th>kw_emb_27</th>\n",
       "      <th>kw_emb_28</th>\n",
       "      <th>kw_emb_29</th>\n",
       "      <th>kw_emb_30</th>\n",
       "      <th>kw_emb_31</th>\n",
       "    </tr>\n",
       "  </thead>\n",
       "  <tbody>\n",
       "    <tr>\n",
       "      <th>0</th>\n",
       "      <td>0.7067</td>\n",
       "      <td>0.0448</td>\n",
       "      <td>0.0067</td>\n",
       "      <td>-0.0361</td>\n",
       "      <td>0.0860</td>\n",
       "      <td>-0.0006</td>\n",
       "    </tr>\n",
       "    <tr>\n",
       "      <th>1</th>\n",
       "      <td>0.0000</td>\n",
       "      <td>-0.0000</td>\n",
       "      <td>-0.0000</td>\n",
       "      <td>-0.0000</td>\n",
       "      <td>0.0000</td>\n",
       "      <td>-0.0000</td>\n",
       "    </tr>\n",
       "    <tr>\n",
       "      <th>2</th>\n",
       "      <td>0.0000</td>\n",
       "      <td>0.0000</td>\n",
       "      <td>0.0000</td>\n",
       "      <td>0.0000</td>\n",
       "      <td>0.0000</td>\n",
       "      <td>0.0000</td>\n",
       "    </tr>\n",
       "    <tr>\n",
       "      <th>3</th>\n",
       "      <td>0.0000</td>\n",
       "      <td>0.0000</td>\n",
       "      <td>0.0000</td>\n",
       "      <td>0.0000</td>\n",
       "      <td>0.0000</td>\n",
       "      <td>0.0000</td>\n",
       "    </tr>\n",
       "    <tr>\n",
       "      <th>4</th>\n",
       "      <td>0.0000</td>\n",
       "      <td>0.0000</td>\n",
       "      <td>0.0000</td>\n",
       "      <td>0.0000</td>\n",
       "      <td>0.0000</td>\n",
       "      <td>0.0000</td>\n",
       "    </tr>\n",
       "  </tbody>\n",
       "</table>\n",
       "</div>"
      ],
      "text/plain": [
       "   kw_emb_26  kw_emb_27  kw_emb_28  kw_emb_29  kw_emb_30  kw_emb_31\n",
       "0     0.7067     0.0448     0.0067    -0.0361     0.0860    -0.0006\n",
       "1     0.0000    -0.0000    -0.0000    -0.0000     0.0000    -0.0000\n",
       "2     0.0000     0.0000     0.0000     0.0000     0.0000     0.0000\n",
       "3     0.0000     0.0000     0.0000     0.0000     0.0000     0.0000\n",
       "4     0.0000     0.0000     0.0000     0.0000     0.0000     0.0000"
      ]
     },
     "metadata": {},
     "output_type": "display_data"
    },
    {
     "data": {
      "text/html": [
       "<div>\n",
       "<style scoped>\n",
       "    .dataframe tbody tr th:only-of-type {\n",
       "        vertical-align: middle;\n",
       "    }\n",
       "\n",
       "    .dataframe tbody tr th {\n",
       "        vertical-align: top;\n",
       "    }\n",
       "\n",
       "    .dataframe thead th {\n",
       "        text-align: right;\n",
       "    }\n",
       "</style>\n",
       "<table border=\"1\" class=\"dataframe\">\n",
       "  <thead>\n",
       "    <tr style=\"text-align: right;\">\n",
       "      <th></th>\n",
       "      <th>kw_emb_32</th>\n",
       "      <th>kw_emb_33</th>\n",
       "      <th>kw_emb_34</th>\n",
       "      <th>kw_emb_35</th>\n",
       "    </tr>\n",
       "  </thead>\n",
       "  <tbody>\n",
       "    <tr>\n",
       "      <th>0</th>\n",
       "      <td>0.0657</td>\n",
       "      <td>-0.0191</td>\n",
       "      <td>-0.0244</td>\n",
       "      <td>0.0457</td>\n",
       "    </tr>\n",
       "    <tr>\n",
       "      <th>1</th>\n",
       "      <td>0.0000</td>\n",
       "      <td>-0.0000</td>\n",
       "      <td>0.0000</td>\n",
       "      <td>0.0000</td>\n",
       "    </tr>\n",
       "    <tr>\n",
       "      <th>2</th>\n",
       "      <td>0.0000</td>\n",
       "      <td>0.0000</td>\n",
       "      <td>0.0000</td>\n",
       "      <td>0.0000</td>\n",
       "    </tr>\n",
       "    <tr>\n",
       "      <th>3</th>\n",
       "      <td>0.0000</td>\n",
       "      <td>0.0000</td>\n",
       "      <td>0.0000</td>\n",
       "      <td>0.0000</td>\n",
       "    </tr>\n",
       "    <tr>\n",
       "      <th>4</th>\n",
       "      <td>0.0000</td>\n",
       "      <td>0.0000</td>\n",
       "      <td>0.0000</td>\n",
       "      <td>0.0000</td>\n",
       "    </tr>\n",
       "  </tbody>\n",
       "</table>\n",
       "</div>"
      ],
      "text/plain": [
       "   kw_emb_32  kw_emb_33  kw_emb_34  kw_emb_35\n",
       "0     0.0657    -0.0191    -0.0244     0.0457\n",
       "1     0.0000    -0.0000     0.0000     0.0000\n",
       "2     0.0000     0.0000     0.0000     0.0000\n",
       "3     0.0000     0.0000     0.0000     0.0000\n",
       "4     0.0000     0.0000     0.0000     0.0000"
      ]
     },
     "metadata": {},
     "output_type": "display_data"
    }
   ],
   "source": [
    "# подготавливаем фичи к обучению\n",
    "preprocessor_pipeline = Pipeline([('preprocessor', preprocessor)])\n",
    "preprocessor_catboost_pipeline = Pipeline([('preprocessor', preprocessor_catboost)])\n",
    "\n",
    "X_train_preprocessed = preprocessor_pipeline.fit_transform(X_train, y_train)\n",
    "X_train_catboost_preprocessed = preprocessor_catboost_pipeline.fit_transform(X_train, y_train)\n",
    "\n",
    "X_test_preprocessed = preprocessor_pipeline.transform(df_test)\n",
    "X_test_preprocessed = X_test_preprocessed[X_train_preprocessed.columns]\n",
    "\n",
    "# Нужно для обучения регрессора при использовании ZeroInflated подхода \n",
    "mask_nonzero = y_train != 0\n",
    "X_train_preprocessed_nonzero = X_train_preprocessed[mask_nonzero]\n",
    "y_train_nonzero = y_train[mask_nonzero]\n",
    "\n",
    "X_train_preprocessed.info()\n",
    "display_cols(X_train_preprocessed, 6, 5)"
   ]
  },
  {
   "cell_type": "markdown",
   "id": "88838737",
   "metadata": {},
   "source": [
    "## Обучение моделей"
   ]
  },
  {
   "cell_type": "code",
   "execution_count": 24,
   "id": "32d920c0",
   "metadata": {},
   "outputs": [],
   "source": [
    "# создаём объект для кросс валидации\n",
    "cv = KFold(n_splits=3, random_state=SEED, shuffle=True)"
   ]
  },
  {
   "cell_type": "code",
   "execution_count": null,
   "id": "6b71aacf",
   "metadata": {},
   "outputs": [],
   "source": [
    "# переменные для сохранения данных по моделям\n",
    "results = pd.DataFrame(columns=['Model', 'RMSE'])\n",
    "best_params = {}"
   ]
  },
  {
   "cell_type": "code",
   "execution_count": null,
   "id": "2adcdc24",
   "metadata": {},
   "outputs": [],
   "source": [
    "# Функции для анализа и построения графиков Optuna\n",
    "\n",
    "def plot_optuna_results(model_name: str, optuna_obj: OptunaSearchCV, greater_is_better: bool = True, metric_name: str = None):\n",
    "    '''\n",
    "    Построение графиков результатов Optuna: история, распределение, важность параметров\n",
    "    params:\n",
    "        model_name: str\n",
    "            Имя модели\n",
    "        optuna_obj: OptunaSearchCV\n",
    "            Объект OptunaSearchCV\n",
    "        greater_is_better: bool\n",
    "            Большее значение метрики лучше?\n",
    "        metric_name: str\n",
    "            Отображаемое имя метрики (по умолчанию F1 или RMSE в зависимости от параметра greater_is_better)\n",
    "    '''\n",
    "    study = optuna_obj.study_\n",
    "    completed = [t for t in study.trials if t.state == optuna.trial.TrialState.COMPLETE]\n",
    "    if not completed:\n",
    "        print(\"Нет завершённых trials для построения графиков\")\n",
    "        return\n",
    "    \n",
    "    records = []\n",
    "    for t in completed:\n",
    "        raw = t.value\n",
    "        display = raw if greater_is_better else -raw\n",
    "        records.append({\"trial\": t, \"raw\": raw, \"display\": display})\n",
    "\n",
    "    trial_numbers = [r[\"trial\"].number for r in records]\n",
    "    display_values = [r[\"display\"] for r in records]\n",
    "\n",
    "    if metric_name is None:\n",
    "        metric_name = \"F1\" if greater_is_better else \"RMSE\"\n",
    "\n",
    "    try:\n",
    "        param_importance = optuna.importance.get_param_importances(study) or {}\n",
    "    except Exception:\n",
    "        param_importance = {}\n",
    "  \n",
    "    # Создаём сетку под графики\n",
    "    fig = make_subplots(\n",
    "        rows=2, cols=2,\n",
    "        subplot_titles=(f'История оптимизации', f'Распределение {metric_name}', 'Важность параметров', f'Лучшие 10 результатов'),\n",
    "        specs=[\n",
    "            [{'secondary_y': False}, {'secondary_y': False}],\n",
    "            [{'secondary_y': False}, {'type': 'table'}]\n",
    "        ],\n",
    "        horizontal_spacing=0.08,\n",
    "        vertical_spacing=0.12    \n",
    "    )\n",
    "\n",
    "    # 1. История и лучший\n",
    "    fig.add_trace(\n",
    "        go.Scatter(x=trial_numbers, y=display_values, mode='markers', name='Trial', opacity=0.7), \n",
    "        row=1, col=1)\n",
    "    \n",
    "    best_so_far = []\n",
    "    if greater_is_better:\n",
    "        cur_best = -float(\"inf\")\n",
    "        for v in display_values:\n",
    "            if v > cur_best:\n",
    "                cur_best = v\n",
    "            best_so_far.append(cur_best)\n",
    "    else:\n",
    "        cur_best = float(\"inf\")\n",
    "        for v in display_values:\n",
    "            if v < cur_best:\n",
    "                cur_best = v\n",
    "            best_so_far.append(cur_best)\n",
    "\n",
    "    fig.add_trace(\n",
    "        go.Scatter(x=trial_numbers, y=best_so_far, mode='lines', name=f'Best {metric_name}', line=dict(color='red', width=3)), \n",
    "        row=1, col=1)\n",
    "    \n",
    "    # 2. Распределение\n",
    "    fig.add_trace(\n",
    "        go.Histogram(x=display_values, nbinsx=20, name=f'Распределение {metric_name}', opacity=0.75), \n",
    "        row=1, col=2)\n",
    "    \n",
    "    # 3. Важность параметров\n",
    "\n",
    "    if param_importance:\n",
    "        fig.add_trace(\n",
    "            go.Bar(x=list(param_importance.values()), y=[k.replace('model__','') for k in param_importance.keys()],\n",
    "                    orientation='h', marker_color='lightgreen', name='Важность'),\n",
    "            row=2, col=1)\n",
    "    else:\n",
    "        fig.add_trace(go.Scatter(x=[None], y=[None], mode=\"markers\", showlegend=False),row=2, col=1)\n",
    "    \n",
    "    # 4. Топ 10 лучших trial\n",
    "\n",
    "    if greater_is_better:\n",
    "        top_sorted = sorted(records, key=lambda r: r['display'], reverse=True)[:10]\n",
    "    else:\n",
    "        top_sorted = sorted(records, key=lambda r: r['display'])[:10]\n",
    "\n",
    "    table_trials = [r['trial'].number for r in top_sorted]\n",
    "    table_vals = [round(r[\"display\"], 6) for r in top_sorted]\n",
    "    \n",
    "    fig.add_trace(\n",
    "        go.Table(\n",
    "            header=dict(values=['Trial', metric_name], fill_color='#222', font_color='white'),\n",
    "            cells=dict(values=[table_trials, table_vals], fill_color='#111', font_color='white')\n",
    "        ),\n",
    "        row=2, col=2\n",
    "    )\n",
    "    \n",
    "\n",
    "    fig.update_layout(height=800, title_text=f'Оптимизация: {model_name} ({metric_name})', template='plotly_dark')\n",
    "    fig.show()\n",
    "\n",
    "    # Параллельные координаты\n",
    "    if param_importance and len(param_importance) > 0 and len(records) > 1:\n",
    "        try:\n",
    "            parallel_fig = optuna.visualization.plot_parallel_coordinate(study, params=list(param_importance.keys())[:8])\n",
    "            \n",
    "            parallel_fig.update_traces(line=dict(\n",
    "                color=display_values,\n",
    "                colorscale='Rainbow',\n",
    "                showscale=True,\n",
    "                reversescale=not greater_is_better,\n",
    "                colorbar=dict(title=metric_name),\n",
    "                ))\n",
    "\n",
    "            parallel_fig.update_layout(height=600, title=f\"Параллельные координаты: {model_name}\", template='plotly_dark')\n",
    "            parallel_fig.show()\n",
    "        except Exception as e:\n",
    "            print(\"Не удалось нарисовать параллельные координаты:\", e)\n",
    "\n",
    "def analyze_optuna(model_name: str, optuna_obj: OptunaSearchCV, results: pd.DataFrame, best_params: dict, n: int):\n",
    "    '''\n",
    "    Вывод лучшего скора и параметров Optuna, построение графиков\n",
    "    params:\n",
    "        model_name: str\n",
    "            Имя модели\n",
    "        optuna_obj: OptunaSearchCV\n",
    "            Объект OptunaSearchCV\n",
    "        results: pd.DataFrame\n",
    "            Датафрейм для сохранения результатов в виде ['Имя модели', метрика] \n",
    "        best_params: dict\n",
    "            Словарь для сохранения словарей с параметрами. ключ это имя модели\n",
    "        n: int\n",
    "            индекс в словаре результатов\n",
    "    '''\n",
    "\n",
    "    print(f'Результаты по {model_name} модели')\n",
    "    print('~' * 79)\n",
    "    best_score = -optuna_obj.cv_results_['mean_test_score'][optuna_obj.best_index_]\n",
    "    best_params = optuna_obj.best_params_\n",
    "    print(f\"Лучший RMSE: {best_score:.4f}\")\n",
    "    print(f\"Лучшие параметры: {best_params}\")\n",
    "    plot_optuna_results(model_name, optuna_obj, greater_is_better=False)\n",
    "\n",
    "    # зафиксировали\n",
    "    results.loc[n] = [model_name, best_score]\n",
    "    best_params[model_name] = best_params"
   ]
  },
  {
   "cell_type": "markdown",
   "id": "2c1c0c5f",
   "metadata": {},
   "source": [
    "### LinearRegression model"
   ]
  },
  {
   "cell_type": "code",
   "execution_count": 125,
   "id": "2da4d6b4",
   "metadata": {},
   "outputs": [
    {
     "name": "stdout",
     "output_type": "stream",
     "text": [
      "LinearRegression\n",
      "~~~~~~~~~~~~~~~~~~~~~~~~~~~~~~~~~~~~~~~~~~~~~~~~~~~~~~~~~~~~~~~~~~~~~~~~~~~~~~~\n",
      "Средний RMSE на кросс-валидации: 46.0243\n"
     ]
    }
   ],
   "source": [
    "lin_model = LinearRegression()\n",
    "\n",
    "lin_rmse = -cross_val_score(\n",
    "    lin_model, \n",
    "    X_train_preprocessed, \n",
    "    y_train,\n",
    "    cv=cv, \n",
    "    scoring='neg_root_mean_squared_error'\n",
    "    ).mean()\n",
    "\n",
    "results.loc[len(results)] = ['LinearRegression', lin_rmse]\n",
    "print('LinearRegression')\n",
    "print('~' * 79)\n",
    "print('Средний RMSE на кросс-валидации:', round(lin_rmse, 4))"
   ]
  },
  {
   "cell_type": "markdown",
   "id": "13783322",
   "metadata": {},
   "source": [
    "### XG Boost model"
   ]
  },
  {
   "cell_type": "code",
   "execution_count": null,
   "id": "9a538b10",
   "metadata": {},
   "outputs": [
    {
     "name": "stderr",
     "output_type": "stream",
     "text": [
      "[I 2025-09-26 19:38:16,235] A new study created in memory with name: no-name-9a7aa62d-3f31-4780-b21d-253944859898\n",
      "[I 2025-09-26 19:42:52,058] Trial 0 finished with value: -36.990537146217406 and parameters: {'n_estimators': 1175, 'max_depth': 14, 'learning_rate': 0.12371698374615214, 'subsample': 0.9221752618562471, 'colsample_bytree': 0.8380119505895964}. Best is trial 0 with value: -36.990537146217406.\n",
      "[I 2025-09-26 19:44:07,776] Trial 1 finished with value: -37.389528314207666 and parameters: {'n_estimators': 1007, 'max_depth': 10, 'learning_rate': 0.13228431108922753, 'subsample': 0.849395295267661, 'colsample_bytree': 0.5083169432081802}. Best is trial 0 with value: -36.990537146217406.\n",
      "[I 2025-09-26 19:46:10,798] Trial 2 finished with value: -37.04155667096518 and parameters: {'n_estimators': 1176, 'max_depth': 11, 'learning_rate': 0.1312262681151124, 'subsample': 0.8853829515398185, 'colsample_bytree': 0.7462562188425411}. Best is trial 0 with value: -36.990537146217406.\n",
      "[I 2025-09-26 19:48:19,015] Trial 3 finished with value: -36.77807326078959 and parameters: {'n_estimators': 1115, 'max_depth': 11, 'learning_rate': 0.09880953387242666, 'subsample': 0.9342921506757803, 'colsample_bytree': 0.8571452102759485}. Best is trial 3 with value: -36.77807326078959.\n",
      "[I 2025-09-26 19:55:38,608] Trial 4 finished with value: -36.69055010449321 and parameters: {'n_estimators': 1068, 'max_depth': 16, 'learning_rate': 0.07952634500871418, 'subsample': 0.9102148455833575, 'colsample_bytree': 0.8300401552525583}. Best is trial 4 with value: -36.69055010449321.\n",
      "[I 2025-09-26 20:04:09,459] Trial 5 finished with value: -36.43388392578753 and parameters: {'n_estimators': 1300, 'max_depth': 15, 'learning_rate': 0.05787947018973545, 'subsample': 0.9697904458344794, 'colsample_bytree': 0.7113488210158083}. Best is trial 5 with value: -36.43388392578753.\n",
      "[I 2025-09-26 20:08:03,123] Trial 6 finished with value: -36.713585327679965 and parameters: {'n_estimators': 1185, 'max_depth': 13, 'learning_rate': 0.09024584631349543, 'subsample': 0.8298696469084915, 'colsample_bytree': 0.7037421950278921}. Best is trial 5 with value: -36.43388392578753.\n",
      "[I 2025-09-26 20:09:48,594] Trial 7 finished with value: -36.94186354357502 and parameters: {'n_estimators': 1395, 'max_depth': 10, 'learning_rate': 0.07065624394153557, 'subsample': 0.8846779032370066, 'colsample_bytree': 0.5699702516992415}. Best is trial 5 with value: -36.43388392578753.\n"
     ]
    }
   ],
   "source": [
    "xgb_model = XGBRegressor(\n",
    "    random_state=SEED,\n",
    "    tree_method='gpu_hist',\n",
    "    predictor='gpu_predictor',\n",
    "    n_jobs=1\n",
    ")\n",
    "\n",
    "xgb_params = {\n",
    "    'n_estimators': dist.IntDistribution(1200, 1600),\n",
    "    'max_depth': dist.IntDistribution(12, 20),\n",
    "    'learning_rate': dist.FloatDistribution(0.01, 0.1),\n",
    "    'subsample': dist.FloatDistribution(0.9, 1.0),\n",
    "    'colsample_bytree': dist.FloatDistribution(0.7, 1.0),\n",
    "}\n",
    "\n",
    "xgb_optuna = OptunaSearchCV(\n",
    "    xgb_model,\n",
    "    xgb_params,\n",
    "    cv=cv,\n",
    "    n_trials=200,\n",
    "    scoring='neg_root_mean_squared_error',\n",
    "    refit=True,\n",
    "    random_state=SEED,\n",
    "    n_jobs=1,\n",
    "    verbose=1,\n",
    "    timeout=1800,\n",
    "    callbacks=[\n",
    "        optuna.study.MaxTrialsCallback(200, states=(optuna.trial.TrialState.COMPLETE,)),\n",
    "    ]\n",
    ")\n",
    "\n",
    "xgb_optuna.fit(X_train_preprocessed, y_train)\n",
    "best_xgb_model = xgb_optuna.best_estimator_"
   ]
  },
  {
   "cell_type": "code",
   "execution_count": 160,
   "id": "5d6dde87",
   "metadata": {},
   "outputs": [
    {
     "name": "stdout",
     "output_type": "stream",
     "text": [
      "Результаты по XGBoost модели\n",
      "~~~~~~~~~~~~~~~~~~~~~~~~~~~~~~~~~~~~~~~~~~~~~~~~~~~~~~~~~~~~~~~~~~~~~~~~~~~~~~~\n",
      "Лучший RMSE: 36.4339\n",
      "Лучшие параметры: {'n_estimators': 1300, 'max_depth': 15, 'learning_rate': 0.05787947018973545, 'subsample': 0.9697904458344794, 'colsample_bytree': 0.7113488210158083}\n"
     ]
    },
    {
     "data": {
      "application/vnd.plotly.v1+json": {
       "config": {
        "plotlyServerURL": "https://plot.ly"
       },
       "data": [
        {
         "mode": "markers",
         "name": "Trial",
         "opacity": 0.7,
         "type": "scatter",
         "x": [
          0,
          1,
          2,
          3,
          4,
          5,
          6,
          7
         ],
         "xaxis": "x",
         "y": [
          36.990537146217406,
          37.389528314207666,
          37.04155667096518,
          36.77807326078959,
          36.69055010449321,
          36.43388392578753,
          36.713585327679965,
          36.94186354357502
         ],
         "yaxis": "y"
        },
        {
         "line": {
          "color": "red",
          "width": 3
         },
         "mode": "lines",
         "name": "Best RMSE",
         "type": "scatter",
         "x": [
          0,
          1,
          2,
          3,
          4,
          5,
          6,
          7
         ],
         "xaxis": "x",
         "y": [
          36.990537146217406,
          36.990537146217406,
          36.990537146217406,
          36.77807326078959,
          36.69055010449321,
          36.43388392578753,
          36.43388392578753,
          36.43388392578753
         ],
         "yaxis": "y"
        },
        {
         "name": "Распределение RMSE",
         "nbinsx": 20,
         "opacity": 0.75,
         "type": "histogram",
         "x": [
          36.990537146217406,
          37.389528314207666,
          37.04155667096518,
          36.77807326078959,
          36.69055010449321,
          36.43388392578753,
          36.713585327679965,
          36.94186354357502
         ],
         "xaxis": "x2",
         "yaxis": "y2"
        },
        {
         "marker": {
          "color": "lightgreen"
         },
         "name": "Важность",
         "orientation": "h",
         "type": "bar",
         "x": [
          0.32872331048923126,
          0.2112931918636711,
          0.1702908807652583,
          0.15545622732982436,
          0.13423638955201497
         ],
         "xaxis": "x3",
         "y": [
          "learning_rate",
          "max_depth",
          "n_estimators",
          "subsample",
          "colsample_bytree"
         ],
         "yaxis": "y3"
        },
        {
         "cells": {
          "fill": {
           "color": "#111"
          },
          "font": {
           "color": "white"
          },
          "values": [
           [
            5,
            4,
            6,
            3,
            7,
            0,
            2,
            1
           ],
           [
            36.433884,
            36.69055,
            36.713585,
            36.778073,
            36.941864,
            36.990537,
            37.041557,
            37.389528
           ]
          ]
         },
         "domain": {
          "x": [
           0.54,
           1
          ],
          "y": [
           0,
           0.44
          ]
         },
         "header": {
          "fill": {
           "color": "#222"
          },
          "font": {
           "color": "white"
          },
          "values": [
           "Trial",
           "RMSE"
          ]
         },
         "type": "table"
        }
       ],
       "layout": {
        "annotations": [
         {
          "font": {
           "size": 16
          },
          "showarrow": false,
          "text": "История оптимизации",
          "x": 0.23,
          "xanchor": "center",
          "xref": "paper",
          "y": 1,
          "yanchor": "bottom",
          "yref": "paper"
         },
         {
          "font": {
           "size": 16
          },
          "showarrow": false,
          "text": "Распределение RMSE",
          "x": 0.77,
          "xanchor": "center",
          "xref": "paper",
          "y": 1,
          "yanchor": "bottom",
          "yref": "paper"
         },
         {
          "font": {
           "size": 16
          },
          "showarrow": false,
          "text": "Важность параметров",
          "x": 0.23,
          "xanchor": "center",
          "xref": "paper",
          "y": 0.44,
          "yanchor": "bottom",
          "yref": "paper"
         },
         {
          "font": {
           "size": 16
          },
          "showarrow": false,
          "text": "Лучшие 10 результатов",
          "x": 0.77,
          "xanchor": "center",
          "xref": "paper",
          "y": 0.44,
          "yanchor": "bottom",
          "yref": "paper"
         }
        ],
        "height": 800,
        "template": {
         "data": {
          "bar": [
           {
            "error_x": {
             "color": "#f2f5fa"
            },
            "error_y": {
             "color": "#f2f5fa"
            },
            "marker": {
             "line": {
              "color": "rgb(17,17,17)",
              "width": 0.5
             },
             "pattern": {
              "fillmode": "overlay",
              "size": 10,
              "solidity": 0.2
             }
            },
            "type": "bar"
           }
          ],
          "barpolar": [
           {
            "marker": {
             "line": {
              "color": "rgb(17,17,17)",
              "width": 0.5
             },
             "pattern": {
              "fillmode": "overlay",
              "size": 10,
              "solidity": 0.2
             }
            },
            "type": "barpolar"
           }
          ],
          "carpet": [
           {
            "aaxis": {
             "endlinecolor": "#A2B1C6",
             "gridcolor": "#506784",
             "linecolor": "#506784",
             "minorgridcolor": "#506784",
             "startlinecolor": "#A2B1C6"
            },
            "baxis": {
             "endlinecolor": "#A2B1C6",
             "gridcolor": "#506784",
             "linecolor": "#506784",
             "minorgridcolor": "#506784",
             "startlinecolor": "#A2B1C6"
            },
            "type": "carpet"
           }
          ],
          "choropleth": [
           {
            "colorbar": {
             "outlinewidth": 0,
             "ticks": ""
            },
            "type": "choropleth"
           }
          ],
          "contour": [
           {
            "colorbar": {
             "outlinewidth": 0,
             "ticks": ""
            },
            "colorscale": [
             [
              0,
              "#0d0887"
             ],
             [
              0.1111111111111111,
              "#46039f"
             ],
             [
              0.2222222222222222,
              "#7201a8"
             ],
             [
              0.3333333333333333,
              "#9c179e"
             ],
             [
              0.4444444444444444,
              "#bd3786"
             ],
             [
              0.5555555555555556,
              "#d8576b"
             ],
             [
              0.6666666666666666,
              "#ed7953"
             ],
             [
              0.7777777777777778,
              "#fb9f3a"
             ],
             [
              0.8888888888888888,
              "#fdca26"
             ],
             [
              1,
              "#f0f921"
             ]
            ],
            "type": "contour"
           }
          ],
          "contourcarpet": [
           {
            "colorbar": {
             "outlinewidth": 0,
             "ticks": ""
            },
            "type": "contourcarpet"
           }
          ],
          "heatmap": [
           {
            "colorbar": {
             "outlinewidth": 0,
             "ticks": ""
            },
            "colorscale": [
             [
              0,
              "#0d0887"
             ],
             [
              0.1111111111111111,
              "#46039f"
             ],
             [
              0.2222222222222222,
              "#7201a8"
             ],
             [
              0.3333333333333333,
              "#9c179e"
             ],
             [
              0.4444444444444444,
              "#bd3786"
             ],
             [
              0.5555555555555556,
              "#d8576b"
             ],
             [
              0.6666666666666666,
              "#ed7953"
             ],
             [
              0.7777777777777778,
              "#fb9f3a"
             ],
             [
              0.8888888888888888,
              "#fdca26"
             ],
             [
              1,
              "#f0f921"
             ]
            ],
            "type": "heatmap"
           }
          ],
          "histogram": [
           {
            "marker": {
             "pattern": {
              "fillmode": "overlay",
              "size": 10,
              "solidity": 0.2
             }
            },
            "type": "histogram"
           }
          ],
          "histogram2d": [
           {
            "colorbar": {
             "outlinewidth": 0,
             "ticks": ""
            },
            "colorscale": [
             [
              0,
              "#0d0887"
             ],
             [
              0.1111111111111111,
              "#46039f"
             ],
             [
              0.2222222222222222,
              "#7201a8"
             ],
             [
              0.3333333333333333,
              "#9c179e"
             ],
             [
              0.4444444444444444,
              "#bd3786"
             ],
             [
              0.5555555555555556,
              "#d8576b"
             ],
             [
              0.6666666666666666,
              "#ed7953"
             ],
             [
              0.7777777777777778,
              "#fb9f3a"
             ],
             [
              0.8888888888888888,
              "#fdca26"
             ],
             [
              1,
              "#f0f921"
             ]
            ],
            "type": "histogram2d"
           }
          ],
          "histogram2dcontour": [
           {
            "colorbar": {
             "outlinewidth": 0,
             "ticks": ""
            },
            "colorscale": [
             [
              0,
              "#0d0887"
             ],
             [
              0.1111111111111111,
              "#46039f"
             ],
             [
              0.2222222222222222,
              "#7201a8"
             ],
             [
              0.3333333333333333,
              "#9c179e"
             ],
             [
              0.4444444444444444,
              "#bd3786"
             ],
             [
              0.5555555555555556,
              "#d8576b"
             ],
             [
              0.6666666666666666,
              "#ed7953"
             ],
             [
              0.7777777777777778,
              "#fb9f3a"
             ],
             [
              0.8888888888888888,
              "#fdca26"
             ],
             [
              1,
              "#f0f921"
             ]
            ],
            "type": "histogram2dcontour"
           }
          ],
          "mesh3d": [
           {
            "colorbar": {
             "outlinewidth": 0,
             "ticks": ""
            },
            "type": "mesh3d"
           }
          ],
          "parcoords": [
           {
            "line": {
             "colorbar": {
              "outlinewidth": 0,
              "ticks": ""
             }
            },
            "type": "parcoords"
           }
          ],
          "pie": [
           {
            "automargin": true,
            "type": "pie"
           }
          ],
          "scatter": [
           {
            "marker": {
             "line": {
              "color": "#283442"
             }
            },
            "type": "scatter"
           }
          ],
          "scatter3d": [
           {
            "line": {
             "colorbar": {
              "outlinewidth": 0,
              "ticks": ""
             }
            },
            "marker": {
             "colorbar": {
              "outlinewidth": 0,
              "ticks": ""
             }
            },
            "type": "scatter3d"
           }
          ],
          "scattercarpet": [
           {
            "marker": {
             "colorbar": {
              "outlinewidth": 0,
              "ticks": ""
             }
            },
            "type": "scattercarpet"
           }
          ],
          "scattergeo": [
           {
            "marker": {
             "colorbar": {
              "outlinewidth": 0,
              "ticks": ""
             }
            },
            "type": "scattergeo"
           }
          ],
          "scattergl": [
           {
            "marker": {
             "line": {
              "color": "#283442"
             }
            },
            "type": "scattergl"
           }
          ],
          "scattermap": [
           {
            "marker": {
             "colorbar": {
              "outlinewidth": 0,
              "ticks": ""
             }
            },
            "type": "scattermap"
           }
          ],
          "scattermapbox": [
           {
            "marker": {
             "colorbar": {
              "outlinewidth": 0,
              "ticks": ""
             }
            },
            "type": "scattermapbox"
           }
          ],
          "scatterpolar": [
           {
            "marker": {
             "colorbar": {
              "outlinewidth": 0,
              "ticks": ""
             }
            },
            "type": "scatterpolar"
           }
          ],
          "scatterpolargl": [
           {
            "marker": {
             "colorbar": {
              "outlinewidth": 0,
              "ticks": ""
             }
            },
            "type": "scatterpolargl"
           }
          ],
          "scatterternary": [
           {
            "marker": {
             "colorbar": {
              "outlinewidth": 0,
              "ticks": ""
             }
            },
            "type": "scatterternary"
           }
          ],
          "surface": [
           {
            "colorbar": {
             "outlinewidth": 0,
             "ticks": ""
            },
            "colorscale": [
             [
              0,
              "#0d0887"
             ],
             [
              0.1111111111111111,
              "#46039f"
             ],
             [
              0.2222222222222222,
              "#7201a8"
             ],
             [
              0.3333333333333333,
              "#9c179e"
             ],
             [
              0.4444444444444444,
              "#bd3786"
             ],
             [
              0.5555555555555556,
              "#d8576b"
             ],
             [
              0.6666666666666666,
              "#ed7953"
             ],
             [
              0.7777777777777778,
              "#fb9f3a"
             ],
             [
              0.8888888888888888,
              "#fdca26"
             ],
             [
              1,
              "#f0f921"
             ]
            ],
            "type": "surface"
           }
          ],
          "table": [
           {
            "cells": {
             "fill": {
              "color": "#506784"
             },
             "line": {
              "color": "rgb(17,17,17)"
             }
            },
            "header": {
             "fill": {
              "color": "#2a3f5f"
             },
             "line": {
              "color": "rgb(17,17,17)"
             }
            },
            "type": "table"
           }
          ]
         },
         "layout": {
          "annotationdefaults": {
           "arrowcolor": "#f2f5fa",
           "arrowhead": 0,
           "arrowwidth": 1
          },
          "autotypenumbers": "strict",
          "coloraxis": {
           "colorbar": {
            "outlinewidth": 0,
            "ticks": ""
           }
          },
          "colorscale": {
           "diverging": [
            [
             0,
             "#8e0152"
            ],
            [
             0.1,
             "#c51b7d"
            ],
            [
             0.2,
             "#de77ae"
            ],
            [
             0.3,
             "#f1b6da"
            ],
            [
             0.4,
             "#fde0ef"
            ],
            [
             0.5,
             "#f7f7f7"
            ],
            [
             0.6,
             "#e6f5d0"
            ],
            [
             0.7,
             "#b8e186"
            ],
            [
             0.8,
             "#7fbc41"
            ],
            [
             0.9,
             "#4d9221"
            ],
            [
             1,
             "#276419"
            ]
           ],
           "sequential": [
            [
             0,
             "#0d0887"
            ],
            [
             0.1111111111111111,
             "#46039f"
            ],
            [
             0.2222222222222222,
             "#7201a8"
            ],
            [
             0.3333333333333333,
             "#9c179e"
            ],
            [
             0.4444444444444444,
             "#bd3786"
            ],
            [
             0.5555555555555556,
             "#d8576b"
            ],
            [
             0.6666666666666666,
             "#ed7953"
            ],
            [
             0.7777777777777778,
             "#fb9f3a"
            ],
            [
             0.8888888888888888,
             "#fdca26"
            ],
            [
             1,
             "#f0f921"
            ]
           ],
           "sequentialminus": [
            [
             0,
             "#0d0887"
            ],
            [
             0.1111111111111111,
             "#46039f"
            ],
            [
             0.2222222222222222,
             "#7201a8"
            ],
            [
             0.3333333333333333,
             "#9c179e"
            ],
            [
             0.4444444444444444,
             "#bd3786"
            ],
            [
             0.5555555555555556,
             "#d8576b"
            ],
            [
             0.6666666666666666,
             "#ed7953"
            ],
            [
             0.7777777777777778,
             "#fb9f3a"
            ],
            [
             0.8888888888888888,
             "#fdca26"
            ],
            [
             1,
             "#f0f921"
            ]
           ]
          },
          "colorway": [
           "#636efa",
           "#EF553B",
           "#00cc96",
           "#ab63fa",
           "#FFA15A",
           "#19d3f3",
           "#FF6692",
           "#B6E880",
           "#FF97FF",
           "#FECB52"
          ],
          "font": {
           "color": "#f2f5fa"
          },
          "geo": {
           "bgcolor": "rgb(17,17,17)",
           "lakecolor": "rgb(17,17,17)",
           "landcolor": "rgb(17,17,17)",
           "showlakes": true,
           "showland": true,
           "subunitcolor": "#506784"
          },
          "hoverlabel": {
           "align": "left"
          },
          "hovermode": "closest",
          "mapbox": {
           "style": "dark"
          },
          "paper_bgcolor": "rgb(17,17,17)",
          "plot_bgcolor": "rgb(17,17,17)",
          "polar": {
           "angularaxis": {
            "gridcolor": "#506784",
            "linecolor": "#506784",
            "ticks": ""
           },
           "bgcolor": "rgb(17,17,17)",
           "radialaxis": {
            "gridcolor": "#506784",
            "linecolor": "#506784",
            "ticks": ""
           }
          },
          "scene": {
           "xaxis": {
            "backgroundcolor": "rgb(17,17,17)",
            "gridcolor": "#506784",
            "gridwidth": 2,
            "linecolor": "#506784",
            "showbackground": true,
            "ticks": "",
            "zerolinecolor": "#C8D4E3"
           },
           "yaxis": {
            "backgroundcolor": "rgb(17,17,17)",
            "gridcolor": "#506784",
            "gridwidth": 2,
            "linecolor": "#506784",
            "showbackground": true,
            "ticks": "",
            "zerolinecolor": "#C8D4E3"
           },
           "zaxis": {
            "backgroundcolor": "rgb(17,17,17)",
            "gridcolor": "#506784",
            "gridwidth": 2,
            "linecolor": "#506784",
            "showbackground": true,
            "ticks": "",
            "zerolinecolor": "#C8D4E3"
           }
          },
          "shapedefaults": {
           "line": {
            "color": "#f2f5fa"
           }
          },
          "sliderdefaults": {
           "bgcolor": "#C8D4E3",
           "bordercolor": "rgb(17,17,17)",
           "borderwidth": 1,
           "tickwidth": 0
          },
          "ternary": {
           "aaxis": {
            "gridcolor": "#506784",
            "linecolor": "#506784",
            "ticks": ""
           },
           "baxis": {
            "gridcolor": "#506784",
            "linecolor": "#506784",
            "ticks": ""
           },
           "bgcolor": "rgb(17,17,17)",
           "caxis": {
            "gridcolor": "#506784",
            "linecolor": "#506784",
            "ticks": ""
           }
          },
          "title": {
           "x": 0.05
          },
          "updatemenudefaults": {
           "bgcolor": "#506784",
           "borderwidth": 0
          },
          "xaxis": {
           "automargin": true,
           "gridcolor": "#283442",
           "linecolor": "#506784",
           "ticks": "",
           "title": {
            "standoff": 15
           },
           "zerolinecolor": "#283442",
           "zerolinewidth": 2
          },
          "yaxis": {
           "automargin": true,
           "gridcolor": "#283442",
           "linecolor": "#506784",
           "ticks": "",
           "title": {
            "standoff": 15
           },
           "zerolinecolor": "#283442",
           "zerolinewidth": 2
          }
         }
        },
        "title": {
         "text": "Оптимизация: XGBoost (RMSE)"
        },
        "xaxis": {
         "anchor": "y",
         "domain": [
          0,
          0.46
         ]
        },
        "xaxis2": {
         "anchor": "y2",
         "domain": [
          0.54,
          1
         ]
        },
        "xaxis3": {
         "anchor": "y3",
         "domain": [
          0,
          0.46
         ]
        },
        "yaxis": {
         "anchor": "x",
         "domain": [
          0.56,
          1
         ]
        },
        "yaxis2": {
         "anchor": "x2",
         "domain": [
          0.56,
          1
         ]
        },
        "yaxis3": {
         "anchor": "x3",
         "domain": [
          0,
          0.44
         ]
        }
       }
      }
     },
     "metadata": {},
     "output_type": "display_data"
    },
    {
     "data": {
      "application/vnd.plotly.v1+json": {
       "config": {
        "plotlyServerURL": "https://plot.ly"
       },
       "data": [
        {
         "dimensions": [
          {
           "label": "Objective Value",
           "range": [
            -37.389528314207666,
            -36.43388392578753
           ],
           "values": [
            -36.990537146217406,
            -37.389528314207666,
            -37.04155667096518,
            -36.77807326078959,
            -36.69055010449321,
            -36.43388392578753,
            -36.713585327679965,
            -36.94186354357502
           ]
          },
          {
           "label": "colsample_bytree",
           "range": [
            0.5083169432081802,
            0.8571452102759485
           ],
           "values": [
            0.8380119505895964,
            0.5083169432081802,
            0.7462562188425411,
            0.8571452102759485,
            0.8300401552525583,
            0.7113488210158083,
            0.7037421950278921,
            0.5699702516992415
           ]
          },
          {
           "label": "learning_rate",
           "range": [
            0.05787947018973545,
            0.13228431108922753
           ],
           "values": [
            0.12371698374615214,
            0.13228431108922753,
            0.1312262681151124,
            0.09880953387242666,
            0.07952634500871418,
            0.05787947018973545,
            0.09024584631349543,
            0.07065624394153557
           ]
          },
          {
           "label": "max_depth",
           "range": [
            10,
            16
           ],
           "values": [
            14,
            10,
            11,
            11,
            16,
            15,
            13,
            10
           ]
          },
          {
           "label": "n_estimators",
           "range": [
            1007,
            1395
           ],
           "values": [
            1175,
            1007,
            1176,
            1115,
            1068,
            1300,
            1185,
            1395
           ]
          },
          {
           "label": "subsample",
           "range": [
            0.8298696469084915,
            0.9697904458344794
           ],
           "values": [
            0.9221752618562471,
            0.849395295267661,
            0.8853829515398185,
            0.9342921506757803,
            0.9102148455833575,
            0.9697904458344794,
            0.8298696469084915,
            0.8846779032370066
           ]
          }
         ],
         "labelangle": 30,
         "labelside": "bottom",
         "line": {
          "color": [
           36.990537146217406,
           37.389528314207666,
           37.04155667096518,
           36.77807326078959,
           36.69055010449321,
           36.43388392578753,
           36.713585327679965,
           36.94186354357502
          ],
          "colorbar": {
           "title": {
            "text": "RMSE"
           }
          },
          "colorscale": [
           [
            0,
            "rgb(150,0,90)"
           ],
           [
            0.125,
            "rgb(0,0,200)"
           ],
           [
            0.25,
            "rgb(0,25,255)"
           ],
           [
            0.375,
            "rgb(0,152,255)"
           ],
           [
            0.5,
            "rgb(44,255,150)"
           ],
           [
            0.625,
            "rgb(151,255,0)"
           ],
           [
            0.75,
            "rgb(255,234,0)"
           ],
           [
            0.875,
            "rgb(255,111,0)"
           ],
           [
            1,
            "rgb(255,0,0)"
           ]
          ],
          "reversescale": true,
          "showscale": true
         },
         "type": "parcoords"
        }
       ],
       "layout": {
        "height": 600,
        "template": {
         "data": {
          "bar": [
           {
            "error_x": {
             "color": "#f2f5fa"
            },
            "error_y": {
             "color": "#f2f5fa"
            },
            "marker": {
             "line": {
              "color": "rgb(17,17,17)",
              "width": 0.5
             },
             "pattern": {
              "fillmode": "overlay",
              "size": 10,
              "solidity": 0.2
             }
            },
            "type": "bar"
           }
          ],
          "barpolar": [
           {
            "marker": {
             "line": {
              "color": "rgb(17,17,17)",
              "width": 0.5
             },
             "pattern": {
              "fillmode": "overlay",
              "size": 10,
              "solidity": 0.2
             }
            },
            "type": "barpolar"
           }
          ],
          "carpet": [
           {
            "aaxis": {
             "endlinecolor": "#A2B1C6",
             "gridcolor": "#506784",
             "linecolor": "#506784",
             "minorgridcolor": "#506784",
             "startlinecolor": "#A2B1C6"
            },
            "baxis": {
             "endlinecolor": "#A2B1C6",
             "gridcolor": "#506784",
             "linecolor": "#506784",
             "minorgridcolor": "#506784",
             "startlinecolor": "#A2B1C6"
            },
            "type": "carpet"
           }
          ],
          "choropleth": [
           {
            "colorbar": {
             "outlinewidth": 0,
             "ticks": ""
            },
            "type": "choropleth"
           }
          ],
          "contour": [
           {
            "colorbar": {
             "outlinewidth": 0,
             "ticks": ""
            },
            "colorscale": [
             [
              0,
              "#0d0887"
             ],
             [
              0.1111111111111111,
              "#46039f"
             ],
             [
              0.2222222222222222,
              "#7201a8"
             ],
             [
              0.3333333333333333,
              "#9c179e"
             ],
             [
              0.4444444444444444,
              "#bd3786"
             ],
             [
              0.5555555555555556,
              "#d8576b"
             ],
             [
              0.6666666666666666,
              "#ed7953"
             ],
             [
              0.7777777777777778,
              "#fb9f3a"
             ],
             [
              0.8888888888888888,
              "#fdca26"
             ],
             [
              1,
              "#f0f921"
             ]
            ],
            "type": "contour"
           }
          ],
          "contourcarpet": [
           {
            "colorbar": {
             "outlinewidth": 0,
             "ticks": ""
            },
            "type": "contourcarpet"
           }
          ],
          "heatmap": [
           {
            "colorbar": {
             "outlinewidth": 0,
             "ticks": ""
            },
            "colorscale": [
             [
              0,
              "#0d0887"
             ],
             [
              0.1111111111111111,
              "#46039f"
             ],
             [
              0.2222222222222222,
              "#7201a8"
             ],
             [
              0.3333333333333333,
              "#9c179e"
             ],
             [
              0.4444444444444444,
              "#bd3786"
             ],
             [
              0.5555555555555556,
              "#d8576b"
             ],
             [
              0.6666666666666666,
              "#ed7953"
             ],
             [
              0.7777777777777778,
              "#fb9f3a"
             ],
             [
              0.8888888888888888,
              "#fdca26"
             ],
             [
              1,
              "#f0f921"
             ]
            ],
            "type": "heatmap"
           }
          ],
          "histogram": [
           {
            "marker": {
             "pattern": {
              "fillmode": "overlay",
              "size": 10,
              "solidity": 0.2
             }
            },
            "type": "histogram"
           }
          ],
          "histogram2d": [
           {
            "colorbar": {
             "outlinewidth": 0,
             "ticks": ""
            },
            "colorscale": [
             [
              0,
              "#0d0887"
             ],
             [
              0.1111111111111111,
              "#46039f"
             ],
             [
              0.2222222222222222,
              "#7201a8"
             ],
             [
              0.3333333333333333,
              "#9c179e"
             ],
             [
              0.4444444444444444,
              "#bd3786"
             ],
             [
              0.5555555555555556,
              "#d8576b"
             ],
             [
              0.6666666666666666,
              "#ed7953"
             ],
             [
              0.7777777777777778,
              "#fb9f3a"
             ],
             [
              0.8888888888888888,
              "#fdca26"
             ],
             [
              1,
              "#f0f921"
             ]
            ],
            "type": "histogram2d"
           }
          ],
          "histogram2dcontour": [
           {
            "colorbar": {
             "outlinewidth": 0,
             "ticks": ""
            },
            "colorscale": [
             [
              0,
              "#0d0887"
             ],
             [
              0.1111111111111111,
              "#46039f"
             ],
             [
              0.2222222222222222,
              "#7201a8"
             ],
             [
              0.3333333333333333,
              "#9c179e"
             ],
             [
              0.4444444444444444,
              "#bd3786"
             ],
             [
              0.5555555555555556,
              "#d8576b"
             ],
             [
              0.6666666666666666,
              "#ed7953"
             ],
             [
              0.7777777777777778,
              "#fb9f3a"
             ],
             [
              0.8888888888888888,
              "#fdca26"
             ],
             [
              1,
              "#f0f921"
             ]
            ],
            "type": "histogram2dcontour"
           }
          ],
          "mesh3d": [
           {
            "colorbar": {
             "outlinewidth": 0,
             "ticks": ""
            },
            "type": "mesh3d"
           }
          ],
          "parcoords": [
           {
            "line": {
             "colorbar": {
              "outlinewidth": 0,
              "ticks": ""
             }
            },
            "type": "parcoords"
           }
          ],
          "pie": [
           {
            "automargin": true,
            "type": "pie"
           }
          ],
          "scatter": [
           {
            "marker": {
             "line": {
              "color": "#283442"
             }
            },
            "type": "scatter"
           }
          ],
          "scatter3d": [
           {
            "line": {
             "colorbar": {
              "outlinewidth": 0,
              "ticks": ""
             }
            },
            "marker": {
             "colorbar": {
              "outlinewidth": 0,
              "ticks": ""
             }
            },
            "type": "scatter3d"
           }
          ],
          "scattercarpet": [
           {
            "marker": {
             "colorbar": {
              "outlinewidth": 0,
              "ticks": ""
             }
            },
            "type": "scattercarpet"
           }
          ],
          "scattergeo": [
           {
            "marker": {
             "colorbar": {
              "outlinewidth": 0,
              "ticks": ""
             }
            },
            "type": "scattergeo"
           }
          ],
          "scattergl": [
           {
            "marker": {
             "line": {
              "color": "#283442"
             }
            },
            "type": "scattergl"
           }
          ],
          "scattermap": [
           {
            "marker": {
             "colorbar": {
              "outlinewidth": 0,
              "ticks": ""
             }
            },
            "type": "scattermap"
           }
          ],
          "scattermapbox": [
           {
            "marker": {
             "colorbar": {
              "outlinewidth": 0,
              "ticks": ""
             }
            },
            "type": "scattermapbox"
           }
          ],
          "scatterpolar": [
           {
            "marker": {
             "colorbar": {
              "outlinewidth": 0,
              "ticks": ""
             }
            },
            "type": "scatterpolar"
           }
          ],
          "scatterpolargl": [
           {
            "marker": {
             "colorbar": {
              "outlinewidth": 0,
              "ticks": ""
             }
            },
            "type": "scatterpolargl"
           }
          ],
          "scatterternary": [
           {
            "marker": {
             "colorbar": {
              "outlinewidth": 0,
              "ticks": ""
             }
            },
            "type": "scatterternary"
           }
          ],
          "surface": [
           {
            "colorbar": {
             "outlinewidth": 0,
             "ticks": ""
            },
            "colorscale": [
             [
              0,
              "#0d0887"
             ],
             [
              0.1111111111111111,
              "#46039f"
             ],
             [
              0.2222222222222222,
              "#7201a8"
             ],
             [
              0.3333333333333333,
              "#9c179e"
             ],
             [
              0.4444444444444444,
              "#bd3786"
             ],
             [
              0.5555555555555556,
              "#d8576b"
             ],
             [
              0.6666666666666666,
              "#ed7953"
             ],
             [
              0.7777777777777778,
              "#fb9f3a"
             ],
             [
              0.8888888888888888,
              "#fdca26"
             ],
             [
              1,
              "#f0f921"
             ]
            ],
            "type": "surface"
           }
          ],
          "table": [
           {
            "cells": {
             "fill": {
              "color": "#506784"
             },
             "line": {
              "color": "rgb(17,17,17)"
             }
            },
            "header": {
             "fill": {
              "color": "#2a3f5f"
             },
             "line": {
              "color": "rgb(17,17,17)"
             }
            },
            "type": "table"
           }
          ]
         },
         "layout": {
          "annotationdefaults": {
           "arrowcolor": "#f2f5fa",
           "arrowhead": 0,
           "arrowwidth": 1
          },
          "autotypenumbers": "strict",
          "coloraxis": {
           "colorbar": {
            "outlinewidth": 0,
            "ticks": ""
           }
          },
          "colorscale": {
           "diverging": [
            [
             0,
             "#8e0152"
            ],
            [
             0.1,
             "#c51b7d"
            ],
            [
             0.2,
             "#de77ae"
            ],
            [
             0.3,
             "#f1b6da"
            ],
            [
             0.4,
             "#fde0ef"
            ],
            [
             0.5,
             "#f7f7f7"
            ],
            [
             0.6,
             "#e6f5d0"
            ],
            [
             0.7,
             "#b8e186"
            ],
            [
             0.8,
             "#7fbc41"
            ],
            [
             0.9,
             "#4d9221"
            ],
            [
             1,
             "#276419"
            ]
           ],
           "sequential": [
            [
             0,
             "#0d0887"
            ],
            [
             0.1111111111111111,
             "#46039f"
            ],
            [
             0.2222222222222222,
             "#7201a8"
            ],
            [
             0.3333333333333333,
             "#9c179e"
            ],
            [
             0.4444444444444444,
             "#bd3786"
            ],
            [
             0.5555555555555556,
             "#d8576b"
            ],
            [
             0.6666666666666666,
             "#ed7953"
            ],
            [
             0.7777777777777778,
             "#fb9f3a"
            ],
            [
             0.8888888888888888,
             "#fdca26"
            ],
            [
             1,
             "#f0f921"
            ]
           ],
           "sequentialminus": [
            [
             0,
             "#0d0887"
            ],
            [
             0.1111111111111111,
             "#46039f"
            ],
            [
             0.2222222222222222,
             "#7201a8"
            ],
            [
             0.3333333333333333,
             "#9c179e"
            ],
            [
             0.4444444444444444,
             "#bd3786"
            ],
            [
             0.5555555555555556,
             "#d8576b"
            ],
            [
             0.6666666666666666,
             "#ed7953"
            ],
            [
             0.7777777777777778,
             "#fb9f3a"
            ],
            [
             0.8888888888888888,
             "#fdca26"
            ],
            [
             1,
             "#f0f921"
            ]
           ]
          },
          "colorway": [
           "#636efa",
           "#EF553B",
           "#00cc96",
           "#ab63fa",
           "#FFA15A",
           "#19d3f3",
           "#FF6692",
           "#B6E880",
           "#FF97FF",
           "#FECB52"
          ],
          "font": {
           "color": "#f2f5fa"
          },
          "geo": {
           "bgcolor": "rgb(17,17,17)",
           "lakecolor": "rgb(17,17,17)",
           "landcolor": "rgb(17,17,17)",
           "showlakes": true,
           "showland": true,
           "subunitcolor": "#506784"
          },
          "hoverlabel": {
           "align": "left"
          },
          "hovermode": "closest",
          "mapbox": {
           "style": "dark"
          },
          "paper_bgcolor": "rgb(17,17,17)",
          "plot_bgcolor": "rgb(17,17,17)",
          "polar": {
           "angularaxis": {
            "gridcolor": "#506784",
            "linecolor": "#506784",
            "ticks": ""
           },
           "bgcolor": "rgb(17,17,17)",
           "radialaxis": {
            "gridcolor": "#506784",
            "linecolor": "#506784",
            "ticks": ""
           }
          },
          "scene": {
           "xaxis": {
            "backgroundcolor": "rgb(17,17,17)",
            "gridcolor": "#506784",
            "gridwidth": 2,
            "linecolor": "#506784",
            "showbackground": true,
            "ticks": "",
            "zerolinecolor": "#C8D4E3"
           },
           "yaxis": {
            "backgroundcolor": "rgb(17,17,17)",
            "gridcolor": "#506784",
            "gridwidth": 2,
            "linecolor": "#506784",
            "showbackground": true,
            "ticks": "",
            "zerolinecolor": "#C8D4E3"
           },
           "zaxis": {
            "backgroundcolor": "rgb(17,17,17)",
            "gridcolor": "#506784",
            "gridwidth": 2,
            "linecolor": "#506784",
            "showbackground": true,
            "ticks": "",
            "zerolinecolor": "#C8D4E3"
           }
          },
          "shapedefaults": {
           "line": {
            "color": "#f2f5fa"
           }
          },
          "sliderdefaults": {
           "bgcolor": "#C8D4E3",
           "bordercolor": "rgb(17,17,17)",
           "borderwidth": 1,
           "tickwidth": 0
          },
          "ternary": {
           "aaxis": {
            "gridcolor": "#506784",
            "linecolor": "#506784",
            "ticks": ""
           },
           "baxis": {
            "gridcolor": "#506784",
            "linecolor": "#506784",
            "ticks": ""
           },
           "bgcolor": "rgb(17,17,17)",
           "caxis": {
            "gridcolor": "#506784",
            "linecolor": "#506784",
            "ticks": ""
           }
          },
          "title": {
           "x": 0.05
          },
          "updatemenudefaults": {
           "bgcolor": "#506784",
           "borderwidth": 0
          },
          "xaxis": {
           "automargin": true,
           "gridcolor": "#283442",
           "linecolor": "#506784",
           "ticks": "",
           "title": {
            "standoff": 15
           },
           "zerolinecolor": "#283442",
           "zerolinewidth": 2
          },
          "yaxis": {
           "automargin": true,
           "gridcolor": "#283442",
           "linecolor": "#506784",
           "ticks": "",
           "title": {
            "standoff": 15
           },
           "zerolinecolor": "#283442",
           "zerolinewidth": 2
          }
         }
        },
        "title": {
         "text": "Параллельные координаты: XGBoost"
        }
       }
      }
     },
     "metadata": {},
     "output_type": "display_data"
    }
   ],
   "source": [
    "analyze_optuna(\n",
    "        'XGBoost', \n",
    "        xgb_optuna, \n",
    "        results, \n",
    "        best_params,\n",
    "        1\n",
    "        )"
   ]
  },
  {
   "cell_type": "markdown",
   "id": "c7570130",
   "metadata": {},
   "source": [
    "![xgb1](images/xgb1.png)\n",
    "![xgb2](images/xgb2.png)"
   ]
  },
  {
   "cell_type": "markdown",
   "id": "5c9ac45c",
   "metadata": {},
   "source": [
    "### Catboost model"
   ]
  },
  {
   "cell_type": "code",
   "execution_count": null,
   "id": "27c25b31",
   "metadata": {},
   "outputs": [
    {
     "name": "stderr",
     "output_type": "stream",
     "text": [
      "[I 2025-09-26 20:53:02,764] A new study created in memory with name: no-name-39964ae6-0fde-4ae1-a418-5a987eaff865\n",
      "[I 2025-09-26 20:55:45,553] Trial 0 finished with value: -40.9501423558033 and parameters: {'iterations': 800, 'depth': 9, 'learning_rate': 0.15000000000000002, 'l2_leaf_reg': 4.760258082340148}. Best is trial 0 with value: -40.9501423558033.\n",
      "[I 2025-09-26 20:57:05,835] Trial 1 finished with value: -44.858809028277186 and parameters: {'iterations': 1000, 'depth': 4, 'learning_rate': 0.02, 'l2_leaf_reg': 10.404327914104774}. Best is trial 0 with value: -40.9501423558033.\n",
      "[I 2025-09-26 20:58:05,228] Trial 2 finished with value: -43.925948700027014 and parameters: {'iterations': 700, 'depth': 4, 'learning_rate': 0.09, 'l2_leaf_reg': 0.9190264273493329}. Best is trial 0 with value: -40.9501423558033.\n",
      "[I 2025-09-26 21:00:32,783] Trial 3 finished with value: -41.58265871475727 and parameters: {'iterations': 1000, 'depth': 7, 'learning_rate': 0.13, 'l2_leaf_reg': 1.4450531627950758}. Best is trial 0 with value: -40.9501423558033.\n",
      "[I 2025-09-26 21:02:34,545] Trial 4 finished with value: -42.157477131148184 and parameters: {'iterations': 700, 'depth': 8, 'learning_rate': 0.14, 'l2_leaf_reg': 13.470699108759508}. Best is trial 0 with value: -40.9501423558033.\n",
      "[I 2025-09-26 21:06:35,365] Trial 5 finished with value: -41.185316550342726 and parameters: {'iterations': 600, 'depth': 12, 'learning_rate': 0.060000000000000005, 'l2_leaf_reg': 3.8178949728096767}. Best is trial 0 with value: -40.9501423558033.\n",
      "[I 2025-09-26 21:10:39,994] Trial 6 finished with value: -39.50028449197174 and parameters: {'iterations': 1000, 'depth': 10, 'learning_rate': 0.15000000000000002, 'l2_leaf_reg': 0.6686576902049697}. Best is trial 6 with value: -39.50028449197174.\n",
      "[I 2025-09-26 21:13:26,524] Trial 7 finished with value: -41.43970689830214 and parameters: {'iterations': 1000, 'depth': 8, 'learning_rate': 0.09999999999999999, 'l2_leaf_reg': 2.479891007980005}. Best is trial 6 with value: -39.50028449197174.\n",
      "[I 2025-09-26 21:14:45,207] Trial 8 finished with value: -43.557404075921205 and parameters: {'iterations': 800, 'depth': 5, 'learning_rate': 0.11, 'l2_leaf_reg': 18.972927578811163}. Best is trial 6 with value: -39.50028449197174.\n",
      "[I 2025-09-26 21:15:46,129] Trial 9 finished with value: -43.53991845791438 and parameters: {'iterations': 600, 'depth': 5, 'learning_rate': 0.09, 'l2_leaf_reg': 0.9532599704902551}. Best is trial 6 with value: -39.50028449197174.\n",
      "[I 2025-09-26 21:21:35,809] Trial 10 finished with value: -38.683542060675016 and parameters: {'iterations': 900, 'depth': 12, 'learning_rate': 0.19, 'l2_leaf_reg': 0.5020238208633997}. Best is trial 10 with value: -38.683542060675016.\n",
      "[I 2025-09-26 21:27:35,612] Trial 11 finished with value: -38.71225614618493 and parameters: {'iterations': 900, 'depth': 12, 'learning_rate': 0.2, 'l2_leaf_reg': 0.5948236814161115}. Best is trial 10 with value: -38.683542060675016.\n"
     ]
    }
   ],
   "source": [
    "cat_model = CatBoostRegressor(\n",
    "    random_seed=SEED,\n",
    "    task_type='GPU',\n",
    "    verbose=False,\n",
    ")\n",
    "\n",
    "cat_params = {\n",
    "    'iterations': dist.IntDistribution(800, 1200),\n",
    "    'depth': dist.IntDistribution(10, 20),\n",
    "    'learning_rate': dist.FloatDistribution(0.1, 0.3),\n",
    "    'l2_leaf_reg': dist.FloatDistribution(0.1, 2, log=True),\n",
    "}\n",
    "\n",
    "cat_optuna = OptunaSearchCV(\n",
    "    cat_model,\n",
    "    cat_params,\n",
    "    cv=cv,\n",
    "    n_trials=200,\n",
    "    scoring='neg_root_mean_squared_error',\n",
    "    refit=True,\n",
    "    random_state=SEED,\n",
    "    n_jobs=1,\n",
    "    verbose=1,\n",
    "    timeout=1800,\n",
    "    callbacks=[\n",
    "        optuna.study.MaxTrialsCallback(200, states=(optuna.trial.TrialState.COMPLETE,)),\n",
    "    ]\n",
    ")\n",
    "\n",
    "cat_optuna.fit(X_train_catboost_preprocessed, y_train, cat_features=categorial_fetures)\n",
    "best_cat_model = cat_optuna.best_estimator_"
   ]
  },
  {
   "cell_type": "code",
   "execution_count": 161,
   "id": "947b2e22",
   "metadata": {},
   "outputs": [
    {
     "name": "stdout",
     "output_type": "stream",
     "text": [
      "Результаты по CatBoost модели\n",
      "~~~~~~~~~~~~~~~~~~~~~~~~~~~~~~~~~~~~~~~~~~~~~~~~~~~~~~~~~~~~~~~~~~~~~~~~~~~~~~~\n",
      "Лучший RMSE: 38.6835\n",
      "Лучшие параметры: {'iterations': 900, 'depth': 12, 'learning_rate': 0.19, 'l2_leaf_reg': 0.5020238208633997}\n"
     ]
    },
    {
     "data": {
      "application/vnd.plotly.v1+json": {
       "config": {
        "plotlyServerURL": "https://plot.ly"
       },
       "data": [
        {
         "mode": "markers",
         "name": "Trial",
         "opacity": 0.7,
         "type": "scatter",
         "x": [
          0,
          1,
          2,
          3,
          4,
          5,
          6,
          7,
          8,
          9,
          10,
          11
         ],
         "xaxis": "x",
         "y": [
          40.9501423558033,
          44.858809028277186,
          43.925948700027014,
          41.58265871475727,
          42.157477131148184,
          41.185316550342726,
          39.50028449197174,
          41.43970689830214,
          43.557404075921205,
          43.53991845791438,
          38.683542060675016,
          38.71225614618493
         ],
         "yaxis": "y"
        },
        {
         "line": {
          "color": "red",
          "width": 3
         },
         "mode": "lines",
         "name": "Best RMSE",
         "type": "scatter",
         "x": [
          0,
          1,
          2,
          3,
          4,
          5,
          6,
          7,
          8,
          9,
          10,
          11
         ],
         "xaxis": "x",
         "y": [
          40.9501423558033,
          40.9501423558033,
          40.9501423558033,
          40.9501423558033,
          40.9501423558033,
          40.9501423558033,
          39.50028449197174,
          39.50028449197174,
          39.50028449197174,
          39.50028449197174,
          38.683542060675016,
          38.683542060675016
         ],
         "yaxis": "y"
        },
        {
         "name": "Распределение RMSE",
         "nbinsx": 20,
         "opacity": 0.75,
         "type": "histogram",
         "x": [
          40.9501423558033,
          44.858809028277186,
          43.925948700027014,
          41.58265871475727,
          42.157477131148184,
          41.185316550342726,
          39.50028449197174,
          41.43970689830214,
          43.557404075921205,
          43.53991845791438,
          38.683542060675016,
          38.71225614618493
         ],
         "xaxis": "x2",
         "yaxis": "y2"
        },
        {
         "marker": {
          "color": "lightgreen"
         },
         "name": "Важность",
         "orientation": "h",
         "type": "bar",
         "x": [
          0.6866942646955149,
          0.17274521251411087,
          0.12148494531635515,
          0.019075577474019
         ],
         "xaxis": "x3",
         "y": [
          "depth",
          "learning_rate",
          "l2_leaf_reg",
          "iterations"
         ],
         "yaxis": "y3"
        },
        {
         "cells": {
          "fill": {
           "color": "#111"
          },
          "font": {
           "color": "white"
          },
          "values": [
           [
            10,
            11,
            6,
            0,
            5,
            7,
            3,
            4,
            9,
            8
           ],
           [
            38.683542,
            38.712256,
            39.500284,
            40.950142,
            41.185317,
            41.439707,
            41.582659,
            42.157477,
            43.539918,
            43.557404
           ]
          ]
         },
         "domain": {
          "x": [
           0.54,
           1
          ],
          "y": [
           0,
           0.44
          ]
         },
         "header": {
          "fill": {
           "color": "#222"
          },
          "font": {
           "color": "white"
          },
          "values": [
           "Trial",
           "RMSE"
          ]
         },
         "type": "table"
        }
       ],
       "layout": {
        "annotations": [
         {
          "font": {
           "size": 16
          },
          "showarrow": false,
          "text": "История оптимизации",
          "x": 0.23,
          "xanchor": "center",
          "xref": "paper",
          "y": 1,
          "yanchor": "bottom",
          "yref": "paper"
         },
         {
          "font": {
           "size": 16
          },
          "showarrow": false,
          "text": "Распределение RMSE",
          "x": 0.77,
          "xanchor": "center",
          "xref": "paper",
          "y": 1,
          "yanchor": "bottom",
          "yref": "paper"
         },
         {
          "font": {
           "size": 16
          },
          "showarrow": false,
          "text": "Важность параметров",
          "x": 0.23,
          "xanchor": "center",
          "xref": "paper",
          "y": 0.44,
          "yanchor": "bottom",
          "yref": "paper"
         },
         {
          "font": {
           "size": 16
          },
          "showarrow": false,
          "text": "Лучшие 10 результатов",
          "x": 0.77,
          "xanchor": "center",
          "xref": "paper",
          "y": 0.44,
          "yanchor": "bottom",
          "yref": "paper"
         }
        ],
        "height": 800,
        "template": {
         "data": {
          "bar": [
           {
            "error_x": {
             "color": "#f2f5fa"
            },
            "error_y": {
             "color": "#f2f5fa"
            },
            "marker": {
             "line": {
              "color": "rgb(17,17,17)",
              "width": 0.5
             },
             "pattern": {
              "fillmode": "overlay",
              "size": 10,
              "solidity": 0.2
             }
            },
            "type": "bar"
           }
          ],
          "barpolar": [
           {
            "marker": {
             "line": {
              "color": "rgb(17,17,17)",
              "width": 0.5
             },
             "pattern": {
              "fillmode": "overlay",
              "size": 10,
              "solidity": 0.2
             }
            },
            "type": "barpolar"
           }
          ],
          "carpet": [
           {
            "aaxis": {
             "endlinecolor": "#A2B1C6",
             "gridcolor": "#506784",
             "linecolor": "#506784",
             "minorgridcolor": "#506784",
             "startlinecolor": "#A2B1C6"
            },
            "baxis": {
             "endlinecolor": "#A2B1C6",
             "gridcolor": "#506784",
             "linecolor": "#506784",
             "minorgridcolor": "#506784",
             "startlinecolor": "#A2B1C6"
            },
            "type": "carpet"
           }
          ],
          "choropleth": [
           {
            "colorbar": {
             "outlinewidth": 0,
             "ticks": ""
            },
            "type": "choropleth"
           }
          ],
          "contour": [
           {
            "colorbar": {
             "outlinewidth": 0,
             "ticks": ""
            },
            "colorscale": [
             [
              0,
              "#0d0887"
             ],
             [
              0.1111111111111111,
              "#46039f"
             ],
             [
              0.2222222222222222,
              "#7201a8"
             ],
             [
              0.3333333333333333,
              "#9c179e"
             ],
             [
              0.4444444444444444,
              "#bd3786"
             ],
             [
              0.5555555555555556,
              "#d8576b"
             ],
             [
              0.6666666666666666,
              "#ed7953"
             ],
             [
              0.7777777777777778,
              "#fb9f3a"
             ],
             [
              0.8888888888888888,
              "#fdca26"
             ],
             [
              1,
              "#f0f921"
             ]
            ],
            "type": "contour"
           }
          ],
          "contourcarpet": [
           {
            "colorbar": {
             "outlinewidth": 0,
             "ticks": ""
            },
            "type": "contourcarpet"
           }
          ],
          "heatmap": [
           {
            "colorbar": {
             "outlinewidth": 0,
             "ticks": ""
            },
            "colorscale": [
             [
              0,
              "#0d0887"
             ],
             [
              0.1111111111111111,
              "#46039f"
             ],
             [
              0.2222222222222222,
              "#7201a8"
             ],
             [
              0.3333333333333333,
              "#9c179e"
             ],
             [
              0.4444444444444444,
              "#bd3786"
             ],
             [
              0.5555555555555556,
              "#d8576b"
             ],
             [
              0.6666666666666666,
              "#ed7953"
             ],
             [
              0.7777777777777778,
              "#fb9f3a"
             ],
             [
              0.8888888888888888,
              "#fdca26"
             ],
             [
              1,
              "#f0f921"
             ]
            ],
            "type": "heatmap"
           }
          ],
          "histogram": [
           {
            "marker": {
             "pattern": {
              "fillmode": "overlay",
              "size": 10,
              "solidity": 0.2
             }
            },
            "type": "histogram"
           }
          ],
          "histogram2d": [
           {
            "colorbar": {
             "outlinewidth": 0,
             "ticks": ""
            },
            "colorscale": [
             [
              0,
              "#0d0887"
             ],
             [
              0.1111111111111111,
              "#46039f"
             ],
             [
              0.2222222222222222,
              "#7201a8"
             ],
             [
              0.3333333333333333,
              "#9c179e"
             ],
             [
              0.4444444444444444,
              "#bd3786"
             ],
             [
              0.5555555555555556,
              "#d8576b"
             ],
             [
              0.6666666666666666,
              "#ed7953"
             ],
             [
              0.7777777777777778,
              "#fb9f3a"
             ],
             [
              0.8888888888888888,
              "#fdca26"
             ],
             [
              1,
              "#f0f921"
             ]
            ],
            "type": "histogram2d"
           }
          ],
          "histogram2dcontour": [
           {
            "colorbar": {
             "outlinewidth": 0,
             "ticks": ""
            },
            "colorscale": [
             [
              0,
              "#0d0887"
             ],
             [
              0.1111111111111111,
              "#46039f"
             ],
             [
              0.2222222222222222,
              "#7201a8"
             ],
             [
              0.3333333333333333,
              "#9c179e"
             ],
             [
              0.4444444444444444,
              "#bd3786"
             ],
             [
              0.5555555555555556,
              "#d8576b"
             ],
             [
              0.6666666666666666,
              "#ed7953"
             ],
             [
              0.7777777777777778,
              "#fb9f3a"
             ],
             [
              0.8888888888888888,
              "#fdca26"
             ],
             [
              1,
              "#f0f921"
             ]
            ],
            "type": "histogram2dcontour"
           }
          ],
          "mesh3d": [
           {
            "colorbar": {
             "outlinewidth": 0,
             "ticks": ""
            },
            "type": "mesh3d"
           }
          ],
          "parcoords": [
           {
            "line": {
             "colorbar": {
              "outlinewidth": 0,
              "ticks": ""
             }
            },
            "type": "parcoords"
           }
          ],
          "pie": [
           {
            "automargin": true,
            "type": "pie"
           }
          ],
          "scatter": [
           {
            "marker": {
             "line": {
              "color": "#283442"
             }
            },
            "type": "scatter"
           }
          ],
          "scatter3d": [
           {
            "line": {
             "colorbar": {
              "outlinewidth": 0,
              "ticks": ""
             }
            },
            "marker": {
             "colorbar": {
              "outlinewidth": 0,
              "ticks": ""
             }
            },
            "type": "scatter3d"
           }
          ],
          "scattercarpet": [
           {
            "marker": {
             "colorbar": {
              "outlinewidth": 0,
              "ticks": ""
             }
            },
            "type": "scattercarpet"
           }
          ],
          "scattergeo": [
           {
            "marker": {
             "colorbar": {
              "outlinewidth": 0,
              "ticks": ""
             }
            },
            "type": "scattergeo"
           }
          ],
          "scattergl": [
           {
            "marker": {
             "line": {
              "color": "#283442"
             }
            },
            "type": "scattergl"
           }
          ],
          "scattermap": [
           {
            "marker": {
             "colorbar": {
              "outlinewidth": 0,
              "ticks": ""
             }
            },
            "type": "scattermap"
           }
          ],
          "scattermapbox": [
           {
            "marker": {
             "colorbar": {
              "outlinewidth": 0,
              "ticks": ""
             }
            },
            "type": "scattermapbox"
           }
          ],
          "scatterpolar": [
           {
            "marker": {
             "colorbar": {
              "outlinewidth": 0,
              "ticks": ""
             }
            },
            "type": "scatterpolar"
           }
          ],
          "scatterpolargl": [
           {
            "marker": {
             "colorbar": {
              "outlinewidth": 0,
              "ticks": ""
             }
            },
            "type": "scatterpolargl"
           }
          ],
          "scatterternary": [
           {
            "marker": {
             "colorbar": {
              "outlinewidth": 0,
              "ticks": ""
             }
            },
            "type": "scatterternary"
           }
          ],
          "surface": [
           {
            "colorbar": {
             "outlinewidth": 0,
             "ticks": ""
            },
            "colorscale": [
             [
              0,
              "#0d0887"
             ],
             [
              0.1111111111111111,
              "#46039f"
             ],
             [
              0.2222222222222222,
              "#7201a8"
             ],
             [
              0.3333333333333333,
              "#9c179e"
             ],
             [
              0.4444444444444444,
              "#bd3786"
             ],
             [
              0.5555555555555556,
              "#d8576b"
             ],
             [
              0.6666666666666666,
              "#ed7953"
             ],
             [
              0.7777777777777778,
              "#fb9f3a"
             ],
             [
              0.8888888888888888,
              "#fdca26"
             ],
             [
              1,
              "#f0f921"
             ]
            ],
            "type": "surface"
           }
          ],
          "table": [
           {
            "cells": {
             "fill": {
              "color": "#506784"
             },
             "line": {
              "color": "rgb(17,17,17)"
             }
            },
            "header": {
             "fill": {
              "color": "#2a3f5f"
             },
             "line": {
              "color": "rgb(17,17,17)"
             }
            },
            "type": "table"
           }
          ]
         },
         "layout": {
          "annotationdefaults": {
           "arrowcolor": "#f2f5fa",
           "arrowhead": 0,
           "arrowwidth": 1
          },
          "autotypenumbers": "strict",
          "coloraxis": {
           "colorbar": {
            "outlinewidth": 0,
            "ticks": ""
           }
          },
          "colorscale": {
           "diverging": [
            [
             0,
             "#8e0152"
            ],
            [
             0.1,
             "#c51b7d"
            ],
            [
             0.2,
             "#de77ae"
            ],
            [
             0.3,
             "#f1b6da"
            ],
            [
             0.4,
             "#fde0ef"
            ],
            [
             0.5,
             "#f7f7f7"
            ],
            [
             0.6,
             "#e6f5d0"
            ],
            [
             0.7,
             "#b8e186"
            ],
            [
             0.8,
             "#7fbc41"
            ],
            [
             0.9,
             "#4d9221"
            ],
            [
             1,
             "#276419"
            ]
           ],
           "sequential": [
            [
             0,
             "#0d0887"
            ],
            [
             0.1111111111111111,
             "#46039f"
            ],
            [
             0.2222222222222222,
             "#7201a8"
            ],
            [
             0.3333333333333333,
             "#9c179e"
            ],
            [
             0.4444444444444444,
             "#bd3786"
            ],
            [
             0.5555555555555556,
             "#d8576b"
            ],
            [
             0.6666666666666666,
             "#ed7953"
            ],
            [
             0.7777777777777778,
             "#fb9f3a"
            ],
            [
             0.8888888888888888,
             "#fdca26"
            ],
            [
             1,
             "#f0f921"
            ]
           ],
           "sequentialminus": [
            [
             0,
             "#0d0887"
            ],
            [
             0.1111111111111111,
             "#46039f"
            ],
            [
             0.2222222222222222,
             "#7201a8"
            ],
            [
             0.3333333333333333,
             "#9c179e"
            ],
            [
             0.4444444444444444,
             "#bd3786"
            ],
            [
             0.5555555555555556,
             "#d8576b"
            ],
            [
             0.6666666666666666,
             "#ed7953"
            ],
            [
             0.7777777777777778,
             "#fb9f3a"
            ],
            [
             0.8888888888888888,
             "#fdca26"
            ],
            [
             1,
             "#f0f921"
            ]
           ]
          },
          "colorway": [
           "#636efa",
           "#EF553B",
           "#00cc96",
           "#ab63fa",
           "#FFA15A",
           "#19d3f3",
           "#FF6692",
           "#B6E880",
           "#FF97FF",
           "#FECB52"
          ],
          "font": {
           "color": "#f2f5fa"
          },
          "geo": {
           "bgcolor": "rgb(17,17,17)",
           "lakecolor": "rgb(17,17,17)",
           "landcolor": "rgb(17,17,17)",
           "showlakes": true,
           "showland": true,
           "subunitcolor": "#506784"
          },
          "hoverlabel": {
           "align": "left"
          },
          "hovermode": "closest",
          "mapbox": {
           "style": "dark"
          },
          "paper_bgcolor": "rgb(17,17,17)",
          "plot_bgcolor": "rgb(17,17,17)",
          "polar": {
           "angularaxis": {
            "gridcolor": "#506784",
            "linecolor": "#506784",
            "ticks": ""
           },
           "bgcolor": "rgb(17,17,17)",
           "radialaxis": {
            "gridcolor": "#506784",
            "linecolor": "#506784",
            "ticks": ""
           }
          },
          "scene": {
           "xaxis": {
            "backgroundcolor": "rgb(17,17,17)",
            "gridcolor": "#506784",
            "gridwidth": 2,
            "linecolor": "#506784",
            "showbackground": true,
            "ticks": "",
            "zerolinecolor": "#C8D4E3"
           },
           "yaxis": {
            "backgroundcolor": "rgb(17,17,17)",
            "gridcolor": "#506784",
            "gridwidth": 2,
            "linecolor": "#506784",
            "showbackground": true,
            "ticks": "",
            "zerolinecolor": "#C8D4E3"
           },
           "zaxis": {
            "backgroundcolor": "rgb(17,17,17)",
            "gridcolor": "#506784",
            "gridwidth": 2,
            "linecolor": "#506784",
            "showbackground": true,
            "ticks": "",
            "zerolinecolor": "#C8D4E3"
           }
          },
          "shapedefaults": {
           "line": {
            "color": "#f2f5fa"
           }
          },
          "sliderdefaults": {
           "bgcolor": "#C8D4E3",
           "bordercolor": "rgb(17,17,17)",
           "borderwidth": 1,
           "tickwidth": 0
          },
          "ternary": {
           "aaxis": {
            "gridcolor": "#506784",
            "linecolor": "#506784",
            "ticks": ""
           },
           "baxis": {
            "gridcolor": "#506784",
            "linecolor": "#506784",
            "ticks": ""
           },
           "bgcolor": "rgb(17,17,17)",
           "caxis": {
            "gridcolor": "#506784",
            "linecolor": "#506784",
            "ticks": ""
           }
          },
          "title": {
           "x": 0.05
          },
          "updatemenudefaults": {
           "bgcolor": "#506784",
           "borderwidth": 0
          },
          "xaxis": {
           "automargin": true,
           "gridcolor": "#283442",
           "linecolor": "#506784",
           "ticks": "",
           "title": {
            "standoff": 15
           },
           "zerolinecolor": "#283442",
           "zerolinewidth": 2
          },
          "yaxis": {
           "automargin": true,
           "gridcolor": "#283442",
           "linecolor": "#506784",
           "ticks": "",
           "title": {
            "standoff": 15
           },
           "zerolinecolor": "#283442",
           "zerolinewidth": 2
          }
         }
        },
        "title": {
         "text": "Оптимизация: CatBoost (RMSE)"
        },
        "xaxis": {
         "anchor": "y",
         "domain": [
          0,
          0.46
         ]
        },
        "xaxis2": {
         "anchor": "y2",
         "domain": [
          0.54,
          1
         ]
        },
        "xaxis3": {
         "anchor": "y3",
         "domain": [
          0,
          0.46
         ]
        },
        "yaxis": {
         "anchor": "x",
         "domain": [
          0.56,
          1
         ]
        },
        "yaxis2": {
         "anchor": "x2",
         "domain": [
          0.56,
          1
         ]
        },
        "yaxis3": {
         "anchor": "x3",
         "domain": [
          0,
          0.44
         ]
        }
       }
      }
     },
     "metadata": {},
     "output_type": "display_data"
    },
    {
     "data": {
      "application/vnd.plotly.v1+json": {
       "config": {
        "plotlyServerURL": "https://plot.ly"
       },
       "data": [
        {
         "dimensions": [
          {
           "label": "Objective Value",
           "range": [
            -44.858809028277186,
            -38.683542060675016
           ],
           "values": [
            -40.9501423558033,
            -44.858809028277186,
            -43.925948700027014,
            -41.58265871475727,
            -42.157477131148184,
            -41.185316550342726,
            -39.50028449197174,
            -41.43970689830214,
            -43.557404075921205,
            -43.53991845791438,
            -38.683542060675016,
            -38.71225614618493
           ]
          },
          {
           "label": "depth",
           "range": [
            4,
            12
           ],
           "values": [
            9,
            4,
            4,
            7,
            8,
            12,
            10,
            8,
            5,
            5,
            12,
            12
           ]
          },
          {
           "label": "iterations",
           "range": [
            600,
            1000
           ],
           "values": [
            800,
            1000,
            700,
            1000,
            700,
            600,
            1000,
            1000,
            800,
            600,
            900,
            900
           ]
          },
          {
           "label": "l2_leaf_reg",
           "range": [
            -0.2992756752372815,
            1.2781343489817134
           ],
           "ticktext": [
            "0.502",
            "1",
            "10",
            "19"
           ],
           "tickvals": [
            -0.2992756752372815,
            0,
            1,
            1.2781343489817134
           ],
           "values": [
            0.677630499085573,
            1.0172140314363711,
            -0.036671999944719855,
            0.15988382486684694,
            1.1293901355297922,
            0.5818239771334505,
            -0.17479615622561603,
            0.39443259386128626,
            1.2781343489817134,
            -0.0207886435877254,
            -0.2992756752372815,
            -0.22561174945807227
           ]
          },
          {
           "label": "learning_rate",
           "range": [
            0.02,
            0.2
           ],
           "values": [
            0.15000000000000002,
            0.02,
            0.09,
            0.13,
            0.14,
            0.060000000000000005,
            0.15000000000000002,
            0.09999999999999999,
            0.11,
            0.09,
            0.19,
            0.2
           ]
          }
         ],
         "labelangle": 30,
         "labelside": "bottom",
         "line": {
          "color": [
           40.9501423558033,
           44.858809028277186,
           43.925948700027014,
           41.58265871475727,
           42.157477131148184,
           41.185316550342726,
           39.50028449197174,
           41.43970689830214,
           43.557404075921205,
           43.53991845791438,
           38.683542060675016,
           38.71225614618493
          ],
          "colorbar": {
           "title": {
            "text": "RMSE"
           }
          },
          "colorscale": [
           [
            0,
            "rgb(150,0,90)"
           ],
           [
            0.125,
            "rgb(0,0,200)"
           ],
           [
            0.25,
            "rgb(0,25,255)"
           ],
           [
            0.375,
            "rgb(0,152,255)"
           ],
           [
            0.5,
            "rgb(44,255,150)"
           ],
           [
            0.625,
            "rgb(151,255,0)"
           ],
           [
            0.75,
            "rgb(255,234,0)"
           ],
           [
            0.875,
            "rgb(255,111,0)"
           ],
           [
            1,
            "rgb(255,0,0)"
           ]
          ],
          "reversescale": true,
          "showscale": true
         },
         "type": "parcoords"
        }
       ],
       "layout": {
        "height": 600,
        "template": {
         "data": {
          "bar": [
           {
            "error_x": {
             "color": "#f2f5fa"
            },
            "error_y": {
             "color": "#f2f5fa"
            },
            "marker": {
             "line": {
              "color": "rgb(17,17,17)",
              "width": 0.5
             },
             "pattern": {
              "fillmode": "overlay",
              "size": 10,
              "solidity": 0.2
             }
            },
            "type": "bar"
           }
          ],
          "barpolar": [
           {
            "marker": {
             "line": {
              "color": "rgb(17,17,17)",
              "width": 0.5
             },
             "pattern": {
              "fillmode": "overlay",
              "size": 10,
              "solidity": 0.2
             }
            },
            "type": "barpolar"
           }
          ],
          "carpet": [
           {
            "aaxis": {
             "endlinecolor": "#A2B1C6",
             "gridcolor": "#506784",
             "linecolor": "#506784",
             "minorgridcolor": "#506784",
             "startlinecolor": "#A2B1C6"
            },
            "baxis": {
             "endlinecolor": "#A2B1C6",
             "gridcolor": "#506784",
             "linecolor": "#506784",
             "minorgridcolor": "#506784",
             "startlinecolor": "#A2B1C6"
            },
            "type": "carpet"
           }
          ],
          "choropleth": [
           {
            "colorbar": {
             "outlinewidth": 0,
             "ticks": ""
            },
            "type": "choropleth"
           }
          ],
          "contour": [
           {
            "colorbar": {
             "outlinewidth": 0,
             "ticks": ""
            },
            "colorscale": [
             [
              0,
              "#0d0887"
             ],
             [
              0.1111111111111111,
              "#46039f"
             ],
             [
              0.2222222222222222,
              "#7201a8"
             ],
             [
              0.3333333333333333,
              "#9c179e"
             ],
             [
              0.4444444444444444,
              "#bd3786"
             ],
             [
              0.5555555555555556,
              "#d8576b"
             ],
             [
              0.6666666666666666,
              "#ed7953"
             ],
             [
              0.7777777777777778,
              "#fb9f3a"
             ],
             [
              0.8888888888888888,
              "#fdca26"
             ],
             [
              1,
              "#f0f921"
             ]
            ],
            "type": "contour"
           }
          ],
          "contourcarpet": [
           {
            "colorbar": {
             "outlinewidth": 0,
             "ticks": ""
            },
            "type": "contourcarpet"
           }
          ],
          "heatmap": [
           {
            "colorbar": {
             "outlinewidth": 0,
             "ticks": ""
            },
            "colorscale": [
             [
              0,
              "#0d0887"
             ],
             [
              0.1111111111111111,
              "#46039f"
             ],
             [
              0.2222222222222222,
              "#7201a8"
             ],
             [
              0.3333333333333333,
              "#9c179e"
             ],
             [
              0.4444444444444444,
              "#bd3786"
             ],
             [
              0.5555555555555556,
              "#d8576b"
             ],
             [
              0.6666666666666666,
              "#ed7953"
             ],
             [
              0.7777777777777778,
              "#fb9f3a"
             ],
             [
              0.8888888888888888,
              "#fdca26"
             ],
             [
              1,
              "#f0f921"
             ]
            ],
            "type": "heatmap"
           }
          ],
          "histogram": [
           {
            "marker": {
             "pattern": {
              "fillmode": "overlay",
              "size": 10,
              "solidity": 0.2
             }
            },
            "type": "histogram"
           }
          ],
          "histogram2d": [
           {
            "colorbar": {
             "outlinewidth": 0,
             "ticks": ""
            },
            "colorscale": [
             [
              0,
              "#0d0887"
             ],
             [
              0.1111111111111111,
              "#46039f"
             ],
             [
              0.2222222222222222,
              "#7201a8"
             ],
             [
              0.3333333333333333,
              "#9c179e"
             ],
             [
              0.4444444444444444,
              "#bd3786"
             ],
             [
              0.5555555555555556,
              "#d8576b"
             ],
             [
              0.6666666666666666,
              "#ed7953"
             ],
             [
              0.7777777777777778,
              "#fb9f3a"
             ],
             [
              0.8888888888888888,
              "#fdca26"
             ],
             [
              1,
              "#f0f921"
             ]
            ],
            "type": "histogram2d"
           }
          ],
          "histogram2dcontour": [
           {
            "colorbar": {
             "outlinewidth": 0,
             "ticks": ""
            },
            "colorscale": [
             [
              0,
              "#0d0887"
             ],
             [
              0.1111111111111111,
              "#46039f"
             ],
             [
              0.2222222222222222,
              "#7201a8"
             ],
             [
              0.3333333333333333,
              "#9c179e"
             ],
             [
              0.4444444444444444,
              "#bd3786"
             ],
             [
              0.5555555555555556,
              "#d8576b"
             ],
             [
              0.6666666666666666,
              "#ed7953"
             ],
             [
              0.7777777777777778,
              "#fb9f3a"
             ],
             [
              0.8888888888888888,
              "#fdca26"
             ],
             [
              1,
              "#f0f921"
             ]
            ],
            "type": "histogram2dcontour"
           }
          ],
          "mesh3d": [
           {
            "colorbar": {
             "outlinewidth": 0,
             "ticks": ""
            },
            "type": "mesh3d"
           }
          ],
          "parcoords": [
           {
            "line": {
             "colorbar": {
              "outlinewidth": 0,
              "ticks": ""
             }
            },
            "type": "parcoords"
           }
          ],
          "pie": [
           {
            "automargin": true,
            "type": "pie"
           }
          ],
          "scatter": [
           {
            "marker": {
             "line": {
              "color": "#283442"
             }
            },
            "type": "scatter"
           }
          ],
          "scatter3d": [
           {
            "line": {
             "colorbar": {
              "outlinewidth": 0,
              "ticks": ""
             }
            },
            "marker": {
             "colorbar": {
              "outlinewidth": 0,
              "ticks": ""
             }
            },
            "type": "scatter3d"
           }
          ],
          "scattercarpet": [
           {
            "marker": {
             "colorbar": {
              "outlinewidth": 0,
              "ticks": ""
             }
            },
            "type": "scattercarpet"
           }
          ],
          "scattergeo": [
           {
            "marker": {
             "colorbar": {
              "outlinewidth": 0,
              "ticks": ""
             }
            },
            "type": "scattergeo"
           }
          ],
          "scattergl": [
           {
            "marker": {
             "line": {
              "color": "#283442"
             }
            },
            "type": "scattergl"
           }
          ],
          "scattermap": [
           {
            "marker": {
             "colorbar": {
              "outlinewidth": 0,
              "ticks": ""
             }
            },
            "type": "scattermap"
           }
          ],
          "scattermapbox": [
           {
            "marker": {
             "colorbar": {
              "outlinewidth": 0,
              "ticks": ""
             }
            },
            "type": "scattermapbox"
           }
          ],
          "scatterpolar": [
           {
            "marker": {
             "colorbar": {
              "outlinewidth": 0,
              "ticks": ""
             }
            },
            "type": "scatterpolar"
           }
          ],
          "scatterpolargl": [
           {
            "marker": {
             "colorbar": {
              "outlinewidth": 0,
              "ticks": ""
             }
            },
            "type": "scatterpolargl"
           }
          ],
          "scatterternary": [
           {
            "marker": {
             "colorbar": {
              "outlinewidth": 0,
              "ticks": ""
             }
            },
            "type": "scatterternary"
           }
          ],
          "surface": [
           {
            "colorbar": {
             "outlinewidth": 0,
             "ticks": ""
            },
            "colorscale": [
             [
              0,
              "#0d0887"
             ],
             [
              0.1111111111111111,
              "#46039f"
             ],
             [
              0.2222222222222222,
              "#7201a8"
             ],
             [
              0.3333333333333333,
              "#9c179e"
             ],
             [
              0.4444444444444444,
              "#bd3786"
             ],
             [
              0.5555555555555556,
              "#d8576b"
             ],
             [
              0.6666666666666666,
              "#ed7953"
             ],
             [
              0.7777777777777778,
              "#fb9f3a"
             ],
             [
              0.8888888888888888,
              "#fdca26"
             ],
             [
              1,
              "#f0f921"
             ]
            ],
            "type": "surface"
           }
          ],
          "table": [
           {
            "cells": {
             "fill": {
              "color": "#506784"
             },
             "line": {
              "color": "rgb(17,17,17)"
             }
            },
            "header": {
             "fill": {
              "color": "#2a3f5f"
             },
             "line": {
              "color": "rgb(17,17,17)"
             }
            },
            "type": "table"
           }
          ]
         },
         "layout": {
          "annotationdefaults": {
           "arrowcolor": "#f2f5fa",
           "arrowhead": 0,
           "arrowwidth": 1
          },
          "autotypenumbers": "strict",
          "coloraxis": {
           "colorbar": {
            "outlinewidth": 0,
            "ticks": ""
           }
          },
          "colorscale": {
           "diverging": [
            [
             0,
             "#8e0152"
            ],
            [
             0.1,
             "#c51b7d"
            ],
            [
             0.2,
             "#de77ae"
            ],
            [
             0.3,
             "#f1b6da"
            ],
            [
             0.4,
             "#fde0ef"
            ],
            [
             0.5,
             "#f7f7f7"
            ],
            [
             0.6,
             "#e6f5d0"
            ],
            [
             0.7,
             "#b8e186"
            ],
            [
             0.8,
             "#7fbc41"
            ],
            [
             0.9,
             "#4d9221"
            ],
            [
             1,
             "#276419"
            ]
           ],
           "sequential": [
            [
             0,
             "#0d0887"
            ],
            [
             0.1111111111111111,
             "#46039f"
            ],
            [
             0.2222222222222222,
             "#7201a8"
            ],
            [
             0.3333333333333333,
             "#9c179e"
            ],
            [
             0.4444444444444444,
             "#bd3786"
            ],
            [
             0.5555555555555556,
             "#d8576b"
            ],
            [
             0.6666666666666666,
             "#ed7953"
            ],
            [
             0.7777777777777778,
             "#fb9f3a"
            ],
            [
             0.8888888888888888,
             "#fdca26"
            ],
            [
             1,
             "#f0f921"
            ]
           ],
           "sequentialminus": [
            [
             0,
             "#0d0887"
            ],
            [
             0.1111111111111111,
             "#46039f"
            ],
            [
             0.2222222222222222,
             "#7201a8"
            ],
            [
             0.3333333333333333,
             "#9c179e"
            ],
            [
             0.4444444444444444,
             "#bd3786"
            ],
            [
             0.5555555555555556,
             "#d8576b"
            ],
            [
             0.6666666666666666,
             "#ed7953"
            ],
            [
             0.7777777777777778,
             "#fb9f3a"
            ],
            [
             0.8888888888888888,
             "#fdca26"
            ],
            [
             1,
             "#f0f921"
            ]
           ]
          },
          "colorway": [
           "#636efa",
           "#EF553B",
           "#00cc96",
           "#ab63fa",
           "#FFA15A",
           "#19d3f3",
           "#FF6692",
           "#B6E880",
           "#FF97FF",
           "#FECB52"
          ],
          "font": {
           "color": "#f2f5fa"
          },
          "geo": {
           "bgcolor": "rgb(17,17,17)",
           "lakecolor": "rgb(17,17,17)",
           "landcolor": "rgb(17,17,17)",
           "showlakes": true,
           "showland": true,
           "subunitcolor": "#506784"
          },
          "hoverlabel": {
           "align": "left"
          },
          "hovermode": "closest",
          "mapbox": {
           "style": "dark"
          },
          "paper_bgcolor": "rgb(17,17,17)",
          "plot_bgcolor": "rgb(17,17,17)",
          "polar": {
           "angularaxis": {
            "gridcolor": "#506784",
            "linecolor": "#506784",
            "ticks": ""
           },
           "bgcolor": "rgb(17,17,17)",
           "radialaxis": {
            "gridcolor": "#506784",
            "linecolor": "#506784",
            "ticks": ""
           }
          },
          "scene": {
           "xaxis": {
            "backgroundcolor": "rgb(17,17,17)",
            "gridcolor": "#506784",
            "gridwidth": 2,
            "linecolor": "#506784",
            "showbackground": true,
            "ticks": "",
            "zerolinecolor": "#C8D4E3"
           },
           "yaxis": {
            "backgroundcolor": "rgb(17,17,17)",
            "gridcolor": "#506784",
            "gridwidth": 2,
            "linecolor": "#506784",
            "showbackground": true,
            "ticks": "",
            "zerolinecolor": "#C8D4E3"
           },
           "zaxis": {
            "backgroundcolor": "rgb(17,17,17)",
            "gridcolor": "#506784",
            "gridwidth": 2,
            "linecolor": "#506784",
            "showbackground": true,
            "ticks": "",
            "zerolinecolor": "#C8D4E3"
           }
          },
          "shapedefaults": {
           "line": {
            "color": "#f2f5fa"
           }
          },
          "sliderdefaults": {
           "bgcolor": "#C8D4E3",
           "bordercolor": "rgb(17,17,17)",
           "borderwidth": 1,
           "tickwidth": 0
          },
          "ternary": {
           "aaxis": {
            "gridcolor": "#506784",
            "linecolor": "#506784",
            "ticks": ""
           },
           "baxis": {
            "gridcolor": "#506784",
            "linecolor": "#506784",
            "ticks": ""
           },
           "bgcolor": "rgb(17,17,17)",
           "caxis": {
            "gridcolor": "#506784",
            "linecolor": "#506784",
            "ticks": ""
           }
          },
          "title": {
           "x": 0.05
          },
          "updatemenudefaults": {
           "bgcolor": "#506784",
           "borderwidth": 0
          },
          "xaxis": {
           "automargin": true,
           "gridcolor": "#283442",
           "linecolor": "#506784",
           "ticks": "",
           "title": {
            "standoff": 15
           },
           "zerolinecolor": "#283442",
           "zerolinewidth": 2
          },
          "yaxis": {
           "automargin": true,
           "gridcolor": "#283442",
           "linecolor": "#506784",
           "ticks": "",
           "title": {
            "standoff": 15
           },
           "zerolinecolor": "#283442",
           "zerolinewidth": 2
          }
         }
        },
        "title": {
         "text": "Параллельные координаты: CatBoost"
        }
       }
      }
     },
     "metadata": {},
     "output_type": "display_data"
    }
   ],
   "source": [
    "analyze_optuna(\n",
    "        'CatBoost', \n",
    "        cat_optuna, \n",
    "        results, \n",
    "        best_params,\n",
    "        2\n",
    "        )"
   ]
  },
  {
   "cell_type": "markdown",
   "id": "800a0815",
   "metadata": {},
   "source": [
    "![catboost1](images/catboost1.png)\n",
    "![catboost2](images/catboost2.png)"
   ]
  },
  {
   "cell_type": "markdown",
   "id": "35e1eb6c",
   "metadata": {},
   "source": [
    "### LihgtGBM model"
   ]
  },
  {
   "cell_type": "code",
   "execution_count": 48,
   "id": "22f1075e",
   "metadata": {},
   "outputs": [
    {
     "name": "stderr",
     "output_type": "stream",
     "text": [
      "[I 2025-09-26 22:15:48,607] A new study created in memory with name: no-name-54f00103-f220-4d7b-8e62-5df609df9a1d\n",
      "[I 2025-09-26 22:17:54,435] Trial 0 finished with value: -39.04895306149868 and parameters: {'n_estimators': 862, 'max_depth': 19, 'learning_rate': 0.24743396749230429, 'num_leaves': 89}. Best is trial 0 with value: -39.04895306149868.\n",
      "[I 2025-09-26 22:20:57,011] Trial 1 finished with value: -39.00921249280598 and parameters: {'n_estimators': 1107, 'max_depth': 10, 'learning_rate': 0.11307396060810149, 'num_leaves': 106}. Best is trial 1 with value: -39.00921249280598.\n",
      "[I 2025-09-26 22:22:11,407] Trial 2 finished with value: -40.129680411809005 and parameters: {'n_estimators': 748, 'max_depth': 10, 'learning_rate': 0.18817341121683526, 'num_leaves': 53}. Best is trial 1 with value: -39.00921249280598.\n",
      "[I 2025-09-26 22:24:12,776] Trial 3 finished with value: -39.17530415396815 and parameters: {'n_estimators': 1088, 'max_depth': 16, 'learning_rate': 0.22312810942127054, 'num_leaves': 63}. Best is trial 1 with value: -39.00921249280598.\n",
      "[I 2025-09-26 22:26:27,871] Trial 4 finished with value: -38.82470980018718 and parameters: {'n_estimators': 770, 'max_depth': 17, 'learning_rate': 0.23429215067578027, 'num_leaves': 112}. Best is trial 4 with value: -38.82470980018718.\n",
      "[I 2025-09-26 22:28:05,922] Trial 5 finished with value: -39.40817997566382 and parameters: {'n_estimators': 702, 'max_depth': 24, 'learning_rate': 0.15905269001742836, 'num_leaves': 84}. Best is trial 4 with value: -38.82470980018718.\n",
      "[I 2025-09-26 22:29:45,368] Trial 6 finished with value: -39.73568403793367 and parameters: {'n_estimators': 1095, 'max_depth': 21, 'learning_rate': 0.24577679130636276, 'num_leaves': 46}. Best is trial 4 with value: -38.82470980018718.\n",
      "[I 2025-09-26 22:32:07,736] Trial 7 finished with value: -38.8969500291628 and parameters: {'n_estimators': 1110, 'max_depth': 17, 'learning_rate': 0.1927182119465399, 'num_leaves': 75}. Best is trial 4 with value: -38.82470980018718.\n",
      "[I 2025-09-26 22:34:40,821] Trial 8 finished with value: -38.74357568223308 and parameters: {'n_estimators': 841, 'max_depth': 12, 'learning_rate': 0.2018710975139461, 'num_leaves': 119}. Best is trial 8 with value: -38.74357568223308.\n",
      "[I 2025-09-26 22:35:42,508] Trial 9 finished with value: -40.3596180441019 and parameters: {'n_estimators': 608, 'max_depth': 13, 'learning_rate': 0.18467790323700656, 'num_leaves': 54}. Best is trial 8 with value: -38.74357568223308.\n",
      "[I 2025-09-26 22:38:33,869] Trial 10 finished with value: -38.947575363344434 and parameters: {'n_estimators': 958, 'max_depth': 13, 'learning_rate': 0.2819176721212423, 'num_leaves': 119}. Best is trial 8 with value: -38.74357568223308.\n",
      "[I 2025-09-26 22:41:07,150] Trial 11 finished with value: -39.091867090004214 and parameters: {'n_estimators': 854, 'max_depth': 14, 'learning_rate': 0.2954576071279697, 'num_leaves': 118}. Best is trial 8 with value: -38.74357568223308.\n",
      "[I 2025-09-26 22:43:12,929] Trial 12 finished with value: -38.9841634392806 and parameters: {'n_estimators': 776, 'max_depth': 20, 'learning_rate': 0.15367302164864644, 'num_leaves': 101}. Best is trial 8 with value: -38.74357568223308.\n",
      "[I 2025-09-26 22:45:45,042] Trial 13 finished with value: -38.71560736103378 and parameters: {'n_estimators': 953, 'max_depth': 15, 'learning_rate': 0.22582167845724557, 'num_leaves': 103}. Best is trial 13 with value: -38.71560736103378.\n",
      "[I 2025-09-26 22:48:16,200] Trial 14 finished with value: -38.794432583677 and parameters: {'n_estimators': 968, 'max_depth': 14, 'learning_rate': 0.21829375213158192, 'num_leaves': 97}. Best is trial 13 with value: -38.71560736103378.\n"
     ]
    }
   ],
   "source": [
    "lgbm_model = LGBMRegressor(\n",
    "    random_state=SEED,\n",
    "    device='gpu',\n",
    "    verbose=-1,\n",
    "    n_jobs=1\n",
    ")\n",
    "\n",
    "lgbm_params = {\n",
    "    'n_estimators': dist.IntDistribution(600, 1200),\n",
    "    'max_depth': dist.IntDistribution(10, 24),\n",
    "    'learning_rate': dist.FloatDistribution(0.1, 0.3),\n",
    "    'num_leaves': dist.IntDistribution(40, 120),\n",
    "}\n",
    "\n",
    "lgbm_optuna = OptunaSearchCV(\n",
    "    lgbm_model,\n",
    "    lgbm_params,\n",
    "    cv=cv,\n",
    "    n_trials=200,\n",
    "    scoring='neg_root_mean_squared_error',\n",
    "    refit=True,\n",
    "    random_state=SEED,\n",
    "    n_jobs=1,\n",
    "    verbose=1,\n",
    "    timeout=1800,\n",
    "    callbacks=[\n",
    "        optuna.study.MaxTrialsCallback(200, states=(optuna.trial.TrialState.COMPLETE,)),\n",
    "    ]\n",
    ")\n",
    "\n",
    "lgbm_optuna.fit(X_train_preprocessed, y_train)\n",
    "best_lgbm_model = lgbm_optuna.best_estimator_"
   ]
  },
  {
   "cell_type": "code",
   "execution_count": 162,
   "id": "6969e19e",
   "metadata": {},
   "outputs": [
    {
     "name": "stdout",
     "output_type": "stream",
     "text": [
      "Результаты по LightGBM модели\n",
      "~~~~~~~~~~~~~~~~~~~~~~~~~~~~~~~~~~~~~~~~~~~~~~~~~~~~~~~~~~~~~~~~~~~~~~~~~~~~~~~\n",
      "Лучший RMSE: 38.7156\n",
      "Лучшие параметры: {'n_estimators': 953, 'max_depth': 15, 'learning_rate': 0.22582167845724557, 'num_leaves': 103}\n"
     ]
    },
    {
     "data": {
      "application/vnd.plotly.v1+json": {
       "config": {
        "plotlyServerURL": "https://plot.ly"
       },
       "data": [
        {
         "mode": "markers",
         "name": "Trial",
         "opacity": 0.7,
         "type": "scatter",
         "x": [
          0,
          1,
          2,
          3,
          4,
          5,
          6,
          7,
          8,
          9,
          10,
          11,
          12,
          13,
          14
         ],
         "xaxis": "x",
         "y": [
          39.04895306149868,
          39.00921249280598,
          40.129680411809005,
          39.17530415396815,
          38.82470980018718,
          39.40817997566382,
          39.73568403793367,
          38.8969500291628,
          38.74357568223308,
          40.3596180441019,
          38.947575363344434,
          39.091867090004214,
          38.9841634392806,
          38.71560736103378,
          38.794432583677
         ],
         "yaxis": "y"
        },
        {
         "line": {
          "color": "red",
          "width": 3
         },
         "mode": "lines",
         "name": "Best RMSE",
         "type": "scatter",
         "x": [
          0,
          1,
          2,
          3,
          4,
          5,
          6,
          7,
          8,
          9,
          10,
          11,
          12,
          13,
          14
         ],
         "xaxis": "x",
         "y": [
          39.04895306149868,
          39.00921249280598,
          39.00921249280598,
          39.00921249280598,
          38.82470980018718,
          38.82470980018718,
          38.82470980018718,
          38.82470980018718,
          38.74357568223308,
          38.74357568223308,
          38.74357568223308,
          38.74357568223308,
          38.74357568223308,
          38.71560736103378,
          38.71560736103378
         ],
         "yaxis": "y"
        },
        {
         "name": "Распределение RMSE",
         "nbinsx": 20,
         "opacity": 0.75,
         "type": "histogram",
         "x": [
          39.04895306149868,
          39.00921249280598,
          40.129680411809005,
          39.17530415396815,
          38.82470980018718,
          39.40817997566382,
          39.73568403793367,
          38.8969500291628,
          38.74357568223308,
          40.3596180441019,
          38.947575363344434,
          39.091867090004214,
          38.9841634392806,
          38.71560736103378,
          38.794432583677
         ],
         "xaxis": "x2",
         "yaxis": "y2"
        },
        {
         "marker": {
          "color": "lightgreen"
         },
         "name": "Важность",
         "orientation": "h",
         "type": "bar",
         "x": [
          0.7388378527015551,
          0.13620741374437975,
          0.10346702343810996,
          0.02148771011595506
         ],
         "xaxis": "x3",
         "y": [
          "num_leaves",
          "max_depth",
          "n_estimators",
          "learning_rate"
         ],
         "yaxis": "y3"
        },
        {
         "cells": {
          "fill": {
           "color": "#111"
          },
          "font": {
           "color": "white"
          },
          "values": [
           [
            13,
            8,
            14,
            4,
            7,
            10,
            12,
            1,
            0,
            11
           ],
           [
            38.715607,
            38.743576,
            38.794433,
            38.82471,
            38.89695,
            38.947575,
            38.984163,
            39.009212,
            39.048953,
            39.091867
           ]
          ]
         },
         "domain": {
          "x": [
           0.54,
           1
          ],
          "y": [
           0,
           0.44
          ]
         },
         "header": {
          "fill": {
           "color": "#222"
          },
          "font": {
           "color": "white"
          },
          "values": [
           "Trial",
           "RMSE"
          ]
         },
         "type": "table"
        }
       ],
       "layout": {
        "annotations": [
         {
          "font": {
           "size": 16
          },
          "showarrow": false,
          "text": "История оптимизации",
          "x": 0.23,
          "xanchor": "center",
          "xref": "paper",
          "y": 1,
          "yanchor": "bottom",
          "yref": "paper"
         },
         {
          "font": {
           "size": 16
          },
          "showarrow": false,
          "text": "Распределение RMSE",
          "x": 0.77,
          "xanchor": "center",
          "xref": "paper",
          "y": 1,
          "yanchor": "bottom",
          "yref": "paper"
         },
         {
          "font": {
           "size": 16
          },
          "showarrow": false,
          "text": "Важность параметров",
          "x": 0.23,
          "xanchor": "center",
          "xref": "paper",
          "y": 0.44,
          "yanchor": "bottom",
          "yref": "paper"
         },
         {
          "font": {
           "size": 16
          },
          "showarrow": false,
          "text": "Лучшие 10 результатов",
          "x": 0.77,
          "xanchor": "center",
          "xref": "paper",
          "y": 0.44,
          "yanchor": "bottom",
          "yref": "paper"
         }
        ],
        "height": 800,
        "template": {
         "data": {
          "bar": [
           {
            "error_x": {
             "color": "#f2f5fa"
            },
            "error_y": {
             "color": "#f2f5fa"
            },
            "marker": {
             "line": {
              "color": "rgb(17,17,17)",
              "width": 0.5
             },
             "pattern": {
              "fillmode": "overlay",
              "size": 10,
              "solidity": 0.2
             }
            },
            "type": "bar"
           }
          ],
          "barpolar": [
           {
            "marker": {
             "line": {
              "color": "rgb(17,17,17)",
              "width": 0.5
             },
             "pattern": {
              "fillmode": "overlay",
              "size": 10,
              "solidity": 0.2
             }
            },
            "type": "barpolar"
           }
          ],
          "carpet": [
           {
            "aaxis": {
             "endlinecolor": "#A2B1C6",
             "gridcolor": "#506784",
             "linecolor": "#506784",
             "minorgridcolor": "#506784",
             "startlinecolor": "#A2B1C6"
            },
            "baxis": {
             "endlinecolor": "#A2B1C6",
             "gridcolor": "#506784",
             "linecolor": "#506784",
             "minorgridcolor": "#506784",
             "startlinecolor": "#A2B1C6"
            },
            "type": "carpet"
           }
          ],
          "choropleth": [
           {
            "colorbar": {
             "outlinewidth": 0,
             "ticks": ""
            },
            "type": "choropleth"
           }
          ],
          "contour": [
           {
            "colorbar": {
             "outlinewidth": 0,
             "ticks": ""
            },
            "colorscale": [
             [
              0,
              "#0d0887"
             ],
             [
              0.1111111111111111,
              "#46039f"
             ],
             [
              0.2222222222222222,
              "#7201a8"
             ],
             [
              0.3333333333333333,
              "#9c179e"
             ],
             [
              0.4444444444444444,
              "#bd3786"
             ],
             [
              0.5555555555555556,
              "#d8576b"
             ],
             [
              0.6666666666666666,
              "#ed7953"
             ],
             [
              0.7777777777777778,
              "#fb9f3a"
             ],
             [
              0.8888888888888888,
              "#fdca26"
             ],
             [
              1,
              "#f0f921"
             ]
            ],
            "type": "contour"
           }
          ],
          "contourcarpet": [
           {
            "colorbar": {
             "outlinewidth": 0,
             "ticks": ""
            },
            "type": "contourcarpet"
           }
          ],
          "heatmap": [
           {
            "colorbar": {
             "outlinewidth": 0,
             "ticks": ""
            },
            "colorscale": [
             [
              0,
              "#0d0887"
             ],
             [
              0.1111111111111111,
              "#46039f"
             ],
             [
              0.2222222222222222,
              "#7201a8"
             ],
             [
              0.3333333333333333,
              "#9c179e"
             ],
             [
              0.4444444444444444,
              "#bd3786"
             ],
             [
              0.5555555555555556,
              "#d8576b"
             ],
             [
              0.6666666666666666,
              "#ed7953"
             ],
             [
              0.7777777777777778,
              "#fb9f3a"
             ],
             [
              0.8888888888888888,
              "#fdca26"
             ],
             [
              1,
              "#f0f921"
             ]
            ],
            "type": "heatmap"
           }
          ],
          "histogram": [
           {
            "marker": {
             "pattern": {
              "fillmode": "overlay",
              "size": 10,
              "solidity": 0.2
             }
            },
            "type": "histogram"
           }
          ],
          "histogram2d": [
           {
            "colorbar": {
             "outlinewidth": 0,
             "ticks": ""
            },
            "colorscale": [
             [
              0,
              "#0d0887"
             ],
             [
              0.1111111111111111,
              "#46039f"
             ],
             [
              0.2222222222222222,
              "#7201a8"
             ],
             [
              0.3333333333333333,
              "#9c179e"
             ],
             [
              0.4444444444444444,
              "#bd3786"
             ],
             [
              0.5555555555555556,
              "#d8576b"
             ],
             [
              0.6666666666666666,
              "#ed7953"
             ],
             [
              0.7777777777777778,
              "#fb9f3a"
             ],
             [
              0.8888888888888888,
              "#fdca26"
             ],
             [
              1,
              "#f0f921"
             ]
            ],
            "type": "histogram2d"
           }
          ],
          "histogram2dcontour": [
           {
            "colorbar": {
             "outlinewidth": 0,
             "ticks": ""
            },
            "colorscale": [
             [
              0,
              "#0d0887"
             ],
             [
              0.1111111111111111,
              "#46039f"
             ],
             [
              0.2222222222222222,
              "#7201a8"
             ],
             [
              0.3333333333333333,
              "#9c179e"
             ],
             [
              0.4444444444444444,
              "#bd3786"
             ],
             [
              0.5555555555555556,
              "#d8576b"
             ],
             [
              0.6666666666666666,
              "#ed7953"
             ],
             [
              0.7777777777777778,
              "#fb9f3a"
             ],
             [
              0.8888888888888888,
              "#fdca26"
             ],
             [
              1,
              "#f0f921"
             ]
            ],
            "type": "histogram2dcontour"
           }
          ],
          "mesh3d": [
           {
            "colorbar": {
             "outlinewidth": 0,
             "ticks": ""
            },
            "type": "mesh3d"
           }
          ],
          "parcoords": [
           {
            "line": {
             "colorbar": {
              "outlinewidth": 0,
              "ticks": ""
             }
            },
            "type": "parcoords"
           }
          ],
          "pie": [
           {
            "automargin": true,
            "type": "pie"
           }
          ],
          "scatter": [
           {
            "marker": {
             "line": {
              "color": "#283442"
             }
            },
            "type": "scatter"
           }
          ],
          "scatter3d": [
           {
            "line": {
             "colorbar": {
              "outlinewidth": 0,
              "ticks": ""
             }
            },
            "marker": {
             "colorbar": {
              "outlinewidth": 0,
              "ticks": ""
             }
            },
            "type": "scatter3d"
           }
          ],
          "scattercarpet": [
           {
            "marker": {
             "colorbar": {
              "outlinewidth": 0,
              "ticks": ""
             }
            },
            "type": "scattercarpet"
           }
          ],
          "scattergeo": [
           {
            "marker": {
             "colorbar": {
              "outlinewidth": 0,
              "ticks": ""
             }
            },
            "type": "scattergeo"
           }
          ],
          "scattergl": [
           {
            "marker": {
             "line": {
              "color": "#283442"
             }
            },
            "type": "scattergl"
           }
          ],
          "scattermap": [
           {
            "marker": {
             "colorbar": {
              "outlinewidth": 0,
              "ticks": ""
             }
            },
            "type": "scattermap"
           }
          ],
          "scattermapbox": [
           {
            "marker": {
             "colorbar": {
              "outlinewidth": 0,
              "ticks": ""
             }
            },
            "type": "scattermapbox"
           }
          ],
          "scatterpolar": [
           {
            "marker": {
             "colorbar": {
              "outlinewidth": 0,
              "ticks": ""
             }
            },
            "type": "scatterpolar"
           }
          ],
          "scatterpolargl": [
           {
            "marker": {
             "colorbar": {
              "outlinewidth": 0,
              "ticks": ""
             }
            },
            "type": "scatterpolargl"
           }
          ],
          "scatterternary": [
           {
            "marker": {
             "colorbar": {
              "outlinewidth": 0,
              "ticks": ""
             }
            },
            "type": "scatterternary"
           }
          ],
          "surface": [
           {
            "colorbar": {
             "outlinewidth": 0,
             "ticks": ""
            },
            "colorscale": [
             [
              0,
              "#0d0887"
             ],
             [
              0.1111111111111111,
              "#46039f"
             ],
             [
              0.2222222222222222,
              "#7201a8"
             ],
             [
              0.3333333333333333,
              "#9c179e"
             ],
             [
              0.4444444444444444,
              "#bd3786"
             ],
             [
              0.5555555555555556,
              "#d8576b"
             ],
             [
              0.6666666666666666,
              "#ed7953"
             ],
             [
              0.7777777777777778,
              "#fb9f3a"
             ],
             [
              0.8888888888888888,
              "#fdca26"
             ],
             [
              1,
              "#f0f921"
             ]
            ],
            "type": "surface"
           }
          ],
          "table": [
           {
            "cells": {
             "fill": {
              "color": "#506784"
             },
             "line": {
              "color": "rgb(17,17,17)"
             }
            },
            "header": {
             "fill": {
              "color": "#2a3f5f"
             },
             "line": {
              "color": "rgb(17,17,17)"
             }
            },
            "type": "table"
           }
          ]
         },
         "layout": {
          "annotationdefaults": {
           "arrowcolor": "#f2f5fa",
           "arrowhead": 0,
           "arrowwidth": 1
          },
          "autotypenumbers": "strict",
          "coloraxis": {
           "colorbar": {
            "outlinewidth": 0,
            "ticks": ""
           }
          },
          "colorscale": {
           "diverging": [
            [
             0,
             "#8e0152"
            ],
            [
             0.1,
             "#c51b7d"
            ],
            [
             0.2,
             "#de77ae"
            ],
            [
             0.3,
             "#f1b6da"
            ],
            [
             0.4,
             "#fde0ef"
            ],
            [
             0.5,
             "#f7f7f7"
            ],
            [
             0.6,
             "#e6f5d0"
            ],
            [
             0.7,
             "#b8e186"
            ],
            [
             0.8,
             "#7fbc41"
            ],
            [
             0.9,
             "#4d9221"
            ],
            [
             1,
             "#276419"
            ]
           ],
           "sequential": [
            [
             0,
             "#0d0887"
            ],
            [
             0.1111111111111111,
             "#46039f"
            ],
            [
             0.2222222222222222,
             "#7201a8"
            ],
            [
             0.3333333333333333,
             "#9c179e"
            ],
            [
             0.4444444444444444,
             "#bd3786"
            ],
            [
             0.5555555555555556,
             "#d8576b"
            ],
            [
             0.6666666666666666,
             "#ed7953"
            ],
            [
             0.7777777777777778,
             "#fb9f3a"
            ],
            [
             0.8888888888888888,
             "#fdca26"
            ],
            [
             1,
             "#f0f921"
            ]
           ],
           "sequentialminus": [
            [
             0,
             "#0d0887"
            ],
            [
             0.1111111111111111,
             "#46039f"
            ],
            [
             0.2222222222222222,
             "#7201a8"
            ],
            [
             0.3333333333333333,
             "#9c179e"
            ],
            [
             0.4444444444444444,
             "#bd3786"
            ],
            [
             0.5555555555555556,
             "#d8576b"
            ],
            [
             0.6666666666666666,
             "#ed7953"
            ],
            [
             0.7777777777777778,
             "#fb9f3a"
            ],
            [
             0.8888888888888888,
             "#fdca26"
            ],
            [
             1,
             "#f0f921"
            ]
           ]
          },
          "colorway": [
           "#636efa",
           "#EF553B",
           "#00cc96",
           "#ab63fa",
           "#FFA15A",
           "#19d3f3",
           "#FF6692",
           "#B6E880",
           "#FF97FF",
           "#FECB52"
          ],
          "font": {
           "color": "#f2f5fa"
          },
          "geo": {
           "bgcolor": "rgb(17,17,17)",
           "lakecolor": "rgb(17,17,17)",
           "landcolor": "rgb(17,17,17)",
           "showlakes": true,
           "showland": true,
           "subunitcolor": "#506784"
          },
          "hoverlabel": {
           "align": "left"
          },
          "hovermode": "closest",
          "mapbox": {
           "style": "dark"
          },
          "paper_bgcolor": "rgb(17,17,17)",
          "plot_bgcolor": "rgb(17,17,17)",
          "polar": {
           "angularaxis": {
            "gridcolor": "#506784",
            "linecolor": "#506784",
            "ticks": ""
           },
           "bgcolor": "rgb(17,17,17)",
           "radialaxis": {
            "gridcolor": "#506784",
            "linecolor": "#506784",
            "ticks": ""
           }
          },
          "scene": {
           "xaxis": {
            "backgroundcolor": "rgb(17,17,17)",
            "gridcolor": "#506784",
            "gridwidth": 2,
            "linecolor": "#506784",
            "showbackground": true,
            "ticks": "",
            "zerolinecolor": "#C8D4E3"
           },
           "yaxis": {
            "backgroundcolor": "rgb(17,17,17)",
            "gridcolor": "#506784",
            "gridwidth": 2,
            "linecolor": "#506784",
            "showbackground": true,
            "ticks": "",
            "zerolinecolor": "#C8D4E3"
           },
           "zaxis": {
            "backgroundcolor": "rgb(17,17,17)",
            "gridcolor": "#506784",
            "gridwidth": 2,
            "linecolor": "#506784",
            "showbackground": true,
            "ticks": "",
            "zerolinecolor": "#C8D4E3"
           }
          },
          "shapedefaults": {
           "line": {
            "color": "#f2f5fa"
           }
          },
          "sliderdefaults": {
           "bgcolor": "#C8D4E3",
           "bordercolor": "rgb(17,17,17)",
           "borderwidth": 1,
           "tickwidth": 0
          },
          "ternary": {
           "aaxis": {
            "gridcolor": "#506784",
            "linecolor": "#506784",
            "ticks": ""
           },
           "baxis": {
            "gridcolor": "#506784",
            "linecolor": "#506784",
            "ticks": ""
           },
           "bgcolor": "rgb(17,17,17)",
           "caxis": {
            "gridcolor": "#506784",
            "linecolor": "#506784",
            "ticks": ""
           }
          },
          "title": {
           "x": 0.05
          },
          "updatemenudefaults": {
           "bgcolor": "#506784",
           "borderwidth": 0
          },
          "xaxis": {
           "automargin": true,
           "gridcolor": "#283442",
           "linecolor": "#506784",
           "ticks": "",
           "title": {
            "standoff": 15
           },
           "zerolinecolor": "#283442",
           "zerolinewidth": 2
          },
          "yaxis": {
           "automargin": true,
           "gridcolor": "#283442",
           "linecolor": "#506784",
           "ticks": "",
           "title": {
            "standoff": 15
           },
           "zerolinecolor": "#283442",
           "zerolinewidth": 2
          }
         }
        },
        "title": {
         "text": "Оптимизация: LightGBM (RMSE)"
        },
        "xaxis": {
         "anchor": "y",
         "domain": [
          0,
          0.46
         ]
        },
        "xaxis2": {
         "anchor": "y2",
         "domain": [
          0.54,
          1
         ]
        },
        "xaxis3": {
         "anchor": "y3",
         "domain": [
          0,
          0.46
         ]
        },
        "yaxis": {
         "anchor": "x",
         "domain": [
          0.56,
          1
         ]
        },
        "yaxis2": {
         "anchor": "x2",
         "domain": [
          0.56,
          1
         ]
        },
        "yaxis3": {
         "anchor": "x3",
         "domain": [
          0,
          0.44
         ]
        }
       }
      }
     },
     "metadata": {},
     "output_type": "display_data"
    },
    {
     "data": {
      "application/vnd.plotly.v1+json": {
       "config": {
        "plotlyServerURL": "https://plot.ly"
       },
       "data": [
        {
         "dimensions": [
          {
           "label": "Objective Value",
           "range": [
            -40.3596180441019,
            -38.71560736103378
           ],
           "values": [
            -39.04895306149868,
            -39.00921249280598,
            -40.129680411809005,
            -39.17530415396815,
            -38.82470980018718,
            -39.40817997566382,
            -39.73568403793367,
            -38.8969500291628,
            -38.74357568223308,
            -40.3596180441019,
            -38.947575363344434,
            -39.091867090004214,
            -38.9841634392806,
            -38.71560736103378,
            -38.794432583677
           ]
          },
          {
           "label": "learning_rate",
           "range": [
            0.11307396060810149,
            0.2954576071279697
           ],
           "values": [
            0.24743396749230429,
            0.11307396060810149,
            0.18817341121683526,
            0.22312810942127054,
            0.23429215067578027,
            0.15905269001742836,
            0.24577679130636276,
            0.1927182119465399,
            0.2018710975139461,
            0.18467790323700656,
            0.2819176721212423,
            0.2954576071279697,
            0.15367302164864644,
            0.22582167845724557,
            0.21829375213158192
           ]
          },
          {
           "label": "max_depth",
           "range": [
            10,
            24
           ],
           "values": [
            19,
            10,
            10,
            16,
            17,
            24,
            21,
            17,
            12,
            13,
            13,
            14,
            20,
            15,
            14
           ]
          },
          {
           "label": "n_estimators",
           "range": [
            608,
            1110
           ],
           "values": [
            862,
            1107,
            748,
            1088,
            770,
            702,
            1095,
            1110,
            841,
            608,
            958,
            854,
            776,
            953,
            968
           ]
          },
          {
           "label": "num_leaves",
           "range": [
            46,
            119
           ],
           "values": [
            89,
            106,
            53,
            63,
            112,
            84,
            46,
            75,
            119,
            54,
            119,
            118,
            101,
            103,
            97
           ]
          }
         ],
         "labelangle": 30,
         "labelside": "bottom",
         "line": {
          "color": [
           39.04895306149868,
           39.00921249280598,
           40.129680411809005,
           39.17530415396815,
           38.82470980018718,
           39.40817997566382,
           39.73568403793367,
           38.8969500291628,
           38.74357568223308,
           40.3596180441019,
           38.947575363344434,
           39.091867090004214,
           38.9841634392806,
           38.71560736103378,
           38.794432583677
          ],
          "colorbar": {
           "title": {
            "text": "RMSE"
           }
          },
          "colorscale": [
           [
            0,
            "rgb(150,0,90)"
           ],
           [
            0.125,
            "rgb(0,0,200)"
           ],
           [
            0.25,
            "rgb(0,25,255)"
           ],
           [
            0.375,
            "rgb(0,152,255)"
           ],
           [
            0.5,
            "rgb(44,255,150)"
           ],
           [
            0.625,
            "rgb(151,255,0)"
           ],
           [
            0.75,
            "rgb(255,234,0)"
           ],
           [
            0.875,
            "rgb(255,111,0)"
           ],
           [
            1,
            "rgb(255,0,0)"
           ]
          ],
          "reversescale": true,
          "showscale": true
         },
         "type": "parcoords"
        }
       ],
       "layout": {
        "height": 600,
        "template": {
         "data": {
          "bar": [
           {
            "error_x": {
             "color": "#f2f5fa"
            },
            "error_y": {
             "color": "#f2f5fa"
            },
            "marker": {
             "line": {
              "color": "rgb(17,17,17)",
              "width": 0.5
             },
             "pattern": {
              "fillmode": "overlay",
              "size": 10,
              "solidity": 0.2
             }
            },
            "type": "bar"
           }
          ],
          "barpolar": [
           {
            "marker": {
             "line": {
              "color": "rgb(17,17,17)",
              "width": 0.5
             },
             "pattern": {
              "fillmode": "overlay",
              "size": 10,
              "solidity": 0.2
             }
            },
            "type": "barpolar"
           }
          ],
          "carpet": [
           {
            "aaxis": {
             "endlinecolor": "#A2B1C6",
             "gridcolor": "#506784",
             "linecolor": "#506784",
             "minorgridcolor": "#506784",
             "startlinecolor": "#A2B1C6"
            },
            "baxis": {
             "endlinecolor": "#A2B1C6",
             "gridcolor": "#506784",
             "linecolor": "#506784",
             "minorgridcolor": "#506784",
             "startlinecolor": "#A2B1C6"
            },
            "type": "carpet"
           }
          ],
          "choropleth": [
           {
            "colorbar": {
             "outlinewidth": 0,
             "ticks": ""
            },
            "type": "choropleth"
           }
          ],
          "contour": [
           {
            "colorbar": {
             "outlinewidth": 0,
             "ticks": ""
            },
            "colorscale": [
             [
              0,
              "#0d0887"
             ],
             [
              0.1111111111111111,
              "#46039f"
             ],
             [
              0.2222222222222222,
              "#7201a8"
             ],
             [
              0.3333333333333333,
              "#9c179e"
             ],
             [
              0.4444444444444444,
              "#bd3786"
             ],
             [
              0.5555555555555556,
              "#d8576b"
             ],
             [
              0.6666666666666666,
              "#ed7953"
             ],
             [
              0.7777777777777778,
              "#fb9f3a"
             ],
             [
              0.8888888888888888,
              "#fdca26"
             ],
             [
              1,
              "#f0f921"
             ]
            ],
            "type": "contour"
           }
          ],
          "contourcarpet": [
           {
            "colorbar": {
             "outlinewidth": 0,
             "ticks": ""
            },
            "type": "contourcarpet"
           }
          ],
          "heatmap": [
           {
            "colorbar": {
             "outlinewidth": 0,
             "ticks": ""
            },
            "colorscale": [
             [
              0,
              "#0d0887"
             ],
             [
              0.1111111111111111,
              "#46039f"
             ],
             [
              0.2222222222222222,
              "#7201a8"
             ],
             [
              0.3333333333333333,
              "#9c179e"
             ],
             [
              0.4444444444444444,
              "#bd3786"
             ],
             [
              0.5555555555555556,
              "#d8576b"
             ],
             [
              0.6666666666666666,
              "#ed7953"
             ],
             [
              0.7777777777777778,
              "#fb9f3a"
             ],
             [
              0.8888888888888888,
              "#fdca26"
             ],
             [
              1,
              "#f0f921"
             ]
            ],
            "type": "heatmap"
           }
          ],
          "histogram": [
           {
            "marker": {
             "pattern": {
              "fillmode": "overlay",
              "size": 10,
              "solidity": 0.2
             }
            },
            "type": "histogram"
           }
          ],
          "histogram2d": [
           {
            "colorbar": {
             "outlinewidth": 0,
             "ticks": ""
            },
            "colorscale": [
             [
              0,
              "#0d0887"
             ],
             [
              0.1111111111111111,
              "#46039f"
             ],
             [
              0.2222222222222222,
              "#7201a8"
             ],
             [
              0.3333333333333333,
              "#9c179e"
             ],
             [
              0.4444444444444444,
              "#bd3786"
             ],
             [
              0.5555555555555556,
              "#d8576b"
             ],
             [
              0.6666666666666666,
              "#ed7953"
             ],
             [
              0.7777777777777778,
              "#fb9f3a"
             ],
             [
              0.8888888888888888,
              "#fdca26"
             ],
             [
              1,
              "#f0f921"
             ]
            ],
            "type": "histogram2d"
           }
          ],
          "histogram2dcontour": [
           {
            "colorbar": {
             "outlinewidth": 0,
             "ticks": ""
            },
            "colorscale": [
             [
              0,
              "#0d0887"
             ],
             [
              0.1111111111111111,
              "#46039f"
             ],
             [
              0.2222222222222222,
              "#7201a8"
             ],
             [
              0.3333333333333333,
              "#9c179e"
             ],
             [
              0.4444444444444444,
              "#bd3786"
             ],
             [
              0.5555555555555556,
              "#d8576b"
             ],
             [
              0.6666666666666666,
              "#ed7953"
             ],
             [
              0.7777777777777778,
              "#fb9f3a"
             ],
             [
              0.8888888888888888,
              "#fdca26"
             ],
             [
              1,
              "#f0f921"
             ]
            ],
            "type": "histogram2dcontour"
           }
          ],
          "mesh3d": [
           {
            "colorbar": {
             "outlinewidth": 0,
             "ticks": ""
            },
            "type": "mesh3d"
           }
          ],
          "parcoords": [
           {
            "line": {
             "colorbar": {
              "outlinewidth": 0,
              "ticks": ""
             }
            },
            "type": "parcoords"
           }
          ],
          "pie": [
           {
            "automargin": true,
            "type": "pie"
           }
          ],
          "scatter": [
           {
            "marker": {
             "line": {
              "color": "#283442"
             }
            },
            "type": "scatter"
           }
          ],
          "scatter3d": [
           {
            "line": {
             "colorbar": {
              "outlinewidth": 0,
              "ticks": ""
             }
            },
            "marker": {
             "colorbar": {
              "outlinewidth": 0,
              "ticks": ""
             }
            },
            "type": "scatter3d"
           }
          ],
          "scattercarpet": [
           {
            "marker": {
             "colorbar": {
              "outlinewidth": 0,
              "ticks": ""
             }
            },
            "type": "scattercarpet"
           }
          ],
          "scattergeo": [
           {
            "marker": {
             "colorbar": {
              "outlinewidth": 0,
              "ticks": ""
             }
            },
            "type": "scattergeo"
           }
          ],
          "scattergl": [
           {
            "marker": {
             "line": {
              "color": "#283442"
             }
            },
            "type": "scattergl"
           }
          ],
          "scattermap": [
           {
            "marker": {
             "colorbar": {
              "outlinewidth": 0,
              "ticks": ""
             }
            },
            "type": "scattermap"
           }
          ],
          "scattermapbox": [
           {
            "marker": {
             "colorbar": {
              "outlinewidth": 0,
              "ticks": ""
             }
            },
            "type": "scattermapbox"
           }
          ],
          "scatterpolar": [
           {
            "marker": {
             "colorbar": {
              "outlinewidth": 0,
              "ticks": ""
             }
            },
            "type": "scatterpolar"
           }
          ],
          "scatterpolargl": [
           {
            "marker": {
             "colorbar": {
              "outlinewidth": 0,
              "ticks": ""
             }
            },
            "type": "scatterpolargl"
           }
          ],
          "scatterternary": [
           {
            "marker": {
             "colorbar": {
              "outlinewidth": 0,
              "ticks": ""
             }
            },
            "type": "scatterternary"
           }
          ],
          "surface": [
           {
            "colorbar": {
             "outlinewidth": 0,
             "ticks": ""
            },
            "colorscale": [
             [
              0,
              "#0d0887"
             ],
             [
              0.1111111111111111,
              "#46039f"
             ],
             [
              0.2222222222222222,
              "#7201a8"
             ],
             [
              0.3333333333333333,
              "#9c179e"
             ],
             [
              0.4444444444444444,
              "#bd3786"
             ],
             [
              0.5555555555555556,
              "#d8576b"
             ],
             [
              0.6666666666666666,
              "#ed7953"
             ],
             [
              0.7777777777777778,
              "#fb9f3a"
             ],
             [
              0.8888888888888888,
              "#fdca26"
             ],
             [
              1,
              "#f0f921"
             ]
            ],
            "type": "surface"
           }
          ],
          "table": [
           {
            "cells": {
             "fill": {
              "color": "#506784"
             },
             "line": {
              "color": "rgb(17,17,17)"
             }
            },
            "header": {
             "fill": {
              "color": "#2a3f5f"
             },
             "line": {
              "color": "rgb(17,17,17)"
             }
            },
            "type": "table"
           }
          ]
         },
         "layout": {
          "annotationdefaults": {
           "arrowcolor": "#f2f5fa",
           "arrowhead": 0,
           "arrowwidth": 1
          },
          "autotypenumbers": "strict",
          "coloraxis": {
           "colorbar": {
            "outlinewidth": 0,
            "ticks": ""
           }
          },
          "colorscale": {
           "diverging": [
            [
             0,
             "#8e0152"
            ],
            [
             0.1,
             "#c51b7d"
            ],
            [
             0.2,
             "#de77ae"
            ],
            [
             0.3,
             "#f1b6da"
            ],
            [
             0.4,
             "#fde0ef"
            ],
            [
             0.5,
             "#f7f7f7"
            ],
            [
             0.6,
             "#e6f5d0"
            ],
            [
             0.7,
             "#b8e186"
            ],
            [
             0.8,
             "#7fbc41"
            ],
            [
             0.9,
             "#4d9221"
            ],
            [
             1,
             "#276419"
            ]
           ],
           "sequential": [
            [
             0,
             "#0d0887"
            ],
            [
             0.1111111111111111,
             "#46039f"
            ],
            [
             0.2222222222222222,
             "#7201a8"
            ],
            [
             0.3333333333333333,
             "#9c179e"
            ],
            [
             0.4444444444444444,
             "#bd3786"
            ],
            [
             0.5555555555555556,
             "#d8576b"
            ],
            [
             0.6666666666666666,
             "#ed7953"
            ],
            [
             0.7777777777777778,
             "#fb9f3a"
            ],
            [
             0.8888888888888888,
             "#fdca26"
            ],
            [
             1,
             "#f0f921"
            ]
           ],
           "sequentialminus": [
            [
             0,
             "#0d0887"
            ],
            [
             0.1111111111111111,
             "#46039f"
            ],
            [
             0.2222222222222222,
             "#7201a8"
            ],
            [
             0.3333333333333333,
             "#9c179e"
            ],
            [
             0.4444444444444444,
             "#bd3786"
            ],
            [
             0.5555555555555556,
             "#d8576b"
            ],
            [
             0.6666666666666666,
             "#ed7953"
            ],
            [
             0.7777777777777778,
             "#fb9f3a"
            ],
            [
             0.8888888888888888,
             "#fdca26"
            ],
            [
             1,
             "#f0f921"
            ]
           ]
          },
          "colorway": [
           "#636efa",
           "#EF553B",
           "#00cc96",
           "#ab63fa",
           "#FFA15A",
           "#19d3f3",
           "#FF6692",
           "#B6E880",
           "#FF97FF",
           "#FECB52"
          ],
          "font": {
           "color": "#f2f5fa"
          },
          "geo": {
           "bgcolor": "rgb(17,17,17)",
           "lakecolor": "rgb(17,17,17)",
           "landcolor": "rgb(17,17,17)",
           "showlakes": true,
           "showland": true,
           "subunitcolor": "#506784"
          },
          "hoverlabel": {
           "align": "left"
          },
          "hovermode": "closest",
          "mapbox": {
           "style": "dark"
          },
          "paper_bgcolor": "rgb(17,17,17)",
          "plot_bgcolor": "rgb(17,17,17)",
          "polar": {
           "angularaxis": {
            "gridcolor": "#506784",
            "linecolor": "#506784",
            "ticks": ""
           },
           "bgcolor": "rgb(17,17,17)",
           "radialaxis": {
            "gridcolor": "#506784",
            "linecolor": "#506784",
            "ticks": ""
           }
          },
          "scene": {
           "xaxis": {
            "backgroundcolor": "rgb(17,17,17)",
            "gridcolor": "#506784",
            "gridwidth": 2,
            "linecolor": "#506784",
            "showbackground": true,
            "ticks": "",
            "zerolinecolor": "#C8D4E3"
           },
           "yaxis": {
            "backgroundcolor": "rgb(17,17,17)",
            "gridcolor": "#506784",
            "gridwidth": 2,
            "linecolor": "#506784",
            "showbackground": true,
            "ticks": "",
            "zerolinecolor": "#C8D4E3"
           },
           "zaxis": {
            "backgroundcolor": "rgb(17,17,17)",
            "gridcolor": "#506784",
            "gridwidth": 2,
            "linecolor": "#506784",
            "showbackground": true,
            "ticks": "",
            "zerolinecolor": "#C8D4E3"
           }
          },
          "shapedefaults": {
           "line": {
            "color": "#f2f5fa"
           }
          },
          "sliderdefaults": {
           "bgcolor": "#C8D4E3",
           "bordercolor": "rgb(17,17,17)",
           "borderwidth": 1,
           "tickwidth": 0
          },
          "ternary": {
           "aaxis": {
            "gridcolor": "#506784",
            "linecolor": "#506784",
            "ticks": ""
           },
           "baxis": {
            "gridcolor": "#506784",
            "linecolor": "#506784",
            "ticks": ""
           },
           "bgcolor": "rgb(17,17,17)",
           "caxis": {
            "gridcolor": "#506784",
            "linecolor": "#506784",
            "ticks": ""
           }
          },
          "title": {
           "x": 0.05
          },
          "updatemenudefaults": {
           "bgcolor": "#506784",
           "borderwidth": 0
          },
          "xaxis": {
           "automargin": true,
           "gridcolor": "#283442",
           "linecolor": "#506784",
           "ticks": "",
           "title": {
            "standoff": 15
           },
           "zerolinecolor": "#283442",
           "zerolinewidth": 2
          },
          "yaxis": {
           "automargin": true,
           "gridcolor": "#283442",
           "linecolor": "#506784",
           "ticks": "",
           "title": {
            "standoff": 15
           },
           "zerolinecolor": "#283442",
           "zerolinewidth": 2
          }
         }
        },
        "title": {
         "text": "Параллельные координаты: LightGBM"
        }
       }
      }
     },
     "metadata": {},
     "output_type": "display_data"
    }
   ],
   "source": [
    "analyze_optuna(\n",
    "        'LightGBM', \n",
    "        lgbm_optuna, \n",
    "        results, \n",
    "        best_params,\n",
    "        3\n",
    "        )"
   ]
  },
  {
   "cell_type": "markdown",
   "id": "3c232023",
   "metadata": {},
   "source": [
    "![lgbm1](images/lgbm1.png)\n",
    "![lgbm2](images/lgbm2.png)"
   ]
  },
  {
   "cell_type": "markdown",
   "id": "49ccaae2",
   "metadata": {},
   "source": [
    "### ZeroInflated подход с моделями Catboost"
   ]
  },
  {
   "cell_type": "code",
   "execution_count": 166,
   "id": "4f185bfd",
   "metadata": {},
   "outputs": [],
   "source": [
    "class ZeroInflatedRegressor(BaseEstimator, RegressorMixin):\n",
    "    def __init__(self, classifier, regressor, threshold=0.5, use_log_transform=True):\n",
    "        self.classifier = classifier\n",
    "        self.regressor = regressor\n",
    "        self.threshold = threshold\n",
    "        self.use_log_transform = use_log_transform\n",
    "\n",
    "    def fit(self, X, y):\n",
    "        y_bin = (y > 0).astype(int)\n",
    "\n",
    "        self.classifier_ = clone(self.classifier)\n",
    "        self.classifier_.fit(X, y_bin)\n",
    "\n",
    "        mask = y > 0\n",
    "        if np.any(mask):\n",
    "            y_reg = y[mask]\n",
    "            if self.use_log_transform:\n",
    "                y_reg = np.log1p(y_reg)\n",
    "            \n",
    "            self.regressor_ = clone(self.regressor)\n",
    "            self.regressor_.fit(X[mask], y_reg)\n",
    "\n",
    "        return self\n",
    "\n",
    "    def predict(self, X):\n",
    "        prob_nonzero = self.classifier_.predict_proba(X)[:, 1]\n",
    "        is_nonzero = prob_nonzero >= self.threshold\n",
    "\n",
    "        y_pred = np.zeros(len(X))\n",
    "        if np.any(is_nonzero):\n",
    "            y_pred_reg = self.regressor_.predict(X[is_nonzero])\n",
    "            \n",
    "            if self.use_log_transform:\n",
    "                y_pred_reg = np.expm1(y_pred_reg)\n",
    "            \n",
    "            y_pred[is_nonzero] = np.clip(y_pred_reg, 0, None)\n",
    "        \n",
    "        return y_pred\n",
    "    \n",
    "def analyze_zir_optuna(model_name: str,\n",
    "                       cls_optuna: OptunaSearchCV,\n",
    "                       reg_optuna: OptunaSearchCV, \n",
    "                       X: pd.DataFrame, \n",
    "                       y: pd.Series, \n",
    "                       cls_threshold: float, \n",
    "                       results: pd.DataFrame,\n",
    "                       best_params: dict, \n",
    "                       n: int\n",
    "                       ):\n",
    "    '''\n",
    "    Анализ двух Optuna (классификатор и регрессор), вывод и сохранение лучших скорoв и параметров, построение графиков\n",
    "    params:\n",
    "        model_name: str\n",
    "            Имя модели\n",
    "        cls_optuna: OptunaSearchCV\n",
    "            объект OptunaSearchCV для классификатора из ZeroInflatedRegressor\n",
    "        reg_optuna: OptunaSearchCV\n",
    "            объект OptunaSearchCV для регрессора из ZeroInflatedRegressor\n",
    "        X: pd.DataFrame\n",
    "            pandas Датасет фичей для измерения скора на кросс валидации\n",
    "        y: pd.Series\n",
    "            pandas вектор целевого показателя для измерения скора на кросс валидации\n",
    "        cls_threshold: float\n",
    "            порог уверенности для классификатора из ZeroInflatedRegressor\n",
    "        results: pd.DataFrame\n",
    "            Датафрейм для сохранения результатов в виде ['Имя модели', метрика] \n",
    "        best_params: dict\n",
    "            Словарь для сохранения словарей с параметрами. ключ это имя модели\n",
    "        n: int\n",
    "            индекс в словаре результатов\n",
    "    '''\n",
    "\n",
    "    print(f'Результаты по {model_name} модели')\n",
    "\n",
    "    # --- Классификатор ---\n",
    "    cls_best_score = cls_optuna.cv_results_['mean_test_score'][cls_optuna.best_index_]\n",
    "    cls_best_params = cls_optuna.best_params_\n",
    "    print(f\"{'='*50}\\nКлассификатор\\n{'='*50}\")\n",
    "    print(f\"Лучший F1: {cls_best_score:.4f}\")\n",
    "    print(f\"Лучшие параметры: {cls_best_params}\")\n",
    "    \n",
    "\n",
    "    # --- Регрессор ---\n",
    "    reg_best_score = -reg_optuna.cv_results_['mean_test_score'][reg_optuna.best_index_]\n",
    "    reg_best_params = reg_optuna.best_params_\n",
    "    print(f\"{'='*50}\\nРегрессор\\n{'='*50}\")\n",
    "    print(f\"Лучший RMSE: {reg_best_score:.4f}\")\n",
    "    print(f\"Лучшие параметры: {reg_best_params}\")\n",
    "\n",
    "    # --- Итоговый RMSE через ZeroInflatedRegressor ---\n",
    "    zir = ZeroInflatedRegressor(\n",
    "        cls_optuna.best_estimator_, \n",
    "        reg_optuna.best_estimator_, \n",
    "        threshold=cls_threshold\n",
    "        )\n",
    "   \n",
    "    overall_rmse = -cross_val_score(zir, X, y, cv=cv, scoring='neg_root_mean_squared_error').mean()\n",
    "    print(f\"Общий RMSE ZeroInflated (CV): {overall_rmse:.4f}\")\n",
    "\n",
    "    # Построение графиков\n",
    "    plot_optuna_results(f'{model_name}_Classifier', cls_optuna)\n",
    "    plot_optuna_results(f'{model_name}_Regressor', reg_optuna, greater_is_better=False)\n",
    "\n",
    "    # зафиксировали\n",
    "    results.loc[n] = [model_name, overall_rmse]\n",
    "    best_params[f'zip_{model_name}_classifier'] = cls_best_params\n",
    "    best_params[f'zip_{model_name}_regressor'] = reg_best_params"
   ]
  },
  {
   "cell_type": "code",
   "execution_count": 184,
   "id": "3e2b03ec",
   "metadata": {},
   "outputs": [
    {
     "name": "stderr",
     "output_type": "stream",
     "text": [
      "[I 2025-09-27 03:13:17,207] A new study created in memory with name: no-name-25f757ce-664d-4bf1-b1cd-b8817affa77e\n",
      "[I 2025-09-27 03:14:56,861] Trial 0 finished with value: 0.8711518061122154 and parameters: {'n_estimators': 1150, 'max_depth': 12, 'learning_rate': 0.15006226911768908, 'reg_lambda': 4.760258082340148, 'subsample': 0.9225149382369955, 'colsample_bytree': 0.5089093075686137}. Best is trial 0 with value: 0.8711518061122154.\n",
      "[I 2025-09-27 03:17:06,353] Trial 1 finished with value: 0.8712024938360107 and parameters: {'n_estimators': 852, 'max_depth': 14, 'learning_rate': 0.056925530504277885, 'reg_lambda': 0.5398593273569089, 'subsample': 0.7204335280420882, 'colsample_bytree': 0.582505648087539}. Best is trial 1 with value: 0.8712024938360107.\n",
      "[I 2025-09-27 03:18:16,220] Trial 2 finished with value: 0.8658513184239015 and parameters: {'n_estimators': 1450, 'max_depth': 9, 'learning_rate': 0.12697170395020702, 'reg_lambda': 1.4450531627950758, 'subsample': 0.6419389971116406, 'colsample_bytree': 0.7440476693621333}. Best is trial 1 with value: 0.8712024938360107.\n",
      "[I 2025-09-27 03:23:00,530] Trial 3 finished with value: 0.8670098949677952 and parameters: {'n_estimators': 1337, 'max_depth': 15, 'learning_rate': 0.04226039042718969, 'reg_lambda': 17.004922729788525, 'subsample': 0.6476317250435709, 'colsample_bytree': 0.7755371139583936}. Best is trial 1 with value: 0.8712024938360107.\n",
      "[I 2025-09-27 03:25:03,877] Trial 4 finished with value: 0.8717745410045583 and parameters: {'n_estimators': 1460, 'max_depth': 13, 'learning_rate': 0.14848795174104462, 'reg_lambda': 0.6686576902049697, 'subsample': 0.9244761145861984, 'colsample_bytree': 0.7641860262697604}. Best is trial 4 with value: 0.8717745410045583.\n",
      "[I 2025-09-27 03:26:01,360] Trial 5 finished with value: 0.8629621181675664 and parameters: {'n_estimators': 1171, 'max_depth': 9, 'learning_rate': 0.0864671079956413, 'reg_lambda': 0.867430794055704, 'subsample': 0.7546777437848653, 'colsample_bytree': 0.9928543104483593}. Best is trial 4 with value: 0.8717745410045583.\n",
      "[I 2025-09-27 03:26:18,880] Trial 6 finished with value: 0.8197580747354282 and parameters: {'n_estimators': 811, 'max_depth': 6, 'learning_rate': 0.09044400807515623, 'reg_lambda': 0.9532599704902551, 'subsample': 0.8602001121476397, 'colsample_bytree': 0.8270961989340433}. Best is trial 4 with value: 0.8717745410045583.\n",
      "[I 2025-09-27 03:26:49,384] Trial 7 finished with value: 0.8487261088844719 and parameters: {'n_estimators': 1080, 'max_depth': 7, 'learning_rate': 0.14543604850630543, 'reg_lambda': 2.135625637292272, 'subsample': 0.8001144029445195, 'colsample_bytree': 0.9257402888146116}. Best is trial 4 with value: 0.8717745410045583.\n",
      "[I 2025-09-27 03:27:56,528] Trial 8 finished with value: 0.8681720920633887 and parameters: {'n_estimators': 1169, 'max_depth': 10, 'learning_rate': 0.17625549364791543, 'reg_lambda': 0.8129656935052969, 'subsample': 0.8137466477479156, 'colsample_bytree': 0.802755936463714}. Best is trial 4 with value: 0.8717745410045583.\n",
      "[I 2025-09-27 03:30:31,943] Trial 9 finished with value: 0.8703190792212917 and parameters: {'n_estimators': 1318, 'max_depth': 13, 'learning_rate': 0.16153618547769932, 'reg_lambda': 12.370122496402335, 'subsample': 0.926264264655557, 'colsample_bytree': 0.8277002167224105}. Best is trial 4 with value: 0.8717745410045583.\n",
      "[I 2025-09-27 03:30:53,567] Trial 10 finished with value: 0.8139977769812564 and parameters: {'n_estimators': 1593, 'max_depth': 4, 'learning_rate': 0.18750970781440762, 'reg_lambda': 4.939830654151554, 'subsample': 0.997015257877998, 'colsample_bytree': 0.6569526049330938}. Best is trial 4 with value: 0.8717745410045583.\n",
      "[I 2025-09-27 03:34:04,032] Trial 11 finished with value: 0.8705616561851693 and parameters: {'n_estimators': 910, 'max_depth': 16, 'learning_rate': 0.03620945051476189, 'reg_lambda': 0.51572543360321, 'subsample': 0.5328124521852126, 'colsample_bytree': 0.6099138450092002}. Best is trial 4 with value: 0.8717745410045583.\n",
      "[I 2025-09-27 03:36:00,813] Trial 12 finished with value: 0.8710178456993276 and parameters: {'n_estimators': 985, 'max_depth': 13, 'learning_rate': 0.06278676453686541, 'reg_lambda': 0.5307318026756739, 'subsample': 0.6644343013429577, 'colsample_bytree': 0.6707506406080849}. Best is trial 4 with value: 0.8717745410045583.\n",
      "[I 2025-09-27 03:38:49,685] Trial 13 finished with value: 0.8701344310846086 and parameters: {'n_estimators': 1527, 'max_depth': 14, 'learning_rate': 0.1178216138858314, 'reg_lambda': 1.9824727420693706, 'subsample': 0.6991628399480465, 'colsample_bytree': 0.5125514953790034}. Best is trial 4 with value: 0.8717745410045583.\n",
      "[I 2025-09-27 03:40:31,609] Trial 14 finished with value: 0.8674769461370523 and parameters: {'n_estimators': 1319, 'max_depth': 11, 'learning_rate': 0.07233571953704648, 'reg_lambda': 1.2766568887615761, 'subsample': 0.5299415232860739, 'colsample_bytree': 0.5714673767196949}. Best is trial 4 with value: 0.8717745410045583.\n",
      "[I 2025-09-27 03:44:24,083] Trial 15 finished with value: 0.8707463043218525 and parameters: {'n_estimators': 1412, 'max_depth': 16, 'learning_rate': 0.10794355869182869, 'reg_lambda': 3.6048865701168253, 'subsample': 0.7246937174630704, 'colsample_bytree': 0.7211451076136179}. Best is trial 4 with value: 0.8717745410045583.\n",
      "[I 2025-09-27 03:47:02,753] Trial 16 finished with value: 0.867534874964247 and parameters: {'n_estimators': 983, 'max_depth': 14, 'learning_rate': 0.027114030946475475, 'reg_lambda': 0.5240477048325767, 'subsample': 0.5872913253017669, 'colsample_bytree': 0.8865277951638298}. Best is trial 4 with value: 0.8717745410045583.\n",
      "[I 2025-09-27 03:48:15,645] Trial 17 finished with value: 0.8569230379325202 and parameters: {'n_estimators': 818, 'max_depth': 12, 'learning_rate': 0.05532721694492716, 'reg_lambda': 2.19219949505133, 'subsample': 0.998827826319536, 'colsample_bytree': 0.6895285291755074}. Best is trial 4 with value: 0.8717745410045583.\n",
      "[I 2025-09-27 03:50:55,715] Trial 18 finished with value: 0.8448919446345234 and parameters: {'n_estimators': 1063, 'max_depth': 14, 'learning_rate': 0.01736208030112374, 'reg_lambda': 8.228902646286175, 'subsample': 0.8820959413135415, 'colsample_bytree': 0.5914994243407229}. Best is trial 4 with value: 0.8717745410045583.\n",
      "[I 2025-09-27 03:52:25,111] Trial 19 finished with value: 0.8704928657028758 and parameters: {'n_estimators': 1270, 'max_depth': 11, 'learning_rate': 0.1303891687426038, 'reg_lambda': 0.7733915648486454, 'subsample': 0.7833652418594198, 'colsample_bytree': 0.87290260683593}. Best is trial 4 with value: 0.8717745410045583.\n",
      "[I 2025-09-27 04:00:22,328] Trial 20 finished with value: 0.8708223359075457 and parameters: {'n_estimators': 1445, 'max_depth': 16, 'learning_rate': 0.19528509037635422, 'reg_lambda': 1.3881361759344875, 'subsample': 0.8624472884306997, 'colsample_bytree': 0.6392375158487437}. Best is trial 4 with value: 0.8717745410045583.\n",
      "[I 2025-09-27 04:01:55,487] Trial 21 finished with value: 0.8702720120491959 and parameters: {'n_estimators': 1117, 'max_depth': 12, 'learning_rate': 0.14959986402207245, 'reg_lambda': 4.885151874042951, 'subsample': 0.9379002685054655, 'colsample_bytree': 0.5043140041043721}. Best is trial 4 with value: 0.8717745410045583.\n",
      "[I 2025-09-27 04:03:18,492] Trial 22 finished with value: 0.8690120600577117 and parameters: {'n_estimators': 917, 'max_depth': 12, 'learning_rate': 0.162773749652191, 'reg_lambda': 8.264815859974618, 'subsample': 0.9105555138038519, 'colsample_bytree': 0.5397505257137176}. Best is trial 4 with value: 0.8717745410045583.\n",
      "[I 2025-09-27 04:05:13,786] Trial 23 finished with value: 0.8719772918997397 and parameters: {'n_estimators': 1232, 'max_depth': 13, 'learning_rate': 0.13939516947129482, 'reg_lambda': 3.070988518461041, 'subsample': 0.9592821746561934, 'colsample_bytree': 0.5509137308831533}. Best is trial 23 with value: 0.8719772918997397.\n",
      "[I 2025-09-27 04:07:49,848] Trial 24 finished with value: 0.8736536073366858 and parameters: {'n_estimators': 1239, 'max_depth': 15, 'learning_rate': 0.09303645358606316, 'reg_lambda': 0.7058487033109733, 'subsample': 0.9687449594034963, 'colsample_bytree': 0.5619417714322633}. Best is trial 24 with value: 0.8736536073366858.\n",
      "[I 2025-09-27 04:10:24,377] Trial 25 finished with value: 0.8732662083048215 and parameters: {'n_estimators': 1218, 'max_depth': 15, 'learning_rate': 0.10175133025977026, 'reg_lambda': 1.1162765946292352, 'subsample': 0.9676489928037775, 'colsample_bytree': 0.7216441101258708}. Best is trial 24 with value: 0.8736536073366858.\n",
      "[I 2025-09-27 04:13:15,127] Trial 26 finished with value: 0.8725855445852839 and parameters: {'n_estimators': 1231, 'max_depth': 15, 'learning_rate': 0.09772263873770666, 'reg_lambda': 2.9315983513689496, 'subsample': 0.9649884645564353, 'colsample_bytree': 0.6261825054975297}. Best is trial 24 with value: 0.8736536073366858.\n",
      "[I 2025-09-27 04:15:54,045] Trial 27 finished with value: 0.8734327536830063 and parameters: {'n_estimators': 1237, 'max_depth': 15, 'learning_rate': 0.09303214389766572, 'reg_lambda': 1.1061078372795514, 'subsample': 0.9731127128358558, 'colsample_bytree': 0.6983033001530615}. Best is trial 24 with value: 0.8736536073366858.\n"
     ]
    }
   ],
   "source": [
    "xgb_cls_model = XGBClassifier(\n",
    "    random_state=SEED,\n",
    "    tree_method='gpu_hist',\n",
    "    use_label_encoder=False,\n",
    "    eval_metric='logloss',\n",
    ")\n",
    "\n",
    "xgb_cls_params = {\n",
    "    \"n_estimators\": dist.IntDistribution(800, 1600),\n",
    "    \"max_depth\": dist.IntDistribution(4, 16),\n",
    "    \"learning_rate\": dist.FloatDistribution(0.01, 0.2),\n",
    "    \"reg_lambda\": dist.FloatDistribution(0.5, 20, log=True),\n",
    "    \"subsample\": dist.FloatDistribution(0.5, 1.0),\n",
    "    \"colsample_bytree\": dist.FloatDistribution(0.5, 1.0),\n",
    "}\n",
    "\n",
    "xgb_cls_optuna = OptunaSearchCV(\n",
    "    xgb_cls_model,\n",
    "    xgb_cls_params,\n",
    "    cv=cv,\n",
    "    n_trials=200,\n",
    "    scoring=\"accuracy\",\n",
    "    refit=True,\n",
    "    random_state=SEED,\n",
    "    n_jobs=1,\n",
    "    verbose=1,\n",
    "    timeout=3600,\n",
    "    callbacks=[\n",
    "        optuna.study.MaxTrialsCallback(200, states=(optuna.trial.TrialState.COMPLETE,)),\n",
    "    ],\n",
    ")\n",
    "\n",
    "xgb_cls_optuna.fit(X_train_preprocessed, y_train_bin)\n",
    "best_xgb_cls_model = xgb_cls_optuna.best_estimator_"
   ]
  },
  {
   "cell_type": "code",
   "execution_count": 185,
   "id": "6c125df0",
   "metadata": {},
   "outputs": [
    {
     "name": "stdout",
     "output_type": "stream",
     "text": [
      "1/80 | threshold=0.100 | f1=0.7094\n",
      "2/80 | threshold=0.110 | f1=0.7135\n",
      "3/80 | threshold=0.120 | f1=0.7167\n",
      "4/80 | threshold=0.130 | f1=0.7199\n",
      "5/80 | threshold=0.140 | f1=0.7228\n",
      "6/80 | threshold=0.150 | f1=0.7251\n",
      "7/80 | threshold=0.160 | f1=0.7267\n",
      "8/80 | threshold=0.170 | f1=0.7281\n",
      "9/80 | threshold=0.180 | f1=0.7296\n",
      "10/80 | threshold=0.190 | f1=0.7310\n",
      "11/80 | threshold=0.200 | f1=0.7321\n",
      "12/80 | threshold=0.210 | f1=0.7328\n",
      "13/80 | threshold=0.220 | f1=0.7339\n",
      "14/80 | threshold=0.230 | f1=0.7345\n",
      "15/80 | threshold=0.240 | f1=0.7350\n",
      "16/80 | threshold=0.250 | f1=0.7358\n",
      "17/80 | threshold=0.260 | f1=0.7362\n",
      "18/80 | threshold=0.270 | f1=0.7362\n",
      "19/80 | threshold=0.280 | f1=0.7364\n",
      "20/80 | threshold=0.290 | f1=0.7369\n",
      "21/80 | threshold=0.300 | f1=0.7368\n",
      "22/80 | threshold=0.310 | f1=0.7367\n",
      "23/80 | threshold=0.320 | f1=0.7370\n",
      "24/80 | threshold=0.330 | f1=0.7368\n",
      "25/80 | threshold=0.340 | f1=0.7366\n",
      "26/80 | threshold=0.350 | f1=0.7366\n",
      "27/80 | threshold=0.360 | f1=0.7363\n",
      "28/80 | threshold=0.370 | f1=0.7360\n",
      "29/80 | threshold=0.380 | f1=0.7358\n",
      "30/80 | threshold=0.390 | f1=0.7355\n",
      "31/80 | threshold=0.400 | f1=0.7350\n",
      "32/80 | threshold=0.410 | f1=0.7345\n",
      "33/80 | threshold=0.420 | f1=0.7341\n",
      "34/80 | threshold=0.430 | f1=0.7337\n",
      "35/80 | threshold=0.440 | f1=0.7331\n",
      "36/80 | threshold=0.450 | f1=0.7324\n",
      "37/80 | threshold=0.460 | f1=0.7317\n",
      "38/80 | threshold=0.470 | f1=0.7309\n",
      "39/80 | threshold=0.480 | f1=0.7305\n",
      "40/80 | threshold=0.490 | f1=0.7293\n",
      "41/80 | threshold=0.500 | f1=0.7286\n",
      "42/80 | threshold=0.510 | f1=0.7277\n",
      "43/80 | threshold=0.520 | f1=0.7269\n",
      "44/80 | threshold=0.530 | f1=0.7260\n",
      "45/80 | threshold=0.540 | f1=0.7249\n",
      "46/80 | threshold=0.550 | f1=0.7242\n",
      "47/80 | threshold=0.560 | f1=0.7231\n",
      "48/80 | threshold=0.570 | f1=0.7223\n",
      "49/80 | threshold=0.580 | f1=0.7215\n",
      "50/80 | threshold=0.590 | f1=0.7205\n",
      "51/80 | threshold=0.600 | f1=0.7197\n",
      "52/80 | threshold=0.610 | f1=0.7187\n",
      "53/80 | threshold=0.620 | f1=0.7175\n",
      "54/80 | threshold=0.630 | f1=0.7163\n",
      "55/80 | threshold=0.640 | f1=0.7153\n",
      "56/80 | threshold=0.650 | f1=0.7142\n",
      "57/80 | threshold=0.660 | f1=0.7130\n",
      "58/80 | threshold=0.670 | f1=0.7116\n",
      "59/80 | threshold=0.680 | f1=0.7103\n",
      "60/80 | threshold=0.690 | f1=0.7090\n",
      "61/80 | threshold=0.700 | f1=0.7076\n",
      "62/80 | threshold=0.710 | f1=0.7060\n",
      "63/80 | threshold=0.720 | f1=0.7041\n",
      "64/80 | threshold=0.730 | f1=0.7026\n",
      "65/80 | threshold=0.740 | f1=0.7006\n",
      "66/80 | threshold=0.750 | f1=0.6991\n",
      "67/80 | threshold=0.760 | f1=0.6975\n",
      "68/80 | threshold=0.770 | f1=0.6956\n",
      "69/80 | threshold=0.780 | f1=0.6935\n",
      "70/80 | threshold=0.790 | f1=0.6913\n",
      "71/80 | threshold=0.800 | f1=0.6891\n",
      "72/80 | threshold=0.810 | f1=0.6869\n",
      "73/80 | threshold=0.820 | f1=0.6846\n",
      "74/80 | threshold=0.830 | f1=0.6820\n",
      "75/80 | threshold=0.840 | f1=0.6791\n",
      "76/80 | threshold=0.850 | f1=0.6760\n",
      "77/80 | threshold=0.860 | f1=0.6727\n",
      "78/80 | threshold=0.870 | f1=0.6692\n",
      "79/80 | threshold=0.880 | f1=0.6652\n",
      "80/80 | threshold=0.890 | f1=0.6602\n",
      "Лучший threshold по F1: 0.32\n"
     ]
    }
   ],
   "source": [
    "# Подбор порога\n",
    "y_proba = cross_val_predict(\n",
    "    best_xgb_cls_model, \n",
    "    X_train_preprocessed, \n",
    "    y_train_bin, \n",
    "    cv=cv, \n",
    "    method='predict_proba'\n",
    ")[:, 1]\n",
    "\n",
    "thresholds = np.arange(0.1, 0.9, 0.01)\n",
    "f1_scores = []\n",
    "for i, t in enumerate(thresholds, start=1):\n",
    "    y_pred = (y_proba >= t).astype(int)\n",
    "    score = f1_score(y_train_bin, y_pred)\n",
    "    f1_scores.append(score)\n",
    "    print(f\"{i}/{len(thresholds)} | threshold={t:.3f} | f1={score:.4f}\")\n",
    "xgb_cls_best_threshold = thresholds[np.argmax(f1_scores)]\n",
    "\n",
    "print(f\"Лучший threshold по F1: {xgb_cls_best_threshold:.2f}\")"
   ]
  },
  {
   "cell_type": "code",
   "execution_count": 186,
   "id": "4eda7e2e",
   "metadata": {},
   "outputs": [
    {
     "name": "stderr",
     "output_type": "stream",
     "text": [
      "[I 2025-09-27 04:19:37,244] A new study created in memory with name: no-name-5933a85d-cb19-468a-91f1-ce7325542b07\n",
      "[I 2025-09-27 04:38:44,904] Trial 0 finished with value: -29.820813856152842 and parameters: {'n_estimators': 1375, 'max_depth': 17, 'learning_rate': 0.07634528537153693, 'subsample': 0.9610876309281235, 'colsample_bytree': 0.9535089629421973}. Best is trial 0 with value: -29.820813856152842.\n",
      "[I 2025-09-27 04:40:47,572] Trial 1 finished with value: -28.6142751089527 and parameters: {'n_estimators': 1207, 'max_depth': 12, 'learning_rate': 0.08405587998030478, 'subsample': 0.9246976476338304, 'colsample_bytree': 0.7062377074061351}. Best is trial 1 with value: -28.6142751089527.\n",
      "[I 2025-09-27 04:43:50,226] Trial 2 finished with value: -29.240784464196953 and parameters: {'n_estimators': 1376, 'max_depth': 13, 'learning_rate': 0.08310364130360118, 'subsample': 0.9426914757699093, 'colsample_bytree': 0.8846921641319058}. Best is trial 1 with value: -28.6142751089527.\n",
      "[I 2025-09-27 04:48:10,691] Trial 3 finished with value: -29.561253208371685 and parameters: {'n_estimators': 1315, 'max_depth': 14, 'learning_rate': 0.053928580485184, 'subsample': 0.9671460753378901, 'colsample_bytree': 0.9678589077069614}. Best is trial 1 with value: -28.6142751089527.\n",
      "[I 2025-09-27 06:37:33,757] Trial 4 finished with value: -29.95083530725219 and parameters: {'n_estimators': 1268, 'max_depth': 20, 'learning_rate': 0.03657371050784277, 'subsample': 0.9551074227916787, 'colsample_bytree': 0.9475301164394188}. Best is trial 1 with value: -28.6142751089527.\n"
     ]
    }
   ],
   "source": [
    "xgb_reg_model = XGBRegressor(\n",
    "    random_state=SEED,\n",
    "    tree_method='gpu_hist',\n",
    "    predictor='gpu_predictor',\n",
    "    n_jobs=1\n",
    ")\n",
    "\n",
    "xgb_reg_params = {\n",
    "    'n_estimators': dist.IntDistribution(1200, 1600),\n",
    "    'max_depth': dist.IntDistribution(12, 20),\n",
    "    'learning_rate': dist.FloatDistribution(0.01, 0.1),\n",
    "    'subsample': dist.FloatDistribution(0.9, 1.0),\n",
    "    'colsample_bytree': dist.FloatDistribution(0.7, 1.0),\n",
    "}\n",
    "\n",
    "xgb_reg_optuna = OptunaSearchCV(\n",
    "    xgb_reg_model,\n",
    "    xgb_reg_params,\n",
    "    cv=cv,\n",
    "    n_trials=200,\n",
    "    scoring='neg_root_mean_squared_error',\n",
    "    refit=True,\n",
    "    random_state=SEED,\n",
    "    n_jobs=1,\n",
    "    verbose=1,\n",
    "    timeout=3600,\n",
    "    callbacks=[\n",
    "        optuna.study.MaxTrialsCallback(200, states=(optuna.trial.TrialState.COMPLETE,)),\n",
    "    ]\n",
    ")\n",
    "\n",
    "xgb_reg_optuna.fit(X_train_preprocessed[y_train > 0], y_train[y_train > 0])\n",
    "best_xgb_reg_model = xgb_reg_optuna.best_estimator_"
   ]
  },
  {
   "cell_type": "code",
   "execution_count": 187,
   "id": "25c3d0d3",
   "metadata": {},
   "outputs": [
    {
     "name": "stdout",
     "output_type": "stream",
     "text": [
      "Результаты по XGBoost_zir модели\n",
      "==================================================\n",
      "Классификатор\n",
      "==================================================\n",
      "Лучший F1: 0.8737\n",
      "Лучшие параметры: {'n_estimators': 1239, 'max_depth': 15, 'learning_rate': 0.09303645358606316, 'reg_lambda': 0.7058487033109733, 'subsample': 0.9687449594034963, 'colsample_bytree': 0.5619417714322633}\n",
      "==================================================\n",
      "Регрессор\n",
      "==================================================\n",
      "Лучший RMSE: 28.6143\n",
      "Лучшие параметры: {'n_estimators': 1207, 'max_depth': 12, 'learning_rate': 0.08405587998030478, 'subsample': 0.9246976476338304, 'colsample_bytree': 0.7062377074061351}\n",
      "Общий RMSE ZeroInflated (CV): 40.8691\n"
     ]
    },
    {
     "data": {
      "application/vnd.plotly.v1+json": {
       "config": {
        "plotlyServerURL": "https://plot.ly"
       },
       "data": [
        {
         "mode": "markers",
         "name": "Trial",
         "opacity": 0.7,
         "type": "scatter",
         "x": [
          0,
          1,
          2,
          3,
          4,
          5,
          6,
          7,
          8,
          9,
          10,
          11,
          12,
          13,
          14,
          15,
          16,
          17,
          18,
          19,
          20,
          21,
          22,
          23,
          24,
          25,
          26,
          27
         ],
         "xaxis": "x",
         "y": [
          0.8711518061122154,
          0.8712024938360107,
          0.8658513184239015,
          0.8670098949677952,
          0.8717745410045583,
          0.8629621181675664,
          0.8197580747354282,
          0.8487261088844719,
          0.8681720920633887,
          0.8703190792212917,
          0.8139977769812564,
          0.8705616561851693,
          0.8710178456993276,
          0.8701344310846086,
          0.8674769461370523,
          0.8707463043218525,
          0.867534874964247,
          0.8569230379325202,
          0.8448919446345234,
          0.8704928657028758,
          0.8708223359075457,
          0.8702720120491959,
          0.8690120600577117,
          0.8719772918997397,
          0.8736536073366858,
          0.8732662083048215,
          0.8725855445852839,
          0.8734327536830063
         ],
         "yaxis": "y"
        },
        {
         "line": {
          "color": "red",
          "width": 3
         },
         "mode": "lines",
         "name": "Best F1",
         "type": "scatter",
         "x": [
          0,
          1,
          2,
          3,
          4,
          5,
          6,
          7,
          8,
          9,
          10,
          11,
          12,
          13,
          14,
          15,
          16,
          17,
          18,
          19,
          20,
          21,
          22,
          23,
          24,
          25,
          26,
          27
         ],
         "xaxis": "x",
         "y": [
          0.8711518061122154,
          0.8712024938360107,
          0.8712024938360107,
          0.8712024938360107,
          0.8717745410045583,
          0.8717745410045583,
          0.8717745410045583,
          0.8717745410045583,
          0.8717745410045583,
          0.8717745410045583,
          0.8717745410045583,
          0.8717745410045583,
          0.8717745410045583,
          0.8717745410045583,
          0.8717745410045583,
          0.8717745410045583,
          0.8717745410045583,
          0.8717745410045583,
          0.8717745410045583,
          0.8717745410045583,
          0.8717745410045583,
          0.8717745410045583,
          0.8717745410045583,
          0.8719772918997397,
          0.8736536073366858,
          0.8736536073366858,
          0.8736536073366858,
          0.8736536073366858
         ],
         "yaxis": "y"
        },
        {
         "name": "Распределение F1",
         "nbinsx": 20,
         "opacity": 0.75,
         "type": "histogram",
         "x": [
          0.8711518061122154,
          0.8712024938360107,
          0.8658513184239015,
          0.8670098949677952,
          0.8717745410045583,
          0.8629621181675664,
          0.8197580747354282,
          0.8487261088844719,
          0.8681720920633887,
          0.8703190792212917,
          0.8139977769812564,
          0.8705616561851693,
          0.8710178456993276,
          0.8701344310846086,
          0.8674769461370523,
          0.8707463043218525,
          0.867534874964247,
          0.8569230379325202,
          0.8448919446345234,
          0.8704928657028758,
          0.8708223359075457,
          0.8702720120491959,
          0.8690120600577117,
          0.8719772918997397,
          0.8736536073366858,
          0.8732662083048215,
          0.8725855445852839,
          0.8734327536830063
         ],
         "xaxis": "x2",
         "yaxis": "y2"
        },
        {
         "marker": {
          "color": "lightgreen"
         },
         "name": "Важность",
         "orientation": "h",
         "type": "bar",
         "x": [
          0.6737652908176569,
          0.13957231842707626,
          0.12770536175318606,
          0.023444722380990483,
          0.02321743219735659,
          0.012294874423733695
         ],
         "xaxis": "x3",
         "y": [
          "max_depth",
          "learning_rate",
          "n_estimators",
          "colsample_bytree",
          "subsample",
          "reg_lambda"
         ],
         "yaxis": "y3"
        },
        {
         "cells": {
          "fill": {
           "color": "#111"
          },
          "font": {
           "color": "white"
          },
          "values": [
           [
            24,
            27,
            25,
            26,
            23,
            4,
            1,
            0,
            12,
            20
           ],
           [
            0.873654,
            0.873433,
            0.873266,
            0.872586,
            0.871977,
            0.871775,
            0.871202,
            0.871152,
            0.871018,
            0.870822
           ]
          ]
         },
         "domain": {
          "x": [
           0.54,
           1
          ],
          "y": [
           0,
           0.44
          ]
         },
         "header": {
          "fill": {
           "color": "#222"
          },
          "font": {
           "color": "white"
          },
          "values": [
           "Trial",
           "F1"
          ]
         },
         "type": "table"
        }
       ],
       "layout": {
        "annotations": [
         {
          "font": {
           "size": 16
          },
          "showarrow": false,
          "text": "История оптимизации",
          "x": 0.23,
          "xanchor": "center",
          "xref": "paper",
          "y": 1,
          "yanchor": "bottom",
          "yref": "paper"
         },
         {
          "font": {
           "size": 16
          },
          "showarrow": false,
          "text": "Распределение F1",
          "x": 0.77,
          "xanchor": "center",
          "xref": "paper",
          "y": 1,
          "yanchor": "bottom",
          "yref": "paper"
         },
         {
          "font": {
           "size": 16
          },
          "showarrow": false,
          "text": "Важность параметров",
          "x": 0.23,
          "xanchor": "center",
          "xref": "paper",
          "y": 0.44,
          "yanchor": "bottom",
          "yref": "paper"
         },
         {
          "font": {
           "size": 16
          },
          "showarrow": false,
          "text": "Лучшие 10 результатов",
          "x": 0.77,
          "xanchor": "center",
          "xref": "paper",
          "y": 0.44,
          "yanchor": "bottom",
          "yref": "paper"
         }
        ],
        "height": 800,
        "template": {
         "data": {
          "bar": [
           {
            "error_x": {
             "color": "#f2f5fa"
            },
            "error_y": {
             "color": "#f2f5fa"
            },
            "marker": {
             "line": {
              "color": "rgb(17,17,17)",
              "width": 0.5
             },
             "pattern": {
              "fillmode": "overlay",
              "size": 10,
              "solidity": 0.2
             }
            },
            "type": "bar"
           }
          ],
          "barpolar": [
           {
            "marker": {
             "line": {
              "color": "rgb(17,17,17)",
              "width": 0.5
             },
             "pattern": {
              "fillmode": "overlay",
              "size": 10,
              "solidity": 0.2
             }
            },
            "type": "barpolar"
           }
          ],
          "carpet": [
           {
            "aaxis": {
             "endlinecolor": "#A2B1C6",
             "gridcolor": "#506784",
             "linecolor": "#506784",
             "minorgridcolor": "#506784",
             "startlinecolor": "#A2B1C6"
            },
            "baxis": {
             "endlinecolor": "#A2B1C6",
             "gridcolor": "#506784",
             "linecolor": "#506784",
             "minorgridcolor": "#506784",
             "startlinecolor": "#A2B1C6"
            },
            "type": "carpet"
           }
          ],
          "choropleth": [
           {
            "colorbar": {
             "outlinewidth": 0,
             "ticks": ""
            },
            "type": "choropleth"
           }
          ],
          "contour": [
           {
            "colorbar": {
             "outlinewidth": 0,
             "ticks": ""
            },
            "colorscale": [
             [
              0,
              "#0d0887"
             ],
             [
              0.1111111111111111,
              "#46039f"
             ],
             [
              0.2222222222222222,
              "#7201a8"
             ],
             [
              0.3333333333333333,
              "#9c179e"
             ],
             [
              0.4444444444444444,
              "#bd3786"
             ],
             [
              0.5555555555555556,
              "#d8576b"
             ],
             [
              0.6666666666666666,
              "#ed7953"
             ],
             [
              0.7777777777777778,
              "#fb9f3a"
             ],
             [
              0.8888888888888888,
              "#fdca26"
             ],
             [
              1,
              "#f0f921"
             ]
            ],
            "type": "contour"
           }
          ],
          "contourcarpet": [
           {
            "colorbar": {
             "outlinewidth": 0,
             "ticks": ""
            },
            "type": "contourcarpet"
           }
          ],
          "heatmap": [
           {
            "colorbar": {
             "outlinewidth": 0,
             "ticks": ""
            },
            "colorscale": [
             [
              0,
              "#0d0887"
             ],
             [
              0.1111111111111111,
              "#46039f"
             ],
             [
              0.2222222222222222,
              "#7201a8"
             ],
             [
              0.3333333333333333,
              "#9c179e"
             ],
             [
              0.4444444444444444,
              "#bd3786"
             ],
             [
              0.5555555555555556,
              "#d8576b"
             ],
             [
              0.6666666666666666,
              "#ed7953"
             ],
             [
              0.7777777777777778,
              "#fb9f3a"
             ],
             [
              0.8888888888888888,
              "#fdca26"
             ],
             [
              1,
              "#f0f921"
             ]
            ],
            "type": "heatmap"
           }
          ],
          "histogram": [
           {
            "marker": {
             "pattern": {
              "fillmode": "overlay",
              "size": 10,
              "solidity": 0.2
             }
            },
            "type": "histogram"
           }
          ],
          "histogram2d": [
           {
            "colorbar": {
             "outlinewidth": 0,
             "ticks": ""
            },
            "colorscale": [
             [
              0,
              "#0d0887"
             ],
             [
              0.1111111111111111,
              "#46039f"
             ],
             [
              0.2222222222222222,
              "#7201a8"
             ],
             [
              0.3333333333333333,
              "#9c179e"
             ],
             [
              0.4444444444444444,
              "#bd3786"
             ],
             [
              0.5555555555555556,
              "#d8576b"
             ],
             [
              0.6666666666666666,
              "#ed7953"
             ],
             [
              0.7777777777777778,
              "#fb9f3a"
             ],
             [
              0.8888888888888888,
              "#fdca26"
             ],
             [
              1,
              "#f0f921"
             ]
            ],
            "type": "histogram2d"
           }
          ],
          "histogram2dcontour": [
           {
            "colorbar": {
             "outlinewidth": 0,
             "ticks": ""
            },
            "colorscale": [
             [
              0,
              "#0d0887"
             ],
             [
              0.1111111111111111,
              "#46039f"
             ],
             [
              0.2222222222222222,
              "#7201a8"
             ],
             [
              0.3333333333333333,
              "#9c179e"
             ],
             [
              0.4444444444444444,
              "#bd3786"
             ],
             [
              0.5555555555555556,
              "#d8576b"
             ],
             [
              0.6666666666666666,
              "#ed7953"
             ],
             [
              0.7777777777777778,
              "#fb9f3a"
             ],
             [
              0.8888888888888888,
              "#fdca26"
             ],
             [
              1,
              "#f0f921"
             ]
            ],
            "type": "histogram2dcontour"
           }
          ],
          "mesh3d": [
           {
            "colorbar": {
             "outlinewidth": 0,
             "ticks": ""
            },
            "type": "mesh3d"
           }
          ],
          "parcoords": [
           {
            "line": {
             "colorbar": {
              "outlinewidth": 0,
              "ticks": ""
             }
            },
            "type": "parcoords"
           }
          ],
          "pie": [
           {
            "automargin": true,
            "type": "pie"
           }
          ],
          "scatter": [
           {
            "marker": {
             "line": {
              "color": "#283442"
             }
            },
            "type": "scatter"
           }
          ],
          "scatter3d": [
           {
            "line": {
             "colorbar": {
              "outlinewidth": 0,
              "ticks": ""
             }
            },
            "marker": {
             "colorbar": {
              "outlinewidth": 0,
              "ticks": ""
             }
            },
            "type": "scatter3d"
           }
          ],
          "scattercarpet": [
           {
            "marker": {
             "colorbar": {
              "outlinewidth": 0,
              "ticks": ""
             }
            },
            "type": "scattercarpet"
           }
          ],
          "scattergeo": [
           {
            "marker": {
             "colorbar": {
              "outlinewidth": 0,
              "ticks": ""
             }
            },
            "type": "scattergeo"
           }
          ],
          "scattergl": [
           {
            "marker": {
             "line": {
              "color": "#283442"
             }
            },
            "type": "scattergl"
           }
          ],
          "scattermap": [
           {
            "marker": {
             "colorbar": {
              "outlinewidth": 0,
              "ticks": ""
             }
            },
            "type": "scattermap"
           }
          ],
          "scattermapbox": [
           {
            "marker": {
             "colorbar": {
              "outlinewidth": 0,
              "ticks": ""
             }
            },
            "type": "scattermapbox"
           }
          ],
          "scatterpolar": [
           {
            "marker": {
             "colorbar": {
              "outlinewidth": 0,
              "ticks": ""
             }
            },
            "type": "scatterpolar"
           }
          ],
          "scatterpolargl": [
           {
            "marker": {
             "colorbar": {
              "outlinewidth": 0,
              "ticks": ""
             }
            },
            "type": "scatterpolargl"
           }
          ],
          "scatterternary": [
           {
            "marker": {
             "colorbar": {
              "outlinewidth": 0,
              "ticks": ""
             }
            },
            "type": "scatterternary"
           }
          ],
          "surface": [
           {
            "colorbar": {
             "outlinewidth": 0,
             "ticks": ""
            },
            "colorscale": [
             [
              0,
              "#0d0887"
             ],
             [
              0.1111111111111111,
              "#46039f"
             ],
             [
              0.2222222222222222,
              "#7201a8"
             ],
             [
              0.3333333333333333,
              "#9c179e"
             ],
             [
              0.4444444444444444,
              "#bd3786"
             ],
             [
              0.5555555555555556,
              "#d8576b"
             ],
             [
              0.6666666666666666,
              "#ed7953"
             ],
             [
              0.7777777777777778,
              "#fb9f3a"
             ],
             [
              0.8888888888888888,
              "#fdca26"
             ],
             [
              1,
              "#f0f921"
             ]
            ],
            "type": "surface"
           }
          ],
          "table": [
           {
            "cells": {
             "fill": {
              "color": "#506784"
             },
             "line": {
              "color": "rgb(17,17,17)"
             }
            },
            "header": {
             "fill": {
              "color": "#2a3f5f"
             },
             "line": {
              "color": "rgb(17,17,17)"
             }
            },
            "type": "table"
           }
          ]
         },
         "layout": {
          "annotationdefaults": {
           "arrowcolor": "#f2f5fa",
           "arrowhead": 0,
           "arrowwidth": 1
          },
          "autotypenumbers": "strict",
          "coloraxis": {
           "colorbar": {
            "outlinewidth": 0,
            "ticks": ""
           }
          },
          "colorscale": {
           "diverging": [
            [
             0,
             "#8e0152"
            ],
            [
             0.1,
             "#c51b7d"
            ],
            [
             0.2,
             "#de77ae"
            ],
            [
             0.3,
             "#f1b6da"
            ],
            [
             0.4,
             "#fde0ef"
            ],
            [
             0.5,
             "#f7f7f7"
            ],
            [
             0.6,
             "#e6f5d0"
            ],
            [
             0.7,
             "#b8e186"
            ],
            [
             0.8,
             "#7fbc41"
            ],
            [
             0.9,
             "#4d9221"
            ],
            [
             1,
             "#276419"
            ]
           ],
           "sequential": [
            [
             0,
             "#0d0887"
            ],
            [
             0.1111111111111111,
             "#46039f"
            ],
            [
             0.2222222222222222,
             "#7201a8"
            ],
            [
             0.3333333333333333,
             "#9c179e"
            ],
            [
             0.4444444444444444,
             "#bd3786"
            ],
            [
             0.5555555555555556,
             "#d8576b"
            ],
            [
             0.6666666666666666,
             "#ed7953"
            ],
            [
             0.7777777777777778,
             "#fb9f3a"
            ],
            [
             0.8888888888888888,
             "#fdca26"
            ],
            [
             1,
             "#f0f921"
            ]
           ],
           "sequentialminus": [
            [
             0,
             "#0d0887"
            ],
            [
             0.1111111111111111,
             "#46039f"
            ],
            [
             0.2222222222222222,
             "#7201a8"
            ],
            [
             0.3333333333333333,
             "#9c179e"
            ],
            [
             0.4444444444444444,
             "#bd3786"
            ],
            [
             0.5555555555555556,
             "#d8576b"
            ],
            [
             0.6666666666666666,
             "#ed7953"
            ],
            [
             0.7777777777777778,
             "#fb9f3a"
            ],
            [
             0.8888888888888888,
             "#fdca26"
            ],
            [
             1,
             "#f0f921"
            ]
           ]
          },
          "colorway": [
           "#636efa",
           "#EF553B",
           "#00cc96",
           "#ab63fa",
           "#FFA15A",
           "#19d3f3",
           "#FF6692",
           "#B6E880",
           "#FF97FF",
           "#FECB52"
          ],
          "font": {
           "color": "#f2f5fa"
          },
          "geo": {
           "bgcolor": "rgb(17,17,17)",
           "lakecolor": "rgb(17,17,17)",
           "landcolor": "rgb(17,17,17)",
           "showlakes": true,
           "showland": true,
           "subunitcolor": "#506784"
          },
          "hoverlabel": {
           "align": "left"
          },
          "hovermode": "closest",
          "mapbox": {
           "style": "dark"
          },
          "paper_bgcolor": "rgb(17,17,17)",
          "plot_bgcolor": "rgb(17,17,17)",
          "polar": {
           "angularaxis": {
            "gridcolor": "#506784",
            "linecolor": "#506784",
            "ticks": ""
           },
           "bgcolor": "rgb(17,17,17)",
           "radialaxis": {
            "gridcolor": "#506784",
            "linecolor": "#506784",
            "ticks": ""
           }
          },
          "scene": {
           "xaxis": {
            "backgroundcolor": "rgb(17,17,17)",
            "gridcolor": "#506784",
            "gridwidth": 2,
            "linecolor": "#506784",
            "showbackground": true,
            "ticks": "",
            "zerolinecolor": "#C8D4E3"
           },
           "yaxis": {
            "backgroundcolor": "rgb(17,17,17)",
            "gridcolor": "#506784",
            "gridwidth": 2,
            "linecolor": "#506784",
            "showbackground": true,
            "ticks": "",
            "zerolinecolor": "#C8D4E3"
           },
           "zaxis": {
            "backgroundcolor": "rgb(17,17,17)",
            "gridcolor": "#506784",
            "gridwidth": 2,
            "linecolor": "#506784",
            "showbackground": true,
            "ticks": "",
            "zerolinecolor": "#C8D4E3"
           }
          },
          "shapedefaults": {
           "line": {
            "color": "#f2f5fa"
           }
          },
          "sliderdefaults": {
           "bgcolor": "#C8D4E3",
           "bordercolor": "rgb(17,17,17)",
           "borderwidth": 1,
           "tickwidth": 0
          },
          "ternary": {
           "aaxis": {
            "gridcolor": "#506784",
            "linecolor": "#506784",
            "ticks": ""
           },
           "baxis": {
            "gridcolor": "#506784",
            "linecolor": "#506784",
            "ticks": ""
           },
           "bgcolor": "rgb(17,17,17)",
           "caxis": {
            "gridcolor": "#506784",
            "linecolor": "#506784",
            "ticks": ""
           }
          },
          "title": {
           "x": 0.05
          },
          "updatemenudefaults": {
           "bgcolor": "#506784",
           "borderwidth": 0
          },
          "xaxis": {
           "automargin": true,
           "gridcolor": "#283442",
           "linecolor": "#506784",
           "ticks": "",
           "title": {
            "standoff": 15
           },
           "zerolinecolor": "#283442",
           "zerolinewidth": 2
          },
          "yaxis": {
           "automargin": true,
           "gridcolor": "#283442",
           "linecolor": "#506784",
           "ticks": "",
           "title": {
            "standoff": 15
           },
           "zerolinecolor": "#283442",
           "zerolinewidth": 2
          }
         }
        },
        "title": {
         "text": "Оптимизация: XGBoost_zir_Classifier (F1)"
        },
        "xaxis": {
         "anchor": "y",
         "domain": [
          0,
          0.46
         ]
        },
        "xaxis2": {
         "anchor": "y2",
         "domain": [
          0.54,
          1
         ]
        },
        "xaxis3": {
         "anchor": "y3",
         "domain": [
          0,
          0.46
         ]
        },
        "yaxis": {
         "anchor": "x",
         "domain": [
          0.56,
          1
         ]
        },
        "yaxis2": {
         "anchor": "x2",
         "domain": [
          0.56,
          1
         ]
        },
        "yaxis3": {
         "anchor": "x3",
         "domain": [
          0,
          0.44
         ]
        }
       }
      }
     },
     "metadata": {},
     "output_type": "display_data"
    },
    {
     "data": {
      "application/vnd.plotly.v1+json": {
       "config": {
        "plotlyServerURL": "https://plot.ly"
       },
       "data": [
        {
         "dimensions": [
          {
           "label": "Objective Value",
           "range": [
            0.8139977769812564,
            0.8736536073366858
           ],
           "values": [
            0.8711518061122154,
            0.8712024938360107,
            0.8658513184239015,
            0.8670098949677952,
            0.8717745410045583,
            0.8629621181675664,
            0.8197580747354282,
            0.8487261088844719,
            0.8681720920633887,
            0.8703190792212917,
            0.8139977769812564,
            0.8705616561851693,
            0.8710178456993276,
            0.8701344310846086,
            0.8674769461370523,
            0.8707463043218525,
            0.867534874964247,
            0.8569230379325202,
            0.8448919446345234,
            0.8704928657028758,
            0.8708223359075457,
            0.8702720120491959,
            0.8690120600577117,
            0.8719772918997397,
            0.8736536073366858,
            0.8732662083048215,
            0.8725855445852839,
            0.8734327536830063
           ]
          },
          {
           "label": "colsample_bytree",
           "range": [
            0.5043140041043721,
            0.9928543104483593
           ],
           "values": [
            0.5089093075686137,
            0.582505648087539,
            0.7440476693621333,
            0.7755371139583936,
            0.7641860262697604,
            0.9928543104483593,
            0.8270961989340433,
            0.9257402888146116,
            0.802755936463714,
            0.8277002167224105,
            0.6569526049330938,
            0.6099138450092002,
            0.6707506406080849,
            0.5125514953790034,
            0.5714673767196949,
            0.7211451076136179,
            0.8865277951638298,
            0.6895285291755074,
            0.5914994243407229,
            0.87290260683593,
            0.6392375158487437,
            0.5043140041043721,
            0.5397505257137176,
            0.5509137308831533,
            0.5619417714322633,
            0.7216441101258708,
            0.6261825054975297,
            0.6983033001530615
           ]
          },
          {
           "label": "learning_rate",
           "range": [
            0.01736208030112374,
            0.19528509037635422
           ],
           "values": [
            0.15006226911768908,
            0.056925530504277885,
            0.12697170395020702,
            0.04226039042718969,
            0.14848795174104462,
            0.0864671079956413,
            0.09044400807515623,
            0.14543604850630543,
            0.17625549364791543,
            0.16153618547769932,
            0.18750970781440762,
            0.03620945051476189,
            0.06278676453686541,
            0.1178216138858314,
            0.07233571953704648,
            0.10794355869182869,
            0.027114030946475475,
            0.05532721694492716,
            0.01736208030112374,
            0.1303891687426038,
            0.19528509037635422,
            0.14959986402207245,
            0.162773749652191,
            0.13939516947129482,
            0.09303645358606316,
            0.10175133025977026,
            0.09772263873770666,
            0.09303214389766572
           ]
          },
          {
           "label": "max_depth",
           "range": [
            4,
            16
           ],
           "values": [
            12,
            14,
            9,
            15,
            13,
            9,
            6,
            7,
            10,
            13,
            4,
            16,
            13,
            14,
            11,
            16,
            14,
            12,
            14,
            11,
            16,
            12,
            12,
            13,
            15,
            15,
            15,
            15
           ]
          },
          {
           "label": "n_estimators",
           "range": [
            811,
            1593
           ],
           "values": [
            1150,
            852,
            1450,
            1337,
            1460,
            1171,
            811,
            1080,
            1169,
            1318,
            1593,
            910,
            985,
            1527,
            1319,
            1412,
            983,
            818,
            1063,
            1270,
            1445,
            1117,
            917,
            1232,
            1239,
            1218,
            1231,
            1237
           ]
          },
          {
           "label": "reg_lambda",
           "range": [
            -0.287581450324603,
            1.230574662843119
           ],
           "ticktext": [
            "0.516",
            "1",
            "10",
            "17"
           ],
           "tickvals": [
            -0.287581450324603,
            0,
            1,
            1.230574662843119
           ],
           "values": [
            0.677630499085573,
            -0.2677193907540503,
            0.15988382486684694,
            1.230574662843119,
            -0.17479615622561603,
            -0.06176516432804561,
            -0.0207886435877254,
            0.32952512574071957,
            -0.08992778089511266,
            1.0923740002959097,
            0.6937120608207846,
            -0.287581450324603,
            -0.2751248876622455,
            0.2972072247158745,
            0.10607419300367,
            0.5568916039382866,
            -0.2806291767519088,
            0.34088007337877385,
            0.9153419243449953,
            -0.11160056895763236,
            0.14243207242718367,
            0.6888780700063795,
            0.9172331819379816,
            0.4872781927444903,
            -0.15128837877646958,
            0.04777181882886645,
            0.4671044687887075,
            0.04379746951157043
           ]
          },
          {
           "label": "subsample",
           "range": [
            0.5299415232860739,
            0.998827826319536
           ],
           "values": [
            0.9225149382369955,
            0.7204335280420882,
            0.6419389971116406,
            0.6476317250435709,
            0.9244761145861984,
            0.7546777437848653,
            0.8602001121476397,
            0.8001144029445195,
            0.8137466477479156,
            0.926264264655557,
            0.997015257877998,
            0.5328124521852126,
            0.6644343013429577,
            0.6991628399480465,
            0.5299415232860739,
            0.7246937174630704,
            0.5872913253017669,
            0.998827826319536,
            0.8820959413135415,
            0.7833652418594198,
            0.8624472884306997,
            0.9379002685054655,
            0.9105555138038519,
            0.9592821746561934,
            0.9687449594034963,
            0.9676489928037775,
            0.9649884645564353,
            0.9731127128358558
           ]
          }
         ],
         "labelangle": 30,
         "labelside": "bottom",
         "line": {
          "color": [
           0.8711518061122154,
           0.8712024938360107,
           0.8658513184239015,
           0.8670098949677952,
           0.8717745410045583,
           0.8629621181675664,
           0.8197580747354282,
           0.8487261088844719,
           0.8681720920633887,
           0.8703190792212917,
           0.8139977769812564,
           0.8705616561851693,
           0.8710178456993276,
           0.8701344310846086,
           0.8674769461370523,
           0.8707463043218525,
           0.867534874964247,
           0.8569230379325202,
           0.8448919446345234,
           0.8704928657028758,
           0.8708223359075457,
           0.8702720120491959,
           0.8690120600577117,
           0.8719772918997397,
           0.8736536073366858,
           0.8732662083048215,
           0.8725855445852839,
           0.8734327536830063
          ],
          "colorbar": {
           "title": {
            "text": "F1"
           }
          },
          "colorscale": [
           [
            0,
            "rgb(150,0,90)"
           ],
           [
            0.125,
            "rgb(0,0,200)"
           ],
           [
            0.25,
            "rgb(0,25,255)"
           ],
           [
            0.375,
            "rgb(0,152,255)"
           ],
           [
            0.5,
            "rgb(44,255,150)"
           ],
           [
            0.625,
            "rgb(151,255,0)"
           ],
           [
            0.75,
            "rgb(255,234,0)"
           ],
           [
            0.875,
            "rgb(255,111,0)"
           ],
           [
            1,
            "rgb(255,0,0)"
           ]
          ],
          "reversescale": false,
          "showscale": true
         },
         "type": "parcoords"
        }
       ],
       "layout": {
        "height": 600,
        "template": {
         "data": {
          "bar": [
           {
            "error_x": {
             "color": "#f2f5fa"
            },
            "error_y": {
             "color": "#f2f5fa"
            },
            "marker": {
             "line": {
              "color": "rgb(17,17,17)",
              "width": 0.5
             },
             "pattern": {
              "fillmode": "overlay",
              "size": 10,
              "solidity": 0.2
             }
            },
            "type": "bar"
           }
          ],
          "barpolar": [
           {
            "marker": {
             "line": {
              "color": "rgb(17,17,17)",
              "width": 0.5
             },
             "pattern": {
              "fillmode": "overlay",
              "size": 10,
              "solidity": 0.2
             }
            },
            "type": "barpolar"
           }
          ],
          "carpet": [
           {
            "aaxis": {
             "endlinecolor": "#A2B1C6",
             "gridcolor": "#506784",
             "linecolor": "#506784",
             "minorgridcolor": "#506784",
             "startlinecolor": "#A2B1C6"
            },
            "baxis": {
             "endlinecolor": "#A2B1C6",
             "gridcolor": "#506784",
             "linecolor": "#506784",
             "minorgridcolor": "#506784",
             "startlinecolor": "#A2B1C6"
            },
            "type": "carpet"
           }
          ],
          "choropleth": [
           {
            "colorbar": {
             "outlinewidth": 0,
             "ticks": ""
            },
            "type": "choropleth"
           }
          ],
          "contour": [
           {
            "colorbar": {
             "outlinewidth": 0,
             "ticks": ""
            },
            "colorscale": [
             [
              0,
              "#0d0887"
             ],
             [
              0.1111111111111111,
              "#46039f"
             ],
             [
              0.2222222222222222,
              "#7201a8"
             ],
             [
              0.3333333333333333,
              "#9c179e"
             ],
             [
              0.4444444444444444,
              "#bd3786"
             ],
             [
              0.5555555555555556,
              "#d8576b"
             ],
             [
              0.6666666666666666,
              "#ed7953"
             ],
             [
              0.7777777777777778,
              "#fb9f3a"
             ],
             [
              0.8888888888888888,
              "#fdca26"
             ],
             [
              1,
              "#f0f921"
             ]
            ],
            "type": "contour"
           }
          ],
          "contourcarpet": [
           {
            "colorbar": {
             "outlinewidth": 0,
             "ticks": ""
            },
            "type": "contourcarpet"
           }
          ],
          "heatmap": [
           {
            "colorbar": {
             "outlinewidth": 0,
             "ticks": ""
            },
            "colorscale": [
             [
              0,
              "#0d0887"
             ],
             [
              0.1111111111111111,
              "#46039f"
             ],
             [
              0.2222222222222222,
              "#7201a8"
             ],
             [
              0.3333333333333333,
              "#9c179e"
             ],
             [
              0.4444444444444444,
              "#bd3786"
             ],
             [
              0.5555555555555556,
              "#d8576b"
             ],
             [
              0.6666666666666666,
              "#ed7953"
             ],
             [
              0.7777777777777778,
              "#fb9f3a"
             ],
             [
              0.8888888888888888,
              "#fdca26"
             ],
             [
              1,
              "#f0f921"
             ]
            ],
            "type": "heatmap"
           }
          ],
          "histogram": [
           {
            "marker": {
             "pattern": {
              "fillmode": "overlay",
              "size": 10,
              "solidity": 0.2
             }
            },
            "type": "histogram"
           }
          ],
          "histogram2d": [
           {
            "colorbar": {
             "outlinewidth": 0,
             "ticks": ""
            },
            "colorscale": [
             [
              0,
              "#0d0887"
             ],
             [
              0.1111111111111111,
              "#46039f"
             ],
             [
              0.2222222222222222,
              "#7201a8"
             ],
             [
              0.3333333333333333,
              "#9c179e"
             ],
             [
              0.4444444444444444,
              "#bd3786"
             ],
             [
              0.5555555555555556,
              "#d8576b"
             ],
             [
              0.6666666666666666,
              "#ed7953"
             ],
             [
              0.7777777777777778,
              "#fb9f3a"
             ],
             [
              0.8888888888888888,
              "#fdca26"
             ],
             [
              1,
              "#f0f921"
             ]
            ],
            "type": "histogram2d"
           }
          ],
          "histogram2dcontour": [
           {
            "colorbar": {
             "outlinewidth": 0,
             "ticks": ""
            },
            "colorscale": [
             [
              0,
              "#0d0887"
             ],
             [
              0.1111111111111111,
              "#46039f"
             ],
             [
              0.2222222222222222,
              "#7201a8"
             ],
             [
              0.3333333333333333,
              "#9c179e"
             ],
             [
              0.4444444444444444,
              "#bd3786"
             ],
             [
              0.5555555555555556,
              "#d8576b"
             ],
             [
              0.6666666666666666,
              "#ed7953"
             ],
             [
              0.7777777777777778,
              "#fb9f3a"
             ],
             [
              0.8888888888888888,
              "#fdca26"
             ],
             [
              1,
              "#f0f921"
             ]
            ],
            "type": "histogram2dcontour"
           }
          ],
          "mesh3d": [
           {
            "colorbar": {
             "outlinewidth": 0,
             "ticks": ""
            },
            "type": "mesh3d"
           }
          ],
          "parcoords": [
           {
            "line": {
             "colorbar": {
              "outlinewidth": 0,
              "ticks": ""
             }
            },
            "type": "parcoords"
           }
          ],
          "pie": [
           {
            "automargin": true,
            "type": "pie"
           }
          ],
          "scatter": [
           {
            "marker": {
             "line": {
              "color": "#283442"
             }
            },
            "type": "scatter"
           }
          ],
          "scatter3d": [
           {
            "line": {
             "colorbar": {
              "outlinewidth": 0,
              "ticks": ""
             }
            },
            "marker": {
             "colorbar": {
              "outlinewidth": 0,
              "ticks": ""
             }
            },
            "type": "scatter3d"
           }
          ],
          "scattercarpet": [
           {
            "marker": {
             "colorbar": {
              "outlinewidth": 0,
              "ticks": ""
             }
            },
            "type": "scattercarpet"
           }
          ],
          "scattergeo": [
           {
            "marker": {
             "colorbar": {
              "outlinewidth": 0,
              "ticks": ""
             }
            },
            "type": "scattergeo"
           }
          ],
          "scattergl": [
           {
            "marker": {
             "line": {
              "color": "#283442"
             }
            },
            "type": "scattergl"
           }
          ],
          "scattermap": [
           {
            "marker": {
             "colorbar": {
              "outlinewidth": 0,
              "ticks": ""
             }
            },
            "type": "scattermap"
           }
          ],
          "scattermapbox": [
           {
            "marker": {
             "colorbar": {
              "outlinewidth": 0,
              "ticks": ""
             }
            },
            "type": "scattermapbox"
           }
          ],
          "scatterpolar": [
           {
            "marker": {
             "colorbar": {
              "outlinewidth": 0,
              "ticks": ""
             }
            },
            "type": "scatterpolar"
           }
          ],
          "scatterpolargl": [
           {
            "marker": {
             "colorbar": {
              "outlinewidth": 0,
              "ticks": ""
             }
            },
            "type": "scatterpolargl"
           }
          ],
          "scatterternary": [
           {
            "marker": {
             "colorbar": {
              "outlinewidth": 0,
              "ticks": ""
             }
            },
            "type": "scatterternary"
           }
          ],
          "surface": [
           {
            "colorbar": {
             "outlinewidth": 0,
             "ticks": ""
            },
            "colorscale": [
             [
              0,
              "#0d0887"
             ],
             [
              0.1111111111111111,
              "#46039f"
             ],
             [
              0.2222222222222222,
              "#7201a8"
             ],
             [
              0.3333333333333333,
              "#9c179e"
             ],
             [
              0.4444444444444444,
              "#bd3786"
             ],
             [
              0.5555555555555556,
              "#d8576b"
             ],
             [
              0.6666666666666666,
              "#ed7953"
             ],
             [
              0.7777777777777778,
              "#fb9f3a"
             ],
             [
              0.8888888888888888,
              "#fdca26"
             ],
             [
              1,
              "#f0f921"
             ]
            ],
            "type": "surface"
           }
          ],
          "table": [
           {
            "cells": {
             "fill": {
              "color": "#506784"
             },
             "line": {
              "color": "rgb(17,17,17)"
             }
            },
            "header": {
             "fill": {
              "color": "#2a3f5f"
             },
             "line": {
              "color": "rgb(17,17,17)"
             }
            },
            "type": "table"
           }
          ]
         },
         "layout": {
          "annotationdefaults": {
           "arrowcolor": "#f2f5fa",
           "arrowhead": 0,
           "arrowwidth": 1
          },
          "autotypenumbers": "strict",
          "coloraxis": {
           "colorbar": {
            "outlinewidth": 0,
            "ticks": ""
           }
          },
          "colorscale": {
           "diverging": [
            [
             0,
             "#8e0152"
            ],
            [
             0.1,
             "#c51b7d"
            ],
            [
             0.2,
             "#de77ae"
            ],
            [
             0.3,
             "#f1b6da"
            ],
            [
             0.4,
             "#fde0ef"
            ],
            [
             0.5,
             "#f7f7f7"
            ],
            [
             0.6,
             "#e6f5d0"
            ],
            [
             0.7,
             "#b8e186"
            ],
            [
             0.8,
             "#7fbc41"
            ],
            [
             0.9,
             "#4d9221"
            ],
            [
             1,
             "#276419"
            ]
           ],
           "sequential": [
            [
             0,
             "#0d0887"
            ],
            [
             0.1111111111111111,
             "#46039f"
            ],
            [
             0.2222222222222222,
             "#7201a8"
            ],
            [
             0.3333333333333333,
             "#9c179e"
            ],
            [
             0.4444444444444444,
             "#bd3786"
            ],
            [
             0.5555555555555556,
             "#d8576b"
            ],
            [
             0.6666666666666666,
             "#ed7953"
            ],
            [
             0.7777777777777778,
             "#fb9f3a"
            ],
            [
             0.8888888888888888,
             "#fdca26"
            ],
            [
             1,
             "#f0f921"
            ]
           ],
           "sequentialminus": [
            [
             0,
             "#0d0887"
            ],
            [
             0.1111111111111111,
             "#46039f"
            ],
            [
             0.2222222222222222,
             "#7201a8"
            ],
            [
             0.3333333333333333,
             "#9c179e"
            ],
            [
             0.4444444444444444,
             "#bd3786"
            ],
            [
             0.5555555555555556,
             "#d8576b"
            ],
            [
             0.6666666666666666,
             "#ed7953"
            ],
            [
             0.7777777777777778,
             "#fb9f3a"
            ],
            [
             0.8888888888888888,
             "#fdca26"
            ],
            [
             1,
             "#f0f921"
            ]
           ]
          },
          "colorway": [
           "#636efa",
           "#EF553B",
           "#00cc96",
           "#ab63fa",
           "#FFA15A",
           "#19d3f3",
           "#FF6692",
           "#B6E880",
           "#FF97FF",
           "#FECB52"
          ],
          "font": {
           "color": "#f2f5fa"
          },
          "geo": {
           "bgcolor": "rgb(17,17,17)",
           "lakecolor": "rgb(17,17,17)",
           "landcolor": "rgb(17,17,17)",
           "showlakes": true,
           "showland": true,
           "subunitcolor": "#506784"
          },
          "hoverlabel": {
           "align": "left"
          },
          "hovermode": "closest",
          "mapbox": {
           "style": "dark"
          },
          "paper_bgcolor": "rgb(17,17,17)",
          "plot_bgcolor": "rgb(17,17,17)",
          "polar": {
           "angularaxis": {
            "gridcolor": "#506784",
            "linecolor": "#506784",
            "ticks": ""
           },
           "bgcolor": "rgb(17,17,17)",
           "radialaxis": {
            "gridcolor": "#506784",
            "linecolor": "#506784",
            "ticks": ""
           }
          },
          "scene": {
           "xaxis": {
            "backgroundcolor": "rgb(17,17,17)",
            "gridcolor": "#506784",
            "gridwidth": 2,
            "linecolor": "#506784",
            "showbackground": true,
            "ticks": "",
            "zerolinecolor": "#C8D4E3"
           },
           "yaxis": {
            "backgroundcolor": "rgb(17,17,17)",
            "gridcolor": "#506784",
            "gridwidth": 2,
            "linecolor": "#506784",
            "showbackground": true,
            "ticks": "",
            "zerolinecolor": "#C8D4E3"
           },
           "zaxis": {
            "backgroundcolor": "rgb(17,17,17)",
            "gridcolor": "#506784",
            "gridwidth": 2,
            "linecolor": "#506784",
            "showbackground": true,
            "ticks": "",
            "zerolinecolor": "#C8D4E3"
           }
          },
          "shapedefaults": {
           "line": {
            "color": "#f2f5fa"
           }
          },
          "sliderdefaults": {
           "bgcolor": "#C8D4E3",
           "bordercolor": "rgb(17,17,17)",
           "borderwidth": 1,
           "tickwidth": 0
          },
          "ternary": {
           "aaxis": {
            "gridcolor": "#506784",
            "linecolor": "#506784",
            "ticks": ""
           },
           "baxis": {
            "gridcolor": "#506784",
            "linecolor": "#506784",
            "ticks": ""
           },
           "bgcolor": "rgb(17,17,17)",
           "caxis": {
            "gridcolor": "#506784",
            "linecolor": "#506784",
            "ticks": ""
           }
          },
          "title": {
           "x": 0.05
          },
          "updatemenudefaults": {
           "bgcolor": "#506784",
           "borderwidth": 0
          },
          "xaxis": {
           "automargin": true,
           "gridcolor": "#283442",
           "linecolor": "#506784",
           "ticks": "",
           "title": {
            "standoff": 15
           },
           "zerolinecolor": "#283442",
           "zerolinewidth": 2
          },
          "yaxis": {
           "automargin": true,
           "gridcolor": "#283442",
           "linecolor": "#506784",
           "ticks": "",
           "title": {
            "standoff": 15
           },
           "zerolinecolor": "#283442",
           "zerolinewidth": 2
          }
         }
        },
        "title": {
         "text": "Параллельные координаты: XGBoost_zir_Classifier"
        }
       }
      }
     },
     "metadata": {},
     "output_type": "display_data"
    },
    {
     "data": {
      "application/vnd.plotly.v1+json": {
       "config": {
        "plotlyServerURL": "https://plot.ly"
       },
       "data": [
        {
         "mode": "markers",
         "name": "Trial",
         "opacity": 0.7,
         "type": "scatter",
         "x": [
          0,
          1,
          2,
          3,
          4
         ],
         "xaxis": "x",
         "y": [
          29.820813856152842,
          28.6142751089527,
          29.240784464196953,
          29.561253208371685,
          29.95083530725219
         ],
         "yaxis": "y"
        },
        {
         "line": {
          "color": "red",
          "width": 3
         },
         "mode": "lines",
         "name": "Best RMSE",
         "type": "scatter",
         "x": [
          0,
          1,
          2,
          3,
          4
         ],
         "xaxis": "x",
         "y": [
          29.820813856152842,
          28.6142751089527,
          28.6142751089527,
          28.6142751089527,
          28.6142751089527
         ],
         "yaxis": "y"
        },
        {
         "name": "Распределение RMSE",
         "nbinsx": 20,
         "opacity": 0.75,
         "type": "histogram",
         "x": [
          29.820813856152842,
          28.6142751089527,
          29.240784464196953,
          29.561253208371685,
          29.95083530725219
         ],
         "xaxis": "x2",
         "yaxis": "y2"
        },
        {
         "marker": {
          "color": "lightgreen"
         },
         "name": "Важность",
         "orientation": "h",
         "type": "bar",
         "x": [
          0.33778010834436695,
          0.1938331153740389,
          0.18884049328374486,
          0.15668771574016324,
          0.12285856725768592
         ],
         "xaxis": "x3",
         "y": [
          "max_depth",
          "colsample_bytree",
          "n_estimators",
          "subsample",
          "learning_rate"
         ],
         "yaxis": "y3"
        },
        {
         "cells": {
          "fill": {
           "color": "#111"
          },
          "font": {
           "color": "white"
          },
          "values": [
           [
            1,
            2,
            3,
            0,
            4
           ],
           [
            28.614275,
            29.240784,
            29.561253,
            29.820814,
            29.950835
           ]
          ]
         },
         "domain": {
          "x": [
           0.54,
           1
          ],
          "y": [
           0,
           0.44
          ]
         },
         "header": {
          "fill": {
           "color": "#222"
          },
          "font": {
           "color": "white"
          },
          "values": [
           "Trial",
           "RMSE"
          ]
         },
         "type": "table"
        }
       ],
       "layout": {
        "annotations": [
         {
          "font": {
           "size": 16
          },
          "showarrow": false,
          "text": "История оптимизации",
          "x": 0.23,
          "xanchor": "center",
          "xref": "paper",
          "y": 1,
          "yanchor": "bottom",
          "yref": "paper"
         },
         {
          "font": {
           "size": 16
          },
          "showarrow": false,
          "text": "Распределение RMSE",
          "x": 0.77,
          "xanchor": "center",
          "xref": "paper",
          "y": 1,
          "yanchor": "bottom",
          "yref": "paper"
         },
         {
          "font": {
           "size": 16
          },
          "showarrow": false,
          "text": "Важность параметров",
          "x": 0.23,
          "xanchor": "center",
          "xref": "paper",
          "y": 0.44,
          "yanchor": "bottom",
          "yref": "paper"
         },
         {
          "font": {
           "size": 16
          },
          "showarrow": false,
          "text": "Лучшие 10 результатов",
          "x": 0.77,
          "xanchor": "center",
          "xref": "paper",
          "y": 0.44,
          "yanchor": "bottom",
          "yref": "paper"
         }
        ],
        "height": 800,
        "template": {
         "data": {
          "bar": [
           {
            "error_x": {
             "color": "#f2f5fa"
            },
            "error_y": {
             "color": "#f2f5fa"
            },
            "marker": {
             "line": {
              "color": "rgb(17,17,17)",
              "width": 0.5
             },
             "pattern": {
              "fillmode": "overlay",
              "size": 10,
              "solidity": 0.2
             }
            },
            "type": "bar"
           }
          ],
          "barpolar": [
           {
            "marker": {
             "line": {
              "color": "rgb(17,17,17)",
              "width": 0.5
             },
             "pattern": {
              "fillmode": "overlay",
              "size": 10,
              "solidity": 0.2
             }
            },
            "type": "barpolar"
           }
          ],
          "carpet": [
           {
            "aaxis": {
             "endlinecolor": "#A2B1C6",
             "gridcolor": "#506784",
             "linecolor": "#506784",
             "minorgridcolor": "#506784",
             "startlinecolor": "#A2B1C6"
            },
            "baxis": {
             "endlinecolor": "#A2B1C6",
             "gridcolor": "#506784",
             "linecolor": "#506784",
             "minorgridcolor": "#506784",
             "startlinecolor": "#A2B1C6"
            },
            "type": "carpet"
           }
          ],
          "choropleth": [
           {
            "colorbar": {
             "outlinewidth": 0,
             "ticks": ""
            },
            "type": "choropleth"
           }
          ],
          "contour": [
           {
            "colorbar": {
             "outlinewidth": 0,
             "ticks": ""
            },
            "colorscale": [
             [
              0,
              "#0d0887"
             ],
             [
              0.1111111111111111,
              "#46039f"
             ],
             [
              0.2222222222222222,
              "#7201a8"
             ],
             [
              0.3333333333333333,
              "#9c179e"
             ],
             [
              0.4444444444444444,
              "#bd3786"
             ],
             [
              0.5555555555555556,
              "#d8576b"
             ],
             [
              0.6666666666666666,
              "#ed7953"
             ],
             [
              0.7777777777777778,
              "#fb9f3a"
             ],
             [
              0.8888888888888888,
              "#fdca26"
             ],
             [
              1,
              "#f0f921"
             ]
            ],
            "type": "contour"
           }
          ],
          "contourcarpet": [
           {
            "colorbar": {
             "outlinewidth": 0,
             "ticks": ""
            },
            "type": "contourcarpet"
           }
          ],
          "heatmap": [
           {
            "colorbar": {
             "outlinewidth": 0,
             "ticks": ""
            },
            "colorscale": [
             [
              0,
              "#0d0887"
             ],
             [
              0.1111111111111111,
              "#46039f"
             ],
             [
              0.2222222222222222,
              "#7201a8"
             ],
             [
              0.3333333333333333,
              "#9c179e"
             ],
             [
              0.4444444444444444,
              "#bd3786"
             ],
             [
              0.5555555555555556,
              "#d8576b"
             ],
             [
              0.6666666666666666,
              "#ed7953"
             ],
             [
              0.7777777777777778,
              "#fb9f3a"
             ],
             [
              0.8888888888888888,
              "#fdca26"
             ],
             [
              1,
              "#f0f921"
             ]
            ],
            "type": "heatmap"
           }
          ],
          "histogram": [
           {
            "marker": {
             "pattern": {
              "fillmode": "overlay",
              "size": 10,
              "solidity": 0.2
             }
            },
            "type": "histogram"
           }
          ],
          "histogram2d": [
           {
            "colorbar": {
             "outlinewidth": 0,
             "ticks": ""
            },
            "colorscale": [
             [
              0,
              "#0d0887"
             ],
             [
              0.1111111111111111,
              "#46039f"
             ],
             [
              0.2222222222222222,
              "#7201a8"
             ],
             [
              0.3333333333333333,
              "#9c179e"
             ],
             [
              0.4444444444444444,
              "#bd3786"
             ],
             [
              0.5555555555555556,
              "#d8576b"
             ],
             [
              0.6666666666666666,
              "#ed7953"
             ],
             [
              0.7777777777777778,
              "#fb9f3a"
             ],
             [
              0.8888888888888888,
              "#fdca26"
             ],
             [
              1,
              "#f0f921"
             ]
            ],
            "type": "histogram2d"
           }
          ],
          "histogram2dcontour": [
           {
            "colorbar": {
             "outlinewidth": 0,
             "ticks": ""
            },
            "colorscale": [
             [
              0,
              "#0d0887"
             ],
             [
              0.1111111111111111,
              "#46039f"
             ],
             [
              0.2222222222222222,
              "#7201a8"
             ],
             [
              0.3333333333333333,
              "#9c179e"
             ],
             [
              0.4444444444444444,
              "#bd3786"
             ],
             [
              0.5555555555555556,
              "#d8576b"
             ],
             [
              0.6666666666666666,
              "#ed7953"
             ],
             [
              0.7777777777777778,
              "#fb9f3a"
             ],
             [
              0.8888888888888888,
              "#fdca26"
             ],
             [
              1,
              "#f0f921"
             ]
            ],
            "type": "histogram2dcontour"
           }
          ],
          "mesh3d": [
           {
            "colorbar": {
             "outlinewidth": 0,
             "ticks": ""
            },
            "type": "mesh3d"
           }
          ],
          "parcoords": [
           {
            "line": {
             "colorbar": {
              "outlinewidth": 0,
              "ticks": ""
             }
            },
            "type": "parcoords"
           }
          ],
          "pie": [
           {
            "automargin": true,
            "type": "pie"
           }
          ],
          "scatter": [
           {
            "marker": {
             "line": {
              "color": "#283442"
             }
            },
            "type": "scatter"
           }
          ],
          "scatter3d": [
           {
            "line": {
             "colorbar": {
              "outlinewidth": 0,
              "ticks": ""
             }
            },
            "marker": {
             "colorbar": {
              "outlinewidth": 0,
              "ticks": ""
             }
            },
            "type": "scatter3d"
           }
          ],
          "scattercarpet": [
           {
            "marker": {
             "colorbar": {
              "outlinewidth": 0,
              "ticks": ""
             }
            },
            "type": "scattercarpet"
           }
          ],
          "scattergeo": [
           {
            "marker": {
             "colorbar": {
              "outlinewidth": 0,
              "ticks": ""
             }
            },
            "type": "scattergeo"
           }
          ],
          "scattergl": [
           {
            "marker": {
             "line": {
              "color": "#283442"
             }
            },
            "type": "scattergl"
           }
          ],
          "scattermap": [
           {
            "marker": {
             "colorbar": {
              "outlinewidth": 0,
              "ticks": ""
             }
            },
            "type": "scattermap"
           }
          ],
          "scattermapbox": [
           {
            "marker": {
             "colorbar": {
              "outlinewidth": 0,
              "ticks": ""
             }
            },
            "type": "scattermapbox"
           }
          ],
          "scatterpolar": [
           {
            "marker": {
             "colorbar": {
              "outlinewidth": 0,
              "ticks": ""
             }
            },
            "type": "scatterpolar"
           }
          ],
          "scatterpolargl": [
           {
            "marker": {
             "colorbar": {
              "outlinewidth": 0,
              "ticks": ""
             }
            },
            "type": "scatterpolargl"
           }
          ],
          "scatterternary": [
           {
            "marker": {
             "colorbar": {
              "outlinewidth": 0,
              "ticks": ""
             }
            },
            "type": "scatterternary"
           }
          ],
          "surface": [
           {
            "colorbar": {
             "outlinewidth": 0,
             "ticks": ""
            },
            "colorscale": [
             [
              0,
              "#0d0887"
             ],
             [
              0.1111111111111111,
              "#46039f"
             ],
             [
              0.2222222222222222,
              "#7201a8"
             ],
             [
              0.3333333333333333,
              "#9c179e"
             ],
             [
              0.4444444444444444,
              "#bd3786"
             ],
             [
              0.5555555555555556,
              "#d8576b"
             ],
             [
              0.6666666666666666,
              "#ed7953"
             ],
             [
              0.7777777777777778,
              "#fb9f3a"
             ],
             [
              0.8888888888888888,
              "#fdca26"
             ],
             [
              1,
              "#f0f921"
             ]
            ],
            "type": "surface"
           }
          ],
          "table": [
           {
            "cells": {
             "fill": {
              "color": "#506784"
             },
             "line": {
              "color": "rgb(17,17,17)"
             }
            },
            "header": {
             "fill": {
              "color": "#2a3f5f"
             },
             "line": {
              "color": "rgb(17,17,17)"
             }
            },
            "type": "table"
           }
          ]
         },
         "layout": {
          "annotationdefaults": {
           "arrowcolor": "#f2f5fa",
           "arrowhead": 0,
           "arrowwidth": 1
          },
          "autotypenumbers": "strict",
          "coloraxis": {
           "colorbar": {
            "outlinewidth": 0,
            "ticks": ""
           }
          },
          "colorscale": {
           "diverging": [
            [
             0,
             "#8e0152"
            ],
            [
             0.1,
             "#c51b7d"
            ],
            [
             0.2,
             "#de77ae"
            ],
            [
             0.3,
             "#f1b6da"
            ],
            [
             0.4,
             "#fde0ef"
            ],
            [
             0.5,
             "#f7f7f7"
            ],
            [
             0.6,
             "#e6f5d0"
            ],
            [
             0.7,
             "#b8e186"
            ],
            [
             0.8,
             "#7fbc41"
            ],
            [
             0.9,
             "#4d9221"
            ],
            [
             1,
             "#276419"
            ]
           ],
           "sequential": [
            [
             0,
             "#0d0887"
            ],
            [
             0.1111111111111111,
             "#46039f"
            ],
            [
             0.2222222222222222,
             "#7201a8"
            ],
            [
             0.3333333333333333,
             "#9c179e"
            ],
            [
             0.4444444444444444,
             "#bd3786"
            ],
            [
             0.5555555555555556,
             "#d8576b"
            ],
            [
             0.6666666666666666,
             "#ed7953"
            ],
            [
             0.7777777777777778,
             "#fb9f3a"
            ],
            [
             0.8888888888888888,
             "#fdca26"
            ],
            [
             1,
             "#f0f921"
            ]
           ],
           "sequentialminus": [
            [
             0,
             "#0d0887"
            ],
            [
             0.1111111111111111,
             "#46039f"
            ],
            [
             0.2222222222222222,
             "#7201a8"
            ],
            [
             0.3333333333333333,
             "#9c179e"
            ],
            [
             0.4444444444444444,
             "#bd3786"
            ],
            [
             0.5555555555555556,
             "#d8576b"
            ],
            [
             0.6666666666666666,
             "#ed7953"
            ],
            [
             0.7777777777777778,
             "#fb9f3a"
            ],
            [
             0.8888888888888888,
             "#fdca26"
            ],
            [
             1,
             "#f0f921"
            ]
           ]
          },
          "colorway": [
           "#636efa",
           "#EF553B",
           "#00cc96",
           "#ab63fa",
           "#FFA15A",
           "#19d3f3",
           "#FF6692",
           "#B6E880",
           "#FF97FF",
           "#FECB52"
          ],
          "font": {
           "color": "#f2f5fa"
          },
          "geo": {
           "bgcolor": "rgb(17,17,17)",
           "lakecolor": "rgb(17,17,17)",
           "landcolor": "rgb(17,17,17)",
           "showlakes": true,
           "showland": true,
           "subunitcolor": "#506784"
          },
          "hoverlabel": {
           "align": "left"
          },
          "hovermode": "closest",
          "mapbox": {
           "style": "dark"
          },
          "paper_bgcolor": "rgb(17,17,17)",
          "plot_bgcolor": "rgb(17,17,17)",
          "polar": {
           "angularaxis": {
            "gridcolor": "#506784",
            "linecolor": "#506784",
            "ticks": ""
           },
           "bgcolor": "rgb(17,17,17)",
           "radialaxis": {
            "gridcolor": "#506784",
            "linecolor": "#506784",
            "ticks": ""
           }
          },
          "scene": {
           "xaxis": {
            "backgroundcolor": "rgb(17,17,17)",
            "gridcolor": "#506784",
            "gridwidth": 2,
            "linecolor": "#506784",
            "showbackground": true,
            "ticks": "",
            "zerolinecolor": "#C8D4E3"
           },
           "yaxis": {
            "backgroundcolor": "rgb(17,17,17)",
            "gridcolor": "#506784",
            "gridwidth": 2,
            "linecolor": "#506784",
            "showbackground": true,
            "ticks": "",
            "zerolinecolor": "#C8D4E3"
           },
           "zaxis": {
            "backgroundcolor": "rgb(17,17,17)",
            "gridcolor": "#506784",
            "gridwidth": 2,
            "linecolor": "#506784",
            "showbackground": true,
            "ticks": "",
            "zerolinecolor": "#C8D4E3"
           }
          },
          "shapedefaults": {
           "line": {
            "color": "#f2f5fa"
           }
          },
          "sliderdefaults": {
           "bgcolor": "#C8D4E3",
           "bordercolor": "rgb(17,17,17)",
           "borderwidth": 1,
           "tickwidth": 0
          },
          "ternary": {
           "aaxis": {
            "gridcolor": "#506784",
            "linecolor": "#506784",
            "ticks": ""
           },
           "baxis": {
            "gridcolor": "#506784",
            "linecolor": "#506784",
            "ticks": ""
           },
           "bgcolor": "rgb(17,17,17)",
           "caxis": {
            "gridcolor": "#506784",
            "linecolor": "#506784",
            "ticks": ""
           }
          },
          "title": {
           "x": 0.05
          },
          "updatemenudefaults": {
           "bgcolor": "#506784",
           "borderwidth": 0
          },
          "xaxis": {
           "automargin": true,
           "gridcolor": "#283442",
           "linecolor": "#506784",
           "ticks": "",
           "title": {
            "standoff": 15
           },
           "zerolinecolor": "#283442",
           "zerolinewidth": 2
          },
          "yaxis": {
           "automargin": true,
           "gridcolor": "#283442",
           "linecolor": "#506784",
           "ticks": "",
           "title": {
            "standoff": 15
           },
           "zerolinecolor": "#283442",
           "zerolinewidth": 2
          }
         }
        },
        "title": {
         "text": "Оптимизация: XGBoost_zir_Regressor (RMSE)"
        },
        "xaxis": {
         "anchor": "y",
         "domain": [
          0,
          0.46
         ]
        },
        "xaxis2": {
         "anchor": "y2",
         "domain": [
          0.54,
          1
         ]
        },
        "xaxis3": {
         "anchor": "y3",
         "domain": [
          0,
          0.46
         ]
        },
        "yaxis": {
         "anchor": "x",
         "domain": [
          0.56,
          1
         ]
        },
        "yaxis2": {
         "anchor": "x2",
         "domain": [
          0.56,
          1
         ]
        },
        "yaxis3": {
         "anchor": "x3",
         "domain": [
          0,
          0.44
         ]
        }
       }
      }
     },
     "metadata": {},
     "output_type": "display_data"
    },
    {
     "data": {
      "application/vnd.plotly.v1+json": {
       "config": {
        "plotlyServerURL": "https://plot.ly"
       },
       "data": [
        {
         "dimensions": [
          {
           "label": "Objective Value",
           "range": [
            -29.95083530725219,
            -28.6142751089527
           ],
           "values": [
            -29.820813856152842,
            -28.6142751089527,
            -29.240784464196953,
            -29.561253208371685,
            -29.95083530725219
           ]
          },
          {
           "label": "colsample_bytree",
           "range": [
            0.7062377074061351,
            0.9678589077069614
           ],
           "values": [
            0.9535089629421973,
            0.7062377074061351,
            0.8846921641319058,
            0.9678589077069614,
            0.9475301164394188
           ]
          },
          {
           "label": "learning_rate",
           "range": [
            0.03657371050784277,
            0.08405587998030478
           ],
           "values": [
            0.07634528537153693,
            0.08405587998030478,
            0.08310364130360118,
            0.053928580485184,
            0.03657371050784277
           ]
          },
          {
           "label": "max_depth",
           "range": [
            12,
            20
           ],
           "values": [
            17,
            12,
            13,
            14,
            20
           ]
          },
          {
           "label": "n_estimators",
           "range": [
            1207,
            1376
           ],
           "values": [
            1375,
            1207,
            1376,
            1315,
            1268
           ]
          },
          {
           "label": "subsample",
           "range": [
            0.9246976476338304,
            0.9671460753378901
           ],
           "values": [
            0.9610876309281235,
            0.9246976476338304,
            0.9426914757699093,
            0.9671460753378901,
            0.9551074227916787
           ]
          }
         ],
         "labelangle": 30,
         "labelside": "bottom",
         "line": {
          "color": [
           29.820813856152842,
           28.6142751089527,
           29.240784464196953,
           29.561253208371685,
           29.95083530725219
          ],
          "colorbar": {
           "title": {
            "text": "RMSE"
           }
          },
          "colorscale": [
           [
            0,
            "rgb(150,0,90)"
           ],
           [
            0.125,
            "rgb(0,0,200)"
           ],
           [
            0.25,
            "rgb(0,25,255)"
           ],
           [
            0.375,
            "rgb(0,152,255)"
           ],
           [
            0.5,
            "rgb(44,255,150)"
           ],
           [
            0.625,
            "rgb(151,255,0)"
           ],
           [
            0.75,
            "rgb(255,234,0)"
           ],
           [
            0.875,
            "rgb(255,111,0)"
           ],
           [
            1,
            "rgb(255,0,0)"
           ]
          ],
          "reversescale": true,
          "showscale": true
         },
         "type": "parcoords"
        }
       ],
       "layout": {
        "height": 600,
        "template": {
         "data": {
          "bar": [
           {
            "error_x": {
             "color": "#f2f5fa"
            },
            "error_y": {
             "color": "#f2f5fa"
            },
            "marker": {
             "line": {
              "color": "rgb(17,17,17)",
              "width": 0.5
             },
             "pattern": {
              "fillmode": "overlay",
              "size": 10,
              "solidity": 0.2
             }
            },
            "type": "bar"
           }
          ],
          "barpolar": [
           {
            "marker": {
             "line": {
              "color": "rgb(17,17,17)",
              "width": 0.5
             },
             "pattern": {
              "fillmode": "overlay",
              "size": 10,
              "solidity": 0.2
             }
            },
            "type": "barpolar"
           }
          ],
          "carpet": [
           {
            "aaxis": {
             "endlinecolor": "#A2B1C6",
             "gridcolor": "#506784",
             "linecolor": "#506784",
             "minorgridcolor": "#506784",
             "startlinecolor": "#A2B1C6"
            },
            "baxis": {
             "endlinecolor": "#A2B1C6",
             "gridcolor": "#506784",
             "linecolor": "#506784",
             "minorgridcolor": "#506784",
             "startlinecolor": "#A2B1C6"
            },
            "type": "carpet"
           }
          ],
          "choropleth": [
           {
            "colorbar": {
             "outlinewidth": 0,
             "ticks": ""
            },
            "type": "choropleth"
           }
          ],
          "contour": [
           {
            "colorbar": {
             "outlinewidth": 0,
             "ticks": ""
            },
            "colorscale": [
             [
              0,
              "#0d0887"
             ],
             [
              0.1111111111111111,
              "#46039f"
             ],
             [
              0.2222222222222222,
              "#7201a8"
             ],
             [
              0.3333333333333333,
              "#9c179e"
             ],
             [
              0.4444444444444444,
              "#bd3786"
             ],
             [
              0.5555555555555556,
              "#d8576b"
             ],
             [
              0.6666666666666666,
              "#ed7953"
             ],
             [
              0.7777777777777778,
              "#fb9f3a"
             ],
             [
              0.8888888888888888,
              "#fdca26"
             ],
             [
              1,
              "#f0f921"
             ]
            ],
            "type": "contour"
           }
          ],
          "contourcarpet": [
           {
            "colorbar": {
             "outlinewidth": 0,
             "ticks": ""
            },
            "type": "contourcarpet"
           }
          ],
          "heatmap": [
           {
            "colorbar": {
             "outlinewidth": 0,
             "ticks": ""
            },
            "colorscale": [
             [
              0,
              "#0d0887"
             ],
             [
              0.1111111111111111,
              "#46039f"
             ],
             [
              0.2222222222222222,
              "#7201a8"
             ],
             [
              0.3333333333333333,
              "#9c179e"
             ],
             [
              0.4444444444444444,
              "#bd3786"
             ],
             [
              0.5555555555555556,
              "#d8576b"
             ],
             [
              0.6666666666666666,
              "#ed7953"
             ],
             [
              0.7777777777777778,
              "#fb9f3a"
             ],
             [
              0.8888888888888888,
              "#fdca26"
             ],
             [
              1,
              "#f0f921"
             ]
            ],
            "type": "heatmap"
           }
          ],
          "histogram": [
           {
            "marker": {
             "pattern": {
              "fillmode": "overlay",
              "size": 10,
              "solidity": 0.2
             }
            },
            "type": "histogram"
           }
          ],
          "histogram2d": [
           {
            "colorbar": {
             "outlinewidth": 0,
             "ticks": ""
            },
            "colorscale": [
             [
              0,
              "#0d0887"
             ],
             [
              0.1111111111111111,
              "#46039f"
             ],
             [
              0.2222222222222222,
              "#7201a8"
             ],
             [
              0.3333333333333333,
              "#9c179e"
             ],
             [
              0.4444444444444444,
              "#bd3786"
             ],
             [
              0.5555555555555556,
              "#d8576b"
             ],
             [
              0.6666666666666666,
              "#ed7953"
             ],
             [
              0.7777777777777778,
              "#fb9f3a"
             ],
             [
              0.8888888888888888,
              "#fdca26"
             ],
             [
              1,
              "#f0f921"
             ]
            ],
            "type": "histogram2d"
           }
          ],
          "histogram2dcontour": [
           {
            "colorbar": {
             "outlinewidth": 0,
             "ticks": ""
            },
            "colorscale": [
             [
              0,
              "#0d0887"
             ],
             [
              0.1111111111111111,
              "#46039f"
             ],
             [
              0.2222222222222222,
              "#7201a8"
             ],
             [
              0.3333333333333333,
              "#9c179e"
             ],
             [
              0.4444444444444444,
              "#bd3786"
             ],
             [
              0.5555555555555556,
              "#d8576b"
             ],
             [
              0.6666666666666666,
              "#ed7953"
             ],
             [
              0.7777777777777778,
              "#fb9f3a"
             ],
             [
              0.8888888888888888,
              "#fdca26"
             ],
             [
              1,
              "#f0f921"
             ]
            ],
            "type": "histogram2dcontour"
           }
          ],
          "mesh3d": [
           {
            "colorbar": {
             "outlinewidth": 0,
             "ticks": ""
            },
            "type": "mesh3d"
           }
          ],
          "parcoords": [
           {
            "line": {
             "colorbar": {
              "outlinewidth": 0,
              "ticks": ""
             }
            },
            "type": "parcoords"
           }
          ],
          "pie": [
           {
            "automargin": true,
            "type": "pie"
           }
          ],
          "scatter": [
           {
            "marker": {
             "line": {
              "color": "#283442"
             }
            },
            "type": "scatter"
           }
          ],
          "scatter3d": [
           {
            "line": {
             "colorbar": {
              "outlinewidth": 0,
              "ticks": ""
             }
            },
            "marker": {
             "colorbar": {
              "outlinewidth": 0,
              "ticks": ""
             }
            },
            "type": "scatter3d"
           }
          ],
          "scattercarpet": [
           {
            "marker": {
             "colorbar": {
              "outlinewidth": 0,
              "ticks": ""
             }
            },
            "type": "scattercarpet"
           }
          ],
          "scattergeo": [
           {
            "marker": {
             "colorbar": {
              "outlinewidth": 0,
              "ticks": ""
             }
            },
            "type": "scattergeo"
           }
          ],
          "scattergl": [
           {
            "marker": {
             "line": {
              "color": "#283442"
             }
            },
            "type": "scattergl"
           }
          ],
          "scattermap": [
           {
            "marker": {
             "colorbar": {
              "outlinewidth": 0,
              "ticks": ""
             }
            },
            "type": "scattermap"
           }
          ],
          "scattermapbox": [
           {
            "marker": {
             "colorbar": {
              "outlinewidth": 0,
              "ticks": ""
             }
            },
            "type": "scattermapbox"
           }
          ],
          "scatterpolar": [
           {
            "marker": {
             "colorbar": {
              "outlinewidth": 0,
              "ticks": ""
             }
            },
            "type": "scatterpolar"
           }
          ],
          "scatterpolargl": [
           {
            "marker": {
             "colorbar": {
              "outlinewidth": 0,
              "ticks": ""
             }
            },
            "type": "scatterpolargl"
           }
          ],
          "scatterternary": [
           {
            "marker": {
             "colorbar": {
              "outlinewidth": 0,
              "ticks": ""
             }
            },
            "type": "scatterternary"
           }
          ],
          "surface": [
           {
            "colorbar": {
             "outlinewidth": 0,
             "ticks": ""
            },
            "colorscale": [
             [
              0,
              "#0d0887"
             ],
             [
              0.1111111111111111,
              "#46039f"
             ],
             [
              0.2222222222222222,
              "#7201a8"
             ],
             [
              0.3333333333333333,
              "#9c179e"
             ],
             [
              0.4444444444444444,
              "#bd3786"
             ],
             [
              0.5555555555555556,
              "#d8576b"
             ],
             [
              0.6666666666666666,
              "#ed7953"
             ],
             [
              0.7777777777777778,
              "#fb9f3a"
             ],
             [
              0.8888888888888888,
              "#fdca26"
             ],
             [
              1,
              "#f0f921"
             ]
            ],
            "type": "surface"
           }
          ],
          "table": [
           {
            "cells": {
             "fill": {
              "color": "#506784"
             },
             "line": {
              "color": "rgb(17,17,17)"
             }
            },
            "header": {
             "fill": {
              "color": "#2a3f5f"
             },
             "line": {
              "color": "rgb(17,17,17)"
             }
            },
            "type": "table"
           }
          ]
         },
         "layout": {
          "annotationdefaults": {
           "arrowcolor": "#f2f5fa",
           "arrowhead": 0,
           "arrowwidth": 1
          },
          "autotypenumbers": "strict",
          "coloraxis": {
           "colorbar": {
            "outlinewidth": 0,
            "ticks": ""
           }
          },
          "colorscale": {
           "diverging": [
            [
             0,
             "#8e0152"
            ],
            [
             0.1,
             "#c51b7d"
            ],
            [
             0.2,
             "#de77ae"
            ],
            [
             0.3,
             "#f1b6da"
            ],
            [
             0.4,
             "#fde0ef"
            ],
            [
             0.5,
             "#f7f7f7"
            ],
            [
             0.6,
             "#e6f5d0"
            ],
            [
             0.7,
             "#b8e186"
            ],
            [
             0.8,
             "#7fbc41"
            ],
            [
             0.9,
             "#4d9221"
            ],
            [
             1,
             "#276419"
            ]
           ],
           "sequential": [
            [
             0,
             "#0d0887"
            ],
            [
             0.1111111111111111,
             "#46039f"
            ],
            [
             0.2222222222222222,
             "#7201a8"
            ],
            [
             0.3333333333333333,
             "#9c179e"
            ],
            [
             0.4444444444444444,
             "#bd3786"
            ],
            [
             0.5555555555555556,
             "#d8576b"
            ],
            [
             0.6666666666666666,
             "#ed7953"
            ],
            [
             0.7777777777777778,
             "#fb9f3a"
            ],
            [
             0.8888888888888888,
             "#fdca26"
            ],
            [
             1,
             "#f0f921"
            ]
           ],
           "sequentialminus": [
            [
             0,
             "#0d0887"
            ],
            [
             0.1111111111111111,
             "#46039f"
            ],
            [
             0.2222222222222222,
             "#7201a8"
            ],
            [
             0.3333333333333333,
             "#9c179e"
            ],
            [
             0.4444444444444444,
             "#bd3786"
            ],
            [
             0.5555555555555556,
             "#d8576b"
            ],
            [
             0.6666666666666666,
             "#ed7953"
            ],
            [
             0.7777777777777778,
             "#fb9f3a"
            ],
            [
             0.8888888888888888,
             "#fdca26"
            ],
            [
             1,
             "#f0f921"
            ]
           ]
          },
          "colorway": [
           "#636efa",
           "#EF553B",
           "#00cc96",
           "#ab63fa",
           "#FFA15A",
           "#19d3f3",
           "#FF6692",
           "#B6E880",
           "#FF97FF",
           "#FECB52"
          ],
          "font": {
           "color": "#f2f5fa"
          },
          "geo": {
           "bgcolor": "rgb(17,17,17)",
           "lakecolor": "rgb(17,17,17)",
           "landcolor": "rgb(17,17,17)",
           "showlakes": true,
           "showland": true,
           "subunitcolor": "#506784"
          },
          "hoverlabel": {
           "align": "left"
          },
          "hovermode": "closest",
          "mapbox": {
           "style": "dark"
          },
          "paper_bgcolor": "rgb(17,17,17)",
          "plot_bgcolor": "rgb(17,17,17)",
          "polar": {
           "angularaxis": {
            "gridcolor": "#506784",
            "linecolor": "#506784",
            "ticks": ""
           },
           "bgcolor": "rgb(17,17,17)",
           "radialaxis": {
            "gridcolor": "#506784",
            "linecolor": "#506784",
            "ticks": ""
           }
          },
          "scene": {
           "xaxis": {
            "backgroundcolor": "rgb(17,17,17)",
            "gridcolor": "#506784",
            "gridwidth": 2,
            "linecolor": "#506784",
            "showbackground": true,
            "ticks": "",
            "zerolinecolor": "#C8D4E3"
           },
           "yaxis": {
            "backgroundcolor": "rgb(17,17,17)",
            "gridcolor": "#506784",
            "gridwidth": 2,
            "linecolor": "#506784",
            "showbackground": true,
            "ticks": "",
            "zerolinecolor": "#C8D4E3"
           },
           "zaxis": {
            "backgroundcolor": "rgb(17,17,17)",
            "gridcolor": "#506784",
            "gridwidth": 2,
            "linecolor": "#506784",
            "showbackground": true,
            "ticks": "",
            "zerolinecolor": "#C8D4E3"
           }
          },
          "shapedefaults": {
           "line": {
            "color": "#f2f5fa"
           }
          },
          "sliderdefaults": {
           "bgcolor": "#C8D4E3",
           "bordercolor": "rgb(17,17,17)",
           "borderwidth": 1,
           "tickwidth": 0
          },
          "ternary": {
           "aaxis": {
            "gridcolor": "#506784",
            "linecolor": "#506784",
            "ticks": ""
           },
           "baxis": {
            "gridcolor": "#506784",
            "linecolor": "#506784",
            "ticks": ""
           },
           "bgcolor": "rgb(17,17,17)",
           "caxis": {
            "gridcolor": "#506784",
            "linecolor": "#506784",
            "ticks": ""
           }
          },
          "title": {
           "x": 0.05
          },
          "updatemenudefaults": {
           "bgcolor": "#506784",
           "borderwidth": 0
          },
          "xaxis": {
           "automargin": true,
           "gridcolor": "#283442",
           "linecolor": "#506784",
           "ticks": "",
           "title": {
            "standoff": 15
           },
           "zerolinecolor": "#283442",
           "zerolinewidth": 2
          },
          "yaxis": {
           "automargin": true,
           "gridcolor": "#283442",
           "linecolor": "#506784",
           "ticks": "",
           "title": {
            "standoff": 15
           },
           "zerolinecolor": "#283442",
           "zerolinewidth": 2
          }
         }
        },
        "title": {
         "text": "Параллельные координаты: XGBoost_zir_Regressor"
        }
       }
      }
     },
     "metadata": {},
     "output_type": "display_data"
    }
   ],
   "source": [
    "analyze_zir_optuna(\n",
    "    'XGBoost_zir',\n",
    "    xgb_cls_optuna,\n",
    "    xgb_reg_optuna,\n",
    "    X_train_preprocessed,\n",
    "    y_train,\n",
    "    xgb_cls_best_threshold,\n",
    "    results,\n",
    "    best_params,\n",
    "    4\n",
    "    )"
   ]
  },
  {
   "cell_type": "markdown",
   "id": "8c0e0183",
   "metadata": {},
   "source": [
    "![xgb_cls_zir1](images/xgb_cls_zir1.png)\n",
    "![xgb_cls_zir2](images/xgb_cls_zir2.png)\n",
    "![xgb_reg_zir1](images/xgb_reg_zir1.png)\n",
    "![xgb_reg_zir2](images/xgb_reg_zir2.png)"
   ]
  },
  {
   "cell_type": "markdown",
   "id": "d502ad0d",
   "metadata": {},
   "source": [
    "### Сравнение моделей"
   ]
  },
  {
   "cell_type": "code",
   "execution_count": 188,
   "id": "0ba3ae25",
   "metadata": {},
   "outputs": [
    {
     "name": "stdout",
     "output_type": "stream",
     "text": [
      "============================================================\n",
      "ИТОГОВОЕ СРАВНЕНИЕ МОДЕЛЕЙ\n",
      "============================================================\n",
      "              Model    RMSE\n",
      "1           XGBoost 36.4339\n",
      "2          CatBoost 38.6835\n",
      "3          LightGBM 38.7156\n",
      "4       XGBoost_zir 40.8691\n",
      "0  LinearRegression 46.0243\n",
      "\n",
      "Лучшие параметры по моделям:\n",
      "\n",
      "zip_XGBoost_zir_classifier:\n",
      "  n_estimators: 1239\n",
      "  max_depth: 15\n",
      "  learning_rate: 0.09303645358606316\n",
      "  reg_lambda: 0.7058487033109733\n",
      "  subsample: 0.9687449594034963\n",
      "  colsample_bytree: 0.5619417714322633\n",
      "\n",
      "zip_XGBoost_zir_regressor:\n",
      "  n_estimators: 1207\n",
      "  max_depth: 12\n",
      "  learning_rate: 0.08405587998030478\n",
      "  subsample: 0.9246976476338304\n",
      "  colsample_bytree: 0.7062377074061351\n",
      "\n",
      "ПОБЕДИТЕЛЬ: XGBoost с RMSE: 36.4339\n",
      "============================================================\n"
     ]
    }
   ],
   "source": [
    "print('='*60)\n",
    "print('ИТОГОВОЕ СРАВНЕНИЕ МОДЕЛЕЙ')\n",
    "print('='*60)\n",
    "print(results.sort_values('RMSE'))\n",
    "print()\n",
    "\n",
    "print('Лучшие параметры по моделям:')\n",
    "for model_name, params in best_params.items():\n",
    "    print(f'\\n{model_name}:')\n",
    "    for param, value in params.items():\n",
    "        print(f'  {param}: {value}')\n",
    "\n",
    "best_model_name = results.loc[results['RMSE'].idxmin(), 'Model']\n",
    "best_rmse = results['RMSE'].min()\n",
    "\n",
    "print(f'\\nПОБЕДИТЕЛЬ: {best_model_name} с RMSE: {best_rmse:.4f}')\n",
    "print('='*60)"
   ]
  },
  {
   "cell_type": "markdown",
   "id": "1c0c7dc2",
   "metadata": {},
   "source": [
    "## Сохранение предсказаний на тестовых данных"
   ]
  },
  {
   "cell_type": "code",
   "execution_count": 189,
   "id": "b24abe43",
   "metadata": {},
   "outputs": [
    {
     "name": "stdout",
     "output_type": "stream",
     "text": [
      "Файл сохранён в test_with_predictions.csv\n"
     ]
    }
   ],
   "source": [
    "y_pred = best_xgb_model.predict(X_test_preprocessed)\n",
    "\n",
    "df_test_copy = df_test.copy()\n",
    "df_test_copy['y_pred'] = np.clip(y_pred, 0, None)\n",
    "\n",
    "df_test_copy.to_csv('test_with_predictions.csv', index=False)\n",
    "print('Файл сохранён в test_with_predictions.csv')"
   ]
  },
  {
   "cell_type": "code",
   "execution_count": null,
   "id": "78b6b48a",
   "metadata": {},
   "outputs": [],
   "source": []
  }
 ],
 "metadata": {
  "kernelspec": {
   "display_name": "Python 3",
   "language": "python",
   "name": "python3"
  },
  "language_info": {
   "codemirror_mode": {
    "name": "ipython",
    "version": 3
   },
   "file_extension": ".py",
   "mimetype": "text/x-python",
   "name": "python",
   "nbconvert_exporter": "python",
   "pygments_lexer": "ipython3",
   "version": "3.10.6"
  }
 },
 "nbformat": 4,
 "nbformat_minor": 5
}
